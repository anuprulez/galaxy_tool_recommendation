{
 "cells": [
  {
   "cell_type": "markdown",
   "metadata": {},
   "source": [
    "# Tool recommendation \n",
    "## (Dense neural network with weighted cross-entropy loss)"
   ]
  },
  {
   "cell_type": "code",
   "execution_count": 11,
   "metadata": {
    "scrolled": true
   },
   "outputs": [],
   "source": [
    "import numpy as np\n",
    "import json\n",
    "import warnings\n",
    "import operator\n",
    "\n",
    "import h5py\n",
    "from keras.models import model_from_json\n",
    "from keras import backend as K\n",
    "\n",
    "warnings.filterwarnings(\"ignore\")\n",
    "\n",
    "\n",
    "def read_file(file_path):\n",
    "    with open(file_path, 'r') as data_file:\n",
    "        data = json.loads(data_file.read())\n",
    "    return data\n",
    "\n",
    "\n",
    "def create_model(model_path):\n",
    "    reverse_dictionary = dict((str(v), k) for k, v in dictionary.items())\n",
    "    model_weights = list()\n",
    "    weight_ctr = 0\n",
    "    for index, item in enumerate(trained_model.keys()):\n",
    "        if \"weight_\" in item:\n",
    "            d_key = \"weight_\" + str(weight_ctr)\n",
    "            weights = trained_model.get(d_key).value\n",
    "            model_weights.append(weights)\n",
    "            weight_ctr += 1\n",
    "    # set the model weights\n",
    "    loaded_model.set_weights(model_weights)\n",
    "    return loaded_model, dictionary, reverse_dictionary\n",
    "\n",
    "\n",
    "def compute_recommendations(model, tool_sequence, labels, dictionary, reverse_dictionary, class_weights, topk=20, max_seq_len=25):\n",
    "    tl_seq = tool_sequence.split(\",\")\n",
    "    last_tool_name = reverse_dictionary[str(tl_seq[-1])]\n",
    "    sample = np.zeros(max_seq_len)\n",
    "    for idx, tool_id in enumerate(tl_seq):\n",
    "        sample[idx] = int(tool_id)\n",
    "    sample_reshaped = np.reshape(sample, (1, max_seq_len))\n",
    "    tool_sequence_names = [reverse_dictionary[str(tool_pos)] for tool_pos in tool_sequence.split(\",\")]\n",
    "    # predict next tools for a test path\n",
    "    prediction = model.predict(sample_reshaped, verbose=0)\n",
    "    weight_val = list(class_weights.values())\n",
    "    weight_val = np.reshape(weight_val, (len(weight_val),))\n",
    "    prediction = np.reshape(prediction, (prediction.shape[1],))\n",
    "    prediction = prediction * weight_val\n",
    "    prediction = prediction / float(np.max(prediction))\n",
    "    prediction_pos = np.argsort(prediction, axis=-1)\n",
    "    # get topk prediction\n",
    "    topk_prediction_pos = prediction_pos[-topk:]\n",
    "    topk_prediction_val = [int(prediction[pos] * 100) for pos in topk_prediction_pos]\n",
    "    # read tool names using reverse dictionary\n",
    "    pred_tool_ids = [reverse_dictionary[str(tool_pos)] for tool_pos in topk_prediction_pos]\n",
    "    pred_tool_ids_sorted = dict()\n",
    "    for (tool_pos, tool_pred_val) in zip(topk_prediction_pos, topk_prediction_val):\n",
    "        tool_name = reverse_dictionary[str(tool_pos)]\n",
    "        pred_tool_ids_sorted[tool_name] = tool_pred_val\n",
    "    pred_tool_ids_sorted = dict(sorted(pred_tool_ids_sorted.items(), key=lambda kv: kv[1], reverse=True))\n",
    "    ids_tools = dict()\n",
    "    keys = list(pred_tool_ids_sorted.keys())\n",
    "    tool_seq_name = \",\".join(tool_sequence_names)\n",
    "    print(\"Current tool sequence: \")\n",
    "    print()\n",
    "    print(tool_seq_name)\n",
    "    print()\n",
    "    print(\"Recommended tools for the tool sequence '%s' with their scores in decreasing order:\" % tool_seq_name)\n",
    "    print()\n",
    "    for i in pred_tool_ids_sorted:\n",
    "        print(i + \"(\" + str(pred_tool_ids_sorted[i]) + \"%)\")\n",
    "    for key in pred_tool_ids_sorted:\n",
    "        ids_tools[key] = dictionary[key]\n",
    "    print()\n",
    "    print(\"Tool ids:\")\n",
    "    print()\n",
    "    for i in ids_tools:\n",
    "        print(i + \"(\" + str(ids_tools[i]) + \")\")"
   ]
  },
  {
   "cell_type": "markdown",
   "metadata": {},
   "source": [
    "## Unpack trained model for prediction"
   ]
  },
  {
   "cell_type": "code",
   "execution_count": 12,
   "metadata": {},
   "outputs": [],
   "source": [
    "model_path = \"data/tool_recommendation_model.hdf5\"\n",
    "trained_model = h5py.File(model_path, 'r')\n",
    "model_config = json.loads(trained_model.get('model_config').value)\n",
    "dictionary = json.loads(trained_model.get('data_dictionary').value)\n",
    "class_weights = json.loads(trained_model.get('class_weights').value)\n",
    "loaded_model = model_from_json(model_config)\n",
    "\n",
    "model, dictionary, reverse_dictionary = create_model(model_path)"
   ]
  },
  {
   "cell_type": "markdown",
   "metadata": {},
   "source": [
    "## Indices of tools"
   ]
  },
  {
   "cell_type": "code",
   "execution_count": 13,
   "metadata": {},
   "outputs": [
    {
     "name": "stdout",
     "output_type": "stream",
     "text": [
      "{'1': 'EMBOSS: geecee41', '2': 'augustus', '3': 'peptide_shaker', '4': 'melt', '5': 'export2graphlan', '6': 'flaimapper', '7': 'gd_raxml', '8': 'gmx_nvt', '9': 'passatutto', '10': 'mothur_homova', '11': 'chipeakanno_annopeaks', '12': 'bamCoverage_deepTools', '13': 'kraken-filter', '14': 'extract_bcs.py', '15': 'tp_grep_tool', '16': 'feelnc', '17': 'annotateMyIDs', '18': 'ggplot2_histogram', '19': 'EMBOSS: wordcount109', '20': 'idpqonvert', '21': 'metaquantome_stat', '22': 'flexbar_no_split', '23': 'fastp', '24': 'prepare_box', '25': 'methtools_plot', '26': 'bismark_bowtie', '27': 'smf_utils_find-boxes', '28': 'blastxml_to_tabular_selectable', '29': 'query_tabular', '30': 'blockbuster', '31': 'EMBOSS: transeq101', '32': 'sailfish', '33': 'tophat_fusion_post', '34': 'tp_cut_tool', '35': 'deeptools_bigwigCompare', '36': 'pureclip', '37': 'regionalgam_ab_index', '38': 'proteomics_search_tandem_1', '39': 'vigiechiro_idvalid', '40': 'convert_bc_to_binary_RY.py', '41': 'scanpy_run_tsne', '42': 'ctb_ob_genProp', '43': 'minimap2', '44': 'get_child_terms', '45': 'ctb_chemfp_nxn_clustering', '46': 'find_in_reference', '47': 'meme_psp_gen', '48': 'GeneModelMapper', '49': 'snpSift_dbnsfp_generic', '50': 'naive_variant_caller', '51': 'picard_ARRG', '52': 'clusterprofiler_bitr', '53': 'picard_QualityScoreDistribution', '54': 'vcftools_compare', '55': '__FILTER_FAILED_DATASETS__', '56': 'CONVERTER_gff_to_interval_index_0', '57': 'gatk2_variant_recalibrator', '58': 'megahit', '59': 'hcluster_sg', '60': 'gff_to_sequence', '61': 'mtbls520_19a_seasons_shannon', '62': 'heinz_scoring', '63': 'bandage_image', '64': 'vcf_filter', '65': 'FeatureFinderCentroided', '66': 'graphclust_align_cluster', '67': 'chipsequtil_maptoknowngenes', '68': 'wig_to_bigWig', '69': 'bamSplit', '70': 'hicexplorer_hiccorrectmatrix', '71': 'cummeRbund', '72': 'rawtools', '73': 'snippy_core', '74': 'deeptools_plot_coverage', '75': 'cutadapt', '76': 'deeptools_plot_heatmap', '77': 'prepare_ligand', '78': 'mimodd_convert', '79': 'snpSift_filter', '80': 'mothur_classify_seqs', '81': 'bedtools_intersectbed_bam', '82': 'scanpy_scale_data', '83': 'cshl_fasta_formatter', '84': 'CONVERTER_fastqgz_to_fastq', '85': 'deeptools_correct_gc_bias', '86': 'mothur_rarefaction_single', '87': 'tp_easyjoin_tool', '88': 'cardinal_data_exporter', '89': 'rmcontamination', '90': 'trinity_define_clusters_by_cutting_tree', '91': 'busco', '92': 'piranha', '93': 'tp_multijoin_tool', '94': 'idr-embl', '95': 'lfq_protein_quant', '96': 'maker', '97': 'samtools_sort', '98': 'sklearn_svm_classifier', '99': 'graphclust_aggregate_alignments', '100': 'vigiechiro_bilanenrichirp', '101': 'eden_vectorizer', '102': 'cshl_find_and_replace', '103': 'picard_CollectGcBiasMetrics', '104': 'miniasm', '105': 'cufflinks', '106': 'express', '107': 'gtf_filter_by_attribute_values_list', '108': 'xcms-find-peaks', '109': 'Flash', '110': 'ip_projective_transformation_points', '111': 'FeatureFinderMetabo', '112': 'msconvert3_raw', '113': 'freebayes_wrapper', '114': 'mothur_align_seqs', '115': 'gmx_setup', '116': 'smf_utils_fix-fasta-headers', '117': 'krona-text', '118': 'mimodd_map', '119': 'Transformation', '120': 'mothur_classify_otu', '121': 'qiime_split_libraries_fastq', '122': 'metilene', '123': 'bedtools_mergebed', '124': 'graphclust_glob_report_no_align', '125': 'bctools_remove_spurious_events', '126': 'EMBOSS: revseq82', '127': 'snpfinder', '128': 'mothur_amova', '129': 'mothur_split_abund', '130': 'cshl_fastx_artifacts_filter', '131': 'viennarna_rnaplot', '132': 'snpeff_to_peptides', '133': 'mothur_dist_seqs', '134': 'regionalgam_autocor_acf', '135': 'PicardASMetrics', '136': 'custom_pro_db', '137': 'transdecoder', '138': '__MERGE_COLLECTION__', '139': 'createInterval', '140': 'bedtools_unionbedgraph', '141': 'trim_galore', '142': 'dropletutils', '143': 'scanpy_parameter_iterator', '144': 'Interval_Maf_Merged_Fasta2', '145': 'umi_tools_group', '146': 'tmhmm2', '147': 'ctb_chemfp_mol2fps', '148': 'EMBOSS: fuzzpro38', '149': 'datamash_reverse', '150': 'mass_spectrometry_imaging_mzplots', '151': 'pileup_interval', '152': 'EMBOSS: seqret84', '153': 'je_demultiplex', '154': 'umi_tools_dedup', '155': 'PicardInsertSize', '156': 'lastz_wrapper_2', '157': 'mothur_make_design', '158': 'get_subontology_from', '159': 'picard_CleanSam', '160': 'gspan', '161': 'abims_CAMERA_annotateDiffreport', '162': 'gatk2_variant_select', '163': 'cast', '164': 'cuffcompare', '165': 'prepare_ligands_for_docking', '166': 'seq_filter_by_id', '167': 'mycrobiota-correct-replicates', '168': 'gemini_burden', '169': 'ncbi_blastn_wrapper', '170': 'mtbls520_08d_concentration', '171': 'FROGS_affiliation_OTU', '172': 'rnafold', '173': 'ip_overlay_segmentation', '174': 'Extract_RNA_seq_Evidence', '175': 'sklear_numeric_clustering', '176': 'ip_coordinates_of_roi', '177': 'macs2_predictd', '178': 'camera-prepareoutput', '179': 'mothur_split_groups', '180': 'Count1', '181': 'CONVERTER_bed_gff_or_vcf_to_bigwig_0', '182': 'quality_metrics', '183': 'fastq_stats', '184': 'rsem_prepare_reference', '185': 'dexseq_annotate', '186': 'gatk2_indel_realigner', '187': 'gatk2_variant_apply_recalibration', '188': 'mothur_seq_error', '189': 'gops_cluster_1', '190': '__FILTER_FROM_FILE__', '191': 'stringtie_merge', '192': 'openms_id_file_converter', '193': 'predict_pipeline', '194': 'gemini_de_novo', '195': 'meme_fimo', '196': 'raceid_inspectclusters', '197': 'filtlong', '198': 'hcluster_sg_parser', '199': 'deeptools_compute_matrix_operations', '200': 'computeMatrix', '201': 'mergeCols1', '202': 't_coffee', '203': 'rnbeads', '204': 'proteomics_search_protein_prophet_1', '205': 'gmx_merge_topology_files', '206': 'get_pdb', '207': 'vigiechiro_bilanenrichipf', '208': 'ucsc_cell_browser', '209': 'velvetg', '210': 'gatk2_print_reads', '211': 'seq_composition', '212': 'mothur_tree_shared', '213': 'snpEff', '214': 'addName', '215': 'bed_to_bigwig', '216': 'ctb_rdkit_descriptors', '217': 'sam2interval', '218': 'ip_scale_image', '219': 'trim_reads', '220': 'EMBOSS: shuffleseq87', '221': 'samtools_filter', '222': 'ProteinQuantifier', '223': 'ctb_subsearch', '224': 'bundle_collection', '225': 'rgPicFixMate', '226': 'biosigner', '227': 'CONVERTER_bam_to_bigwig_0', '228': 'gops_basecoverage_1', '229': 'mothur_summary_seqs', '230': 'sam_to_bam', '231': 'picard_CollectWgsMetrics', '232': 'blast_parser', '233': 'compose_text_param', '234': 'sklearn_model_validation', '235': 'make_families', '236': 'IDPosteriorErrorProbability', '237': 'raceid_inspecttrajectory', '238': 'gops_merge_1', '239': 'mothur_corr_axes', '240': 'scanpy_compute_graph', '241': 'MapAlignerPoseClustering', '242': '__SORTLIST__', '243': '16Sclassifier', '244': 'samtool_filter2', '245': 'bedtools_getfastabed', '246': 'deeptools_bam_coverage', '247': 'tophat', '248': 'trinity_samples_qccheck', '249': 'OpenSwathDecoyGenerator', '250': 'humann2_regroup_table', '251': 'rbc_mirdeep2', '252': 'dbbuilder', '253': 'vcfallelicprimitives', '254': 'crosscontamination_barcode_filter', '255': 'dexseq_count', '256': 'mtbls520_07_species_diversity', '257': 'sickle', '258': 'plotly_ml_performance_plots', '259': 'Univariate', '260': 'ip_threshold', '261': 'camera-find-isotopes', '262': 'hicexplorer_hicmergematrixbins', '263': 'scatterplot_rpy', '264': 'seurat', '265': 'ConsensusMapNormalizer', '266': 'picard_FilterSamReads', '267': 'ete_homology_classifier', '268': 'picard_FastqToSam', '269': 'hicexplorer_hicplotviewpoint', '270': 'bcftools_norm', '271': 'TrimByLength', '272': 'graphicsmagick_image_montage', '273': 'join_files_on_column_fuzzy', '274': 'deeptools_bam_pe_fragmentsize', '275': 'vcftools_annotate', '276': 'metaphlan2krona', '277': 'rseqc_junction_annotation', '278': 'openms_id_mapper', '279': 'picard_EstimateLibraryComplexity', '280': 'thermo_raw_file_converter', '281': 'samtools_slice_bam', '282': 'qiime_assign_taxonomy', '283': 'jbrowse', '284': 'comp1', '285': 'bcftools_filter', '286': 'qiime_pick_otus', '287': 'DatamashOps', '288': 'samtools_stats', '289': 'metaphlan2', '290': 'idpquery', '291': 'camera-annotate-peaks', '292': 'Add_a_column1', '293': 'bed_to_bigBed', '294': 'vt_normalize', '295': 'mycrobiota-otutable_add_blast', '296': 'wsdl_hmdb', '297': 'seqtk_subseq', '298': 'varscan_somatic', '299': 'rcas', '300': 'seurat_read10x', '301': 'mothur_summary_single', '302': 'mlst', '303': 'mothur_unifrac_weighted', '304': 'stoceps_glm', '305': 'EMBOSS: fuzztran39', '306': 'raceid_main', '307': 'bctools_extract_alignment_ends', '308': 'bio3d_rmsf', '309': 'multiqc', '310': 'iuc_pear', '311': 'mz_to_sqlite', '312': 'ctb_spectrophore_search', '313': 'cshl_fastx_nucleotides_distribution', '314': 'build_ucsc_custom_track_1', '315': 'qiime_make_phylogeny', '316': 'vegan_diversity', '317': 'mothur_make_group', '318': 'gemini_inheritance', '319': 'CONVERTER_bam_to_coodinate_sorted_bam', '320': 'mothur_merge_files', '321': 'varscan_copynumber', '322': 'filter_tabular', '323': 'mass_spectrometry_imaging_qc', '324': 'sklearn_estimator_attributes', '325': 'scanpy_filter_genes', '326': 'Grep1', '327': 'gemini_load', '328': 'hicexplorer_hicsummatrices', '329': 'FeatureLinkerUnlabeledQT', '330': 'stacks_procrad', '331': 'metaspades', '332': 'BAMTagHistogram', '333': 'deeptools_multi_bam_summary', '334': 'trinity_filter_low_expr_transcripts', '335': 'trimmomatic', '336': 'ctb_opsin', '337': 'param_value_from_file', '338': 'subtract_query1', '339': 'gd_calc_freq', '340': 'ip_2d_split_binaryimage_by_watershed', '341': 'gmx_npt', '342': 'fastq collapser', '343': 'msnbase-read-msms', '344': 'samtools_split', '345': 'glimmer_knowlegde-based', '346': 'ctb_alignit', '347': 'mothur_pre_cluster', '348': 'raceid_clustering', '349': 'Determine_BC', '350': 'CONVERTER_fasta_to_tabular', '351': 'spocc_occ', '352': 'cshl_princeton_fastx_barcode_splitter', '353': 'vcffixup', '354': 'SequenceCoverageCalculator', '355': 'iReport', '356': 'samtools_rmdup', '357': 'msnbase-filter-merge-msms', '358': 'bcftools_stats', '359': 'volcanoplot', '360': 'infernal_cmsearch', '361': 'coords2clnt.py', '362': 'mothur_screen_seqs', '363': 'stringtie', '364': 'mass_spectrometry_imaging_ion_images', '365': 'bams2ratio', '366': 'preMloc', '367': 'sqlite_to_tabular', '368': 'get_sequences', '369': 'EMBOSS: tranalign100', '370': 'FastTree', '371': 'bedtools_shufflebed', '372': 'sam_bw_filter', '373': 'kraken-report', '374': 'cardinal_spectra_plots', '375': 'velvetoptimiser', '376': 'p_clip_peaks', '377': 'mothur_get_communitytype', '378': 'annotatemyids', '379': 'taxonomy_krona_chart', '380': 'mothur_remove_seqs', '381': 'seqtk_trimfq', '382': 'cshl_multijoin', '383': 'ncbi_blastp_wrapper', '384': 'jcvi_gff_stats', '385': 'tsne', '386': 'msms2metfrag-multiple', '387': 'stoceps_filteringsp', '388': 'qiime_core_diversity', '389': 'stacks_genotypes', '390': 'fastq_paired_end_joiner', '391': 'bandage_info', '392': 'deeptools_plot_correlation', '393': 'dunovo', '394': 'ggplot2_heatmap2', '395': 'mothur_heatmap_sim', '396': 'pileup_parser', '397': 'table_annovar', '398': 'Multivariate', '399': 'Extractor', '400': 'r_correlation_matrix', '401': 'bam_to_sam', '402': 'prinseq', '403': 'tables_arithmetic_operations', '404': 'minfi_getbeta', '405': 'graphlan_annotate', '406': 'mimodd_varextract', '407': 'Grouping1', '408': 'mothur_phylotype', '409': 'ctb_remove_protonation_state', '410': 'viennarna_rnafold', '411': 'picard_ReorderSam', '412': 'gops_join_1', '413': 'mothur_taxonomy_to_krona', '414': 'IsobaricAnalyzer', '415': 'deg_annotate', '416': 'replace_chromosome_names', '417': 'combine_metaphlan2_humann2', '418': 'mtbls520_08e_species_features', '419': 'qiime_summarize_taxa_through_plots', '420': 'seurat_create_seurat_object', '421': 'graphicsmagick_image_convert', '422': 'ctb_osra', '423': 'mtbls520_12_species_marchantia', '424': 'gatk_depth_of_coverage', '425': 'gatk2_unified_genotyper', '426': 'FROGS_affiliations_stat', '427': 'mass_spectrometry_imaging_preprocessing', '428': 'bedtools_complementbed', '429': 'abims_xcms_xcmsSet', '430': 'wolf_psort', '431': 'rbc_mafft', '432': 'gemini_comp_hets', '433': 'scpipe', '434': 'scanpy_find_cluster', '435': 'gd_rank_terms', '436': 'velveth_jgi', '437': 'ctb_multi_obgrep', '438': 'hca_matrix_downloader', '439': 'mothur_parsimony', '440': 'picard_MergeSamFiles', '441': 'ctb_alignit_create_db', '442': 'ncbi_blastx_wrapper', '443': 'prepare_receptor', '444': 'bedtools_slopbed', '445': 'silac_analyzer', '446': 'checkFormat', '447': 'cds_essential_variability', '448': 'decoyfasta', '449': 'iframe', '450': 'abims_xcms_group', '451': 'group_humann2_uniref_abundances_to_go', '452': 'umi_tools_extract', '453': 'stacks_denovomap', '454': 'vcf2tsv', '455': 'fasta_compute_length', '456': 'gatk_indel_realigner', '457': 'gbk_to_orf', '458': 'metaquantome_expand', '459': 'FeatureFinderMultiplex', '460': 'kraken-translate', '461': 'gtftobed12', '462': 'ctb_change_title', '463': 'ctb_ob_addh', '464': 'fragmenter', '465': 'scaffold2fasta', '466': 'regionalgam_gls', '467': 'gatk_unified_genotyper', '468': 'PeptideIndexer', '469': 'ctb_simsearch', '470': 'locarna_multiple', '471': 'cardinal_segmentations', '472': 'metfrag-cli-batch-multiple', '473': 'snpsift_vartype', '474': 'hisat', '475': 'sklearn_nn_classifier', '476': 'CONVERTER_bed_to_fli_0', '477': 'tophat2', '478': 'treebest_best', '479': 'fastq_groomer', '480': 'mimodd_reheader', '481': 'megablast_wrapper', '482': 'CONVERTER_interval_to_bedstrict_0', '483': 'vcfbedintersect', '484': 'aragorn_trna', '485': 'tp_text_file_with_recurring_lines', '486': 'hgv_linkToGProfile', '487': 'scanpy_find_variable_genes', '488': 'diffbind', '489': 'mothur_dist_shared', '490': 'vcffilter2', '491': 'QCCalculator', '492': 'FalseDiscoveryRate', '493': 'ctb_chemfp_butina_clustering', '494': 'rna_star', '495': 'velvet', '496': 'uniprot', '497': 'bedtools_intersectBed', '498': 'vcf2pgSnp', '499': 'rseqc_FPKM_count', '500': 'msconvert_win', '501': 'Digestor', '502': 'tp_cat', '503': 'rbc_mirdeep2_quantifier', '504': 'mass_spectrometry_imaging_segmentations', '505': 'gatk2_depth_of_coverage', '506': 'xcms-blankfilter', '507': 'stoceps_maketablecarrer', '508': 'genomespace_exporter', '509': 'cat1', '510': 'ctb_compound_convert', '511': 'mtbls520_04_preparations', '512': 'psy_maps', '513': 'signalp3', '514': 'bed2gff1', '515': 'xcms-group-peaks', '516': 'fasta2tab', '517': 'gffcompare_to_bed', '518': 'ip_binary_to_labelimage', '519': 'length_and_gc_content', '520': 'bg_uniq', '521': 'fastq_combiner', '522': 'je_clip', '523': 'bismark_bowtie2', '524': 'mtbls520_19b_seasons_unique', '525': 'velvetg_jgi', '526': 'salmon', '527': 'rseqc_geneBody_coverage', '528': 'bismark_methylation_extractor', '529': 'mass_spectrometry_imaging_combine', '530': 'ncbi_makeblastdb', '531': 'mothur_chimera_uchime', '532': 'blast_reciprocal_best_hits', '533': 'vcfvcfintersect', '534': 'rseqc_bam_stat', '535': 'sed_stream_editor', '536': 'sklearn_clf_metrics', '537': 'ia_coordinates_of_roi', '538': 'fastqc', '539': 'remove_tail.py', '540': 'gemini_interactions', '541': 'Summary_Statistics1', '542': '__APPLY_RULES__', '543': 'bio3d_pca', '544': 'heatmapper_deepTools', '545': 'qiime_make_otu_table', '546': 'gemini_annotate', '547': 'tabular_to_csv', '548': 'rseqc_inner_distance', '549': 'deeptools_plot_profile', '550': 'ucsc-twobittofa', '551': 'scanpy_read_10x', '552': 'vegan_rarefaction', '553': 'flanking_features_1', '554': 'clusterprofiler_go', '555': 'eden_sequence_converter', '556': 'cshl_easyjoin', '557': 'mtbls520_09_species_venn', '558': 'TrimByN', '559': 'mycrobiota-make-multi-otutable', '560': 'vcfselectsamples', '561': 'mothur_make_shared', '562': 'cshl_sed_tool', '563': 'Cut1', '564': 'gatk2_reduce_reads', '565': 'w4mjoinpn', '566': 'bedtools_bamtobed', '567': 'trinity_analyze_diff_expr', '568': 'nanoplot', '569': 'minfi_maptogenome', '570': 'picard_SamToFastq', '571': 'proteomics_moff', '572': 'tp_sed_tool', '573': 'gmx_solvate', '574': 'ConsensusID', '575': 'rseqc_insertion_profile', '576': 'gene2exon1', '577': 'qiime_align_seqs', '578': 'cd_hit_protein', '579': 'EMBOSS: newseq59', '580': 'cshl_cut_tool', '581': 'mothur_make_biom', '582': 'gatk2_haplotype_caller', '583': 'CONVERTER_bedgraph_to_bigwig', '584': 'venn_list', '585': 'staramr_search', '586': 'qiime_pick_open_reference_otus', '587': 'preproc', '588': 'fastq_quality_trimmer', '589': 'tp_sort_rows', '590': 'mtbls520_08b_species_unique', '591': 'term_id_vs_term_def', '592': 'bgchem_fragment_merger', '593': 'seurat_run_pca', '594': 'cshl_fastx_clipper', '595': 'bedtools_multiintersectbed', '596': 'sam_merge2', '597': 'mothur_trim_seqs', '598': 'smf_utils_extract-boxed-sequences', '599': 'qiime_count_seqs', '600': 'MassCalculator', '601': 'gatk2_variant_filtration', '602': 'bedtools_subtractbed', '603': 'CONVERTER_bed_to_gff_0', '604': 'ip_landmark_registration', '605': 'seurat_export_cellbrowser', '606': 'FROGS_preprocess', '607': 'sklearn_feature_selection', '608': 'align_back_trans', '609': 'ctb_ob_svg_depiction', '610': 'openbabel_compound_convert', '611': 'Remove_ending', '612': 'ip_2d_feature_extraction', '613': 'ctb_remDuplicates', '614': 'deeptools_bamFingerprint', '615': 'transpose', '616': 'seurat_run_tsne', '617': 'porechop', '618': 'regionalgam_glmmpql', '619': '__BUILD_LIST__', '620': 'bg_statistical_hypothesis_testing', '621': 'MapRTTransformer', '622': 'histogram_rpy', '623': 'flye', '624': 'correct_barcodes', '625': 'mtbls520_08a_species_shannon', '626': 'hicexplorer_hicplottads', '627': 'viz_overlay_moving_and_fixed_image', '628': 'circgraph', '629': 'diffbind-embl', '630': 'igvtools_count', '631': 'FileConverter', '632': 'myrimatch', '633': 'trinotate', '634': 'heatmapper', '635': 'Heatmap', '636': 'Batch_correction', '637': 'mothur_remove_lineage', '638': 'deeptools_bamCompare', '639': 'cuffnorm', '640': 'gdal_ogr2ogr', '641': 'deeptools_heatmapper', '642': 'imagecoordinates_flipaxis', '643': 'AnnovarShed', '644': 'mlocarna', '645': 'ip_filter_standard', '646': 'FileMerger', '647': 'ruvseq', '648': 'MSGFPlusAdapter', '649': 'picard_CASM', '650': 'mothur_filter_seqs', '651': 'glimmer_build-icm', '652': 'EMBOSS: textsearch98', '653': 'snpSift_annotate', '654': 'rbc_splitfasta', '655': 'mass_spectrometry_imaging_classification', '656': 'snpEff_download', '657': 'bcftools_view', '658': 'hgv_snpFreq', '659': 'filter_bed_on_splice_junctions', '660': 'format_metaphlan2_output', '661': 'collection_column_join', '662': 'get_read_pipeline', '663': 'deeptools_compute_matrix', '664': 'snpEff_build_gb', '665': 'gffcompare', '666': 'gatk2_base_recalibrator', '667': 'cshl_sort_header', '668': 'ProteinResolver', '669': 'deeptools_computeGCBias', '670': 'meme_chip', '671': 'samtools_idxstats', '672': 'regex_replace', '673': 'cshl_word_list_grep', '674': 'cummerbund_to_cuffdiff', '675': 'bigwig_to_bedgraph', '676': 'tp_awk_tool', '677': 'mothur_get_oturep', '678': 'minfi_methcpg', '679': 'Show beginning1', '680': 'segemehl', '681': 'datamash_ops', '682': 'minfi_dmp', '683': 'bg_protein_properties', '684': 'unicycler', '685': 'qiime_pick_closed_reference_otus', '686': 'sequence_content_trimmer', '687': 'gatk2_realigner_target_creator', '688': 'Convert characters1', '689': 'genrich', '690': 'cardinal_filtering', '691': 'blast2go', '692': 'align_families', '693': 'minfi_qc', '694': 'cshl_fastq_quality_filter', '695': 'sample_seqs', '696': 'camera-find-adducts', '697': 'humann2_genefamilies_genus_level', '698': 'bedtools_annotatebed', '699': 'ProteinInference', '700': 'extract_aln_ends.py', '701': 'minfi_mset', '702': 'genbank_to_gff', '703': 'heinz_visualization', '704': 'mothur_unifrac_unweighted', '705': 'vcfflatten2', '706': 'gff2bed1', '707': 'maldi_quant_peak_detection', '708': 'bedtools_windowbed', '709': 'metaquantome_viz', '710': 'rna_starsolo', '711': 'FeatureLinkerUnlabeledKD', '712': 'mothur_count_seqs', '713': 'picard_SortSam', '714': 'gatk2_variant_annotator', '715': 'camera-group-fwhm', '716': 'regionalgam_plot_trend', '717': 'cor2', '718': 'bam_to_bigwig', '719': 'trimmer', '720': 'vcfannotate', '721': 'scale_image', '722': 'translate_bed', '723': 'cshl_fastq_quality_boxplot', '724': 'miranda', '725': 'bedtools_coveragebed', '726': 'quast', '727': 'vcfgenotypes', '728': 'goseq', '729': 'snpSift_geneSets', '730': 'trinity_abundance_estimates_to_matrix', '731': 'picard_BamIndexStats', '732': 'cuffquant', '733': 'ctb_silicos_qed', '734': 'ip_2d_filter_segmentation_by_features', '735': 'abricate', '736': 'deseq2', '737': 'ggplot2_heatmap', '738': 'gatk_realigner_target_creator', '739': 'msgfplus', '740': 'TrimPrimer', '741': 'ip_convertimage', '742': 'secretbt2test', '743': 'mimodd_varcall', '744': 'filter_columns', '745': 'seqtk_sample', '746': 'bedtools_groupbybed', '747': 'bg_column_arrange_by_header', '748': 'spades', '749': 'sam_pileup', '750': 'sort1', '751': 'gemini_pathways', '752': 'ggplot2_point', '753': 'scanpy_normalise_data', '754': 'NFS_transfer', '755': 'lca1', '756': '__EXTRACT_DATASET__', '757': 'gemini_stats', '758': '__FLATTEN__', '759': 'mtbls520_10_species_varpart', '760': 'Datamash', '761': 'mothur_count_groups', '762': 'smooth_running_window', '763': 'deeptools_bigwig_compare', '764': 'seqtk_mergepe', '765': 'methtools_dmr', '766': 'samtools_calmd', '767': 'pathview', '768': 'correctGCBias', '769': 'picard_FixMateInformation', '770': 'Draw_phylogram', '771': 'map_peptides_to_bed', '772': 'eukaryotic_ncbi_submission', '773': 'limma_voom', '774': 'CONVERTER_interval_to_bgzip_0', '775': 'sm_mirdeep2core_without_Randfold', '776': 'svm_classifier', '777': 'rseqc_clipping_profile', '778': 'bedtools_sortbed', '779': 'ctb_remIons', '780': 'vigiechiro_idcorrect_2ndlayer', '781': 'gemini_query', '782': 'FROGS_remove_chimera', '783': 'ctb_obgrep', '784': 'rbc_mirdeep2_mapper', '785': 'methtools_tiling', '786': 'mothur_get_seqs', '787': 'cshl_fastx_quality_statistics', '788': 'FidoAdapter', '789': 'filter_by_fasta_ids', '790': 'Paste1', '791': 'mtbls520_06_import_traits', '792': 'ctb_filter', '793': 'basil', '794': 'minfi_ppfun', '795': 'metaquantome_filter', '796': 'sklearn_numeric_clustering', '797': 'minfi_getanno', '798': 'bedtools_coveragebed_counts', '799': 'goenrichment', '800': 'IDMapper', '801': 'rarefaction_analyzer', '802': 'bcftools_consensus', '803': 'bio3d_rmsd', '804': 'macs2_callpeak', '805': 'generic_filter', '806': 'regionalgam_flight_curve', '807': 'humann2_unpack_pathways', '808': 'mothur_pcoa', '809': 'search_gui', '810': 'PeakPickerHiRes', '811': 'msnbase_readmsdata', '812': 'maxquant', '813': 'ctb_remSmall', '814': 'bctools_extract_crosslinked_nucleotides', '815': 'interproscan', '816': 'ctb_sdf2fps', '817': 'minfi_getM', '818': 'bamleftalign', '819': 'create_or_update', '820': 'bamtools', '821': 'xcms_merge', '822': 'minfi_dmr', '823': 'FileInfo', '824': 'bwa', '825': 'cd_hit_est', '826': 'bg_find_subsequences', '827': 'XY_Plot_1', '828': 'ete_genetree_splitter', '829': 'ctb_online_data_fetch', '830': 'heinz', '831': 'mass_spectrometry_imaging_filtering', '832': 'ctb_np-likeness-calculator', '833': 'cmFinder', '834': 'featurecounts', '835': 'bamCompare_deepTools', '836': 'xcms_plot_chromatogram', '837': 'sklearn_ensemble', '838': 'shovill', '839': 'resize_coordinate_window', '840': 'bg_diamond', '841': 'mycrobiota-krona-mothur', '842': 'rbc_rnacode', '843': 'rseqc_RNA_fragment_size', '844': 'enhanced_bowtie_wrapper', '845': 'TagBamWithReadSequenceExtended', '846': 'seurat_scale_data', '847': 'heinz_bum', '848': 'deeptools_profiler', '849': 'CONVERTER_Bam_Bai_0', '850': 'CONVERTER_interval_to_bed_0', '851': 'prokaryotic_ncbi_submission', '852': 'mothur_heatmap_bin', '853': 'varscan', '854': 'ngsutils_bam_filter', '855': 'deeptools_computeMatrix', '856': 'bedtools_multicovtbed', '857': 'varscan_mpileup', '858': 'muscle', '859': 'charts', '860': 'PlasFlow', '861': 't2t_report', '862': 'vcfcheck', '863': 'CONVERTER_bed_to_bgzip_0', '864': 'mycrobiota-split-multi-otutable', '865': 'vsearch_chimera_detection', '866': 'wiggle2simple1', '867': 'deeptools_bamCorrelate', '868': 'mothur_chimera_vsearch', '869': 'prokka', '870': 'vcffilter', '871': 'qual_stats_boxplot', '872': 'scanpy_run_umap', '873': 'megahit_contig2fastg', '874': 'rseqc_read_duplication', '875': 'hicexplorer_hictransform', '876': 'keras_model_builder', '877': 'CONVERTER_gff_to_bed_0', '878': 'retrieve_scxa', '879': 'bedtools_bamtofastq', '880': 'nanopolish_variants', '881': 'disco', '882': 'MzTabExporter', '883': 're_he_maldi_image_registration', '884': 'htseq_count', '885': 'iqtree', '886': 'macs2_bdgcmp', '887': 'Nucleosome', '888': 'mothur_remove_groups', '889': 'rseqc_read_distribution', '890': 'gtf2bedgraph', '891': 'w4mcorcov', '892': 'hisat2', '893': 'gff_filter_by_attribute', '894': 'flexbardsc', '895': 'sklearn_searchcv', '896': 'mothur_cluster', '897': 'react_cal_pipeline', '898': 'deeptools_plot_enrichment', '899': 'qiime_validate_mapping_file', '900': 'docking', '901': 'IDScoreSwitcher', '902': 'MultiplexResolver', '903': 'vcftools_merge', '904': 'pilon', '905': 'mummer_mummer', '906': 'fastq_join', '907': 'gops_coverage_1', '908': 'tp_find_and_replace', '909': 'egsea', '910': 'fraggenescan', '911': 'cardinal_combine', '912': 'mothur_get_groups', '913': 'ggplot_histogram', '914': 'column_remove_by_header', '915': 'minfi_rset', '916': 'EMBOSS: extractseq35', '917': 'unipept', '918': 'tp_replace_in_column', '919': 'cuffmerge', '920': 'mtbls520_08c_species_variability', '921': 'table_compute', '922': 'antismash', '923': 'infernal_cmstat', '924': 'mothur_venn', '925': 'w4mclassfilter', '926': 'mimodd_vcf_filter', '927': 'deeptools_plot_pca', '928': 'hmmer_hmmbuild', '929': 'NSPDK_candidateClust', '930': 'openms_protein_quantifier', '931': 'sklearn_build_pipeline', '932': 'cuffdiff', '933': 'mtbls520_18_phylogeny', '934': 'CometAdapter', '935': 'random_lines1', '936': 'cufflinks_prok', '937': 'uparse', '938': 'Extract_features1', '939': 'modencode_peakcalling_macs2', '940': 'goslimmer', '941': 'mtbls520_05a_import_maf', '942': 'bg_sortmerna', '943': 'canu', '944': 'bcftools_plugin_counts', '945': 'plotly_regression_performance_plots', '946': 'deeptools_plot_fingerprint', '947': 'cshl_awk_replace_in_column', '948': 'racon', '949': 'mummer_dnadiff', '950': 'dexseq', '951': 'xcms-collect-peaks', '952': 'msconvert2_raw', '953': 'tabular_to_fastq', '954': 'pileometh', '955': 'DatamashTranspose', '956': 'CONVERTER_fasta_to_fai', '957': 'fastq_dump', '958': 'cshl_fastx_renamer', '959': 'picard_MarkDuplicates', '960': 'tab2fasta', '961': 'pygenomeTracks', '962': 'cshl_fasta_nucleotides_changer', '963': 'merge_pcr_duplicates.py', '964': 'trinity_contig_exn50_statistic', '965': 'mtbls520_19d_seasons_concentration', '966': 'idpassemble', '967': 'humann2_renorm_table', '968': 'TextExporter', '969': 'methtools_calling', '970': 'fasta_merge_files_and_filter_unique_sequences', '971': 'gops_subtract_1', '972': 'deseq2_single', '973': 'mothur_unique_seqs', '974': 'mummer_nucmer', '975': 'samtools_depth', '976': 'picard_ValidateSamFile', '977': 'cshl_fastq_to_fasta', '978': 'seurat_find_clusters', '979': 'Btrim64', '980': '__RELABEL_FROM_FILE__', '981': 'ncbi_tblastn_wrapper', '982': 'metams_runGC', '983': 'qiime_split_libraries', '984': 'FilterBAM', '985': 'hicexplorer_hicpca', '986': 'deeptools_bam_compare', '987': 'Fetch Taxonomic Ranks', '988': 'extract_element_from_collection', '989': 'plotly_parallel_coordinates_plot', '990': 'velveth', '991': 'tp_replace_in_line', '992': 'MAF_To_Fasta1', '993': 'Filter1', '994': 'scanpy_find_markers', '995': 'tp_sorted_uniq', '996': 'hmmer_hmmsearch', '997': 'rseqc_junction_saturation', '998': 'picard_CollectInsertSizeMetrics', '999': 'barchart_gnuplot', '1000': 'rseqc_infer_experiment', '1001': 'flexbar', '1002': 'gemini_windower', '1003': 'seurat_normalise_data', '1004': 'cshl_fastx_barcode_splitter', '1005': 'hicexplorer_hicbuildmatrix', '1006': 'DecoyDatabase', '1007': 'cmv', '1008': 'mothur_sub_sample', '1009': 'maldi_quant_preprocessing', '1010': 'cardinal_classification', '1011': 'ctb_rdkit_describtors', '1012': 'poretools_extract', '1013': 'mtbls520_23_seasons_rda', '1014': 'kraken2', '1015': 'xcms-dilutionfilter', '1016': 'Kneeplot', '1017': 'edger', '1018': 'mothur_lefse', '1019': 'cardinal_quality_report', '1020': 'trinity', '1021': 'gemini_db_info', '1022': 'fastq_manipulation', '1023': 'gops_concat_1', '1024': 'bwa_wrapper', '1025': 'tp_tail_tool', '1026': 'humann2', '1027': 'fastq_to_tabular', '1028': 'locarna_best_subtree', '1029': 'rseqc_mismatch_profile', '1030': 'abims_xcms_fillPeaks', '1031': 'sm_mapper', '1032': 'XTandemAdapter', '1033': 'ip_viz_overlay_moving_and_fixed_image', '1034': 'IDFileConverter', '1035': 'gmx_md', '1036': 'seurat_find_markers', '1037': 'unzip', '1038': 'smf_utils_filter-by-energy', '1039': 'snpSift_int', '1040': 'umi_tools_count', '1041': 'je_markdupes', '1042': 'minfi_dropsnp', '1043': 'hicexplorer_hicplotmatrix', '1044': 'join1', '1045': 'OpenSwathWorkflow', '1046': 'tp_head_tool', '1047': 'rm_spurious_events.py', '1048': 'FROGS_clustering', '1049': 'deeptools_bamCoverage', '1050': 'Extract genomic DNA 1', '1051': 'snippy', '1052': 'clustalw', '1053': 'metaphlan_hclust_heatmap', '1054': 'vsearch_dereplication', '1055': 'peakcalling_macs', '1056': 'CONVERTER_fasta_to_2bit', '1057': '16Saligner', '1058': 'ChooseTag', '1059': 'viennarna_rnaalifold', '1060': 'picard_MarkDuplicatesWithMateCigar', '1061': 'mycrobiota-qc-report', '1062': 'bedtools_genomecoveragebed_bedgraph', '1063': 'FROGS_filters', '1064': 'msconvert_nix', '1065': 'cshl_fastx_reverse_complement', '1066': 'newick_display', '1067': 'tp_uniq_tool', '1068': 'vcfsort', '1069': 'proteomics_search_peptide_prophet_1', '1070': 'fastq_to_fasta_python', '1071': 'deeptools_multi_bigwig_summary', '1072': 'pipmir', '1073': 'fastq_paired_end_deinterlacer', '1074': 'mtbls520_19e_seasons_features', '1075': 'mothur_summary_tax', '1076': 'bcftools_mpileup', '1077': 'abims_xcms_summary', '1078': 'ExtractFASTAfromFASTQ', '1079': 'mtbls520_16_ecology_rda', '1080': 'modencode_peakcalling_spp', '1081': 'scanpy_filter_cells', '1082': 'bamFilter', '1083': 'md_converter', '1084': 'bedtools_genomecoveragebed', '1085': 'allele_counts_1', '1086': 'mimodd_varreport', '1087': 'seq_filter_by_mapping', '1088': 'scanpy_run_pca', '1089': 'blastxml_to_top_descr', '1090': 'raceid_filtnormconf', '1091': 'mothur_make_contigs', '1092': 'bismark_pretty_report', '1093': 'tp_unfold_column_tool', '1094': 'ococo', '1095': 'hgv_david', '1096': 'gafa', '1097': 'GeMoMa_Annotation_Filter', '1098': 'umi_tools_whitelist', '1099': 'mothur_classify_rf', '1100': 'dt_profiler', '1101': 'get_feature_info', '1102': 'peakachu', '1103': 'regex1', '1104': 'EMBOSS: getorf42', '1105': '__UNZIP_COLLECTION__', '1106': 'fastq_filter', '1107': 'chipseeker', '1108': 'bwa_mem', '1109': 'fasta-stats', '1110': 'wtdbg', '1111': 'nn_classifier', '1112': 'glimmer_not-knowlegde-based', '1113': 'mothur_nmds', '1114': 'fasttree', '1115': 'cshl_uniq_tool', '1116': 'gemini_recessive_and_dominant', '1117': 'rgweblogo3', '1118': 'csv_to_tabular', '1119': 'smf_utils_estimate-energy', '1120': 'ip_histogram_equalization', '1121': 'keras_model_config', '1122': 'freebayes', '1123': 'fastq_trimmer', '1124': 'blockclust', '1125': 'mothur_pairwise_seqs', '1126': 'qiime_make_otu_heatmap', '1127': 'mothur_metastats', '1128': 'graphlan', '1129': 'bedtools_intersectbed', '1130': 'CONVERTER_sam_to_unsorted_bam', '1131': 'picard_NormalizeFasta', '1132': 'Show tail1', '1133': 'samtools_flag_filter', '1134': 'msconvert', '1135': 'samtools_bedcov', '1136': 'cardinal_mz_images', '1137': 'tp_tac', '1138': 'mothur_cluster_split', '1139': 'stacks_populations', '1140': 'IDMerger', '1141': 'bed_to_protein_map', '1142': 'FileFilter', '1143': 'fgsea', '1144': 'deeptools_compute_gc_bias', '1145': 'deeptools_alignmentsieve', '1146': '__ZIP_COLLECTION__', '1147': 'blastxml_to_tabular', '1148': 'IDFilter', '1149': 'aggregate_scores_in_intervals2', '1150': 'gemini_actionable_mutations', '1151': 'fastq_paired_end_interlacer', '1152': 'map-msms2camera', '1153': 'minfi_read450k', '1154': 'picard_AddOrReplaceReadGroups', '1155': 'seurat_filter_cells', '1156': 'IDConflictResolver', '1157': 'bismark_deduplicate', '1158': 'ctb_stripit', '1159': 'uchime', '1160': 'samtools_mpileup', '1161': 'bedtools_genomecoveragebed_histogram', '1162': 'bwameth', '1163': 'tp_sort_header_tool', '1164': 'structure_to_gspan', '1165': 'pieplots_macs', '1166': 'vcftools_slice', '1167': 'term_id_vs_term_name', '1168': 'massbank_ws_searchspectrum', '1169': 'ip_count_objects', '1170': 'ChangeCase', '1171': 'ip_imageinfo', '1172': 'bowtie2', '1173': 'hicexplorer_hicfindtads', '1174': 'gmx_em', '1175': 'cshl_fastx_trimmer', '1176': 'infernal_cmbuild', '1177': 'bam-filter', '1178': 'ctb_pubchem_download_as_smiles', '1179': 'valet', '1180': 'CONVERTER_gz_to_uncompressed', '1181': 'bowtie_wrapper', '1182': 'selectsequencesfrommsa', '1183': 'deeptools_correctGCBias', '1184': 'numeric_clustering', '1185': 'tp_split_on_column', '1186': 'meme_meme', '1187': 'Psortb', '1188': 'eggnog_mapper', '1189': 'rseqc_bam2wig', '1190': 'ip_projective_transformation', '1191': 'samtools_flagstat', '1192': 'qiime_pick_rep_set', '1193': 'nonpareil', '1194': 'kallisto_quant', '1195': 'ncbi_rpsblast_wrapper', '1196': 'rgPicardMarkDups', '1197': 'shyft_longitudes', '1198': 'flashlfq', '1199': 'ctb_confab', '1200': 'MetaProSIP', '1201': 'augustus_training', '1202': 'bedtools_bedtobam', '1203': 'peakcalling_macs14', '1204': 'kraken', '1205': 'cardinal_preprocessing', '1206': 'Remove beginning1', '1207': 'gffread', '1208': 'OpenSwathAssayGenerator', '1209': 'trinity_align_and_estimate_abundance', '1210': 'trinity_run_de_analysis', '1211': 'FeatureLinkerUnlabeled', '1212': 'w4mclstrpeakpics', '1213': 'vcftools_isec', '1214': 'datamash_transpose', '1215': 'raceid_trajectory', '1216': 'xpath', '1217': 'mcClust', '1218': 'column_order_header_sort', '1219': 'RNAlien', '1220': 'collection_element_identifiers', '1221': 'ctb_shapeit', '1222': 'nspdk_sparse', '1223': 'mimodd_header', '1224': 'resistome_analyzer', '1225': 'replace_column_with_key_value_file', '1226': 'seurat_dim_plot', '1227': 'bedtools_bed12tobed6', '1228': 'cd_hit_dup', '1229': '__TAG_FROM_FILE__', '1230': 'seqtk_mergefa', '1231': 'htseq-count', '1232': 'calc_fitness', '1233': 'bam2wig', '1234': 'fasta_filter_by_length', '1235': '_ensembl_gtf2gene_list', '1236': 'flash', '1237': 'get_flanks1', '1238': 'vcfcombine', '1239': 'stacks_refmap', '1240': 'meme_dreme', '1241': 'cshl_grep_tool', '1242': 'ggplot_point', '1243': 'addValue', '1244': 'MapStatistics', '1245': 'aggregate', '1246': 'intarna', '1247': 'rnaz', '1248': 'collapse_dataset', '1249': 'tag_stat2', '1250': 'snpSift_extractFields', '1251': 'glob_report', '1252': 'fasplit', '1253': 'EMBOSS: water107', '1254': 'bcftools_call', '1255': 'flexbar_split_RYYR_bcs', '1256': 'megablast_xml_parser', '1257': 'picard_CollectRnaSeqMetrics', '1258': 'rsem_calculate_expression', '1259': 'paralyzer', '1260': 'pynast', '1261': 'secure_hash_message_digest', '1262': 'cshl_awk_tool', '1263': 'flexbar_split_RR_bcs', '1264': 'fastq_paired_end_splitter', '1265': 'roary', '1266': 'heatmap2', '1267': 'rarefaction', '1268': 'ssake', '1269': 'methtools_destrand', '1270': 'wc_gnu', '1271': 'minfi_getsnp', '1272': 'bedtools_map', '1273': 'bctools_remove_tail', '1274': 'methtools_filter', '1275': 'cshl_fastx_collapser', '1276': 'gops_intersect_1', '1277': 'translate_bed_sequences', '1278': 'qiime_filter_alignment', '1279': 'IDMassAccuracy', '1280': 'HighResPrecursorMassCorrector', '1281': 'seurat_find_variable_genes'}\n"
     ]
    }
   ],
   "source": [
    "print(reverse_dictionary)"
   ]
  },
  {
   "cell_type": "markdown",
   "metadata": {},
   "source": [
    "## Recommended tools"
   ]
  },
  {
   "cell_type": "code",
   "execution_count": 14,
   "metadata": {
    "scrolled": false
   },
   "outputs": [
    {
     "name": "stdout",
     "output_type": "stream",
     "text": [
      "Current tool sequence: \n",
      "\n",
      "rna_star\n",
      "\n",
      "Recommended tools for the tool sequence 'rna_star' with their scores in decreasing order:\n",
      "\n",
      "fastqc(100%)\n",
      "tophat2(22%)\n",
      "bedtools_multicovtbed(0%)\n",
      "freebayes(0%)\n",
      "Extract genomic DNA 1(0%)\n",
      "trinity(0%)\n",
      "cutadapt(0%)\n",
      "bwa(0%)\n",
      "spades(0%)\n",
      "IDPosteriorErrorProbability(0%)\n",
      "sam_to_bam(0%)\n",
      "snpEff(0%)\n",
      "stringtie(0%)\n",
      "snpSift_filter(0%)\n",
      "trimmomatic(0%)\n",
      "__FLATTEN__(0%)\n",
      "bowtie2(0%)\n",
      "rna_star(0%)\n",
      "fastq_to_fasta_python(0%)\n",
      "multiqc(0%)\n",
      "\n",
      "Tool ids:\n",
      "\n",
      "fastqc(538)\n",
      "tophat2(477)\n",
      "bedtools_multicovtbed(856)\n",
      "freebayes(1122)\n",
      "Extract genomic DNA 1(1050)\n",
      "trinity(1020)\n",
      "cutadapt(75)\n",
      "bwa(824)\n",
      "spades(748)\n",
      "IDPosteriorErrorProbability(236)\n",
      "sam_to_bam(230)\n",
      "snpEff(213)\n",
      "stringtie(363)\n",
      "snpSift_filter(79)\n",
      "trimmomatic(335)\n",
      "__FLATTEN__(758)\n",
      "bowtie2(1172)\n",
      "rna_star(494)\n",
      "fastq_to_fasta_python(1070)\n",
      "multiqc(309)\n"
     ]
    }
   ],
   "source": [
    "topk = 20 # set the maximum number of recommendations\n",
    "tool_seq = \"494\" # give tools ids in a sequence and see the recommendations. To know all the tool ids, \n",
    "                     # please print the variable 'reverse_dictionary'\n",
    "compute_recommendations(model, tool_seq, \"\", dictionary, reverse_dictionary, class_weights, topk)"
   ]
  },
  {
   "cell_type": "code",
   "execution_count": null,
   "metadata": {},
   "outputs": [],
   "source": []
  }
 ],
 "metadata": {
  "kernelspec": {
   "display_name": "Python 3",
   "language": "python",
   "name": "python3"
  },
  "language_info": {
   "codemirror_mode": {
    "name": "ipython",
    "version": 3
   },
   "file_extension": ".py",
   "mimetype": "text/x-python",
   "name": "python",
   "nbconvert_exporter": "python",
   "pygments_lexer": "ipython3",
   "version": "3.6.7"
  }
 },
 "nbformat": 4,
 "nbformat_minor": 2
}
