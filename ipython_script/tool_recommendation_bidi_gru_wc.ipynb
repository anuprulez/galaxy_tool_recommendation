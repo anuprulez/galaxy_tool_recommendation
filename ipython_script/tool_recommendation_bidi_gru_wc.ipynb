{
 "cells": [
  {
   "cell_type": "markdown",
   "metadata": {},
   "source": [
    "# Tool recommendation \n",
    "## (Gated recurrent units neural network with weighted cross-entropy loss)"
   ]
  },
  {
   "cell_type": "code",
   "execution_count": 18,
   "metadata": {},
   "outputs": [],
   "source": [
    "import numpy as np\n",
    "import json\n",
    "import warnings\n",
    "import operator\n",
    "\n",
    "import h5py\n",
    "from keras.models import model_from_json\n",
    "from keras import backend as K\n",
    "\n",
    "warnings.filterwarnings(\"ignore\")\n",
    "\n",
    "\n",
    "def read_file(file_path):\n",
    "    with open(file_path, 'r') as data_file:\n",
    "        data = json.loads(data_file.read())\n",
    "    return data\n",
    "\n",
    "\n",
    "def create_model(model_path):\n",
    "    reverse_dictionary = dict((str(v), k) for k, v in dictionary.items())\n",
    "    model_weights = list()\n",
    "    weight_ctr = 0\n",
    "    for index, item in enumerate(trained_model.keys()):\n",
    "        if \"weight_\" in item:\n",
    "            d_key = \"weight_\" + str(weight_ctr)\n",
    "            weights = trained_model.get(d_key).value\n",
    "            model_weights.append(weights)\n",
    "            weight_ctr += 1\n",
    "    # set the model weights\n",
    "    loaded_model.set_weights(model_weights)\n",
    "    return loaded_model, dictionary, reverse_dictionary\n",
    "\n",
    "\n",
    "def compute_recommendations(model, tool_sequence, labels, dictionary, reverse_dictionary, class_weights, topk=20, max_seq_len=25):\n",
    "    tl_seq = tool_sequence.split(\",\")\n",
    "    last_tool_name = reverse_dictionary[str(tl_seq[-1])]\n",
    "    sample = np.zeros(max_seq_len)\n",
    "    for idx, tool_id in enumerate(tl_seq):\n",
    "        sample[idx] = int(tool_id)\n",
    "    sample_reshaped = np.reshape(sample, (1, max_seq_len))\n",
    "    tool_sequence_names = [reverse_dictionary[str(tool_pos)] for tool_pos in tool_sequence.split(\",\")]\n",
    "    # predict next tools for a test path\n",
    "    prediction = model.predict(sample_reshaped, verbose=0)\n",
    "    weight_val = list(class_weights.values())\n",
    "    weight_val = np.reshape(weight_val, (len(weight_val),))\n",
    "    prediction = np.reshape(prediction, (prediction.shape[1],))\n",
    "    #prediction = prediction * weight_val\n",
    "    prediction = prediction / float(np.max(prediction))\n",
    "    prediction_pos = np.argsort(prediction, axis=-1)\n",
    "    # get topk prediction\n",
    "    topk_prediction_pos = prediction_pos[-topk:]\n",
    "    topk_prediction_val = [int(prediction[pos] * 100) for pos in topk_prediction_pos]\n",
    "    # read tool names using reverse dictionary\n",
    "    pred_tool_ids = [reverse_dictionary[str(tool_pos)] for tool_pos in topk_prediction_pos]\n",
    "    pred_tool_ids_sorted = dict()\n",
    "    c_tools = list()\n",
    "    if last_tool_name in compatible_tools:\n",
    "        c_tools = compatible_tools[last_tool_name].split(\",\")\n",
    "    for (tool_pos, tool_pred_val) in zip(topk_prediction_pos, topk_prediction_val):\n",
    "        tool_name = reverse_dictionary[str(tool_pos)]\n",
    "        if tool_name in c_tools:\n",
    "            pred_tool_ids_sorted[tool_name] = tool_pred_val\n",
    "    pred_tool_ids_sorted = dict(sorted(pred_tool_ids_sorted.items(), key=lambda kv: kv[1], reverse=True))\n",
    "    ids_tools = dict()\n",
    "    keys = list(pred_tool_ids_sorted.keys())\n",
    "    tool_seq_name = \",\".join(tool_sequence_names)\n",
    "    print(\"Current tool sequence: \")\n",
    "    print()\n",
    "    print(tool_seq_name)\n",
    "    print()\n",
    "    print(\"Recommended tools for the tool sequence '%s' with their scores in decreasing order:\" % tool_seq_name)\n",
    "    print()\n",
    "    for i in pred_tool_ids_sorted:\n",
    "        print(i + \"(\" + str(pred_tool_ids_sorted[i]) + \"%)\")\n",
    "    for key in pred_tool_ids_sorted:\n",
    "        ids_tools[key] = dictionary[key]\n",
    "    print()\n",
    "    print(\"Tool ids:\")\n",
    "    print()\n",
    "    for i in ids_tools:\n",
    "        print(i + \"(\" + str(ids_tools[i]) + \")\")"
   ]
  },
  {
   "cell_type": "markdown",
   "metadata": {},
   "source": [
    "## Unpack trained model for prediction"
   ]
  },
  {
   "cell_type": "code",
   "execution_count": 19,
   "metadata": {},
   "outputs": [],
   "source": [
    "model_path = \"data/tool_recommendation_bidi_model.hdf5\"\n",
    "trained_model = h5py.File(model_path, 'r')\n",
    "model_config = json.loads(trained_model.get('model_config').value)\n",
    "dictionary = json.loads(trained_model.get('data_dictionary').value)\n",
    "class_weights = json.loads(trained_model.get('class_weights').value)\n",
    "compatible_tools = json.loads(trained_model.get('compatible_tools').value)\n",
    "loaded_model = model_from_json(model_config)\n",
    "\n",
    "model, dictionary, reverse_dictionary = create_model(model_path)"
   ]
  },
  {
   "cell_type": "markdown",
   "metadata": {},
   "source": [
    "## Indices of tools"
   ]
  },
  {
   "cell_type": "code",
   "execution_count": 20,
   "metadata": {
    "scrolled": true
   },
   "outputs": [
    {
     "name": "stdout",
     "output_type": "stream",
     "text": [
      "{'1': 'CONVERTER_sam_to_unsorted_bam', '2': 'predict_pipeline', '3': 'fraggenescan', '4': 'ip_2d_filter_segmentation_by_features', '5': 'snpEff', '6': 'proteomics_moff', '7': 'scanpy_cluster_reduce_dimension', '8': 'scanpy_regress_variable', '9': 'get_sequences', '10': 'scanpy_plot_embed', '11': 'EMBOSS: revseq82', '12': 'hicexplorer_hicplotviewpoint', '13': 'sixgill_build', '14': 'macs2_filterdup', '15': 'canu', '16': 'modencode_peakcalling_macs2', '17': 'thermo_raw_file_converter', '18': 'mycrobiota-split-multi-otutable', '19': 'fastq_to_fasta_python', '20': 'mothur_make_design', '21': 'maxquant', '22': 'tp_cut_tool', '23': 'deg_annotate', '24': 'uniprot', '25': 'mycrobiota-correct-replicates', '26': 'qiime_pick_rep_set', '27': 'bio3d_rmsd', '28': 'phyml', '29': 'cp_export_to_spreadsheet', '30': 'mass_spectrometry_imaging_mzplots', '31': 'bedtools_multiintersectbed', '32': 'ncbi_blastp_wrapper', '33': 'scatterplot_rpy', '34': 'sickle', '35': 'Extractor', '36': 'genbank_to_gff', '37': 'samtools_flagstat', '38': '16Saligner', '39': 'umi_tools_whitelist', '40': 'scanpy_normalise_data', '41': 'mothur_unifrac_unweighted', '42': 'dexseq_annotate', '43': 'humann2_renorm_table', '44': 'sklearn_nn_classifier', '45': 'bismark_deduplicate', '46': 'pileometh', '47': 'generic_filter', '48': 'gtftobed12', '49': 'mothur_count_seqs', '50': 'viennarna_rnaalifold', '51': 'umi_tools_count', '52': 'ucsc_cell_browser', '53': 't_coffee', '54': 'ctb_compound_convert', '55': 'busco', '56': 'mothur_rarefaction_single', '57': 'cor2', '58': 'mothur_heatmap_sim', '59': 'seqtk_mergepe', '60': 'bam_to_bigwig', '61': 'snpEff_build_gb', '62': 'nanopolish_variants', '63': 'hisat2', '64': 'stoceps_maketablecarrer', '65': 'gfa_to_fa', '66': 'sccaf_asses_merger', '67': 'gemini_interactions', '68': 'gemini_recessive_and_dominant', '69': 'polyA', '70': 'samtools_split', '71': 'cardinal_preprocessing', '72': 'MQoutputfilter', '73': 'blast_reciprocal_best_hits', '74': 'fragmenter', '75': 'cshl_fastx_nucleotides_distribution', '76': 'mtbls520_08c_species_variability', '77': 'bed2gff1', '78': 'seurat_filter_cells', '79': 'rsem_prepare_reference', '80': 'prepare_box', '81': 'reactome_analysis', '82': 'collection_column_join', '83': 'igvtools_count', '84': 'metaquantome_expand', '85': 'minfi_dmr', '86': 'rseqc_RNA_fragment_size', '87': 'regionalgam_ab_index', '88': 'rna_star', '89': 'qual_stats_boxplot', '90': 'ctb_simsearch', '91': 'mtbls520_08b_species_unique', '92': 'blockclust', '93': 'CONVERTER_bedgraph_to_bigwig', '94': 'ngsutils_bam_filter', '95': 'heinz_visualization', '96': 'unzip', '97': 'cp_save_images', '98': 'snp_sites', '99': 'scater_filter', '100': 'flexbar_split_RR_bcs', '101': 'jbrowse', '102': 'msnbase-read-msms', '103': 'rgweblogo3', '104': 'ProteinQuantifier', '105': 'cuffmerge', '106': 'Krona', '107': 'tmhmm2', '108': 'scanpy_parameter_iterator', '109': 'trnascan', '110': 'run_sccaf', '111': 'fasta_filter_by_length', '112': 'minfi_ppfun', '113': 'minfi_methcpg', '114': 'remove_tail.py', '115': 'methtools_tiling', '116': 'gspan', '117': 'umi_tools_extract', '118': 'nonpareil', '119': 'methtools_calling', '120': 'humann2_regroup_table', '121': 'bedtools_windowbed', '122': 'Btrim64', '123': 'cshl_fastx_trimmer', '124': 'cuffcompare', '125': 'bamCoverage_deepTools', '126': 'align_back_trans', '127': 'mothur_taxonomy_to_krona', '128': 'cp_measure_object_size_shape', '129': 'EMBOSS: water107', '130': 'MAF_To_Fasta1', '131': 'ambertools_antechamber', '132': 'Kneeplot', '133': 'bam2wig', '134': 'mass_spectrometry_imaging_segmentations', '135': 'diffbind-embl', '136': 'vcfcombine', '137': 'cardinal_data_exporter', '138': 'signalp3', '139': 'rbc_mirdeep2_mapper', '140': 'samtools_idxstats', '141': 'dropletutils_read_10x', '142': 'repeatexplorer2', '143': 'cp_convert_objects_to_image', '144': 'deeptools_bam_pe_fragmentsize', '145': 'scanpy_run_tsne', '146': 'table_annovar', '147': 'tp_replace_in_line', '148': 'fastqc', '149': 'EMBOSS: getorf42', '150': 'qiime_align_seqs', '151': 'numeric_clustering', '152': 'usearch_derep_full', '153': 'bcftools_view', '154': 'rseqc_junction_annotation', '155': 'ctb_obgrep', '156': 'regionalgam_plot_trend', '157': 'dunovo', '158': 'wiggle2simple1', '159': 'vcftools_slice', '160': 'abims_xcms_group', '161': 'GeMoMa_Annotation_Filter', '162': 'MetaProSIP', '163': 'xcms-find-peaks', '164': 'convert_bc_to_binary_RY.py', '165': 'correctGCBias', '166': 'rseqc_clipping_profile', '167': 'velvetoptimiser', '168': 'openms_protein_quantifier', '169': 'seq_filter_by_mapping', '170': 'snpfinder', '171': 'Univariate', '172': 'egsea', '173': 'mummer_dnadiff', '174': 'xcms_plot_chromatogram', '175': 'heatmapper', '176': 'seqtk_sample', '177': 'flashlfq', '178': 'picard_AddOrReplaceReadGroups', '179': 'sklear_numeric_clustering', '180': 'bigwig_to_bedgraph', '181': 'camera-group-fwhm', '182': 'qiime_make_otu_heatmap', '183': 'lca1', '184': 'tables_arithmetic_operations', '185': 'snpSift_annotate', '186': 'abricate', '187': 'hicexplorer_chicaggregatestatistic', '188': 'seurat_scale_data', '189': 'picard_CASM', '190': 'seurat_find_variable_genes', '191': 'raceid_filtnormconf', '192': 'PlasFlow', '193': 'infernal_cmsearch', '194': 'metagene_annotator', '195': 'deeptools_alignmentsieve', '196': 'bedtools_bed12tobed6', '197': 'metilene', '198': 'gemini_windower', '199': 'je_clip', '200': 'Grep1', '201': 'cardinal_mz_images', '202': 'ctb_rdkit_describtors', '203': 'limma_voom', '204': 'FROGS_affiliations_stat', '205': 'ip_2d_feature_extraction', '206': 'prinseq', '207': 'mothur_cluster_split', '208': 'scanpy_remove_confounders', '209': 'gd_calc_freq', '210': 'lofreq_viterbi', '211': 'bedtools_unionbedgraph', '212': 'mycrobiota-make-multi-otutable', '213': 'tophat_fusion_post', '214': 'IDFileConverter', '215': 'FidoAdapter', '216': 'bgchem_fragment_merger', '217': 'species_tree_generator', '218': '__FILTER_FAILED_DATASETS__', '219': 'rna_starsolo', '220': 'vsearch_chimera_detection', '221': 'ip_convertimage', '222': 'enhanced_bowtie_wrapper', '223': 'cshl_fastx_quality_statistics', '224': 'dropletutils', '225': 'abims_xcms_fillPeaks', '226': 'mothur_lefse', '227': 'filter_tabular', '228': 'wc_gnu', '229': 'msms2metfrag-multiple', '230': 'trinity', '231': 'mothur_dist_seqs', '232': 'mothur_unifrac_weighted', '233': 'krona-text', '234': 'EMBOSS: tranalign100', '235': 'ip_coordinates_of_roi', '236': '_salmon_kallisto_mtx_to_10x', '237': 'vcf_filter', '238': 'meta_flye', '239': 'scater_create_qcmetric_ready_sce', '240': 'umi_tools_group', '241': 'fastq_combiner', '242': 'sailfish', '243': 'anndata_manipulate', '244': 'merge_pcr_duplicates.py', '245': 'scanpy_find_markers', '246': 'ip_scale_image', '247': 'msgfplus', '248': 'mothur_dist_shared', '249': 'wig_to_bigWig', '250': 'flexbar_split_RYYR_bcs', '251': 'rcas', '252': 'seq_composition', '253': 'bwa_wrapper', '254': 'stacks2_populations', '255': 'cmv', '256': 'varscan_somatic', '257': 'plotly_regression_performance_plots', '258': 'bowtie_wrapper', '259': 'pathview', '260': 'ip_imageinfo', '261': 'gff_filter_by_attribute', '262': 'methtools_filter', '263': 'deeptools_plot_correlation', '264': 'deeptools_multi_bam_summary', '265': '__APPLY_RULES__', '266': 'scater_plot_exprs_freq', '267': 'metams_runGC', '268': 'gmx_em', '269': 'minfi_dmp', '270': 'CONVERTER_bed_to_fli_0', '271': 'bed_to_bigBed', '272': 'regex_replace', '273': 'gops_concat_1', '274': 'trinity_gene_to_trans_map', '275': 'maldi_quant_peak_detection', '276': 'bedtools_coveragebed', '277': 'sklearn_model_validation', '278': 'geneList', '279': 'bio3d_pca_visualize', '280': 'scanpy_scale_data', '281': 'Transformation', '282': 'gemini_stats', '283': 'filter_16s_wrapper_script 1', '284': 'cutadapt', '285': 'fastq_stats', '286': 'hisat', '287': 'chira_extract', '288': 'uchime', '289': 'bam-filter', '290': 'peakcalling_macs14', '291': 'snpeff_to_peptides', '292': 'CONVERTER_bed_to_bgzip_0', '293': 'heinz_scoring', '294': 'gmx_trj', '295': 'treebest_best', '296': 'tp_sort_header_tool', '297': 'cp_display_data_on_image', '298': 'valet', '299': 'ssake', '300': 'bedtools_genomecoveragebed', '301': 'deeptools_bigwigCompare', '302': 'bedtools_groupbybed', '303': 'vcfaddinfo', '304': 'Extract_RNA_seq_Evidence', '305': 'vcf2tsv', '306': 'mothur_unique_seqs', '307': 'tp_find_and_replace', '308': 'bctools_remove_spurious_events', '309': 'openms_id_file_converter', '310': 'biosigner', '311': 'fastq_filter', '312': 'hyphy_gard', '313': 'samtools_merge', '314': 'gd_rank_terms', '315': 'qiime_make_otu_table', '316': 'checkFormat', '317': 'gmx_md', '318': 'ctb_shapeit', '319': 'vcfbreakcreatemulti', '320': 'openbabel_filter', '321': 'qiime_pick_otus', '322': 'vcfselectsamples', '323': 'fastq_mcf', '324': 'seq_filter_by_id', '325': 'psy_maps', '326': 'scater_plot_pca', '327': 'taxonomy_krona_chart', '328': 'gemini_query', '329': 'rseqc_bam_stat', '330': 'pilon', '331': 'mergeCols1', '332': 'hicexplorer_hicpca', '333': 'ggplot2_pca', '334': 'flexbar_no_split', '335': 'scanpy_find_variable_genes', '336': 'mtbls520_05a_import_maf', '337': 'scmap_scmap_cluster', '338': 'align_families', '339': 'qiime_validate_mapping_file', '340': 'infernal_cmbuild', '341': 'bandage_image', '342': 'qiime_assign_taxonomy', '343': 'sRNAPipe', '344': 'xchem_pose_scoring', '345': 'wolf_psort', '346': 'proteomics_search_tandem_1', '347': 'gmx_npt', '348': 'TextExporter', '349': 'mothur_chimera_uchime', '350': 'kraken-report', '351': 'cardinal_classification', '352': 'fastq_manipulation', '353': 'IDconverter', '354': 'cluter_profiler', '355': 'mz_to_sqlite', '356': 'mtbls520_18_phylogeny', '357': 'mtbls520_19e_seasons_features', '358': 'gemini_db_info', '359': 'BAMTagHistogram', '360': 'graphlan', '361': 'bismark_methylation_extractor', '362': 'bg_statistical_hypothesis_testing', '363': 'ncbi_acc_download', '364': 'raceid_clustering', '365': 'Psortb', '366': 'get_pdb', '367': 'macs2_callpeak', '368': 'bamFilter', '369': 'filter_bed_on_splice_junctions', '370': 'mothur_remove_groups', '371': 'TrimByLength', '372': 'lofreq_call', '373': 'ctb_opsin', '374': 'tb_variant_filter', '375': 'scanpy_read_10x', '376': 'bedtools_slopbed', '377': 'abims_CAMERA_annotateDiffreport', '378': 'idba_hybrid', '379': 'samtools_sort', '380': 'camera-find-isotopes', '381': 'countKeggs', '382': 'CONVERTER_gff_to_interval_index_0', '383': 'Jvenn', '384': 'diffexp', '385': 'kraken2', '386': 'sm_mirdeep2core_without_Randfold', '387': 'cshl_fastx_barcode_splitter', '388': 'picard_MarkDuplicatesWithMateCigar', '389': 'sequence_content_trimmer', '390': 'seqtk_subseq', '391': 'bamtools_split', '392': 'fgsea', '393': 'CONVERTER_interval_to_bed12_0', '394': 'CONVERTER_gff_to_bed_0', '395': 'ConsensusID', '396': 'IDScoreSwitcher', '397': 'custom_pro_db', '398': 'megablast_wrapper', '399': 'chipseeker', '400': 'replace_column_with_key_value_file', '401': 'mira_assembler', '402': 'cd_hit_protein', '403': 'graphclust_align_cluster', '404': 'IDMerger', '405': 'gatk2_haplotype_caller', '406': 'tophat', '407': 'Batch_correction', '408': 'qiime_make_phylogeny', '409': 'chira_quantify', '410': 'preproc', '411': 'wsdl_hmdb', '412': 'chira_map', '413': 'sam2interval', '414': 'fasplit', '415': 'mtbls520_09_species_venn', '416': 'NFS_transfer', '417': 'qiime_summarize_taxa_through_plots', '418': 'picard_DownsampleSam', '419': 'bedtools_coveragebed_counts', '420': 'gatk2_reduce_reads', '421': 'ggplot2_point', '422': 'comp1', '423': 'rbc_mirdeep2', '424': 'ip_binary_to_labelimage', '425': 'extract_bcs.py', '426': 'schicexplorer_schicclustersvl', '427': 'rgPicFixMate', '428': 'locarna_best_subtree', '429': 'tp_awk_tool', '430': 'IDPosteriorErrorProbability', '431': 'mothur_count_groups', '432': 'cshl_word_list_grep', '433': 'proteinortho', '434': 'edger', '435': 'snpSift_extractFields', '436': 'mothur_filter_seqs', '437': 'mothur_pcoa', '438': 'PicardASMetrics', '439': 'maker', '440': 'map-msms2camera', '441': 'ete_genetree_splitter', '442': 'vcfflatten2', '443': 'spades', '444': 'EMBOSS: wordcount109', '445': 'blastxml_to_top_descr', '446': 'metaquantome_stat', '447': 'vmd_hbonds', '448': 'chipeakanno_annopeaks', '449': 'gatk_analyze_covariates', '450': 'FeatureLinkerUnlabeledQT', '451': 'kallisto_pseudo', '452': 'SnpEff-cds-report', '453': 'metaphlan2krona', '454': 'Count1', '455': 'deeptools_bamCoverage', '456': 'schicexplorer_schicnormalize', '457': 'hgv_linkToGProfile', '458': 'FileMerger', '459': 'ncbi_blastn_wrapper', '460': 'cardinal_spectra_plots', '461': 'deeptools_plot_pca', '462': 'cp_identify_primary_objects', '463': 'gafa', '464': 'plotly_parallel_coordinates_plot', '465': 'mimodd_map', '466': 'ctb_sdf2fps', '467': 'minimap2', '468': 'structure_to_gspan', '469': 'tp_cat', '470': 'tp_sorted_uniq', '471': 'subtract_query1', '472': 'seurat_find_markers', '473': 'meme_meme', '474': 'svm_classifier', '475': 'cufflinks', '476': 'bismark_bowtie2', '477': 'graphprot_predict_profile', '478': 'seurat', '479': 'regionalgam_autocor_acf', '480': 'stacks2_denovomap', '481': 'glob_report', '482': 'unipept', '483': 'ctb_remDuplicates', '484': 'picard_CleanSam', '485': 'heinz_bum', '486': 'viz_overlay_moving_and_fixed_image', '487': 'megahit_contig2fastg', '488': 'samtools_flag_filter', '489': 'extract_element_from_collection', '490': 'htseq_count', '491': 'picard_ValidateSamFile', '492': 'gatk_unified_genotyper', '493': 'minfi_qc', '494': 'mtbls520_07_species_diversity', '495': 'mothur_heatmap_bin', '496': 'gatk4_mutect2', '497': 'stoceps_glm_group', '498': 'samtools_stats', '499': 'smf_utils_filter-by-energy', '500': 'EMBOSS: seqret84', '501': 'aggregate_scores_in_intervals2', '502': 'msconvert', '503': 'deeptools_compute_matrix', '504': 'extract', '505': 'macs2_predictd', '506': 'charts', '507': 'ctb_alignit_create_db', '508': 'vcffixup', '509': 'samtools_view', '510': 'ip_projective_transformation_points', '511': 'Filter1', '512': 'rseqc_inner_distance', '513': 'abims_xcms_summary', '514': 'sklearn_clf_metrics', '515': 'spocc_occ', '516': 'filtlong', '517': 'stoceps_glm', '518': 'cshl_fastx_artifacts_filter', '519': 'bcftools_call', '520': 'mothur_corr_axes', '521': 'openbabel_svg_depiction', '522': 'cat_bins', '523': 'cuffquant', '524': 'hicexplorer_hicfindtads', '525': 'snpSift_filter', '526': 'FileInfo', '527': 'maxbin2', '528': 'Summary_Statistics1', '529': 'FastTree', '530': 'trimmomatic', '531': 'trinity_filter_low_expr_transcripts', '532': 'samtools_mpileup', '533': 'sklearn_svm_classifier', '534': 'w4mcorcov', '535': 'ctb_change_title', '536': 'transdecoder', '537': 'picard_EstimateLibraryComplexity', '538': 'metaquantome_filter', '539': 'CONVERTER_bed_gff_or_vcf_to_bigwig_0', '540': 'TrimByN', '541': 'sklearn_feature_selection', '542': '__ZIP_COLLECTION__', '543': 'cat_add_names', '544': 'melt', '545': 'cshl_awk_replace_in_column', '546': 'sklearn_ensemble', '547': 'ggplot2_histogram', '548': 'bio3d_pca', '549': 'get_flanks1', '550': 'FROGS_remove_chimera', '551': 'ggplot2_heatmap', '552': 'Datamash', '553': 'schicexplorer_schicplotclusterprofiles', '554': 'minfi_maptogenome', '555': 'hmmer_hmmscan', '556': 'Cut1', '557': 'metaphlan2_hutlab', '558': 'picard_MarkDuplicates', '559': 'shovill', '560': 'bedtools_map', '561': 'gatk_table_recalibration', '562': 'mummer_nucmer', '563': 'fasta_concatenate0', '564': 'gff_to_sequence', '565': 'picard_CollectInsertSizeMetrics', '566': 'dexseq', '567': 'find_in_reference', '568': 'cshl_fastq_to_fasta', '569': 'gatk_indel_realigner', '570': 'cufflinks_prok', '571': '__SORTLIST__', '572': 'je_demultiplex', '573': 'bedtools_genomecoveragebed_bedgraph', '574': 'snpSift_rmInfo', '575': 'sklearn_numeric_clustering', '576': 'cd_hit_dup', '577': 'sm_mapper', '578': 'sam_to_bam', '579': 'bamtools', '580': 'muscle', '581': 'column_order_header_sort', '582': 'cardinal_combine', '583': 'bcftools_mpileup', '584': 'correct_barcodes', '585': 'modencode_peakcalling_spp', '586': 'gmx_merge_topology_files', '587': 'camera-prepareoutput', '588': 'mycrobiota-qc-report', '589': 'sccaf_regress_out', '590': 'trinity_super_transcripts', '591': 'coords2clnt.py', '592': 'stoceps_trend_indic', '593': 'ip_threshold', '594': 'bandage_info', '595': 'barchart_gnuplot', '596': 'fasttree', '597': 'stacks_refmap', '598': 'meme_dreme', '599': 'vcfcheck', '600': 'feelnc', '601': 'tophat2', '602': 'gdal_gdalinfo', '603': 'ctb_chemfp_butina_clustering', '604': 'trim_reads', '605': 'prokaryotic_ncbi_submission', '606': 'cp_measure_object_intensity', '607': 'get_child_terms', '608': 'OpenSwathWorkflow', '609': 'ProteinInference', '610': 'deseq2', '611': 'rawtools', '612': 'bedtools_intersectBed', '613': 'blastxml_to_tabular_selectable', '614': 'rdpmulticlassifier', '615': 'tp_unfold_column_tool', '616': 'gmx_solvate', '617': 'ip_filter_standard', '618': 'sklearn_build_pipeline', '619': 'sqlite_to_tabular', '620': 'wtdbg', '621': 'mothur_nmds', '622': 'gops_intersect_1', '623': 'ctb_online_data_fetch', '624': 'gemini_de_novo', '625': 'mimodd_reheader', '626': 'volcanoplot', '627': 'megahit', '628': 'Heatmap', '629': 'cshl_fasta_formatter', '630': 'tp_tail_tool', '631': 'histogram_rpy', '632': 'EMBOSS: extractseq35', '633': 'bedtools_intersectbed_bam', '634': 'deeptools_computeMatrix', '635': 'ctb_np-likeness-calculator', '636': 'mothur_make_group', '637': 'sklearn_searchcv', '638': '__MERGE_COLLECTION__', '639': 'rnbeads', '640': 'map_reads_otu', '641': 'glimmer_build-icm', '642': 'cshl_fastx_clipper', '643': 'mtbls520_23_seasons_rda', '644': 'basil', '645': 'get_read_pipeline', '646': 'quast', '647': 'cp_relate_objects', '648': 'disco', '649': 'hicexplorer_chicdifferentialtest', '650': '6_parse_discord', '651': 'trinity_analyze_diff_expr', '652': 'resistome_analyzer', '653': 'EMBOSS: fuzztran39', '654': 'cshl_sed_tool', '655': 'idr_download_by_ids', '656': 'kallisto_quant', '657': 'FeatureLinkerUnlabeled', '658': 'regionalgam_glmmpql', '659': 'MapStatistics', '660': 'crosscontamination_barcode_filter', '661': 'rnafold', '662': 'group_humann2_uniref_abundances_to_go', '663': 'gd_raxml', '664': 'DecoyDatabase', '665': 'ip_histogram_equalization', '666': 'deeptools_bamFingerprint', '667': 'gmap_build', '668': 'assign', '669': 'cardinal_segmentations', '670': 'bismark_pretty_report', '671': 'picard_CollectRnaSeqMetrics', '672': 'msnbase-filter-merge-msms', '673': 'CONVERTER_bed_to_gff_0', '674': 'ctb_pubchem_download_as_smiles', '675': 'seqtk_trimfq', '676': 'mothur_split_groups', '677': 'nspdk_sparse', '678': 'sklearn_train_test_eval', '679': 'OpenSwathAssayGenerator', '680': 'trinity_run_de_analysis', '681': 'ia_coordinates_of_roi', '682': 'fastp', '683': 'TrimPrimer', '684': 'ctb_rdkit_descriptors', '685': 'stringtie', '686': 'nanoplot', '687': 'mass_spectrometry_imaging_qc', '688': 'seurat_create_seurat_object', '689': 'fastq_paired_end_deinterlacer', '690': 'heatmapper_deepTools', '691': 'rseqc_read_duplication', '692': 'gbk_to_orf', '693': 'tp_split_on_column', '694': 'goslimmer', '695': 'enumerate_charges', '696': 'create_or_update', '697': 'HighResPrecursorMassCorrector', '698': 'IDFilter', '699': 'stacks_denovomap', '700': 'maldi_quant_preprocessing', '701': 'proteomics_search_protein_prophet_1', '702': 'kraken-translate', '703': 'rseqc_read_distribution', '704': 'flash', '705': 'rbc_mafft', '706': 'flanking_features_1', '707': 'naive_variant_caller', '708': 'vt_normalize', '709': 'export2graphlan', '710': 'viennarna_rnafold', '711': 'scanpy_plot', '712': 'react_cal_pipeline', '713': 'minfi_dropsnp', '714': 'clusterprofiler_bitr', '715': 'vcf2pgSnp', '716': 'ctb_filter', '717': 'Flash', '718': 'cp_measure_image_intensity', '719': 'mothur_pairwise_seqs', '720': 'rseqc_junction_saturation', '721': 'deeptools_multi_bigwig_summary', '722': 'openbabel_change_title', '723': 'bwa', '724': 'QCCalculator', '725': 'rbc_rnacode', '726': 'dbbuilder', '727': 'qualimap_rnaseq', '728': 'chira_merge', '729': 'circos', '730': 'vegan_rarefaction', '731': 'hicexplorer_chicsignificantinteractions', '732': 'iReport', '733': 'gops_join_1', '734': 'cshl_cut_tool', '735': 'gemini_annotate', '736': 'infernal_cmstat', '737': 'fasta-stats', '738': 'translate_bed_sequences', '739': 'seurat_run_pca', '740': 'fastq_paired_end_joiner', '741': 'vigiechiro_bilanenrichirp', '742': 'gmx_editconf', '743': 'kraken-mpa-report', '744': 'graphicsmagick_image_montage', '745': 'cluster_otu', '746': 'combine_metaphlan2_humann2', '747': 'blockbuster', '748': 'draw_circos', '749': 'ggplot2_heatmap2', '750': 'ctb_ob_addh', '751': 'seurat_find_clusters', '752': 'piranha', '753': 'scanpy_run_umap', '754': 'join1', '755': 'split_file_to_collection', '756': 'cshl_princeton_fastx_barcode_splitter', '757': 'SequenceCoverageCalculator', '758': 'snpSift_dbnsfp_generic', '759': 'MassCalculator', '760': 'mtbls520_12_species_marchantia', '761': 'newick_display', '762': 'mimodd_varreport', '763': 'rseqc_FPKM_count', '764': 'scanpy_find_cluster', '765': 'join_files_on_column_fuzzy', '766': 'humann2_unpack_pathways', '767': 'vcftools_merge', '768': 'CONVERTER_fasta_to_2bit', '769': 'CONVERTER_Bam_Bai_0', '770': 'decoyfasta', '771': 'seqtk_mergefa', '772': 'ctb_subsearch', '773': 'uit_megablast_wrapper', '774': 'hicexplorer_hictransform', '775': 'sam_merge2', '776': 'graphicsmagick_image_convert', '777': 'hicexplorer_hicplottads', '778': 'xcms-blankfilter', '779': 'scale_image', '780': 'cp_measure_texture', '781': 'tp_sort_rows', '782': 'bcftools_stats', '783': 'term_id_vs_term_name', '784': 'eggnog_mapper', '785': 'picard_BamIndexStats', '786': 'kraken', '787': 'gops_merge_1', '788': 'FROGS_preprocess', '789': 'MultiplexResolver', '790': 'bundle_collection', '791': 'CometAdapter', '792': 'EMBOSS: geecee41', '793': 'fastq collapser', '794': '4_filter_sam', '795': 'deeptools_heatmapper', '796': 'stacks_procrad', '797': 'IDMassAccuracy', '798': 'anndata_import', '799': 'qiime_filter_alignment', '800': 'smooth_running_window', '801': 'pipmir', '802': 'translate_bed', '803': 'xcms-dilutionfilter', '804': 'meme_chip', '805': 'w4mclstrpeakpics', '806': 'pieplots_macs', '807': 'deeptools_correct_gc_bias', '808': 'tsne', '809': 'term_id_vs_term_def', '810': 'tbvcfreport', '811': 'fasterq_dump', '812': 'graphlan_annotate', '813': 'DatamashTranspose', '814': 'Remove beginning1', '815': 'rbc_mirdeep2_quantifier', '816': 'Add_a_column1', '817': 'bedtools_subtractbed', '818': 'rgPicardMarkDups', '819': 'cat_summarise', '820': 'bg_diamond', '821': 'sklearn_stacking_ensemble_models', '822': 'jcvi_gff_stats', '823': 'ctb_multi_obgrep', '824': 'minfi_rset', '825': 'sccaf_asses', '826': 'bedtools_genomecoveragebed_histogram', '827': 'cd_hit_est', '828': 'gtf2bedgraph', '829': 'hicexplorer_chicqualitycontrol', '830': 'secure_hash_message_digest', '831': 'keras_model_config', '832': 'deeptools_plot_fingerprint', '833': 'gemini_load', '834': 'Paste1', '835': 'prepare_ligand', '836': 'msnbase_readmsdata', '837': 'filter_by_fasta_ids', '838': 'samtools_filter', '839': 'picard_CollectWgsMetrics', '840': 'lofreq_filter', '841': 'bp_genbank2gff3', '842': 'resize_coordinate_window', '843': 'FROGS_clustering', '844': 'stacks_populations', '845': 'iuc_deseq2', '846': 'intarna', '847': 'scater_normalize', '848': 'scaffold2fasta', '849': 'je_markdupes', '850': 'openms_id_mapper', '851': 'prepare_receptor', '852': 'mothur_classify_rf', '853': 'r_correlation_matrix', '854': 'keras_model_builder', '855': 'sam_bw_filter', '856': 'camera-find-adducts', '857': 'sceasy_convert', '858': 'computeMatrix', '859': 'cmFinder', '860': 'cat1', '861': 'table_compute', '862': 'vcffilter', '863': 'smf_utils_extract-boxed-sequences', '864': 'ip_landmark_registration', '865': 'MzTabExporter', '866': 'EMBOSS: fuzzpro38', '867': 'extract_aln_ends.py', '868': 'mummer_mummerplot', '869': 'mtbls520_06_import_traits', '870': 'CONVERTER_interval_to_bed_0', '871': 'racon', '872': 'vsearch_dereplication', '873': 'gmx_restraints', '874': 'goseq', '875': 'mummer_show_coords', '876': 'deeptools_bam_compare', '877': 'bamSplit', '878': 'docking', '879': '__TAG_FROM_FILE__', '880': 'idpquery', '881': 'ctb_chemfp_mol2fps', '882': 'fastq_join', '883': 'Draw_phylogram', '884': 'tp_grep_tool', '885': 'idpqonvert', '886': 'ctb_osra', '887': 'Grouping1', '888': 'hcluster_sg_parser', '889': 'qiime_pick_open_reference_otus', '890': 'mothur_remove_seqs', '891': 'regex1', '892': 'raceid_main', '893': 'genomespace_exporter', '894': 'mass_spectrometry_imaging_preprocessing', '895': '__UNZIP_COLLECTION__', '896': 'w4mjoinpn', '897': 'hicexplorer_hicbuildmatrix', '898': 'vcftools_compare', '899': 'flexbardsc', '900': 'genrich', '901': 'mothur_sub_sample', '902': 'mlst', '903': 'hicexplorer_hicplotmatrix', '904': 'build_ucsc_custom_track_1', '905': 'gemini_burden', '906': 'rseqc_bam2wig', '907': 'mothur_classify_otu', '908': 'tp_replace_in_column', '909': 'trinity_align_and_estimate_abundance', '910': 'xcms_merge', '911': 'schicexplorer_schicplotconsensusmatrices', '912': 'interproscan', '913': 'FROGS_affiliation_OTU', '914': 'pygenomeTracks', '915': 'multiqc', '916': 'EMBOSS: shuffleseq87', '917': 'picard_SamToFastq', '918': 'mtbls520_10_species_varpart', '919': 'rseqc_geneBody_coverage', '920': 'lcaclassifier_wrapper_script 1', '921': 'gatk_variant_select', '922': 'mtbls520_19d_seasons_concentration', '923': 'bedtools_multicovtbed', '924': 'secretbt2test', '925': 'rsem_calculate_expression', '926': 'methtools_destrand', '927': 'unicycler', '928': 'cp_cellprofiler', '929': 'mtbls520_19b_seasons_unique', '930': 'mothur_tree_shared', '931': 'mothur_pre_cluster', '932': 'ctb_remIons', '933': 'mass_spectrometry_imaging_filtering', '934': 'gops_subtract_1', '935': 'get_subontology_from', '936': 'msconvert2_raw', '937': 'filter_columns', '938': 'cshl_fastq_quality_filter', '939': 'idr-embl', '940': 'Fetch Taxonomic Ranks', '941': 'cummeRbund', '942': 'ctb_ob_genProp', '943': 'minion_search_adapter', '944': 'megablast_xml_parser', '945': 'augustus', '946': 'chira_collapse', '947': 'qiime_split_libraries', '948': 'segemehl', '949': 'cshl_grep_tool', '950': 'miranda', '951': 'format_metaphlan2_output', '952': 'mothur_summary_seqs', '953': 'sam_pileup', '954': 'minfi_mset', '955': 'describe_samples', '956': 'mcClust', '957': '__EXTRACT_DATASET__', '958': 'varscan_copynumber', '959': 'graphclust_glob_report_no_align', '960': 'antismash', '961': 'compose_text_param', '962': 'hgv_david', '963': 'MapRTTransformer', '964': 'gatk2_indel_realigner', '965': 'tabular_to_fastq', '966': 'cshl_fasta_nucleotides_changer', '967': 'gatk2_unified_genotyper', '968': 'PeptideIndexer', '969': 'salmon', '970': 'gmx_sim', '971': 'bg_column_arrange_by_header', '972': 'velvetg', '973': 'smf_utils_find-boxes', '974': 'mummer_mummer', '975': 'addName', '976': 'vcfallelicprimitives', '977': 'regexColumn1', '978': 'cshl_easyjoin', '979': 'retrieve_from_hpa', '980': 'samtools_markdup', '981': 'lastz_wrapper_2', '982': 'aggregate', '983': 'mtbls520_04_preparations', '984': 'heatmap2', '985': 'fastq_dump', '986': 'scanpy_filter_genes', '987': 'ctb_remSmall', '988': 'roary', '989': 'fasta_compute_length', '990': 'vcfgenotypes', '991': 'massbank_ws_searchspectrum', '992': 'scanpy_filter_cells', '993': 'umi_tools_dedup', '994': 'samtools_fixmate', '995': 'gffcompare_to_bed', '996': 'ctb_stripit', '997': 'express', '998': 'MSGFPlusAdapter', '999': 'blast2go', '1000': 'bg_protein_properties', '1001': 'humann2', '1002': 'kraken-filter', '1003': 'plotly_ml_performance_plots', '1004': 'allele_counts_1', '1005': 'scpipe', '1006': 'quality_metrics', '1007': 'make_families', '1008': 'scanpy_inspect', '1009': 'diffbind', '1010': 'peakachu', '1011': 'porechop', '1012': 'Digestor', '1013': 'rdock_sort_filter', '1014': 'ivar_consensus', '1015': 'sklearn_generalized_linear', '1016': 'gemini_comp_hets', '1017': 'ivar_variants', '1018': 'hicexplorer_chicviewpointbackgroundmodel', '1019': 'sklearn_estimator_attributes', '1020': 'mothur_homova', '1021': 'lfq_protein_quant', '1022': 'sucos_docking_scoring', '1023': 'regionalgam_flight_curve', '1024': 'random_lines1', '1025': 'iqtree', '1026': 'raceid_inspecttrajectory', '1027': 'bedtools_getfastabed', '1028': 'minfi_getanno', '1029': 'gops_basecoverage_1', '1030': 'mothur_metastats', '1031': 'anndata_inspect', '1032': 'PeakPickerHiRes', '1033': 'Nucleosome', '1034': 'glimmer_not-knowlegde-based', '1035': 'rseqc_insertion_profile', '1036': 'freebayes_wrapper', '1037': 'cp_measure_image_quality', '1038': 'bg_find_subsequences', '1039': 'trim_galore', '1040': 'fastq_groomer', '1041': 'cardinal_quality_report', '1042': 'bctools_extract_crosslinked_nucleotides', '1043': 'samtools_rmdup', '1044': 'imagecoordinates_flipaxis', '1045': 'sort1', '1046': 'locarna_multiple', '1047': 'FROGS_filters', '1048': 'ucsc-twobittofa', '1049': 'gtf_filter_by_attribute_values_list', '1050': 'rarefaction', '1051': 'tag_stat2', '1052': 'jq', '1053': 'mothur_get_seqs', '1054': 'ctb_mordred_descriptors', '1055': 'snippy_core', '1056': 'vegan_diversity', '1057': 'EMBOSS: transeq101', '1058': 'tp_easyjoin_tool', '1059': 'gatk2_depth_of_coverage', '1060': 'deeptools_plot_profile', '1061': 'bctools_remove_tail', '1062': 'aragorn_trna', '1063': 'bctools_extract_alignment_ends', '1064': 'rdock_rbdock', '1065': 'bam_to_sam', '1066': 'samtools_depth', '1067': 'deeptools_profiler', '1068': 'mass_spectrometry_imaging_classification', '1069': 'blastxml_to_tabular', '1070': 'metaspades', '1071': 'deeptools_bamCorrelate', '1072': 'goenrichment', '1073': 'schicexplorer_schicconsensusmatrices', '1074': 'iuc_pear', '1075': 'Show beginning1', '1076': 'flye', '1077': 'keras_train_and_eval', '1078': 'minfi_read450k', '1079': 'pynast', '1080': 'vcfvcfintersect', '1081': 'gmx_setup', '1082': 'bedtools_shufflebed', '1083': 'mothur_make_shared', '1084': 'query_tabular', '1085': 'CONVERTER_interval_to_bgzip_0', '1086': 'gops_coverage_1', '1087': 'fasta2tab', '1088': 'vigiechiro_bilanenrichipf', '1089': 'IDConflictResolver', '1090': 'collapse_dataset', '1091': 'openbabel_compound_convert', '1092': 'bed_to_bigwig', '1093': 'tabular_to_csv', '1094': 'seurat_dim_plot', '1095': 'fpocket', '1096': 'abims_CAMERA_combinexsAnnos', '1097': 'scater_plot_tsne', '1098': 'tp_head_tool', '1099': 'heinz', '1100': 'gffread', '1101': 'cshl_uniq_tool', '1102': 'mothur_summary_qual', '1103': 'nn_classifier', '1104': 'samtools_calmd', '1105': 'mothur_classify_seqs', '1106': 'peptide_shaker', '1107': 'gatk_count_covariates', '1108': 'picard_FixMateInformation', '1109': 'gatk2_realigner_target_creator', '1110': 'htseq-count', '1111': 'eukaryotic_ncbi_submission', '1112': 'length_and_gc_content', '1113': 'dropletutils_empty_drops', '1114': 'cuffdiff', '1115': 'xcms-group-peaks', '1116': 'gemini_pathways', '1117': 'ncbi_rpsblast_wrapper', '1118': 'bedtools_bedtobam', '1119': 'silac_analyzer', '1120': 'scanpy_run_pca', '1121': '__BUILD_LIST__', '1122': 'cshl_awk_tool', '1123': 'bedtools_annotatebed', '1124': 'GeneModelMapper', '1125': 'trinity_abundance_estimates_to_matrix', '1126': 'FeatureFinderMetabo', '1127': 'mimodd_varcall', '1128': 'DatamashOps', '1129': 'mdanalysis_cosine_analysis', '1130': 'seurat_read10x', '1131': 'metfrag-cli-batch-multiple', '1132': 'interactive_tool_phinch', '1133': 'sklearn_train_test_split', '1134': 'PicardInsertSize', '1135': 'picard_NormalizeFasta', '1136': 'prepare_ligands_for_docking', '1137': 'bcftools_norm', '1138': '__FILTER_FROM_FILE__', '1139': 'mothur_summary_tax', '1140': 'chembl', '1141': 'md_converter', '1142': 'gatk_realigner_target_creator', '1143': 'Show tail1', '1144': 'methtools_dmr', '1145': 'bg_sortmerna', '1146': 'pileup_interval', '1147': 'staramr_search', '1148': 'bamCompare_deepTools', '1149': 'vcftools_annotate', '1150': 'alevin', '1151': 'tp_sed_tool', '1152': 'cast', '1153': 'gemini_actionable_mutations', '1154': 'Extract_features1', '1155': 'velvet', '1156': 'gene2exon1', '1157': 'gdal_ogr2ogr', '1158': 're_he_maldi_image_registration', '1159': 'CONVERTER_fasta_to_tabular', '1160': 'humann2_genefamilies_genus_level', '1161': 'pileup_parser', '1162': 'lofreq_alnqual', '1163': 'seurat_run_tsne', '1164': 'Extract genomic DNA 1', '1165': 'deeptools_computeGCBias', '1166': 'uparse', '1167': 'snpSift_geneSets', '1168': 'gatk2_variant_annotator', '1169': 'ete_homology_classifier', '1170': 'annotatemyids', '1171': 'qualimap_bamqc', '1172': 'ncbi_blastx_wrapper', '1173': 'ctb_ob_svg_depiction', '1174': 'bio3d_rmsf', '1175': '_dropletBarcodePlot', '1176': 'ip_count_objects', '1177': 'gops_cluster_1', '1178': 'enasearch_search_data', '1179': 'XTandemAdapter', '1180': 'peakcalling_macs', '1181': 'picard_FastqToSam', '1182': 'ip_projective_transformation', '1183': 'qiime_count_seqs', '1184': 'gmx_nvt', '1185': 'FilterBAM', '1186': 'sdf_to_tab', '1187': 'myrimatch', '1188': 'cp_measure_granularity', '1189': 'scanpy_filter', '1190': 'ctb_alignit', '1191': 'cshl_find_and_replace', '1192': 'macs2_bdgbroadcall', '1193': 'ExtractFASTAfromFASTQ', '1194': 'deeptools_compute_matrix_operations', '1195': 'FileFilter', '1196': 'hicexplorer_hicmergematrixbins', '1197': 'sucos_max_score', '1198': 'gatk_depth_of_coverage', '1199': 'rarefaction_analyzer', '1200': 'vcfannotate', '1201': 'scanpy_normalize', '1202': '__FLATTEN__', '1203': 'deeptools_bam_coverage', '1204': 'tab2fasta', '1205': 'circgraph', '1206': 'hicexplorer_hicsummatrices', '1207': 'gemini_inheritance', '1208': 'minfi_getsnp', '1209': 'qiime_core_diversity', '1210': 'deeptools_plot_coverage', '1211': 'rnaz', '1212': 'calc_fitness', '1213': 'eden_sequence_converter', '1214': 'ip_2d_split_binaryimage_by_watershed', '1215': 'mothur_split_abund', '1216': 'vcfbedintersect', '1217': '2_map', '1218': 'CONVERTER_bam_to_coodinate_sorted_bam', '1219': 'gatk2_variant_recalibrator', '1220': 'Remove_ending', '1221': 'xpath', '1222': 'hyphy_absrel', '1223': 'velvetg_jgi', '1224': 'gffcompare', '1225': 'seurat_export_cellbrowser', '1226': 'bed_to_protein_map', '1227': 'mimodd_header', '1228': 'IDMapper', '1229': 'gmx_makendx', '1230': 'RNAlien', '1231': 'cshl_sort_header', '1232': 'cardinal_filtering', '1233': 'collection_element_identifiers', '1234': 'hmmer_hmmsearch', '1235': 'deseq2_single', '1236': 'flexbar', '1237': 'seurat_normalise_data', '1238': 'FileConverter', '1239': '_ensembl_gtf2gene_list', '1240': 'trinity_define_clusters_by_cutting_tree', '1241': 'deeptools_plot_enrichment', '1242': 'w4mclassfilter', '1243': 'openbabel_remIons', '1244': 'transpose', '1245': 'mass_spectrometry_imaging_ion_images', '1246': 'ggplot_histogram', '1247': 'column_remove_by_header', '1248': 'sample_seqs', '1249': 'augustus_training', '1250': 'msconvert_win', '1251': 'bamleftalign', '1252': 'cummerbund_to_cuffdiff', '1253': '__RELABEL_FROM_FILE__', '1254': 'cuffnorm', '1255': 'idpassemble', '1256': 'mothur_cluster', '1257': 'deeptools_bigwig_compare', '1258': 'rbc_splitfasta', '1259': 'cshl_multijoin', '1260': 'paralyzer', '1261': 'tp_tac', '1262': 'Kraken2Tax', '1263': 'ChooseTag', '1264': '1_create_conf', '1265': '16Sclassifier', '1266': 'cshl_fastx_renamer', '1267': 'interactive_tool_fairdom_send', '1268': 'FeatureFinderMultiplex', '1269': '5_calc_stat', '1270': 'stringtie_merge', '1271': 'ctb_silicos_qed', '1272': 'mothur_merge_files', '1273': 'hicexplorer_hiccorrectmatrix', '1274': 'scater_plot_dist_scatter', '1275': 'mothur_get_communitytype', '1276': 'msconvert_nix', '1277': 'bedtools_bamtobed', '1278': 'rna_abbased_data', '1279': 'annotateMyIDs', '1280': 'bismark_bowtie', '1281': 'Interval_Maf_Merged_Fasta2', '1282': 'datamash_transpose', '1283': 'qiime_split_libraries_fastq', '1284': 'viennarna_rnaplot', '1285': 'climate_stripes', '1286': 'ProteinResolver', '1287': 'cshl_fastx_reverse_complement', '1288': 'mothur_make_biom', '1289': 'param_value_from_file', '1290': 'ChangeCase', '1291': 'bwa_mem', '1292': 'featurecounts', '1293': 'CONVERTER_gz_to_uncompressed', '1294': 'smf_utils_estimate-energy', '1295': 'hcluster_sg', '1296': 'XY_Plot_1', '1297': 'retrieve_scxa', '1298': 't2t_report', '1299': 'mothur_trim_seqs', '1300': '3_filter_single_pair', '1301': 'poretools_extract', '1302': 'mothur_venn', '1303': 'replace_chromosome_names', '1304': 'bcftools_consensus', '1305': 'p_clip_peaks', '1306': 'mothur_make_lefse', '1307': 'deeptools_correctGCBias', '1308': 'IsobaricAnalyzer', '1309': 'vigiechiro_idvalid', '1310': 'mtbls520_08d_concentration', '1311': 'hicexplorer_chicviewpoint', '1312': 'EMBOSS: textsearch98', '1313': 'ctb_chemfp_nxn_clustering', '1314': 'ConsensusMapNormalizer', '1315': 'bowtie2', '1316': 'bwameth', '1317': 'mtbls520_16_ecology_rda', '1318': 'cat_contigs', '1319': 'freebayes', '1320': 'trinotate', '1321': 'meme_fimo', '1322': 'deeptools_plot_heatmap', '1323': 'raceid_inspectclusters', '1324': 'minfi_getM', '1325': 'flaimapper', '1326': 'bedtools_sortbed', '1327': 'tp_uniq_tool', '1328': 'chipsequtil_maptoknowngenes', '1329': 'datamash_ops', '1330': 'graphclust_aggregate_alignments', '1331': 'mummer_delta_filter', '1332': 'tp_multijoin_tool', '1333': 'snpEff_download', '1334': 'trimmer', '1335': 'cshl_fastx_collapser', '1336': 'abims_xcms_retcor', '1337': 'mothur_phylotype', '1338': 'bedtools_bamtofastq', '1339': 'samtools_bedcov', '1340': 'rm_spurious_events.py', '1341': 'CONVERTER_fasta_to_fai', '1342': 'varscan', '1343': 'datamash_reverse', '1344': 'ncbi_tblastn_wrapper', '1345': 'venn_list', '1346': 'cds_essential_variability', '1347': 'ip_viz_overlay_moving_and_fixed_image', '1348': 'abims_xcms_xcmsSet', '1349': 'mimodd_convert', '1350': 'ip_overlay_segmentation', '1351': 'deeptools_compute_gc_bias', '1352': 'MapAlignerPoseClustering', '1353': 'schicexplorer_schicqualitycontrol', '1354': 'mimodd_varextract', '1355': 'hca_matrix_downloader', '1356': 'tarean_exp', '1357': 'bams2ratio', '1358': 'vsearch_search', '1359': 'picard_ReorderSam', '1360': 'fastq_quality_trimmer', '1361': 'sed_stream_editor', '1362': 'clusterprofiler_go', '1363': 'CONVERTER_fastqgz_to_fastq', '1364': 'metaphlan2', '1365': 'velveth_jgi', '1366': 'hmmer_hmmbuild', '1367': 'scmap_scmap_cell', '1368': 'NSPDK_candidateClust', '1369': 'msconvert3_raw', '1370': 'trinity_contig_exn50_statistic', '1371': 'snippy', '1372': 'macs2_bdgcmp', '1373': 'eden_vectorizer', '1374': 'openbabel_remDuplicates', '1375': 'cp_measure_image_area_occupied', '1376': 'rseqc_infer_experiment', '1377': 'blast_parser', '1378': 'picard_MergeSamFiles', '1379': 'mothur_get_groups', '1380': 'pureclip', '1381': 'CONVERTER_interval_to_bedstrict_0', '1382': 'mothur_amova', '1383': 'velveth', '1384': 'gatk2_variant_apply_recalibration', '1385': 'clustalw', '1386': 'preMloc', '1387': 'metaphlan_hclust_heatmap', '1388': 'mothur_parsimony', '1389': 'ctb_spectrophore_search', '1390': 'dt_profiler', '1391': 'rdock_rbcavity', '1392': 'Convert characters1', '1393': 'samtools_slice_bam', '1394': 'trinity_samples_qccheck', '1395': 'varscan_mpileup', '1396': 'rseqc_mismatch_profile', '1397': 'vcftools_isec', '1398': 'get_feature_info', '1399': 'stacks_genotypes', '1400': 'ncbi_makeblastdb', '1401': 'glimmer_knowlegde-based', '1402': 'fastq_to_tabular', '1403': 'mothur_screen_seqs', '1404': 'hgv_snpFreq', '1405': 'mothur_get_oturep', '1406': 'picard_QualityScoreDistribution', '1407': 'gff2bed1', '1408': 'methtools_plot', '1409': 'ococo', '1410': 'mass_spectrometry_imaging_combine', '1411': 'maker_map_ids', '1412': 'gatk2_variant_filtration', '1413': 'ggplot_point', '1414': 'mtbls520_19a_seasons_shannon', '1415': 'gatk2_base_recalibrator', '1416': 'picard_ARRG', '1417': 'samtools_fastx', '1418': 'xchem_transfs_scoring', '1419': 'CONVERTER_bam_to_bigwig_0', '1420': 'prokka', '1421': 'selectsequencesfrommsa', '1422': 'mothur_remove_lineage', '1423': 'picard_SortSam', '1424': 'vcffilter2', '1425': 'FeatureFinderCentroided', '1426': 'mtbls520_08a_species_shannon', '1427': 'gatk2_variant_select', '1428': 'ruvseq', '1429': 'mothur_make_contigs', '1430': 'meme_psp_gen', '1431': 'dexseq_count', '1432': 'fastq_trimmer', '1433': 'ctb_confab', '1434': 'iframe', '1435': 'vigiechiro_idcorrect_2ndlayer', '1436': 'bedtools_complementbed', '1437': 'miniasm', '1438': 'keras_batch_models', '1439': 'ambertools_acpype', '1440': 'mothur_align_seqs', '1441': 'shyft_longitudes', '1442': 'mothur_collect_single', '1443': 'rmcontamination', '1444': 'bg_uniq', '1445': 'dada2_filterAndTrim', '1446': 'mycrobiota-krona-mothur', '1447': 'bedtools_mergebed', '1448': 'Determine_BC', '1449': 'gsnap', '1450': 'openbabel_genProp', '1451': 'mothur_seq_error', '1452': 'paired_fastq_filtering', '1453': 'Multivariate', '1454': 'filter', '1455': 'picard_FilterSamReads', '1456': 'medaka_consensus', '1457': 'fastq_paired_end_splitter', '1458': 'OpenSwathDecoyGenerator', '1459': 'EMBOSS: newseq59', '1460': 'mothur_summary_single', '1461': 'createInterval', '1462': 'mimodd_vcf_filter', '1463': 'scanpy_compute_graph', '1464': 'gatk_variant_filtration', '1465': 'deeptools_bamCompare', '1466': 'proteomics_search_peptide_prophet_1', '1467': 'gatk2_print_reads', '1468': 'snpsift_vartype', '1469': 'smf_utils_fix-fasta-headers', '1470': 'fastq_paired_end_interlacer', '1471': 'regionalgam_gls', '1472': 'addValue', '1473': 'xcms_export_samplemetadata', '1474': 'FalseDiscoveryRate', '1475': 'passatutto', '1476': 'mothur_get_relabund', '1477': 'bcftools_filter', '1478': 'mothur_chimera_vsearch', '1479': 'mlocarna', '1480': 'AnnovarShed', '1481': 'map_peptides_to_bed', '1482': 'picard_CollectGcBiasMetrics', '1483': 'bedtools_intersectbed', '1484': 'FeatureLinkerUnlabeledKD', '1485': 'stoceps_filteringsp', '1486': 'snpSift_int', '1487': 'conf4circos', '1488': 'mtbls520_08e_species_features', '1489': 'qiime_pick_closed_reference_otus', '1490': 'mycrobiota-otutable_add_blast', '1491': 'cshl_fastq_quality_boxplot', '1492': 'ctb_remove_protonation_state', '1493': 'xcms-collect-peaks', '1494': 'camera-annotate-peaks', '1495': 'minfi_getbeta', '1496': 'lofreq_indelqual', '1497': 'raceid_trajectory', '1498': 'tp_text_file_with_recurring_lines', '1499': 'metaquantome_viz', '1500': 'TagBamWithReadSequenceExtended', '1501': 'bcftools_plugin_counts', '1502': 'fasta_merge_files_and_filter_unique_sequences', '1503': 'samtool_filter2', '1504': 'tb_profiler_profile', '1505': 'search_gui', '1506': 'csv_to_tabular', '1507': 'abyss-pe', '1508': 'vcfsort'}\n"
     ]
    }
   ],
   "source": [
    "print(reverse_dictionary)"
   ]
  },
  {
   "cell_type": "markdown",
   "metadata": {},
   "source": [
    "## Recommended tools"
   ]
  },
  {
   "cell_type": "code",
   "execution_count": 34,
   "metadata": {
    "scrolled": false
   },
   "outputs": [
    {
     "name": "stdout",
     "output_type": "stream",
     "text": [
      "Current tool sequence: \n",
      "\n",
      "rna_star,freebayes\n",
      "\n",
      "Recommended tools for the tool sequence 'rna_star,freebayes' with their scores in decreasing order:\n",
      "\n",
      "Filter1(100%)\n",
      "vcffixup(99%)\n",
      "vcftools_compare(99%)\n",
      "lofreq_filter(99%)\n",
      "SnpEff-cds-report(99%)\n",
      "vcffilter2(99%)\n",
      "vcfcheck(99%)\n",
      "vcftools_merge(99%)\n",
      "vcfallelicprimitives(99%)\n",
      "custom_pro_db(99%)\n",
      "tp_sed_tool(99%)\n",
      "vcfbedintersect(99%)\n",
      "tp_tail_tool(99%)\n",
      "vcfcombine(99%)\n",
      "snpSift_annotate(99%)\n",
      "bcftools_consensus(99%)\n",
      "jbrowse(99%)\n",
      "vcfvcfintersect(99%)\n",
      "Remove beginning1(99%)\n",
      "snpEff(99%)\n",
      "\n",
      "Tool ids:\n",
      "\n",
      "Filter1(511)\n",
      "vcffixup(508)\n",
      "vcftools_compare(898)\n",
      "lofreq_filter(840)\n",
      "SnpEff-cds-report(452)\n",
      "vcffilter2(1424)\n",
      "vcfcheck(599)\n",
      "vcftools_merge(767)\n",
      "vcfallelicprimitives(976)\n",
      "custom_pro_db(397)\n",
      "tp_sed_tool(1151)\n",
      "vcfbedintersect(1216)\n",
      "tp_tail_tool(630)\n",
      "vcfcombine(136)\n",
      "snpSift_annotate(185)\n",
      "bcftools_consensus(1304)\n",
      "jbrowse(101)\n",
      "vcfvcfintersect(1080)\n",
      "Remove beginning1(814)\n",
      "snpEff(5)\n"
     ]
    }
   ],
   "source": [
    "topk = 20 # set the maximum number of recommendations\n",
    "tool_seq = \"88,1319\" # give tools ids in a sequence and see the recommendations. To know all the tool ids, \n",
    "                     # please print the variable 'reverse_dictionary'\n",
    "compute_recommendations(model, tool_seq, \"\", dictionary, reverse_dictionary, class_weights, topk)"
   ]
  },
  {
   "cell_type": "code",
   "execution_count": null,
   "metadata": {},
   "outputs": [],
   "source": []
  },
  {
   "cell_type": "code",
   "execution_count": null,
   "metadata": {},
   "outputs": [],
   "source": []
  }
 ],
 "metadata": {
  "kernelspec": {
   "display_name": "Python 3",
   "language": "python",
   "name": "python3"
  },
  "language_info": {
   "codemirror_mode": {
    "name": "ipython",
    "version": 3
   },
   "file_extension": ".py",
   "mimetype": "text/x-python",
   "name": "python",
   "nbconvert_exporter": "python",
   "pygments_lexer": "ipython3",
   "version": "3.6.7"
  }
 },
 "nbformat": 4,
 "nbformat_minor": 2
}
