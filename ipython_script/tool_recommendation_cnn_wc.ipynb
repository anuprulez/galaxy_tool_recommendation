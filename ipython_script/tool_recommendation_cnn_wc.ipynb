{
 "cells": [
  {
   "cell_type": "markdown",
   "metadata": {},
   "source": [
    "# Tool recommendation\n",
    "## (Convolutional neural network with weighted cross-entropy loss)"
   ]
  },
  {
   "cell_type": "code",
   "execution_count": 1,
   "metadata": {
    "scrolled": true
   },
   "outputs": [
    {
     "name": "stderr",
     "output_type": "stream",
     "text": [
      "Using TensorFlow backend.\n",
      "/home/kumara/miniconda3/envs/tool_prediction_cnn_wc/lib/python3.6/site-packages/tensorflow/python/framework/dtypes.py:526: FutureWarning: Passing (type, 1) or '1type' as a synonym of type is deprecated; in a future version of numpy, it will be understood as (type, (1,)) / '(1,)type'.\n",
      "  _np_qint8 = np.dtype([(\"qint8\", np.int8, 1)])\n",
      "/home/kumara/miniconda3/envs/tool_prediction_cnn_wc/lib/python3.6/site-packages/tensorflow/python/framework/dtypes.py:527: FutureWarning: Passing (type, 1) or '1type' as a synonym of type is deprecated; in a future version of numpy, it will be understood as (type, (1,)) / '(1,)type'.\n",
      "  _np_quint8 = np.dtype([(\"quint8\", np.uint8, 1)])\n",
      "/home/kumara/miniconda3/envs/tool_prediction_cnn_wc/lib/python3.6/site-packages/tensorflow/python/framework/dtypes.py:528: FutureWarning: Passing (type, 1) or '1type' as a synonym of type is deprecated; in a future version of numpy, it will be understood as (type, (1,)) / '(1,)type'.\n",
      "  _np_qint16 = np.dtype([(\"qint16\", np.int16, 1)])\n",
      "/home/kumara/miniconda3/envs/tool_prediction_cnn_wc/lib/python3.6/site-packages/tensorflow/python/framework/dtypes.py:529: FutureWarning: Passing (type, 1) or '1type' as a synonym of type is deprecated; in a future version of numpy, it will be understood as (type, (1,)) / '(1,)type'.\n",
      "  _np_quint16 = np.dtype([(\"quint16\", np.uint16, 1)])\n",
      "/home/kumara/miniconda3/envs/tool_prediction_cnn_wc/lib/python3.6/site-packages/tensorflow/python/framework/dtypes.py:530: FutureWarning: Passing (type, 1) or '1type' as a synonym of type is deprecated; in a future version of numpy, it will be understood as (type, (1,)) / '(1,)type'.\n",
      "  _np_qint32 = np.dtype([(\"qint32\", np.int32, 1)])\n",
      "/home/kumara/miniconda3/envs/tool_prediction_cnn_wc/lib/python3.6/site-packages/tensorflow/python/framework/dtypes.py:535: FutureWarning: Passing (type, 1) or '1type' as a synonym of type is deprecated; in a future version of numpy, it will be understood as (type, (1,)) / '(1,)type'.\n",
      "  np_resource = np.dtype([(\"resource\", np.ubyte, 1)])\n"
     ]
    }
   ],
   "source": [
    "import numpy as np\n",
    "import json\n",
    "import warnings\n",
    "import operator\n",
    "\n",
    "import h5py\n",
    "from keras.models import model_from_json\n",
    "from keras import backend as K\n",
    "\n",
    "warnings.filterwarnings(\"ignore\")\n",
    "\n",
    "\n",
    "def read_file(file_path):\n",
    "    with open(file_path, 'r') as data_file:\n",
    "        data = json.loads(data_file.read())\n",
    "    return data\n",
    "\n",
    "\n",
    "def create_model(model_path):\n",
    "    reverse_dictionary = dict((str(v), k) for k, v in dictionary.items())\n",
    "    model_weights = list()\n",
    "    weight_ctr = 0\n",
    "    for index, item in enumerate(trained_model.keys()):\n",
    "        if \"weight_\" in item:\n",
    "            d_key = \"weight_\" + str(weight_ctr)\n",
    "            weights = trained_model.get(d_key).value\n",
    "            model_weights.append(weights)\n",
    "            weight_ctr += 1\n",
    "    # set the model weights\n",
    "    loaded_model.set_weights(model_weights)\n",
    "    return loaded_model, dictionary, reverse_dictionary\n",
    "\n",
    "\n",
    "def compute_recommendations(model, tool_sequence, labels, dictionary, reverse_dictionary, class_weights, topk=20, max_seq_len=25):\n",
    "    tl_seq = tool_sequence.split(\",\")\n",
    "    last_tool_name = reverse_dictionary[str(tl_seq[-1])]\n",
    "    sample = np.zeros(max_seq_len)\n",
    "    for idx, tool_id in enumerate(tl_seq):\n",
    "        sample[idx] = int(tool_id)\n",
    "    sample_reshaped = np.reshape(sample, (1, max_seq_len))\n",
    "    tool_sequence_names = [reverse_dictionary[str(tool_pos)] for tool_pos in tool_sequence.split(\",\")]\n",
    "    # predict next tools for a test path\n",
    "    prediction = model.predict(sample_reshaped, verbose=0)\n",
    "    weight_val = list(class_weights.values())\n",
    "    weight_val = np.reshape(weight_val, (len(weight_val),))\n",
    "    prediction = np.reshape(prediction, (prediction.shape[1],))\n",
    "    prediction = prediction * weight_val\n",
    "    prediction = prediction / float(np.max(prediction))\n",
    "    prediction_pos = np.argsort(prediction, axis=-1)\n",
    "    # get topk prediction\n",
    "    topk_prediction_pos = prediction_pos[-topk:]\n",
    "    topk_prediction_val = [int(prediction[pos] * 100) for pos in topk_prediction_pos]\n",
    "    # read tool names using reverse dictionary\n",
    "    pred_tool_ids = [reverse_dictionary[str(tool_pos)] for tool_pos in topk_prediction_pos]\n",
    "    pred_tool_ids_sorted = dict()\n",
    "    for (tool_pos, tool_pred_val) in zip(topk_prediction_pos, topk_prediction_val):\n",
    "        tool_name = reverse_dictionary[str(tool_pos)]\n",
    "        pred_tool_ids_sorted[tool_name] = tool_pred_val\n",
    "    pred_tool_ids_sorted = dict(sorted(pred_tool_ids_sorted.items(), key=lambda kv: kv[1], reverse=True))\n",
    "    ids_tools = dict()\n",
    "    keys = list(pred_tool_ids_sorted.keys())\n",
    "    tool_seq_name = \",\".join(tool_sequence_names)\n",
    "    print(\"Current tool sequence: \")\n",
    "    print()\n",
    "    print(tool_seq_name)\n",
    "    print()\n",
    "    print(\"Recommended tools for the tool sequence '%s' with their scores in decreasing order:\" % tool_seq_name)\n",
    "    print()\n",
    "    for i in pred_tool_ids_sorted:\n",
    "        print(i + \"(\" + str(pred_tool_ids_sorted[i]) + \"%)\")\n",
    "    for key in pred_tool_ids_sorted:\n",
    "        ids_tools[key] = dictionary[key]\n",
    "    print()\n",
    "    print(\"Tool ids:\")\n",
    "    print()\n",
    "    for i in ids_tools:\n",
    "        print(i + \"(\" + str(ids_tools[i]) + \")\")"
   ]
  },
  {
   "cell_type": "markdown",
   "metadata": {},
   "source": [
    "## Unpack trained model for prediction"
   ]
  },
  {
   "cell_type": "code",
   "execution_count": 2,
   "metadata": {},
   "outputs": [
    {
     "name": "stdout",
     "output_type": "stream",
     "text": [
      "WARNING:tensorflow:From /home/kumara/miniconda3/envs/tool_prediction_cnn_wc/lib/python3.6/site-packages/tensorflow/python/ops/resource_variable_ops.py:435: colocate_with (from tensorflow.python.framework.ops) is deprecated and will be removed in a future version.\n",
      "Instructions for updating:\n",
      "Colocations handled automatically by placer.\n"
     ]
    }
   ],
   "source": [
    "model_path = \"data/tool_recommendation_model.hdf5\"\n",
    "trained_model = h5py.File(model_path, 'r')\n",
    "model_config = json.loads(trained_model.get('model_config').value)\n",
    "dictionary = json.loads(trained_model.get('data_dictionary').value)\n",
    "class_weights = json.loads(trained_model.get('class_weights').value)\n",
    "loaded_model = model_from_json(model_config)\n",
    "\n",
    "model, dictionary, reverse_dictionary = create_model(model_path)"
   ]
  },
  {
   "cell_type": "markdown",
   "metadata": {},
   "source": [
    "## Indices of tools"
   ]
  },
  {
   "cell_type": "code",
   "execution_count": 3,
   "metadata": {},
   "outputs": [
    {
     "name": "stdout",
     "output_type": "stream",
     "text": [
      "{'1': 'seq_filter_by_mapping', '2': 'Remove_ending', '3': 'cmv', '4': 'deeptools_correct_gc_bias', '5': 'sklearn_clf_metrics', '6': 'ggplot2_heatmap', '7': 'tp_tac', '8': 'rna_starsolo', '9': 'secretbt2test', '10': 'fasplit', '11': 'nonpareil', '12': 'stacks_populations', '13': 'ctb_chemfp_nxn_clustering', '14': 'bio3d_rmsd', '15': 'prepare_ligands_for_docking', '16': 'picard_CollectGcBiasMetrics', '17': 'humann2_regroup_table', '18': 'kraken2', '19': 'gatk2_unified_genotyper', '20': 'ctb_multi_obgrep', '21': 'deeptools_multi_bam_summary', '22': 'bedtools_groupbybed', '23': 'mothur_seq_error', '24': 'pileup_parser', '25': 'bg_uniq', '26': 'IDFileConverter', '27': 'limma_voom', '28': 'cshl_fastq_quality_boxplot', '29': 'seurat_run_pca', '30': '__ZIP_COLLECTION__', '31': 'trimmer', '32': 'cshl_princeton_fastx_barcode_splitter', '33': 'addValue', '34': 'vegan_diversity', '35': 'peakcalling_macs14', '36': 'taxonomy_krona_chart', '37': 'deeptools_bamCompare', '38': 'varscan', '39': 'picard_FixMateInformation', '40': 'replace_column_with_key_value_file', '41': 'flaimapper', '42': 'mtbls520_09_species_venn', '43': 'cast', '44': 'vcf2tsv', '45': 'thermo_raw_file_converter', '46': 'sklearn_numeric_clustering', '47': 'lfq_protein_quant', '48': 'mothur_lefse', '49': 'ctb_chemfp_butina_clustering', '50': 'velvetg', '51': 'macs2_predictd', '52': 'velvetg_jgi', '53': 'cshl_fastx_collapser', '54': 'ctb_shapeit', '55': 'ChooseTag', '56': 'CONVERTER_Bam_Bai_0', '57': 'kraken', '58': 'graphicsmagick_image_convert', '59': 'smf_utils_filter-by-energy', '60': 'ncbi_tblastn_wrapper', '61': 'FeatureFinderMetabo', '62': 'deeptools_plot_pca', '63': 'tophat_fusion_post', '64': 'hmmer_hmmsearch', '65': 'ncbi_blastp_wrapper', '66': 'deeptools_plot_correlation', '67': 'bandage_image', '68': 'bgchem_fragment_merger', '69': 'ip_coordinates_of_roi', '70': 'scanpy_run_umap', '71': 'idr-embl', '72': 'bismark_pretty_report', '73': 'CONVERTER_gz_to_uncompressed', '74': 'trinity_abundance_estimates_to_matrix', '75': 'spades', '76': 'MzTabExporter', '77': 'ctb_spectrophore_search', '78': 'mz_to_sqlite', '79': 'dunovo', '80': 'deseq2', '81': 'minfi_dropsnp', '82': 'vcftools_slice', '83': 'filtlong', '84': 'mass_spectrometry_imaging_preprocessing', '85': 'Cut1', '86': 'sklearn_feature_selection', '87': 'tp_tail_tool', '88': 'xcms-find-peaks', '89': 'wsdl_hmdb', '90': 'tp_text_file_with_recurring_lines', '91': 'w4mjoinpn', '92': 'mothur_dist_seqs', '93': 'gops_join_1', '94': 'newick_display', '95': 'sm_mapper', '96': 'pureclip', '97': 'raceid_trajectory', '98': 'rbc_rnacode', '99': 'format_metaphlan2_output', '100': 'bcftools_plugin_counts', '101': 'stoceps_glm', '102': 'CONVERTER_sam_to_unsorted_bam', '103': 'mtbls520_23_seasons_rda', '104': 'silac_analyzer', '105': 'rgPicFixMate', '106': 'picard_CollectWgsMetrics', '107': 'addName', '108': 'CONVERTER_fasta_to_fai', '109': 'sam2interval', '110': 'minfi_read450k', '111': 'mycrobiota-correct-replicates', '112': 'Extract genomic DNA 1', '113': 'Show beginning1', '114': 'mtbls520_08e_species_features', '115': 'deeptools_multi_bigwig_summary', '116': 'IsobaricAnalyzer', '117': 'freebayes_wrapper', '118': 'naive_variant_caller', '119': 'deeptools_bamCorrelate', '120': 'prokaryotic_ncbi_submission', '121': 'gemini_query', '122': 'NFS_transfer', '123': 'methtools_tiling', '124': 'Paste1', '125': 'methtools_calling', '126': 'qiime_make_otu_heatmap', '127': 'picard_CleanSam', '128': 'gene2exon1', '129': 'bcftools_filter', '130': 'cshl_fasta_nucleotides_changer', '131': 'flye', '132': 'gemini_load', '133': 'CONVERTER_bed_to_gff_0', '134': 'myrimatch', '135': 'seurat_export_cellbrowser', '136': 'biosigner', '137': 'infernal_cmsearch', '138': 'vcfannotate', '139': 'CONVERTER_fasta_to_2bit', '140': 'bcftools_stats', '141': 'OpenSwathDecoyGenerator', '142': 'tp_cat', '143': 'vcfselectsamples', '144': 'ncbi_makeblastdb', '145': 'rsem_calculate_expression', '146': 'trinity_contig_exn50_statistic', '147': 'seqtk_subseq', '148': 'cufflinks', '149': 'EMBOSS: extractseq35', '150': 'map_peptides_to_bed', '151': 'picard_ValidateSamFile', '152': 'rarefaction_analyzer', '153': 'samtools_depth', '154': 'bedtools_subtractbed', '155': 'fastq_combiner', '156': 'cshl_word_list_grep', '157': 'snpEff_build_gb', '158': 'ProteinInference', '159': 'quality_metrics', '160': 'gff2bed1', '161': 'trinity', '162': 'Filter1', '163': 'minfi_mset', '164': 'barchart_gnuplot', '165': 'coords2clnt.py', '166': 'deeptools_bamCoverage', '167': 'fasta_merge_files_and_filter_unique_sequences', '168': 'gffcompare', '169': 'bedtools_intersectBed', '170': 'SequenceCoverageCalculator', '171': 'xcms-collect-peaks', '172': 'filter_columns', '173': 'mothur_parsimony', '174': 'bed_to_bigBed', '175': 'ip_count_objects', '176': 'methtools_dmr', '177': 'samtools_rmdup', '178': 'CONVERTER_fasta_to_tabular', '179': 'scanpy_parameter_iterator', '180': 'tables_arithmetic_operations', '181': 'EMBOSS: fuzztran39', '182': 'volcanoplot', '183': 'FilterBAM', '184': 'filter_bed_on_splice_junctions', '185': 'sort1', '186': 'genbank_to_gff', '187': 'picard_MarkDuplicatesWithMateCigar', '188': 'samtools_slice_bam', '189': 'tp_replace_in_column', '190': 'ip_scale_image', '191': 'stacks_genotypes', '192': 'gatk_indel_realigner', '193': 'mass_spectrometry_imaging_ion_images', '194': 'infernal_cmbuild', '195': 'compose_text_param', '196': 'cummerbund_to_cuffdiff', '197': 'raceid_clustering', '198': 'get_pdb', '199': 'nn_classifier', '200': 'ggplot_point', '201': 'heinz_bum', '202': 'w4mclassfilter', '203': 'fastq_manipulation', '204': 'stringtie', '205': 'deeptools_plot_fingerprint', '206': 'xcms_merge', '207': 'collapse_dataset', '208': 'velvet', '209': 'mtbls520_07_species_diversity', '210': 'cat1', '211': 'metaquantome_expand', '212': 'tp_uniq_tool', '213': 'fastq_join', '214': 'fastq_stats', '215': 'pilon', '216': 'IDConflictResolver', '217': 'sklearn_build_pipeline', '218': 'hicexplorer_hicsummatrices', '219': 'qiime_count_seqs', '220': 'methtools_plot', '221': 'ip_histogram_equalization', '222': 'TagBamWithReadSequenceExtended', '223': 'vcftools_merge', '224': 'pieplots_macs', '225': 'mimodd_reheader', '226': 'cardinal_mz_images', '227': 'bowtie2', '228': 'openbabel_compound_convert', '229': 'xcms-group-peaks', '230': 'gtftobed12', '231': 'aggregate', '232': 'numeric_clustering', '233': 'methtools_destrand', '234': 'EMBOSS: getorf42', '235': 'vcftools_annotate', '236': 'clusterprofiler_go', '237': 'XTandemAdapter', '238': 'dexseq_annotate', '239': 'ctb_silicos_qed', '240': 'FeatureLinkerUnlabeledQT', '241': 'qiime_pick_closed_reference_otus', '242': 'seurat_dim_plot', '243': 'iReport', '244': 'deeptools_bigwig_compare', '245': 'deeptools_computeMatrix', '246': 'bismark_deduplicate', '247': 'FileFilter', '248': '__EXTRACT_DATASET__', '249': 'generic_filter', '250': 'Show tail1', '251': 'Heatmap', '252': 'picard_CollectInsertSizeMetrics', '253': 'blockclust', '254': 'group_humann2_uniref_abundances_to_go', '255': 'annotateMyIDs', '256': 'gemini_burden', '257': 'glimmer_knowlegde-based', '258': 'IDMerger', '259': 'mtbls520_10_species_varpart', '260': 'PlasFlow', '261': 'picard_MergeSamFiles', '262': 'meme_dreme', '263': 'metaspades', '264': 'rbc_mirdeep2', '265': 'sample_seqs', '266': 'tabular_to_csv', '267': 'bismark_bowtie2', '268': 'gd_calc_freq', '269': 'picard_EstimateLibraryComplexity', '270': 'mycrobiota-split-multi-otutable', '271': 'make_families', '272': 'Univariate', '273': 'heatmapper', '274': 'mothur_screen_seqs', '275': 'ip_filter_standard', '276': 'deeptools_bam_pe_fragmentsize', '277': 'iqtree', '278': 'plotly_regression_performance_plots', '279': 'cshl_grep_tool', '280': 'EMBOSS: newseq59', '281': 'react_cal_pipeline', '282': 'bamCompare_deepTools', '283': 'EMBOSS: seqret84', '284': 'mergeCols1', '285': 'tp_awk_tool', '286': 'scanpy_normalise_data', '287': 'cd_hit_est', '288': 'roary', '289': 'qiime_split_libraries', '290': 'dt_profiler', '291': 'Digestor', '292': 'flanking_features_1', '293': 'msnbase-read-msms', '294': 'ip_projective_transformation', '295': 'length_and_gc_content', '296': 'plotly_parallel_coordinates_plot', '297': 'abims_xcms_summary', '298': 'Draw_phylogram', '299': 'mothur_split_abund', '300': 'dbbuilder', '301': 'lastz_wrapper_2', '302': 'seurat_run_tsne', '303': 'rseqc_junction_annotation', '304': 'viennarna_rnaalifold', '305': 'deeptools_correctGCBias', '306': 'bedtools_genomecoveragebed_histogram', '307': 'export2graphlan', '308': 'venn_list', '309': 'mass_spectrometry_imaging_segmentations', '310': 'qiime_summarize_taxa_through_plots', '311': 'prepare_box', '312': 'FalseDiscoveryRate', '313': 'qiime_make_phylogeny', '314': 'blast2go', '315': 'metaphlan2krona', '316': 'heinz_scoring', '317': 'gff_to_sequence', '318': 'prinseq', '319': 'bedtools_sortbed', '320': 'picard_ARRG', '321': 'mtbls520_08c_species_variability', '322': 'bg_column_arrange_by_header', '323': 'fraggenescan', '324': 'fasta-stats', '325': 'flexbar', '326': 'deeptools_alignmentsieve', '327': 'ExtractFASTAfromFASTQ', '328': 'gops_subtract_1', '329': 'graphclust_glob_report_no_align', '330': 'unzip', '331': 'mtbls520_19b_seasons_unique', '332': 'mothur_remove_seqs', '333': 'IDMapper', '334': 'bwameth', '335': 'samtools_flag_filter', '336': 'feelnc', '337': 'fastq_groomer', '338': 'seqtk_sample', '339': 'locarna_multiple', '340': 'sqlite_to_tabular', '341': 'pipmir', '342': 'miranda', '343': 'TextExporter', '344': 'FileConverter', '345': 'Transformation', '346': 'vcfcombine', '347': 'regionalgam_ab_index', '348': 'sklearn_searchcv', '349': 'pygenomeTracks', '350': 'hmmer_hmmbuild', '351': 'deeptools_bamFingerprint', '352': 'cshl_fastx_barcode_splitter', '353': 'minfi_ppfun', '354': 'rseqc_clipping_profile', '355': 'cuffdiff', '356': 'canu', '357': 'fastq_paired_end_deinterlacer', '358': 'mothur_rarefaction_single', '359': 'gemini_comp_hets', '360': 'iframe', '361': 'FeatureLinkerUnlabeled', '362': 'mothur_unique_seqs', '363': 'busco', '364': 'hgv_snpFreq', '365': 'samtools_stats', '366': 'mothur_heatmap_bin', '367': 'metaquantome_viz', '368': 'mycrobiota-make-multi-otutable', '369': 'blastxml_to_top_descr', '370': 'sklear_numeric_clustering', '371': 'metaquantome_stat', '372': 'wtdbg', '373': 'hicexplorer_hiccorrectmatrix', '374': 'shyft_longitudes', '375': 'snpSift_dbnsfp_generic', '376': 'bctools_extract_crosslinked_nucleotides', '377': 'cshl_awk_replace_in_column', '378': 'fastq_paired_end_interlacer', '379': 'vcftools_compare', '380': 'ctb_pubchem_download_as_smiles', '381': 'varscan_copynumber', '382': 'MassCalculator', '383': 'tophat2', '384': 'mothur_homova', '385': 'EMBOSS: transeq101', '386': 'cshl_cut_tool', '387': 'convert_bc_to_binary_RY.py', '388': 'gtf_filter_by_attribute_values_list', '389': 'gspan', '390': 'PeptideIndexer', '391': 'humann2_renorm_table', '392': 'samtools_sort', '393': 'tp_grep_tool', '394': 'translate_bed', '395': 'igvtools_count', '396': 'ProteinResolver', '397': 'gatk2_base_recalibrator', '398': 'XY_Plot_1', '399': 'uparse', '400': 'fastq_trimmer', '401': 'signalp3', '402': 'wiggle2simple1', '403': 'deeptools_bigwigCompare', '404': 'CONVERTER_fastqgz_to_fastq', '405': 'decoyfasta', '406': 'locarna_best_subtree', '407': 'DatamashOps', '408': 'ctb_filter', '409': 'vigiechiro_bilanenrichipf', '410': 'ctb_online_data_fetch', '411': 'qiime_make_otu_table', '412': 'w4mclstrpeakpics', '413': 'rgPicardMarkDups', '414': 'eggnog_mapper', '415': 'fastq_quality_trimmer', '416': 'qiime_pick_otus', '417': 'Psortb', '418': 'tp_multijoin_tool', '419': 'CONVERTER_gff_to_interval_index_0', '420': 'ChangeCase', '421': 'mothur_split_groups', '422': 'ia_coordinates_of_roi', '423': 'sklearn_nn_classifier', '424': 'mass_spectrometry_imaging_mzplots', '425': 'ctb_alignit', '426': 'cshl_fastq_quality_filter', '427': 'rnaz', '428': 'collection_element_identifiers', '429': 'snpfinder', '430': 'diffbind-embl', '431': 'regex1', '432': 'gemini_actionable_mutations', '433': 'cshl_sed_tool', '434': 'search_gui', '435': 'gd_rank_terms', '436': 'je_demultiplex', '437': 'fastq collapser', '438': 'mass_spectrometry_imaging_classification', '439': 'bams2ratio', '440': 'msms2metfrag-multiple', '441': 'genrich', '442': 'picard_QualityScoreDistribution', '443': 'docking', '444': 'macs2_callpeak', '445': 'sklearn_svm_classifier', '446': 'keras_model_builder', '447': 'cds_essential_variability', '448': '__FLATTEN__', '449': 'kraken-translate', '450': 'ctb_confab', '451': 'velveth', '452': 'minfi_rset', '453': 'gatk_depth_of_coverage', '454': 'nanoplot', '455': 'chipsequtil_maptoknowngenes', '456': 'bed_to_bigwig', '457': 'meme_fimo', '458': 'seurat_scale_data', '459': 'idpqonvert', '460': 'minfi_dmp', '461': 'cuffnorm', '462': 'resistome_analyzer', '463': 'ip_projective_transformation_points', '464': 'flashlfq', '465': 'meme_chip', '466': 'mothur_cluster', '467': 'maldi_quant_peak_detection', '468': 'CONVERTER_bedgraph_to_bigwig', '469': 'hgv_linkToGProfile', '470': 'megablast_xml_parser', '471': 'bedtools_slopbed', '472': 'ruvseq', '473': 'nanopolish_variants', '474': 'rseqc_infer_experiment', '475': 'bedtools_map', '476': 'vsearch_dereplication', '477': 'chipseeker', '478': 'mummer_nucmer', '479': 'cshl_fastx_quality_statistics', '480': 'mtbls520_08a_species_shannon', '481': 'hisat2', '482': 'gemini_inheritance', '483': 'eden_sequence_converter', '484': 'transdecoder', '485': 'rseqc_FPKM_count', '486': 'filter_tabular', '487': 'minfi_getbeta', '488': 'ucsc-twobittofa', '489': 'combine_metaphlan2_humann2', '490': 'smf_utils_extract-boxed-sequences', '491': 'gatk2_variant_annotator', '492': 'EMBOSS: revseq82', '493': 'circgraph', '494': 'cutadapt', '495': 'gops_intersect_1', '496': 'camera-find-adducts', '497': 'extract_bcs.py', '498': 'cshl_multijoin', '499': 'snpSift_filter', '500': 'sailfish', '501': 'ip_2d_split_binaryimage_by_watershed', '502': 'bedtools_bedtobam', '503': 'picard_MarkDuplicates', '504': 'MapAlignerPoseClustering', '505': 'NSPDK_candidateClust', '506': 'mummer_mummer', '507': 'bedtools_bamtofastq', '508': 'egsea', '509': 'CONVERTER_bed_to_fli_0', '510': 'cmFinder', '511': 'md_converter', '512': 'vcfbedintersect', '513': 'cshl_fastq_to_fasta', '514': 'OpenSwathAssayGenerator', '515': 'deeptools_compute_matrix', '516': 'modencode_peakcalling_spp', '517': 'scanpy_scale_data', '518': 'peptide_shaker', '519': 'vcfsort', '520': 'stacks_procrad', '521': 'mycrobiota-otutable_add_blast', '522': 'vcffilter', '523': 'mothur_count_seqs', '524': 'ConsensusMapNormalizer', '525': 'align_back_trans', '526': 'predict_pipeline', '527': 'minfi_dmr', '528': 'vsearch_chimera_detection', '529': 'gffcompare_to_bed', '530': 'minfi_getM', '531': 'mothur_chimera_vsearch', '532': 'rseqc_bam_stat', '533': 'blastxml_to_tabular_selectable', '534': 'MapRTTransformer', '535': 'camera-prepareoutput', '536': 'gemini_pathways', '537': 'mothur_count_groups', '538': 'proteomics_search_peptide_prophet_1', '539': 'trinity_define_clusters_by_cutting_tree', '540': 'picard_CollectRnaSeqMetrics', '541': 'smf_utils_fix-fasta-headers', '542': 'gatk_unified_genotyper', '543': 'piranha', '544': 'bg_find_subsequences', '545': 'modencode_peakcalling_macs2', '546': 'heatmapper_deepTools', '547': 'msconvert2_raw', '548': 'abims_CAMERA_annotateDiffreport', '549': 'qiime_split_libraries_fastq', '550': 'mtbls520_12_species_marchantia', '551': 'mycrobiota-krona-mothur', '552': 'FastTree', '553': 'gatk2_depth_of_coverage', '554': 'abims_xcms_fillPeaks', '555': 'seqtk_trimfq', '556': 'goenrichment', '557': 'snpsift_vartype', '558': 'bedtools_multiintersectbed', '559': 'segemehl', '560': 'edger', '561': 'mothur_make_design', '562': 'rseqc_read_duplication', '563': 'bismark_bowtie', '564': 'trinity_align_and_estimate_abundance', '565': 'gffread', '566': 'Convert characters1', '567': 'deeptools_plot_heatmap', '568': 'bam_to_sam', '569': 'cshl_fastx_reverse_complement', '570': 'tp_sort_rows', '571': 'trim_galore', '572': 'minfi_qc', '573': 'melt', '574': 'ConsensusID', '575': 'cshl_fastx_clipper', '576': 'tp_unfold_column_tool', '577': 'PicardInsertSize', '578': 'bedtools_genomecoveragebed', '579': 'hisat', '580': 'find_in_reference', '581': 'cd_hit_dup', '582': 'cshl_fastx_trimmer', '583': 'eukaryotic_ncbi_submission', '584': 'fastqc', '585': 'Flash', '586': 'wolf_psort', '587': 'bandage_info', '588': 'camera-find-isotopes', '589': 'qiime_core_diversity', '590': 'deeptools_computeGCBias', '591': '__FILTER_FROM_FILE__', '592': 'wig_to_bigWig', '593': 'DecoyDatabase', '594': 'FROGS_affiliations_stat', '595': 'bctools_remove_tail', '596': 'selectsequencesfrommsa', '597': 'cd_hit_protein', '598': 'msnbase-filter-merge-msms', '599': 'datamash_ops', '600': 'FROGS_remove_chimera', '601': 'vcfallelicprimitives', '602': 'bowtie_wrapper', '603': 'vcfvcfintersect', '604': 'ggplot2_histogram', '605': 'column_remove_by_header', '606': 'structure_to_gspan', '607': 'random_lines1', '608': 'ip_imageinfo', '609': 'gatk2_variant_filtration', '610': 'Datamash', '611': 'CONVERTER_interval_to_bgzip_0', '612': 'mothur_get_seqs', '613': 'IDFilter', '614': 'smf_utils_estimate-energy', '615': 'deeptools_heatmapper', '616': 'msconvert', '617': 'mothur_get_groups', '618': 'abims_xcms_group', '619': 'velvetoptimiser', '620': 'rbc_mirdeep2_mapper', '621': 'tmhmm2', '622': 'je_clip', '623': 'cardinal_quality_report', '624': 'tabular_to_fastq', '625': 'vcf_filter', '626': 'allele_counts_1', '627': 'IDScoreSwitcher', '628': 'mlocarna', '629': 'fgsea', '630': 'interproscan', '631': 'OpenSwathWorkflow', '632': 'gemini_recessive_and_dominant', '633': 'hicexplorer_hictransform', '634': 'merge_pcr_duplicates.py', '635': 'TrimPrimer', '636': 'ctb_rdkit_describtors', '637': 'mimodd_header', '638': 'enhanced_bowtie_wrapper', '639': 'snpSift_extractFields', '640': 'mtbls520_05a_import_maf', '641': 'gemini_annotate', '642': 'graphlan_annotate', '643': 'mothur_venn', '644': 'tp_find_and_replace', '645': 'bedtools_intersectbed_bam', '646': 'picard_SortSam', '647': 'vcfcheck', '648': 'gops_cluster_1', '649': 'umi_tools_whitelist', '650': 'trimmomatic', '651': 'rbc_mirdeep2_quantifier', '652': 'term_id_vs_term_def', '653': 'correct_barcodes', '654': 'htseq-count', '655': 'deeptools_plot_coverage', '656': 'valet', '657': 'prokka', '658': 'tp_sort_header_tool', '659': 'kallisto_quant', '660': 'tp_replace_in_line', '661': 'megahit_contig2fastg', '662': 'vigiechiro_bilanenrichirp', '663': 'mtbls520_19a_seasons_shannon', '664': 'ctb_opsin', '665': 'regionalgam_autocor_acf', '666': 'FeatureFinderCentroided', '667': 'bcftools_consensus', '668': 'gemini_interactions', '669': 'abricate', '670': 'r_correlation_matrix', '671': 'Extractor', '672': 'bcftools_view', '673': 'mothur_classify_rf', '674': 'ggplot_histogram', '675': 'metaphlan_hclust_heatmap', '676': 'bam2wig', '677': 'Nucleosome', '678': 'trinotate', '679': 'regionalgam_gls', '680': 'preproc', '681': 'bam-filter', '682': 'GeMoMa_Annotation_Filter', '683': 'proteomics_search_protein_prophet_1', '684': 'mothur_taxonomy_to_krona', '685': 'rcas', '686': 're_he_maldi_image_registration', '687': 'FeatureFinderMultiplex', '688': 'msgfplus', '689': 'datamash_reverse', '690': 'ctb_subsearch', '691': 'fastq_to_tabular', '692': 'ctb_remove_protonation_state', '693': 'mothur_get_oturep', '694': 'antismash', '695': 'seurat_filter_cells', '696': 'bctools_extract_alignment_ends', '697': 'vcffixup', '698': 'genomespace_exporter', '699': 'snpSift_geneSets', '700': 'graphlan', '701': 'ete_homology_classifier', '702': 'bigwig_to_bedgraph', '703': 'ctb_osra', '704': 'gmx_nvt', '705': 'ncbi_blastx_wrapper', '706': 'metaphlan2', '707': 'mothur_summary_single', '708': 'mothur_align_seqs', '709': 'bamtools', '710': 'prepare_receptor', '711': 'regionalgam_glmmpql', '712': 'metaquantome_filter', '713': 'deeptools_compute_gc_bias', '714': 'transpose', '715': 'cshl_awk_tool', '716': 'bedtools_bed12tobed6', '717': 'hicexplorer_hicfindtads', '718': 'psy_maps', '719': 'cshl_easyjoin', '720': 'Grep1', '721': 'graphicsmagick_image_montage', '722': 'glimmer_build-icm', '723': 'get_flanks1', '724': 'varscan_somatic', '725': 'scanpy_run_pca', '726': 'param_value_from_file', '727': 'ctb_ob_svg_depiction', '728': 'bedtools_genomecoveragebed_bedgraph', '729': 'join1', '730': 'umi_tools_extract', '731': 'samtool_filter2', '732': 'ctb_stripit', '733': 'basil', '734': 'vigiechiro_idcorrect_2ndlayer', '735': 'deeptools_plot_enrichment', '736': 'gdal_ogr2ogr', '737': 'QCCalculator', '738': 'ncbi_rpsblast_wrapper', '739': 'MapStatistics', '740': 'raceid_inspecttrajectory', '741': 'stacks_refmap', '742': 'bedtools_multicovtbed', '743': 'create_or_update', '744': 'hicexplorer_hicmergematrixbins', '745': 'proteomics_search_tandem_1', '746': 'picard_FastqToSam', '747': 'picard_FilterSamReads', '748': 'mycrobiota-qc-report', '749': 'cummeRbund', '750': 'mtbls520_18_phylogeny', '751': 'qiime_pick_open_reference_otus', '752': 'Multivariate', '753': 'ctb_remDuplicates', '754': 'translate_bed_sequences', '755': 'ctb_simsearch', '756': 'picard_AddOrReplaceReadGroups', '757': 'gd_raxml', '758': 'scaffold2fasta', '759': 'stacks_denovomap', '760': 'FileMerger', '761': 'mothur_phylotype', '762': 'ip_2d_filter_segmentation_by_features', '763': 'regionalgam_plot_trend', '764': 'chipeakanno_annopeaks', '765': 'ncbi_blastn_wrapper', '766': 'ip_binary_to_labelimage', '767': 'bam_to_bigwig', '768': 'diffbind', '769': 'bwa_mem', '770': 'je_markdupes', '771': 'Batch_correction', '772': 'sam_merge2', '773': 'PicardASMetrics', '774': 'deeptools_compute_matrix_operations', '775': 'gops_coverage_1', '776': 'filter_by_fasta_ids', '777': 'trinity_run_de_analysis', '778': 'ip_landmark_registration', '779': 'ctb_chemfp_mol2fps', '780': 'paralyzer', '781': 'sam_pileup', '782': 'AnnovarShed', '783': 'mothur_tree_shared', '784': 'mothur_dist_shared', '785': 'salmon', '786': 'scanpy_filter_cells', '787': 'CONVERTER_interval_to_bedstrict_0', '788': 'subtract_query1', '789': 'mothur_chimera_uchime', '790': 'align_families', '791': 'rsem_prepare_reference', '792': 'vcfgenotypes', '793': 'gatk_realigner_target_creator', '794': '16Saligner', '795': 'cardinal_combine', '796': 'bedtools_shufflebed', '797': 'MultiplexResolver', '798': 'gatk2_indel_realigner', '799': 'fasta_filter_by_length', '800': 'glimmer_not-knowlegde-based', '801': 'fasta2tab', '802': 'mimodd_vcf_filter', '803': 'snpEff_download', '804': 'xcms_plot_chromatogram', '805': 'hcluster_sg_parser', '806': 'bamFilter', '807': 'seurat_normalise_data', '808': 'cshl_fastx_nucleotides_distribution', '809': 'cshl_find_and_replace', '810': 'treebest_best', '811': 'tag_stat2', '812': 'bcftools_call', '813': 'mothur_classify_otu', '814': 'bcftools_norm', '815': 'mothur_metastats', '816': 'cardinal_segmentations', '817': 'dexseq_count', '818': 'picard_BamIndexStats', '819': 'ctb_sdf2fps', '820': 'mothur_amova', '821': 'stringtie_merge', '822': 'hicexplorer_hicplotviewpoint', '823': 'camera-group-fwhm', '824': 'cuffmerge', '825': 'seurat_read10x', '826': 'mothur_summary_seqs', '827': 'abims_xcms_xcmsSet', '828': 'wc_gnu', '829': 'blast_reciprocal_best_hits', '830': 'krona-text', '831': 'express', '832': 'IDPosteriorErrorProbability', '833': 'FROGS_clustering', '834': 'bedtools_intersectbed', '835': 'ctb_rdkit_descriptors', '836': 'Extract_features1', '837': 'scatterplot_rpy', '838': 'pileometh', '839': 'openms_protein_quantifier', '840': 'EMBOSS: textsearch98', '841': 'gmx_solvate', '842': 'qiime_validate_mapping_file', '843': 'ProteinQuantifier', '844': 'mothur_classify_seqs', '845': 'cshl_fasta_formatter', '846': 'mtbls520_06_import_traits', '847': 'goseq', '848': 'fasta_compute_length', '849': 'bedtools_windowbed', '850': 'quast', '851': 'w4mcorcov', '852': 'gatk2_reduce_reads', '853': 'bg_protein_properties', '854': 'deg_annotate', '855': 'ngsutils_bam_filter', '856': 'ctb_ob_addh', '857': 'staramr_search', '858': 'retrieve_scxa', '859': 'gatk2_variant_apply_recalibration', '860': 'mtbls520_08d_concentration', '861': 'bismark_methylation_extractor', '862': 'vcftools_isec', '863': 'trinity_samples_qccheck', '864': 'FROGS_preprocess', '865': 'rbc_splitfasta', '866': 'gff_filter_by_attribute', '867': '16Sclassifier', '868': 'TrimByN', '869': 'idpquery', '870': 'gemini_stats', '871': 'mtbls520_16_ecology_rda', '872': 'GeneModelMapper', '873': 'gmx_merge_topology_files', '874': 'cardinal_filtering', '875': 'fastq_dump', '876': 'vcf2pgSnp', '877': 'EMBOSS: geecee41', '878': 'deseq2_single', '879': 'aggregate_scores_in_intervals2', '880': 'annotatemyids', '881': 'ip_convertimage', '882': 'regex_replace', '883': 'query_tabular', '884': 'hca_matrix_downloader', '885': 'blastxml_to_tabular', '886': 'EMBOSS: shuffleseq87', '887': 'EMBOSS: wordcount109', '888': 'qual_stats_boxplot', '889': 'CONVERTER_interval_to_bed_0', '890': 'iuc_pear', '891': 'blockbuster', '892': '__MERGE_COLLECTION__', '893': 'FROGS_filters', '894': 'sklearn_model_validation', '895': 'maker', '896': 'mimodd_varextract', '897': 'Add_a_column1', '898': 'camera-annotate-peaks', '899': 'bedtools_getfastabed', '900': 'deeptools_plot_profile', '901': 'msconvert3_raw', '902': 'FeatureLinkerUnlabeledKD', '903': 'Kneeplot', '904': 'ip_threshold', '905': 'kraken-filter', '906': 'heatmap2', '907': 'proteomics_moff', '908': 'mothur_pre_cluster', '909': 'bg_diamond', '910': 'map-msms2camera', '911': 'clusterprofiler_bitr', '912': 'bcftools_mpileup', '913': 'intarna', '914': 'replace_chromosome_names', '915': 'mimodd_map', '916': 'rseqc_bam2wig', '917': 'minimap2', '918': 'vegan_rarefaction', '919': 'bedtools_coveragebed', '920': 'regionalgam_flight_curve', '921': 'rseqc_RNA_fragment_size', '922': 'cufflinks_prok', '923': 'spocc_occ', '924': 'get_subontology_from', '925': 'gmx_setup', '926': 'ococo', '927': 'metams_runGC', '928': 'bedtools_mergebed', '929': 'get_read_pipeline', '930': 'minfi_maptogenome', '931': 'msconvert_win', '932': 'CONVERTER_gff_to_bed_0', '933': 'ctb_compound_convert', '934': 'bundle_collection', '935': 'samtools_filter', '936': 't2t_report', '937': 'kraken-report', '938': 'mcClust', '939': 'viennarna_rnafold', '940': 'mass_spectrometry_imaging_qc', '941': 'gops_concat_1', '942': 'mothur_make_group', '943': 'bed2gff1', '944': 'unicycler', '945': 'bamleftalign', '946': 'qiime_pick_rep_set', '947': 'graphclust_align_cluster', '948': 'flexbar_no_split', '949': 'rseqc_read_distribution', '950': 'rna_star', '951': 'infernal_cmstat', '952': 'augustus', '953': 'seurat_find_markers', '954': 'mtbls520_04_preparations', '955': 'secure_hash_message_digest', '956': 'BAMTagHistogram', '957': 'vcfflatten2', '958': 'varscan_mpileup', '959': 'rseqc_junction_saturation', '960': 'rmcontamination', '961': 'megahit', '962': 'gemini_db_info', '963': 'CometAdapter', '964': 'get_feature_info', '965': 'seqtk_mergepe', '966': 't_coffee', '967': 'raceid_inspectclusters', '968': 'Summary_Statistics1', '969': 'Extract_RNA_seq_Evidence', '970': 'extract_element_from_collection', '971': 'samtools_flagstat', '972': 'join_files_on_column_fuzzy', '973': 'muscle', '974': 'metilene', '975': 'tab2fasta', '976': 'svm_classifier', '977': 'goslimmer', '978': 'gtf2bedgraph', '979': 'cshl_fastx_renamer', '980': 'scanpy_run_tsne', '981': 'viz_overlay_moving_and_fixed_image', '982': 'bedtools_coveragebed_counts', '983': 'sklearn_estimator_attributes', '984': 'lca1', '985': 'freebayes', '986': 'DatamashTranspose', '987': 'mothur_make_contigs', '988': 'correctGCBias', '989': 'hicexplorer_hicpca', '990': 'tp_sorted_uniq', '991': '__FILTER_FAILED_DATASETS__', '992': 'FidoAdapter', '993': 'get_sequences', '994': 'massbank_ws_searchspectrum', '995': 'mothur_remove_groups', '996': 'scanpy_find_cluster', '997': 'tp_split_on_column', '998': 'cardinal_data_exporter', '999': 'samtools_mpileup', '1000': 'rseqc_inner_distance', '1001': 'meme_meme', '1002': 'extract_aln_ends.py', '1003': 'racon', '1004': 'FileInfo', '1005': 'seq_composition', '1006': 'trim_reads', '1007': 'samtools_split', '1008': 'flexbar_split_RR_bcs', '1009': 'EMBOSS: water107', '1010': 'stoceps_maketablecarrer', '1011': 'IDMassAccuracy', '1012': 'flexbardsc', '1013': 'collection_column_join', '1014': 'sm_mirdeep2core_without_Randfold', '1015': 'trinity_analyze_diff_expr', '1016': 'tp_easyjoin_tool', '1017': 'mothur_unifrac_unweighted', '1018': 'samtools_calmd', '1019': 'gatk2_variant_recalibrator', '1020': 'MSGFPlusAdapter', '1021': 'sickle', '1022': 'imagecoordinates_flipaxis', '1023': 'msconvert_nix', '1024': 'cor2', '1025': '_ensembl_gtf2gene_list', '1026': 'xpath', '1027': 'poretools_extract', '1028': 'bedtools_bamtobed', '1029': 'shovill', '1030': 'openms_id_mapper', '1031': 'vcffilter2', '1032': 'snippy', '1033': 'featurecounts', '1034': 'stoceps_filteringsp', '1035': 'scanpy_find_variable_genes', '1036': 'rseqc_mismatch_profile', '1037': 'ip_overlay_segmentation', '1038': 'Count1', '1039': 'scanpy_read_10x', '1040': 'humann2_genefamilies_genus_level', '1041': 'multiqc', '1042': 'column_order_header_sort', '1043': 'mimodd_varreport', '1044': 'rseqc_geneBody_coverage', '1045': 'remove_tail.py', '1046': 'EMBOSS: fuzzpro38', '1047': 'bg_sortmerna', '1048': 'cardinal_spectra_plots', '1049': 'samtools_bedcov', '1050': 'cshl_fastx_artifacts_filter', '1051': 'umi_tools_dedup', '1052': 'histogram_rpy', '1053': 'humann2_unpack_pathways', '1054': 'idpassemble', '1055': 'nspdk_sparse', '1056': 'samtools_idxstats', '1057': 'sed_stream_editor', '1058': 'sam_bw_filter', '1059': 'bwa', '1060': 'mummer_dnadiff', '1061': 'snpeff_to_peptides', '1062': 'CONVERTER_bed_gff_or_vcf_to_bigwig_0', '1063': 'heinz', '1064': 'bio3d_pca', '1065': 'trinity_filter_low_expr_transcripts', '1066': 'cshl_uniq_tool', '1067': 'deeptools_bam_compare', '1068': 'mothur_get_communitytype', '1069': 'prepare_ligand', '1070': 'bio3d_rmsf', '1071': 'ctb_alignit_create_db', '1072': 'gatk2_haplotype_caller', '1073': 'mothur_corr_axes', '1074': 'bamCoverage_deepTools', '1075': 'comp1', '1076': 'mothur_pcoa', '1077': 'flexbar_split_RYYR_bcs', '1078': 'sequence_content_trimmer', '1079': 'keras_model_config', '1080': 'glob_report', '1081': 'rbc_mafft', '1082': 'deeptools_bam_coverage', '1083': 'ctb_np-likeness-calculator', '1084': 'clustalw', '1085': 'scanpy_filter_genes', '1086': 'umi_tools_group', '1087': 'fasttree', '1088': 'humann2', '1089': 'smf_utils_find-boxes', '1090': 'seurat', '1091': 'ctb_change_title', '1092': 'dropletutils', '1093': 'computeMatrix', '1094': 'pileup_interval', '1095': 'gemini_windower', '1096': '__SORTLIST__', '1097': 'rarefaction', '1098': 'hcluster_sg', '1099': 'xcms-blankfilter', '1100': 'mtbls520_19d_seasons_concentration', '1101': 'jcvi_gff_stats', '1102': 'crosscontamination_barcode_filter', '1103': 'gbk_to_orf', '1104': 'miniasm', '1105': 'gmx_md', '1106': 'table_compute', '1107': 'cardinal_preprocessing', '1108': 'mlst', '1109': 'ctb_obgrep', '1110': 'peakachu', '1111': 'mothur_cluster_split', '1112': 'cshl_sort_header', '1113': 'mothur_merge_files', '1114': 'gatk2_realigner_target_creator', '1115': 'msnbase_readmsdata', '1116': 'Determine_BC', '1117': 'mothur_make_biom', '1118': 'velveth_jgi', '1119': 'maldi_quant_preprocessing', '1120': 'Fetch Taxonomic Ranks', '1121': 'aragorn_trna', '1122': 'CONVERTER_bed_to_bgzip_0', '1123': 'Interval_Maf_Merged_Fasta2', '1124': 'mothur_sub_sample', '1125': 'meme_psp_gen', '1126': 'MAF_To_Fasta1', '1127': 'ctb_remSmall', '1128': 'bwa_wrapper', '1129': 'qiime_filter_alignment', '1130': 'bctools_remove_spurious_events', '1131': 'mothur_filter_seqs', '1132': 'scale_image', '1133': 'mtbls520_08b_species_unique', '1134': 'tsne', '1135': 'blast_parser', '1136': 'raceid_main', '1137': 'RNAlien', '1138': 'fastq_paired_end_joiner', '1139': 'plotly_ml_performance_plots', '1140': 'rnafold', '1141': 'scanpy_find_markers', '1142': 'hicexplorer_hicbuildmatrix', '1143': 'augustus_training', '1144': 'picard_NormalizeFasta', '1145': 'gops_merge_1', '1146': 'methtools_filter', '1147': 'bg_statistical_hypothesis_testing', '1148': 'heinz_visualization', '1149': 'cuffquant', '1150': 'ete_genetree_splitter', '1151': 'rseqc_insertion_profile', '1152': 'bed_to_protein_map', '1153': 'maxquant', '1154': 'mimodd_varcall', '1155': 'HighResPrecursorMassCorrector', '1156': 'pathview', '1157': 'resize_coordinate_window', '1158': 'cardinal_classification', '1159': 'MetaProSIP', '1160': 'ssake', '1161': 'seq_filter_by_id', '1162': 'tp_sed_tool', '1163': 'megablast_wrapper', '1164': 'bedtools_complementbed', '1165': 'gmx_npt', '1166': 'datamash_transpose', '1167': 'mothur_pairwise_seqs', '1168': 'hicexplorer_hicplottads', '1169': '__RELABEL_FROM_FILE__', '1170': 'ggplot2_point', '1171': 'seurat_find_variable_genes', '1172': 'custom_pro_db', '1173': 'snpEff', '1174': 'gmx_em', '1175': 'hgv_david', '1176': 'gatk2_variant_select', '1177': 'umi_tools_count', '1178': 'ip_viz_overlay_moving_and_fixed_image', '1179': 'minfi_getsnp', '1180': '__UNZIP_COLLECTION__', '1181': 'metfrag-cli-batch-multiple', '1182': 'mothur_unifrac_weighted', '1183': 'openms_id_file_converter', '1184': 'eden_vectorizer', '1185': '__BUILD_LIST__', '1186': 'rm_spurious_events.py', '1187': 'calc_fitness', '1188': 'vigiechiro_idvalid', '1189': 'sam_to_bam', '1190': 'peakcalling_macs', '1191': 'Remove beginning1', '1192': 'fragmenter', '1193': 'mothur_heatmap_sim', '1194': 'mothur_remove_lineage', '1195': 'mothur_nmds', '1196': 'fastp', '1197': 'ip_2d_feature_extraction', '1198': 'table_annovar', '1199': 'mothur_summary_tax', '1200': 'htseq_count', '1201': 'vt_normalize', '1202': 'bamSplit', '1203': 'rawtools', '1204': 'seurat_find_clusters', '1205': 'mothur_make_shared', '1206': 'checkFormat', '1207': 'mass_spectrometry_imaging_combine', '1208': 'porechop', '1209': 'flash', '1210': 'viennarna_rnaplot', '1211': 'get_child_terms', '1212': 'unipept', '1213': 'ctb_remIons', '1214': 'minfi_getanno', '1215': 'snpSift_int', '1216': 'bedtools_unionbedgraph', '1217': 'graphclust_aggregate_alignments', '1218': 'seurat_create_seurat_object', '1219': 'gatk2_print_reads', '1220': 'mothur_trim_seqs', '1221': 'build_ucsc_custom_track_1', '1222': 'mimodd_convert', '1223': 'picard_ReorderSam', '1224': '__TAG_FROM_FILE__', '1225': 'jbrowse', '1226': 'TrimByLength', '1227': 'gemini_de_novo', '1228': 'disco', '1229': 'uniprot', '1230': 'bedtools_annotatebed', '1231': 'gafa', '1232': 'macs2_bdgcmp', '1233': 'gops_basecoverage_1', '1234': 'createInterval', '1235': 'PeakPickerHiRes', '1236': 'ggplot2_heatmap2', '1237': 'fastq_to_fasta_python', '1238': 'picard_SamToFastq', '1239': 'snippy_core', '1240': 'ucsc_cell_browser', '1241': 'charts', '1242': 'sklearn_ensemble', '1243': 'ctb_ob_genProp', '1244': 'rnbeads', '1245': 'minfi_methcpg', '1246': 'snpSift_annotate', '1247': 'tophat', '1248': 'hicexplorer_hicplotmatrix', '1249': 'pynast', '1250': 'rgweblogo3', '1251': 'CONVERTER_bam_to_coodinate_sorted_bam', '1252': 'Btrim64', '1253': 'CONVERTER_bam_to_bigwig_0', '1254': 'mtbls520_19e_seasons_features', '1255': 'picard_CASM', '1256': 'uchime', '1257': 'qiime_assign_taxonomy', '1258': 'cuffcompare', '1259': 'dexseq', '1260': 'smooth_running_window', '1261': 'scpipe', '1262': 'fastq_paired_end_splitter', '1263': 'p_clip_peaks', '1264': 'mass_spectrometry_imaging_filtering', '1265': 'scanpy_compute_graph', '1266': 'raceid_filtnormconf', '1267': 'tp_head_tool', '1268': 'fastq_filter', '1269': 'xcms-dilutionfilter', '1270': 'passatutto', '1271': 'term_id_vs_term_name', '1272': 'preMloc', '1273': 'tp_cut_tool', '1274': 'deeptools_profiler', '1275': '__APPLY_RULES__', '1276': 'FROGS_affiliation_OTU', '1277': 'Grouping1', '1278': 'seqtk_mergefa', '1279': 'EMBOSS: tranalign100', '1280': 'qiime_align_seqs', '1281': 'csv_to_tabular'}\n"
     ]
    }
   ],
   "source": [
    "print(reverse_dictionary)"
   ]
  },
  {
   "cell_type": "markdown",
   "metadata": {},
   "source": [
    "## Recommended tools"
   ]
  },
  {
   "cell_type": "code",
   "execution_count": 4,
   "metadata": {
    "scrolled": false
   },
   "outputs": [
    {
     "name": "stdout",
     "output_type": "stream",
     "text": [
      "Current tool sequence: \n",
      "\n",
      "rna_star\n",
      "\n",
      "Recommended tools for the tool sequence 'rna_star' with their scores in decreasing order:\n",
      "\n",
      "fastqc(100%)\n",
      "trimmomatic(77%)\n",
      "bowtie2(69%)\n",
      "hisat2(61%)\n",
      "bwa_mem(58%)\n",
      "rna_star(58%)\n",
      "fastq_to_fasta_python(50%)\n",
      "freebayes(48%)\n",
      "tophat2(45%)\n",
      "bwa(44%)\n",
      "multiqc(37%)\n",
      "cutadapt(35%)\n",
      "tp_head_tool(32%)\n",
      "spades(32%)\n",
      "fastq_paired_end_joiner(28%)\n",
      "snippy(28%)\n",
      "trim_galore(28%)\n",
      "fastq_groomer(24%)\n",
      "picard_MarkDuplicates(22%)\n",
      "bg_sortmerna(20%)\n",
      "\n",
      "Tool ids:\n",
      "\n",
      "fastqc(584)\n",
      "trimmomatic(650)\n",
      "bowtie2(227)\n",
      "hisat2(481)\n",
      "bwa_mem(769)\n",
      "rna_star(950)\n",
      "fastq_to_fasta_python(1237)\n",
      "freebayes(985)\n",
      "tophat2(383)\n",
      "bwa(1059)\n",
      "multiqc(1041)\n",
      "cutadapt(494)\n",
      "tp_head_tool(1267)\n",
      "spades(75)\n",
      "fastq_paired_end_joiner(1138)\n",
      "snippy(1032)\n",
      "trim_galore(571)\n",
      "fastq_groomer(337)\n",
      "picard_MarkDuplicates(503)\n",
      "bg_sortmerna(1047)\n"
     ]
    }
   ],
   "source": [
    "topk = 20 # set the maximum number of recommendations\n",
    "tool_seq = \"950\" # give tools ids in a sequence and see the recommendations. To know all the tool ids, \n",
    "                     # please print the variable 'reverse_dictionary'\n",
    "compute_recommendations(model, tool_seq, \"\", dictionary, reverse_dictionary, class_weights, topk)"
   ]
  },
  {
   "cell_type": "code",
   "execution_count": null,
   "metadata": {},
   "outputs": [],
   "source": []
  }
 ],
 "metadata": {
  "kernelspec": {
   "display_name": "Python 3",
   "language": "python",
   "name": "python3"
  },
  "language_info": {
   "codemirror_mode": {
    "name": "ipython",
    "version": 3
   },
   "file_extension": ".py",
   "mimetype": "text/x-python",
   "name": "python",
   "nbconvert_exporter": "python",
   "pygments_lexer": "ipython3",
   "version": "3.6.7"
  }
 },
 "nbformat": 4,
 "nbformat_minor": 2
}
