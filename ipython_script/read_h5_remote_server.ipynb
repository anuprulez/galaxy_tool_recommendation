{
 "cells": [
  {
   "cell_type": "code",
   "execution_count": 26,
   "metadata": {},
   "outputs": [
    {
     "name": "stdout",
     "output_type": "stream",
     "text": [
      "/home/kumara/predict_tools/tool_recommendation_release_19_09/similar_galaxy_workflow/ipython_script\n"
     ]
    }
   ],
   "source": [
    "import pandas\n",
    "import requests\n",
    "import os\n",
    "import h5py\n",
    "import json\n",
    "print(os.getcwd())"
   ]
  },
  {
   "cell_type": "code",
   "execution_count": 28,
   "metadata": {},
   "outputs": [
    {
     "name": "stdout",
     "output_type": "stream",
     "text": [
      "{\"class_name\": \"Sequential\", \"config\": {\"name\": \"sequential_28\", \"layers\": [{\"class_name\": \"Embedding\", \"config\": {\"name\": \"embedding_28\", \"trainable\": true, \"batch_input_shape\": [null, null], \"dtype\": \"float32\", \"input_dim\": 1282, \"output_dim\": 344, \"embeddings_initializer\": {\"class_name\": \"RandomUniform\", \"config\": {\"minval\": -0.05, \"maxval\": 0.05, \"seed\": null}}, \"embeddings_regularizer\": null, \"activity_regularizer\": null, \"embeddings_constraint\": null, \"mask_zero\": true, \"input_length\": null}}, {\"class_name\": \"SpatialDropout1D\", \"config\": {\"name\": \"spatial_dropout1d_28\", \"trainable\": true, \"dtype\": \"float32\", \"rate\": 0.2013616800429605, \"noise_shape\": null, \"seed\": null}}, {\"class_name\": \"GRU\", \"config\": {\"name\": \"gru_55\", \"trainable\": true, \"dtype\": \"float32\", \"return_sequences\": true, \"return_state\": false, \"go_backwards\": false, \"stateful\": false, \"unroll\": false, \"units\": 114, \"activation\": \"elu\", \"recurrent_activation\": \"sigmoid\", \"use_bias\": true, \"kernel_initializer\": {\"class_name\": \"VarianceScaling\", \"config\": {\"scale\": 1.0, \"mode\": \"fan_avg\", \"distribution\": \"uniform\", \"seed\": null}}, \"recurrent_initializer\": {\"class_name\": \"Orthogonal\", \"config\": {\"gain\": 1.0, \"seed\": null}}, \"bias_initializer\": {\"class_name\": \"Zeros\", \"config\": {}}, \"kernel_regularizer\": null, \"recurrent_regularizer\": null, \"bias_regularizer\": null, \"activity_regularizer\": null, \"kernel_constraint\": null, \"recurrent_constraint\": null, \"bias_constraint\": null, \"dropout\": 0.004968225040342307, \"recurrent_dropout\": 0.3053365721637515, \"implementation\": 2, \"reset_after\": false}}, {\"class_name\": \"Dropout\", \"config\": {\"name\": \"dropout_55\", \"trainable\": true, \"dtype\": \"float32\", \"rate\": 0.004968225040342307, \"noise_shape\": null, \"seed\": null}}, {\"class_name\": \"GRU\", \"config\": {\"name\": \"gru_56\", \"trainable\": true, \"dtype\": \"float32\", \"return_sequences\": false, \"return_state\": false, \"go_backwards\": false, \"stateful\": false, \"unroll\": false, \"units\": 114, \"activation\": \"elu\", \"recurrent_activation\": \"sigmoid\", \"use_bias\": true, \"kernel_initializer\": {\"class_name\": \"VarianceScaling\", \"config\": {\"scale\": 1.0, \"mode\": \"fan_avg\", \"distribution\": \"uniform\", \"seed\": null}}, \"recurrent_initializer\": {\"class_name\": \"Orthogonal\", \"config\": {\"gain\": 1.0, \"seed\": null}}, \"bias_initializer\": {\"class_name\": \"Zeros\", \"config\": {}}, \"kernel_regularizer\": null, \"recurrent_regularizer\": null, \"bias_regularizer\": null, \"activity_regularizer\": null, \"kernel_constraint\": null, \"recurrent_constraint\": null, \"bias_constraint\": null, \"dropout\": 0.004968225040342307, \"recurrent_dropout\": 0.3053365721637515, \"implementation\": 2, \"reset_after\": false}}, {\"class_name\": \"Dropout\", \"config\": {\"name\": \"dropout_56\", \"trainable\": true, \"dtype\": \"float32\", \"rate\": 0.004968225040342307, \"noise_shape\": null, \"seed\": null}}, {\"class_name\": \"Dense\", \"config\": {\"name\": \"dense_28\", \"trainable\": true, \"dtype\": \"float32\", \"units\": 1282, \"activation\": \"sigmoid\", \"use_bias\": true, \"kernel_initializer\": {\"class_name\": \"VarianceScaling\", \"config\": {\"scale\": 1.0, \"mode\": \"fan_avg\", \"distribution\": \"uniform\", \"seed\": null}}, \"bias_initializer\": {\"class_name\": \"Zeros\", \"config\": {}}, \"kernel_regularizer\": null, \"bias_regularizer\": null, \"activity_regularizer\": null, \"kernel_constraint\": null, \"bias_constraint\": null}}]}, \"keras_version\": \"2.3.0\", \"backend\": \"tensorflow\"}\n"
     ]
    }
   ],
   "source": [
    "url = 'https://github.com/anuprulez/download_store/blob/tool_recommendation_model/tool_recommendation_model/tool_recommendation_model.hdf5?raw=true'\n",
    "r = requests.get(url) \n",
    "local_dir = os.path.join(os.getcwd(),'data/')\n",
    "local_dir += 'tool_recommendation_model.hdf5'\n",
    "\n",
    "with open(local_dir, 'wb') as f:\n",
    "    f.write(r.content)\n",
    "    \n",
    "model = h5py.File(local_dir, 'r')\n",
    "model_config = json.loads(model.get('model_config').value)\n",
    "print(model_config)"
   ]
  },
  {
   "cell_type": "code",
   "execution_count": null,
   "metadata": {},
   "outputs": [],
   "source": []
  }
 ],
 "metadata": {
  "kernelspec": {
   "display_name": "Python [conda env:tool_prediction] *",
   "language": "python",
   "name": "conda-env-tool_prediction-py"
  },
  "language_info": {
   "codemirror_mode": {
    "name": "ipython",
    "version": 3
   },
   "file_extension": ".py",
   "mimetype": "text/x-python",
   "name": "python",
   "nbconvert_exporter": "python",
   "pygments_lexer": "ipython3",
   "version": "3.6.7"
  }
 },
 "nbformat": 4,
 "nbformat_minor": 2
}
