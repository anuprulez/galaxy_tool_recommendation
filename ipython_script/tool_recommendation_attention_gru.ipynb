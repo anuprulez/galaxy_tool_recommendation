{
 "cells": [
  {
   "cell_type": "markdown",
   "metadata": {},
   "source": [
    "# Tool recommendation with Attention network \n",
    "## (Gated recurrent units Attention neural network with weighted cross-entropy loss)"
   ]
  },
  {
   "cell_type": "code",
   "execution_count": 1,
   "metadata": {
    "scrolled": true
   },
   "outputs": [
    {
     "name": "stderr",
     "output_type": "stream",
     "text": [
      "Using TensorFlow backend.\n"
     ]
    }
   ],
   "source": [
    "import numpy as np\n",
    "import json\n",
    "import warnings\n",
    "import operator\n",
    "\n",
    "import tensorflow as tf\n",
    "from keras import backend as K\n",
    "import h5py\n",
    "\n",
    "warnings.filterwarnings(\"ignore\")\n",
    "\n",
    "\n",
    "class BahdanauAttention(tf.keras.layers.Layer):\n",
    "    def __init__(self, units, **kwargs):\n",
    "        self.W1 = tf.keras.layers.Dense(units)\n",
    "        self.W2 = tf.keras.layers.Dense(units)\n",
    "        self.V = tf.keras.layers.Dense(1)\n",
    "        self.units = units\n",
    "        super(BahdanauAttention, self).__init__(**kwargs)\n",
    "\n",
    "    def get_config(self):\n",
    "        return super().get_config().copy()\n",
    "\n",
    "    def call(self, query, values):\n",
    "        # query hidden state shape == (batch_size, hidden size)\n",
    "        # query_with_time_axis shape == (batch_size, 1, hidden size)\n",
    "        # values shape == (batch_size, max_len, hidden size)\n",
    "        # we are doing this to broadcast addition along the time axis to calculate the score\n",
    "        query_with_time_axis = tf.expand_dims(query, 1)\n",
    "\n",
    "        # score shape == (batch_size, max_length, 1)\n",
    "        # we get 1 at the last axis because we are applying score to self.V\n",
    "        # the shape of the tensor before applying self.V is (batch_size, max_length, units)\n",
    "        score = self.V(tf.nn.tanh(self.W1(query_with_time_axis) + self.W2(values)))\n",
    "\n",
    "        # attention_weights shape == (batch_size, max_length, 1)\n",
    "        attention_weights = tf.nn.softmax(score, axis=1)\n",
    "\n",
    "        # context_vector shape after sum == (batch_size, hidden_size)\n",
    "        context_vector = attention_weights * values\n",
    "        context_vector = tf.reduce_sum(context_vector, axis=1)\n",
    "\n",
    "        return context_vector, attention_weights\n",
    "\n",
    "\n",
    "class ToolPredictionAttentionModel():\n",
    "  \n",
    "    def __init__(self, parameters):\n",
    "        self.embedding_size = int(parameters[\"embedding_size\"])\n",
    "        self.gru_units = int(parameters[\"gru_units\"])\n",
    "        self.max_len = parameters[\"max_len\"]\n",
    "        self.dimensions = parameters[\"dimensions\"]\n",
    "        self.learning_rate = parameters[\"learning_rate\"]\n",
    "        self.class_weights = parameters[\"class_weights\"]\n",
    "        self.spatial_dropout = parameters[\"spatial_dropout\"]\n",
    "        self.recurrent_dropout = parameters[\"recurrent_dropout\"]\n",
    "        self.dropout = parameters[\"dropout\"]\n",
    "        \n",
    "    def weighted_loss(self, class_weights):\n",
    "        \"\"\"\n",
    "        Create a weighted loss function. Penalise the misclassification\n",
    "        of classes more with the higher usage\n",
    "        \"\"\"\n",
    "        weight_values = list(class_weights.values())\n",
    "\n",
    "        def weighted_binary_crossentropy(y_true, y_pred):\n",
    "            # add another dimension to compute dot product\n",
    "            expanded_weights = tf.keras.backend.expand_dims(weight_values, axis=-1)\n",
    "            return tf.keras.backend.dot(tf.keras.backend.binary_crossentropy(y_true, y_pred), expanded_weights)\n",
    "        return weighted_binary_crossentropy\n",
    "\n",
    "    def create_model(self):\n",
    "        sequence_input = tf.keras.layers.Input(shape=(self.max_len,), dtype='int32')\n",
    "        embedded_sequences = tf.keras.layers.Embedding(self.dimensions, self.embedding_size, input_length=self.max_len, mask_zero=True)(sequence_input)\n",
    "        embedded_sequences = tf.keras.layers.SpatialDropout1D(self.spatial_dropout)(embedded_sequences)\n",
    "        gru_1 = tf.keras.layers.GRU(self.gru_units,\n",
    "            return_sequences=True,\n",
    "            return_state=False,\n",
    "            activation='elu',\n",
    "            recurrent_dropout=self.recurrent_dropout\n",
    "        )\n",
    "        gru_2 = tf.keras.layers.GRU(self.gru_units,\n",
    "            return_sequences=True,\n",
    "            return_state=True,\n",
    "            activation='elu',\n",
    "            recurrent_dropout=self.recurrent_dropout\n",
    "        )\n",
    "        gru_output = gru_1(embedded_sequences)\n",
    "        gru_output = tf.keras.layers.Dropout(self.dropout)(gru_output)\n",
    "        gru_output, gru_hidden = gru_2(gru_output)\n",
    "        attention = BahdanauAttention(self.gru_units)\n",
    "        context_vector, attention_weights = attention(gru_hidden, gru_output)\n",
    "        dropout = tf.keras.layers.Dropout(self.dropout)(context_vector)\n",
    "        output = tf.keras.layers.Dense(self.dimensions, activation='sigmoid')(dropout)\n",
    "        model = tf.keras.Model(inputs=sequence_input, outputs=output)\n",
    "        model.compile(\n",
    "            optimizer=tf.keras.optimizers.RMSprop(learning_rate=self.learning_rate),\n",
    "            loss=self.weighted_loss(self.class_weights),\n",
    "        )\n",
    "        return model\n",
    "\n",
    "\n",
    "def load_model(model_path):\n",
    "    trained_model = h5py.File(model_path, 'r')\n",
    "    dictionary = json.loads(trained_model.get('data_dictionary').value)\n",
    "    best_parameters = json.loads(trained_model.get('parameters').value)\n",
    "    compatible_tools = json.loads(trained_model.get('compatible_tools').value)\n",
    "    reverse_dictionary = dict((str(v), k) for k, v in dictionary.items())\n",
    "    new_model = ToolPredictionAttentionModel(best_parameters).create_model()\n",
    "    new_model.load_weights(model_path)\n",
    "    return dictionary, reverse_dictionary, best_parameters, compatible_tools, new_model\n",
    "\n",
    "\n",
    "model_path = \"data/tool_recommendation_attention_model.hdf5\"\n",
    "dictionary, reverse_dictionary, best_parameters, compatible_tools, new_model = load_model(model_path)"
   ]
  },
  {
   "cell_type": "markdown",
   "metadata": {},
   "source": [
    "## Unpack trained model for prediction"
   ]
  },
  {
   "cell_type": "code",
   "execution_count": 2,
   "metadata": {
    "scrolled": true
   },
   "outputs": [
    {
     "name": "stdout",
     "output_type": "stream",
     "text": [
      "{'1': 'PeptideIndexer', '2': 'picard_ReorderSam', '3': 'openms_id_file_converter', '4': 'interproscan', '5': 'coords2clnt.py', '6': 'join1', '7': 'openms_protein_quantifier', '8': 'bedtools_coveragebed', '9': 'seq_filter_by_id', '10': 'FileMerger', '11': 'bed2gff1', '12': 'trim_galore', '13': 'ConsensusID', '14': 'vt_normalize', '15': 'picard_NormalizeFasta', '16': 'bam_to_sam', '17': 'cshl_word_list_grep', '18': 'Extract genomic DNA 1', '19': 'MSGFPlusAdapter', '20': 'DatamashOps', '21': 'ncbi_tblastn_wrapper', '22': 'p_clip_peaks', '23': 'vcffilter', '24': 'EMBOSS: shuffleseq87', '25': 'vcftools_isec', '26': 'fasta2tab', '27': 'bedtools_sortbed', '28': 'IDFilter', '29': 'bismark_bowtie2', '30': 'Add_a_column1', '31': 'r_correlation_matrix', '32': 'Count1', '33': 'EMBOSS: fuzztran39', '34': 'deeptools_computeMatrix', '35': 'HighResPrecursorMassCorrector', '36': 'tp_sed_tool', '37': 'deeptools_bamCoverage', '38': 'cshl_fastx_trimmer', '39': 'secretbt2test', '40': 'CONVERTER_bedgraph_to_bigwig', '41': 'bedtools_genomecoveragebed', '42': 'blastxml_to_tabular', '43': 'bismark_bowtie', '44': 'blast2go', '45': 'ctb_remIons', '46': 'scaffold2fasta', '47': 'Summary_Statistics1', '48': 'gatk2_variant_annotator', '49': 'tab2fasta', '50': 'Filter1', '51': 'CONVERTER_bed_to_bgzip_0', '52': 'ctb_chemfp_mol2fps', '53': 'extract_aln_ends.py', '54': 'trimmomatic', '55': 'ncbi_rpsblast_wrapper', '56': 'proteomics_search_tandem_1', '57': 'heatmapper_deepTools', '58': 'tp_find_and_replace', '59': 'modencode_peakcalling_macs2', '60': 'htseq_count', '61': 'gatk2_print_reads', '62': 'cshl_fastx_artifacts_filter', '63': 'Extract_features1', '64': 'fastq_join', '65': 'sort1', '66': 'ctb_pubchem_download_as_smiles', '67': 'freebayes', '68': 'iuc_pear', '69': 'PicardInsertSize', '70': 'Show beginning1', '71': 'msconvert3_raw', '72': 'meme_meme', '73': 'deeptools_correctGCBias', '74': 'gatk2_variant_select', '75': 'Remove beginning1', '76': 'picard_CollectInsertSizeMetrics', '77': 'tp_replace_in_column', '78': 'flexbardsc', '79': 'rmcontamination', '80': 'htseq-count', '81': 'tp_tail_tool', '82': 'heatmapper', '83': 'CONVERTER_interval_to_bedstrict_0', '84': 'eukaryotic_ncbi_submission', '85': 'bedtools_coveragebed_counts', '86': 'picard_FixMateInformation', '87': 'deeptools_bigwigCompare', '88': 'tp_unfold_column_tool', '89': 'cshl_grep_tool', '90': 'cor2', '91': 'CONVERTER_interval_to_bgzip_0', '92': 'gatk2_variant_apply_recalibration', '93': 'ncbi_makeblastdb', '94': 'tophat2', '95': 'fragmenter', '96': 'ProteinQuantifier', '97': 'bedtools_intersectbed_bam', '98': 'glimmer_knowlegde-based', '99': 'Paste1', '100': 'picard_BamIndexStats', '101': 'barchart_gnuplot', '102': 'bowtie2', '103': 'methtools_plot', '104': 'smooth_running_window', '105': 'picard_ValidateSamFile', '106': 'deeptools_bamFingerprint', '107': 'bedtools_multiintersectbed', '108': 'gatk2_haplotype_caller', '109': 'FidoAdapter', '110': 'tp_replace_in_line', '111': 'cshl_multijoin', '112': 'snpSift_annotate', '113': 'blockclust', '114': 'proteomics_search_protein_prophet_1', '115': 'samtools_stats', '116': 'deeptools_compute_matrix', '117': 'blockbuster', '118': 'rseqc_bam2wig', '119': 'get_subontology_from', '120': 'addValue', '121': 'regex_replace', '122': 'term_id_vs_term_def', '123': 'bamFilter', '124': 'fastq_to_fasta_python', '125': 'fastq_quality_trimmer', '126': 'picard_CASM', '127': 'cshl_fastq_to_fasta', '128': 'ncbi_blastp_wrapper', '129': 'gops_coverage_1', '130': 'megablast_xml_parser', '131': 'methtools_destrand', '132': 'macs2_bdgcmp', '133': 'EMBOSS: fuzzpro38', '134': 'tp_multijoin_tool', '135': 'bedtools_bedtobam', '136': 'deeptools_bamCorrelate', '137': 'Cut1', '138': 'infernal_cmsearch', '139': 'gatk2_reduce_reads', '140': 'comp1', '141': 'tp_cat', '142': 'dt_profiler', '143': 'cshl_fastq_quality_boxplot', '144': 'EMBOSS: transeq101', '145': 'bwa_wrapper', '146': 'rm_spurious_events.py', '147': 'gatk2_realigner_target_creator', '148': 'random_lines1', '149': 'tp_head_tool', '150': 'IDPosteriorErrorProbability', '151': 'cshl_fastq_quality_filter', '152': 'cshl_cut_tool', '153': 'gops_subtract_1', '154': 'EMBOSS: newseq59', '155': 'sed_stream_editor', '156': 'flexbar', '157': 'tp_tac', '158': 'bedtools_bamtobed', '159': 'rgPicardMarkDups', '160': 'sam_bw_filter', '161': 'bcftools_view', '162': 'fasta_compute_length', '163': 'peakcalling_macs14', '164': 'cuffmerge', '165': 'FileFilter', '166': 'Grep1', '167': 'fasta_filter_by_length', '168': 'vcfallelicprimitives', '169': 'cshl_awk_tool', '170': 'naive_variant_caller', '171': 'antismash', '172': 'XTandemAdapter', '173': 'ctb_filter', '174': 'tp_split_on_column', '175': 'computeMatrix', '176': 'cshl_uniq_tool', '177': 'ncbi_blastn_wrapper', '178': 'macs2_callpeak', '179': 'vcftools_merge', '180': 'predict_pipeline', '181': 'bamCoverage_deepTools', '182': 'peakcalling_macs', '183': 'flexbar_split_RYYR_bcs', '184': 'allele_counts_1', '185': 'gops_intersect_1', '186': 'tp_sort_header_tool', '187': 'merge_pcr_duplicates.py', '188': 'picard_EstimateLibraryComplexity', '189': 'subtract_query1', '190': 'gatk2_indel_realigner', '191': 'DatamashTranspose', '192': 'wolf_psort', '193': 'blastxml_to_top_descr', '194': 'Remove_ending', '195': 'cshl_fastx_nucleotides_distribution', '196': 'gtf_filter_by_attribute_values_list', '197': 'Psortb', '198': 'EMBOSS: geecee41', '199': 'stringtie', '200': 'hisat2', '201': 'samtool_filter2', '202': 'sam_merge2', '203': 'FeatureFinderMultiplex', '204': 'gff_to_sequence', '205': 'aragorn_trna', '206': 'IDMapper', '207': 'Show tail1', '208': 'methtools_calling', '209': 'bgchem_fragment_merger', '210': 'methtools_filter', '211': 'extract_bcs.py', '212': 'cshl_fastx_quality_statistics', '213': 'fastq_groomer', '214': 'bwa_mem', '215': 'picard_MarkDuplicates', '216': 'piranha', '217': 'cufflinks', '218': 'XY_Plot_1', '219': 'snpSift_filter', '220': 'snpEff', '221': 'flexbar_split_RR_bcs', '222': 'deeptools_plot_heatmap', '223': 'samtools_rmdup', '224': 'ctb_online_data_fetch', '225': 'gops_join_1', '226': 'deseq2', '227': 'CONVERTER_interval_to_bed_0', '228': 'samtools_flagstat', '229': 'proteomics_search_peptide_prophet_1', '230': 'deeptools_bam_coverage', '231': 'bedtools_intersectbed', '232': 'samtools_mpileup', '233': 'gatk2_variant_recalibrator', '234': 'IDConflictResolver', '235': 'ctb_compound_convert', '236': 'bedtools_genomecoveragebed_bedgraph', '237': 'glimmer_build-icm', '238': 'signalp3', '239': 'cuffdiff', '240': 'deeptools_heatmapper', '241': 'Convert characters1', '242': 'bam2wig', '243': 'ngsutils_bam_filter', '244': 'CONVERTER_bed_gff_or_vcf_to_bigwig_0', '245': 'get_flanks1', '246': 'gff2bed1', '247': 'MzTabExporter', '248': 'deeptools_bamCompare', '249': 'rsem_calculate_expression', '250': 'cshl_find_and_replace', '251': 'bedtools_unionbedgraph', '252': 'tp_cut_tool', '253': 'rseqc_infer_experiment', '254': 'sam_to_bam', '255': 'tp_sorted_uniq', '256': 'wc_gnu', '257': 'EMBOSS: water107', '258': 'fastqc', '259': 'hisat', '260': 'fastq_to_tabular', '261': 'tophat', '262': 'tp_easyjoin_tool', '263': 'ssake', '264': 'wig_to_bigWig', '265': 'cshl_fastx_clipper', '266': 'tp_awk_tool', '267': 'cummerbund_to_cuffdiff', '268': 'gatk2_base_recalibrator', '269': 'tmhmm2', '270': 'rseqc_inner_distance', '271': 'openms_id_mapper', '272': 'deeptools_profiler', '273': 'Datamash', '274': 'ctb_change_title', '275': 'methtools_dmr', '276': 'ctb_simsearch', '277': 'bedtools_intersectBed', '278': 'filter_bed_on_splice_junctions', '279': 'deseq2_single', '280': 'bedtools_mergebed', '281': 'sample_seqs', '282': 'convert_bc_to_binary_RY.py', '283': 'silac_analyzer', '284': 'cuffcompare', '285': 'gtf2bedgraph', '286': 'bg_uniq', '287': 'bedtools_bamtofastq', '288': 'remove_tail.py', '289': 'samtools_sort', '290': 'seq_filter_by_mapping', '291': 'deeptools_computeGCBias', '292': 'hgv_david', '293': 'Grouping1', '294': 'IDMerger', '295': 'cat1', '296': 'augustus', '297': 'term_id_vs_term_name', '298': 'prokaryotic_ncbi_submission', '299': 'picard_ARRG', '300': 'cshl_sort_header', '301': 'cshl_awk_replace_in_column', '302': 'CONVERTER_gff_to_bed_0', '303': 'picard_SamToFastq', '304': 'sam2interval', '305': 'mergeCols1', '306': 'cummeRbund', '307': 'flexbar_no_split', '308': 'cshl_sed_tool', '309': 'FalseDiscoveryRate'}\n"
     ]
    }
   ],
   "source": [
    "print(reverse_dictionary)"
   ]
  },
  {
   "cell_type": "code",
   "execution_count": 3,
   "metadata": {},
   "outputs": [],
   "source": [
    "def compute_recommendations(tool_sequence, labels, topk=20, max_seq_len=25):\n",
    "    tl_seq = tool_sequence.split(\",\")\n",
    "    last_tool_name = reverse_dictionary[str(tl_seq[-1])]\n",
    "    sample = np.zeros(max_seq_len)\n",
    "    for idx, tool_id in enumerate(tl_seq):\n",
    "        sample[idx] = int(tool_id)\n",
    "    sample_reshaped = np.reshape(sample, (1, max_seq_len))\n",
    "    tool_sequence_names = [reverse_dictionary[str(tool_pos)] for tool_pos in tool_sequence.split(\",\")]\n",
    "    # predict next tools for a test path\n",
    "    prediction = new_model.predict(sample_reshaped, verbose=0)\n",
    "    class_weights = best_parameters[\"class_weights\"]\n",
    "    weight_val = list(class_weights.values())\n",
    "    weight_val = np.reshape(weight_val, (len(weight_val),))\n",
    "    prediction = np.reshape(prediction, (prediction.shape[1],))\n",
    "    #prediction = prediction * weight_val\n",
    "    prediction = prediction / float(np.max(prediction))\n",
    "    prediction_pos = np.argsort(prediction, axis=-1)\n",
    "    # get topk prediction\n",
    "    topk_prediction_pos = prediction_pos[-topk:]\n",
    "    topk_prediction_pos = [item for item in topk_prediction_pos if item != 0]\n",
    "    topk_prediction_val = [int(prediction[pos] * 100) for pos in topk_prediction_pos]\n",
    "    # read tool names using reverse dictionary\n",
    "    pred_tool_ids = [reverse_dictionary[str(tool_pos)] for tool_pos in topk_prediction_pos]\n",
    "    pred_tool_ids_sorted = dict()\n",
    "    for (tool_pos, tool_pred_val) in zip(topk_prediction_pos, topk_prediction_val):\n",
    "        tool_name = reverse_dictionary[str(tool_pos)]\n",
    "        pred_tool_ids_sorted[tool_name] = tool_pred_val\n",
    "    pred_tool_ids_sorted = dict(sorted(pred_tool_ids_sorted.items(), key=lambda kv: kv[1], reverse=True))\n",
    "    ids_tools = dict()\n",
    "    keys = list(pred_tool_ids_sorted.keys())\n",
    "    tool_seq_name = \",\".join(tool_sequence_names)\n",
    "    print(\"Current tool sequence: \")\n",
    "    print()\n",
    "    print(tool_seq_name)\n",
    "    print()\n",
    "    print(\"Recommended tools for the tool sequence '%s' with their scores in decreasing order:\" % tool_seq_name)\n",
    "    print()\n",
    "    for i in pred_tool_ids_sorted:\n",
    "        print(i + \"(\" + str(pred_tool_ids_sorted[i]) + \"%)\")\n",
    "    for key in pred_tool_ids_sorted:\n",
    "        ids_tools[key] = dictionary[key]\n",
    "    print()\n",
    "    print(\"Tool ids:\")\n",
    "    print()\n",
    "    for i in ids_tools:\n",
    "        print(i + \"(\" + str(ids_tools[i]) + \")\")"
   ]
  },
  {
   "cell_type": "markdown",
   "metadata": {},
   "source": [
    "## Indices of tools"
   ]
  },
  {
   "cell_type": "code",
   "execution_count": 8,
   "metadata": {},
   "outputs": [
    {
     "name": "stdout",
     "output_type": "stream",
     "text": [
      "Current tool sequence: \n",
      "\n",
      "Cut1\n",
      "\n",
      "Recommended tools for the tool sequence 'Cut1' with their scores in decreasing order:\n",
      "\n",
      "comp1(100%)\n",
      "CONVERTER_interval_to_bed_0(97%)\n",
      "cat1(96%)\n",
      "Remove beginning1(95%)\n",
      "tp_easyjoin_tool(94%)\n",
      "tp_sort_header_tool(94%)\n",
      "methtools_destrand(93%)\n",
      "Filter1(92%)\n",
      "wc_gnu(92%)\n",
      "Add_a_column1(90%)\n",
      "cshl_uniq_tool(90%)\n",
      "join1(89%)\n",
      "sort1(88%)\n",
      "Grep1(87%)\n",
      "cshl_find_and_replace(86%)\n",
      "methtools_dmr(86%)\n",
      "Paste1(85%)\n",
      "tp_replace_in_column(85%)\n",
      "bg_uniq(85%)\n",
      "gops_intersect_1(85%)\n",
      "\n",
      "Tool ids:\n",
      "\n",
      "comp1(140)\n",
      "CONVERTER_interval_to_bed_0(227)\n",
      "cat1(295)\n",
      "Remove beginning1(75)\n",
      "tp_easyjoin_tool(262)\n",
      "tp_sort_header_tool(186)\n",
      "methtools_destrand(131)\n",
      "Filter1(50)\n",
      "wc_gnu(256)\n",
      "Add_a_column1(30)\n",
      "cshl_uniq_tool(176)\n",
      "join1(6)\n",
      "sort1(65)\n",
      "Grep1(166)\n",
      "cshl_find_and_replace(250)\n",
      "methtools_dmr(275)\n",
      "Paste1(99)\n",
      "tp_replace_in_column(77)\n",
      "bg_uniq(286)\n",
      "gops_intersect_1(185)\n"
     ]
    }
   ],
   "source": [
    "topk = 20 # set the maximum number of recommendations\n",
    "tool_seq = \"137\" # give tools ids in a sequence and see the recommendations. To know all the tool ids, \n",
    "                     # please print the variable 'reverse_dictionary'\n",
    "compute_recommendations(tool_seq, \"\", topk)"
   ]
  },
  {
   "cell_type": "markdown",
   "metadata": {},
   "source": [
    "## Recommended tools"
   ]
  },
  {
   "cell_type": "code",
   "execution_count": 5,
   "metadata": {
    "scrolled": false
   },
   "outputs": [
    {
     "name": "stdout",
     "output_type": "stream",
     "text": [
      "Model: \"model\"\n",
      "_________________________________________________________________\n",
      "Layer (type)                 Output Shape              Param #   \n",
      "=================================================================\n",
      "input_1 (InputLayer)         [(None, 25)]              0         \n",
      "_________________________________________________________________\n",
      "embedding (Embedding)        (None, 25, 192)           59520     \n",
      "_________________________________________________________________\n",
      "spatial_dropout1d (SpatialDr (None, 25, 192)           0         \n",
      "_________________________________________________________________\n",
      "gru (GRU)                    (None, 25, 212)           258216    \n",
      "_________________________________________________________________\n",
      "dropout (Dropout)            (None, 25, 212)           0         \n",
      "_________________________________________________________________\n",
      "gru_1 (GRU)                  [(None, 25, 212), (None,  270936    \n",
      "_________________________________________________________________\n",
      "bahdanau_attention (Bahdanau ((None, 212), (None, 25,  90525     \n",
      "_________________________________________________________________\n",
      "dropout_1 (Dropout)          (None, 212)               0         \n",
      "_________________________________________________________________\n",
      "dense_3 (Dense)              (None, 310)               66030     \n",
      "=================================================================\n",
      "Total params: 745,227\n",
      "Trainable params: 745,227\n",
      "Non-trainable params: 0\n",
      "_________________________________________________________________\n",
      "None\n"
     ]
    }
   ],
   "source": [
    "print(new_model.summary())"
   ]
  },
  {
   "cell_type": "code",
   "execution_count": 6,
   "metadata": {},
   "outputs": [
    {
     "name": "stdout",
     "output_type": "stream",
     "text": [
      "{'embedding_size': 192, 'gru_units': 212, 'spatial_dropout': 0.25, 'dropout': 0.30000000000000004, 'recurrent_dropout': 0.15000000000000002, 'learning_rate': 0.013046726432017543, 'batch_size': 32, 'max_len': 25, 'dimensions': 310, 'class_weights': {'0': 0.0, '1': 4.993573370845278, '2': 0.09531073434962559, '3': 0.0, '4': 3.5483850691681953, '5': 0.6600210747001517, '6': 5.785395391705502, '7': 0.0, '8': 4.206458375495826, '9': 2.651965442452904, '10': 0.3668217386599276, '11': 1.4713061761506316, '12': 6.982862751468942, '13': 3.0032081216359656, '14': 0.2527023535557542, '15': 2.4336133554004498, '16': 0.0, '17': 0.07189469179761168, '18': 4.146814615224232, '19': 0.0, '20': 0.061612021235966506, '21': 2.285273209338971, '22': 0.09359915319644818, '23': 0.07250647687303469, '24': 0.06263988862502112, '25': 0.5534520941998734, '26': 6.190901061884645, '27': 4.490221318991273, '28': 4.8283283891949615, '29': 2.36302973908641, '30': 5.888814776503156, '31': 0.0, '32': 3.747675549429567, '33': 0.0, '34': 0.0, '35': 1.31610213587424, '36': 3.9202774825001394, '37': 0.09532353426060833, '38': 4.370482989692134, '39': 0.07250647687303469, '40': 4.381192953883603, '41': 4.317180373922666, '42': 0.45622654074899477, '43': 1.479424008472176, '44': 1.5018192446243235, '45': 0.07041739104367695, '46': 0.0, '47': 3.856428173309885, '48': 0.09538827675467865, '49': 5.586561781205797, '50': 7.0405799283399615, '51': 1.2530738801573276, '52': 0.22314355131420976, '53': 0.5368147223842971, '54': 7.422373700986824, '55': 1.5818836937517387, '56': 0.5994148283307562, '57': 0.0, '58': 5.382251053396031, '59': 0.0, '60': 6.562585326657728, '61': 0.0953052070646881, '62': 1.8836586138183606, '63': 2.234375470401864, '64': 5.225949787277793, '65': 4.568367283876591, '66': 0.1823215567939546, '67': 6.576772652723754, '68': 0.5097738248193585, '69': 0.8715893263269244, '70': 4.566142639960839, '71': 0.0, '72': 3.2457648765922755, '73': 0.0, '74': 0.0, '75': 5.6889911384039635, '76': 2.451005098112319, '77': 3.709639438928503, '78': 0.0, '79': 0.0, '80': 0.0, '81': 4.604344316451709, '82': 0.0, '83': 4.502839461540633, '84': 0.0, '85': 0.0, '86': 0.6018501587539669, '87': 0.0, '88': 0.16243582304452936, '89': 0.026003879333510976, '90': 1.650222229444567, '91': 0.016930742674575377, '92': 0.0, '93': 4.298725613384298, '94': 4.893910221874146, '95': 0.09531017980432493, '96': 5.374815302782456, '97': 0.026118307998642735, '98': 0.44941864223599143, '99': 2.9900494905861095, '100': 2.8087371203020917, '101': 0.44291052841248557, '102': 7.13966033596492, '103': 0.09473615144520271, '104': 0.09530406160379044, '105': 1.5795052961728004, '106': 0.0, '107': 1.8989670255555637, '108': 2.07093447397118, '109': 5.631658856850509, '110': 5.330374911417734, '111': 0.0, '112': 3.988520976400871, '113': 0.39373655675765357, '114': 0.0869905767733068, '115': 4.695671971973471, '116': 6.130624010985935, '117': 0.0, '118': 3.587600554538827, '119': 0.09543005443725577, '120': 6.134101924823247, '121': 1.4393338223204117, '122': 0.0, '123': 5.2482257831848935, '124': 6.509065023535706, '125': 2.282374674422305, '126': 2.7111174575911785, '127': 5.104125637183595, '128': 5.185388581262361, '129': 0.34380222790464565, '130': 0.3241120995875124, '131': 0.06805043152989372, '132': 0.6960840387669792, '133': 0.07964582277129585, '134': 3.3953636085831604, '135': 4.382679657408116, '136': 0.0, '137': 7.160087138220143, '138': 5.834387317169895, '139': 0.0, '140': 5.799092654460526, '141': 5.26830770223046, '142': 0.0, '143': 0.6712322429062169, '144': 0.9141247037279912, '145': 0.09530577070369572, '146': 0.6600210747001517, '147': 2.9626925471243615, '148': 2.1662269660607643, '149': 4.220534985284344, '150': 4.38806310770465, '151': 4.500920164614292, '152': 0.0, '153': 1.5625746771441749, '154': 0.39796300423345954, '155': 0.0, '156': 0.07250647687303469, '157': 0.09531017980432493, '158': 3.589797968190993, '159': 0.5889135741457597, '160': 1.2679033691330028, '161': 0.02803959057123678, '162': 3.0007198150650303, '163': 0.0, '164': 3.6149637711637683, '165': 5.118858189393999, '166': 5.588244857534695, '167': 5.767059074749979, '168': 5.913932166319434, '169': 0.09531017980432493, '170': 1.6582978932139152, '171': 3.487433480173297, '172': 4.878760174427442, '173': 0.0, '174': 1.683676062828553, '175': 0.0, '176': 0.07250647687303469, '177': 5.631504993955934, '178': 5.883043798153562, '179': 2.3826786024540727, '180': 0.08976817851796072, '181': 0.0, '182': 3.59562485251039, '183': 0.0, '184': 0.5089603291852106, '185': 3.6682516181767437, '186': 6.538477441630863, '187': 0.6600210747001517, '188': 0.5196069448607583, '189': 0.1879510232386989, '190': 0.6875761360691492, '191': 0.0, '192': 1.606719464801262, '193': 4.586322377523295, '194': 0.0, '195': 0.09187671949238563, '196': 1.2623529373962634, '197': 0.09048175077058784, '198': 1.2584609896100056, '199': 5.345744330744355, '200': 6.77337540620297, '201': 5.8328269641651795, '202': 5.6680003185450945, '203': 5.102553377787591, '204': 0.09531017980432493, '205': 1.9296225475826647, '206': 4.271610051538416, '207': 0.0, '208': 0.9666204988181899, '209': 0.0, '210': 0.10258264394232028, '211': 0.38668123051024755, '212': 0.38750290259636944, '213': 6.370256557121318, '214': 7.360040357734192, '215': 5.78484241624876, '216': 2.4045927770886624, '217': 5.249888185668796, '218': 2.0268152750688944, '219': 4.432006566978902, '220': 5.65510384781625, '221': 0.0, '222': 6.258042318888258, '223': 5.992613886364503, '224': 1.7787480381679142, '225': 3.7214488425624106, '226': 6.278333789302737, '227': 4.925770268699728, '228': 5.755483261770645, '229': 0.06399421365412633, '230': 6.97617687621502, '231': 6.73240933592858, '232': 4.6549122778829055, '233': 0.09530912525831431, '234': 4.071363882392451, '235': 0.09531017980432493, '236': 0.0, '237': 0.09531017980432493, '238': 0.6280071025232983, '239': 3.698178191785774, '240': 0.0, '241': 3.7509861930519683, '242': 0.0, '243': 5.793976976269424, '244': 3.490589678926948, '245': 0.0, '246': 2.163323025660538, '247': 2.1856234256723175, '248': 0.07189469179761168, '249': 0.1359871659931982, '250': 0.07964582277129585, '251': 1.1169614287908518, '252': 6.077795136866647, '253': 4.812256047599217, '254': 3.8678880399081907, '255': 4.123490009141191, '256': 4.440851943402857, '257': 0.41207446477734766, '258': 8.668715028378008, '259': 0.0, '260': 1.9168309432747128, '261': 0.0, '262': 6.297845696992248, '263': 2.1056058939006714, '264': 5.479313217732502, '265': 2.0360119837525, '266': 0.0, '267': 1.3535022515442852, '268': 0.41178132541076307, '269': 2.220410534624088, '270': 0.13845555899307133, '271': 0.0, '272': 0.0, '273': 0.0, '274': 0.07041739104367695, '275': 0.6418784174504478, '276': 0.3291822433584368, '277': 0.0, '278': 0.09531017980432493, '279': 0.0, '280': 4.387828804608451, '281': 0.1153108445307964, '282': 0.0, '283': 0.0, '284': 0.6695903903040974, '285': 0.384289751049462, '286': 2.802362331505732, '287': 4.116595171156921, '288': 0.6878727954132038, '289': 4.556972389179466, '290': 0.38600688549788165, '291': 0.0, '292': 1.018324172551051, '293': 4.710430790975013, '294': 3.2681268641517134, '295': 6.446513155404975, '296': 4.26323736893777, '297': 0.09543005443725577, '298': 0.0, '299': 0.09531017980432493, '300': 0.07250647687303469, '301': 0.0, '302': 3.0892559462316123, '303': 1.4079816206942064, '304': 0.4054651081081644, '305': 4.167255167580128, '306': 3.0794785217240763, '307': 0.6878727954132038, '308': 0.0, '309': 5.5060777871737265}}\n"
     ]
    }
   ],
   "source": [
    "print(best_parameters)"
   ]
  },
  {
   "cell_type": "code",
   "execution_count": null,
   "metadata": {},
   "outputs": [],
   "source": []
  }
 ],
 "metadata": {
  "kernelspec": {
   "display_name": "Python 3",
   "language": "python",
   "name": "python3"
  },
  "language_info": {
   "codemirror_mode": {
    "name": "ipython",
    "version": 3
   },
   "file_extension": ".py",
   "mimetype": "text/x-python",
   "name": "python",
   "nbconvert_exporter": "python",
   "pygments_lexer": "ipython3",
   "version": "3.6.10"
  }
 },
 "nbformat": 4,
 "nbformat_minor": 2
}
