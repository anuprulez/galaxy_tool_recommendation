{
 "cells": [
  {
   "cell_type": "markdown",
   "metadata": {},
   "source": [
    "# Tool recommendation with GRU bidirectional network \n",
    "## (GRU bidirectional neural network with weighted cross-entropy loss)"
   ]
  },
  {
   "cell_type": "code",
   "execution_count": 41,
   "metadata": {
    "scrolled": true
   },
   "outputs": [],
   "source": [
    "import numpy as np\n",
    "import json\n",
    "import warnings\n",
    "import operator\n",
    "\n",
    "import tensorflow as tf\n",
    "from keras import backend as K\n",
    "import h5py\n",
    "\n",
    "warnings.filterwarnings(\"ignore\")\n",
    "\n",
    "\n",
    "def load_model(model_path):\n",
    "    trained_model = h5py.File(model_path, 'r')\n",
    "    model_config = json.loads(trained_model.get('model_config').value)\n",
    "    model = tf.keras.models.model_from_json(model_config)\n",
    "    model.load_weights(model_path)\n",
    "    \n",
    "    dictionary = json.loads(trained_model.get('data_dictionary').value)\n",
    "    best_parameters = json.loads(trained_model.get('best_parameters').value)\n",
    "    compatible_tools = json.loads(trained_model.get('compatible_tools').value)\n",
    "    class_weights = json.loads(trained_model.get('class_weights').value)\n",
    "    reverse_dictionary = dict((str(v), k) for k, v in dictionary.items())\n",
    "    return dictionary, reverse_dictionary, best_parameters, compatible_tools, model, class_weights\n",
    "\n",
    "\n",
    "model_path = \"data/tool_recommendation_bidirectional_model.hdf5\"\n",
    "dictionary, reverse_dictionary, best_parameters, compatible_tools, new_model, class_weights = load_model(model_path)"
   ]
  },
  {
   "cell_type": "markdown",
   "metadata": {},
   "source": [
    "## Unpack trained model for prediction"
   ]
  },
  {
   "cell_type": "code",
   "execution_count": 42,
   "metadata": {
    "scrolled": true
   },
   "outputs": [
    {
     "name": "stdout",
     "output_type": "stream",
     "text": [
      "{'1': 'FalseDiscoveryRate', '2': 'gatk2_variant_apply_recalibration', '3': 'bgchem_fragment_merger', '4': 'gatk2_indel_realigner', '5': 'rseqc_infer_experiment', '6': 'blast2go', '7': 'proteomics_search_protein_prophet_1', '8': 'blastxml_to_tabular', '9': 'CONVERTER_interval_to_bgzip_0', '10': 'cshl_fastx_artifacts_filter', '11': 'bedtools_bamtofastq', '12': 'EMBOSS: transeq101', '13': 'ctb_pubchem_download_as_smiles', '14': 'picard_NormalizeFasta', '15': 'vcffilter', '16': 'CONVERTER_gff_to_bed_0', '17': 'deeptools_bamCoverage', '18': 'cufflinks', '19': 'picard_ReorderSam', '20': 'openms_protein_quantifier', '21': 'XTandemAdapter', '22': 'Add_a_column1', '23': 'samtools_mpileup', '24': 'IDPosteriorErrorProbability', '25': 'cshl_fastq_to_fasta', '26': 'peakcalling_macs14', '27': 'secretbt2test', '28': 'cshl_sed_tool', '29': 'FileMerger', '30': 'EMBOSS: water107', '31': 'rseqc_bam2wig', '32': 'picard_CollectInsertSizeMetrics', '33': 'gff_to_sequence', '34': 'sam_bw_filter', '35': 'fastq_quality_trimmer', '36': 'gatk2_variant_select', '37': 'IDMapper', '38': 'cshl_fastq_quality_filter', '39': 'flexbar_split_RYYR_bcs', '40': 'join1', '41': 'tp_find_and_replace', '42': 'Show beginning1', '43': 'computeMatrix', '44': 'fastq_groomer', '45': 'mergeCols1', '46': 'eukaryotic_ncbi_submission', '47': 'vt_normalize', '48': 'ctb_change_title', '49': 'addValue', '50': 'ctb_remIons', '51': 'Remove beginning1', '52': 'tp_tail_tool', '53': 'XY_Plot_1', '54': 'antismash', '55': 'tp_unfold_column_tool', '56': 'deeptools_heatmapper', '57': 'deeptools_bamCorrelate', '58': 'macs2_callpeak', '59': 'bedtools_coveragebed', '60': 'glimmer_build-icm', '61': 'HighResPrecursorMassCorrector', '62': 'cor2', '63': 'CONVERTER_interval_to_bedstrict_0', '64': 'Psortb', '65': 'term_id_vs_term_def', '66': 'vcftools_isec', '67': 'Extract genomic DNA 1', '68': 'picard_ARRG', '69': 'merge_pcr_duplicates.py', '70': 'samtools_flagstat', '71': 'coords2clnt.py', '72': 'fastqc', '73': 'FeatureFinderMultiplex', '74': 'bedtools_bedtobam', '75': 'ctb_filter', '76': 'tp_replace_in_column', '77': 'flexbar_split_RR_bcs', '78': 'trimmomatic', '79': 'aragorn_trna', '80': 'cshl_word_list_grep', '81': 'IDMerger', '82': 'sample_seqs', '83': 'predict_pipeline', '84': 'picard_FixMateInformation', '85': 'wig_to_bigWig', '86': 'samtools_stats', '87': 'ncbi_blastn_wrapper', '88': 'bedtools_intersectbed_bam', '89': 'get_flanks1', '90': 'tp_sed_tool', '91': 'ncbi_blastp_wrapper', '92': 'proteomics_search_peptide_prophet_1', '93': 'gatk2_reduce_reads', '94': 'methtools_filter', '95': 'naive_variant_caller', '96': 'gops_coverage_1', '97': 'gops_intersect_1', '98': 'tp_sort_header_tool', '99': 'snpSift_annotate', '100': 'openms_id_file_converter', '101': 'tp_multijoin_tool', '102': 'bedtools_genomecoveragebed_bedgraph', '103': 'meme_meme', '104': 'tp_tac', '105': 'heatmapper', '106': 'msconvert3_raw', '107': 'stringtie', '108': 'silac_analyzer', '109': 'picard_EstimateLibraryComplexity', '110': 'methtools_plot', '111': 'PicardInsertSize', '112': 'deseq2', '113': 'bamFilter', '114': 'Show tail1', '115': 'deeptools_correctGCBias', '116': 'bedtools_bamtobed', '117': 'MzTabExporter', '118': 'cummeRbund', '119': 'rm_spurious_events.py', '120': 'tophat2', '121': 'smooth_running_window', '122': 'samtools_sort', '123': 'bedtools_mergebed', '124': 'vcftools_merge', '125': 'interproscan', '126': 'macs2_bdgcmp', '127': 'cshl_awk_tool', '128': 'bedtools_intersectbed', '129': 'seq_filter_by_id', '130': 'blastxml_to_top_descr', '131': 'ncbi_tblastn_wrapper', '132': 'fasta_filter_by_length', '133': 'tp_replace_in_line', '134': 'gatk2_print_reads', '135': 'ConsensusID', '136': 'blockbuster', '137': 'bedtools_unionbedgraph', '138': 'proteomics_search_tandem_1', '139': 'bedtools_intersectBed', '140': 'Convert characters1', '141': 'ctb_online_data_fetch', '142': 'picard_CASM', '143': 'gatk2_realigner_target_creator', '144': 'term_id_vs_term_name', '145': 'bedtools_coveragebed_counts', '146': 'trim_galore', '147': 'tp_split_on_column', '148': 'snpEff', '149': 'tp_cut_tool', '150': 'flexbardsc', '151': 'fastq_join', '152': 'Filter1', '153': 'Grouping1', '154': 'vcfallelicprimitives', '155': 'ctb_compound_convert', '156': 'seq_filter_by_mapping', '157': 'Remove_ending', '158': 'FidoAdapter', '159': 'bamCoverage_deepTools', '160': 'DatamashOps', '161': 'picard_BamIndexStats', '162': 'ngsutils_bam_filter', '163': 'Grep1', '164': 'infernal_cmsearch', '165': 'deeptools_plot_heatmap', '166': 'piranha', '167': 'methtools_dmr', '168': 'dt_profiler', '169': 'r_correlation_matrix', '170': 'bedtools_multiintersectbed', '171': 'rgPicardMarkDups', '172': 'bam_to_sam', '173': 'cuffcompare', '174': 'FileFilter', '175': 'rmcontamination', '176': 'ProteinQuantifier', '177': 'barchart_gnuplot', '178': 'rseqc_inner_distance', '179': 'extract_aln_ends.py', '180': 'augustus', '181': 'bedtools_genomecoveragebed', '182': 'Paste1', '183': 'comp1', '184': 'methtools_destrand', '185': 'hisat2', '186': 'cshl_fastx_trimmer', '187': 'EMBOSS: newseq59', '188': 'tmhmm2', '189': 'hisat', '190': 'snpSift_filter', '191': 'tab2fasta', '192': 'deeptools_bamCompare', '193': 'htseq-count', '194': 'deeptools_computeGCBias', '195': 'gff2bed1', '196': 'modencode_peakcalling_macs2', '197': 'CONVERTER_interval_to_bed_0', '198': 'sam_to_bam', '199': 'Extract_features1', '200': 'bg_uniq', '201': 'ctb_simsearch', '202': 'gatk2_variant_recalibrator', '203': 'bcftools_view', '204': 'sort1', '205': 'p_clip_peaks', '206': 'glimmer_knowlegde-based', '207': 'cshl_awk_replace_in_column', '208': 'gatk2_base_recalibrator', '209': 'tp_easyjoin_tool', '210': 'wolf_psort', '211': 'samtool_filter2', '212': 'remove_tail.py', '213': 'EMBOSS: shuffleseq87', '214': 'rsem_calculate_expression', '215': 'cuffdiff', '216': 'deseq2_single', '217': 'deeptools_compute_matrix', '218': 'deeptools_computeMatrix', '219': 'deeptools_bigwigCompare', '220': 'gtf2bedgraph', '221': 'gatk2_variant_annotator', '222': 'cshl_uniq_tool', '223': 'ssake', '224': 'flexbar', '225': 'bed2gff1', '226': 'filter_bed_on_splice_junctions', '227': 'ncbi_makeblastdb', '228': 'cummerbund_to_cuffdiff', '229': 'IDConflictResolver', '230': 'tp_cat', '231': 'peakcalling_macs', '232': 'regex_replace', '233': 'fastq_to_fasta_python', '234': 'signalp3', '235': 'convert_bc_to_binary_RY.py', '236': 'cshl_fastx_nucleotides_distribution', '237': 'megablast_xml_parser', '238': 'CONVERTER_bed_gff_or_vcf_to_bigwig_0', '239': 'sam_merge2', '240': 'tophat', '241': 'bowtie2', '242': 'cuffmerge', '243': 'extract_bcs.py', '244': 'EMBOSS: fuzztran39', '245': 'subtract_query1', '246': 'cshl_cut_tool', '247': 'htseq_count', '248': 'methtools_calling', '249': 'picard_SamToFastq', '250': 'IDFilter', '251': 'gops_join_1', '252': 'Count1', '253': 'bismark_bowtie', '254': 'hgv_david', '255': 'prokaryotic_ncbi_submission', '256': 'bwa_mem', '257': 'bam2wig', '258': 'cshl_fastx_quality_statistics', '259': 'gops_subtract_1', '260': 'fastq_to_tabular', '261': 'picard_MarkDuplicates', '262': 'ctb_chemfp_mol2fps', '263': 'cshl_find_and_replace', '264': 'cat1', '265': 'deeptools_bam_coverage', '266': 'MSGFPlusAdapter', '267': 'Cut1', '268': 'Summary_Statistics1', '269': 'heatmapper_deepTools', '270': 'wc_gnu', '271': 'openms_id_mapper', '272': 'deeptools_bamFingerprint', '273': 'tp_awk_tool', '274': 'sed_stream_editor', '275': 'fasta2tab', '276': 'EMBOSS: fuzzpro38', '277': 'deeptools_profiler', '278': 'gtf_filter_by_attribute_values_list', '279': 'get_subontology_from', '280': 'EMBOSS: geecee41', '281': 'samtools_rmdup', '282': 'blockclust', '283': 'tp_head_tool', '284': 'bwa_wrapper', '285': 'cshl_fastq_quality_boxplot', '286': 'Datamash', '287': 'cshl_grep_tool', '288': 'gatk2_haplotype_caller', '289': 'flexbar_no_split', '290': 'random_lines1', '291': 'freebayes', '292': 'bedtools_sortbed', '293': 'allele_counts_1', '294': 'cshl_fastx_clipper', '295': 'scaffold2fasta', '296': 'PeptideIndexer', '297': 'fasta_compute_length', '298': 'CONVERTER_bedgraph_to_bigwig', '299': 'sam2interval', '300': 'iuc_pear', '301': 'picard_ValidateSamFile', '302': 'DatamashTranspose', '303': 'CONVERTER_bed_to_bgzip_0', '304': 'fragmenter', '305': 'ncbi_rpsblast_wrapper', '306': 'tp_sorted_uniq', '307': 'cshl_multijoin', '308': 'bismark_bowtie2', '309': 'cshl_sort_header'}\n"
     ]
    }
   ],
   "source": [
    "print(reverse_dictionary)"
   ]
  },
  {
   "cell_type": "code",
   "execution_count": 43,
   "metadata": {},
   "outputs": [],
   "source": [
    "def compute_recommendations(tool_sequence, labels, topk=20, max_seq_len=25):\n",
    "    tl_seq = tool_sequence.split(\",\")\n",
    "    last_tool_name = reverse_dictionary[str(tl_seq[-1])]\n",
    "    sample = np.zeros(max_seq_len)\n",
    "    for idx, tool_id in enumerate(tl_seq):\n",
    "        sample[idx] = int(tool_id)\n",
    "    sample_reshaped = np.reshape(sample, (1, max_seq_len))\n",
    "    tool_sequence_names = [reverse_dictionary[str(tool_pos)] for tool_pos in tool_sequence.split(\",\")]\n",
    "    # predict next tools for a test path\n",
    "    prediction = new_model.predict(sample_reshaped, verbose=0)\n",
    "    weight_val = list(class_weights.values())\n",
    "    weight_val = np.reshape(weight_val, (len(weight_val),))\n",
    "    prediction = np.reshape(prediction, (prediction.shape[1],))\n",
    "    #prediction = prediction * weight_val\n",
    "    prediction = prediction / float(np.max(prediction))\n",
    "    prediction_pos = np.argsort(prediction, axis=-1)\n",
    "    # get topk prediction\n",
    "    topk_prediction_pos = prediction_pos[-topk:]\n",
    "    topk_prediction_pos = [item for item in topk_prediction_pos if item != 0]\n",
    "    topk_prediction_val = [int(prediction[pos] * 100) for pos in topk_prediction_pos]\n",
    "    # read tool names using reverse dictionary\n",
    "    pred_tool_ids = [reverse_dictionary[str(tool_pos)] for tool_pos in topk_prediction_pos]\n",
    "    pred_tool_ids_sorted = dict()\n",
    "    c_tools = list()\n",
    "    if last_tool_name in compatible_tools:\n",
    "        c_tools = compatible_tools[last_tool_name].split(\",\")\n",
    "    for (tool_pos, tool_pred_val) in zip(topk_prediction_pos, topk_prediction_val):\n",
    "        tool_name = reverse_dictionary[str(tool_pos)]\n",
    "        if tool_name in c_tools:\n",
    "            pred_tool_ids_sorted[tool_name] = tool_pred_val\n",
    "    pred_tool_ids_sorted = dict(sorted(pred_tool_ids_sorted.items(), key=lambda kv: kv[1], reverse=True))\n",
    "    ids_tools = dict()\n",
    "    keys = list(pred_tool_ids_sorted.keys())\n",
    "    tool_seq_name = \",\".join(tool_sequence_names)\n",
    "    print(\"Current tool sequence: \")\n",
    "    print()\n",
    "    print(tool_seq_name)\n",
    "    print()\n",
    "    print(\"Recommended tools for the tool sequence '%s' with their scores in decreasing order:\" % tool_seq_name)\n",
    "    print()\n",
    "    for i in pred_tool_ids_sorted:\n",
    "        print(i + \"(\" + str(pred_tool_ids_sorted[i]) + \"%)\")\n",
    "    for key in pred_tool_ids_sorted:\n",
    "        ids_tools[key] = dictionary[key]\n",
    "    print()\n",
    "    print(\"Tool ids:\")\n",
    "    print()\n",
    "    for i in ids_tools:\n",
    "        print(i + \"(\" + str(ids_tools[i]) + \")\")"
   ]
  },
  {
   "cell_type": "markdown",
   "metadata": {},
   "source": [
    "## Indices of tools"
   ]
  },
  {
   "cell_type": "code",
   "execution_count": 44,
   "metadata": {
    "scrolled": false
   },
   "outputs": [
    {
     "name": "stdout",
     "output_type": "stream",
     "text": [
      "Current tool sequence: \n",
      "\n",
      "FalseDiscoveryRate\n",
      "\n",
      "Recommended tools for the tool sequence 'FalseDiscoveryRate' with their scores in decreasing order:\n",
      "\n",
      "\n",
      "Tool ids:\n",
      "\n"
     ]
    }
   ],
   "source": [
    "topk = 20 # set the maximum number of recommendations\n",
    "tool_seq = \"1\" # give tools ids in a sequence and see the recommendations. To know all the tool ids, \n",
    "                     # please print the variable 'reverse_dictionary'\n",
    "compute_recommendations(tool_seq, \"\", topk)"
   ]
  },
  {
   "cell_type": "markdown",
   "metadata": {},
   "source": [
    "## Recommended tools"
   ]
  },
  {
   "cell_type": "code",
   "execution_count": 45,
   "metadata": {
    "scrolled": false
   },
   "outputs": [
    {
     "name": "stdout",
     "output_type": "stream",
     "text": [
      "Model: \"model\"\n",
      "__________________________________________________________________________________________________\n",
      "Layer (type)                    Output Shape         Param #     Connected to                     \n",
      "==================================================================================================\n",
      "input_1 (InputLayer)            [(None, 25)]         0                                            \n",
      "__________________________________________________________________________________________________\n",
      "embedding (Embedding)           (None, 25, 212)      65720       input_1[0][0]                    \n",
      "__________________________________________________________________________________________________\n",
      "spatial_dropout1d (SpatialDropo (None, 25, 212)      0           embedding[0][0]                  \n",
      "__________________________________________________________________________________________________\n",
      "bidirectional (Bidirectional)   [(None, 25, 344), (N 398352      spatial_dropout1d[0][0]          \n",
      "__________________________________________________________________________________________________\n",
      "concatenate (Concatenate)       (None, 344)          0           bidirectional[0][1]              \n",
      "                                                                 bidirectional[0][2]              \n",
      "__________________________________________________________________________________________________\n",
      "dropout (Dropout)               (None, 344)          0           concatenate[0][0]                \n",
      "__________________________________________________________________________________________________\n",
      "dense (Dense)                   (None, 310)          106950      dropout[0][0]                    \n",
      "==================================================================================================\n",
      "Total params: 571,022\n",
      "Trainable params: 571,022\n",
      "Non-trainable params: 0\n",
      "__________________________________________________________________________________________________\n",
      "None\n"
     ]
    }
   ],
   "source": [
    "print(new_model.summary())"
   ]
  },
  {
   "cell_type": "code",
   "execution_count": 46,
   "metadata": {
    "scrolled": true
   },
   "outputs": [
    {
     "name": "stdout",
     "output_type": "stream",
     "text": [
      "{'embedding_size': 212, 'gru_units': 172, 'spatial_dropout': 0.15000000000000002, 'dropout': 0.45, 'recurrent_dropout': 0.4, 'learning_rate': 0.0036164835628463956, 'batch_size': 32, 'max_len': 25, 'dimensions': 310}\n"
     ]
    }
   ],
   "source": [
    "print(best_parameters)"
   ]
  },
  {
   "cell_type": "code",
   "execution_count": null,
   "metadata": {},
   "outputs": [],
   "source": []
  }
 ],
 "metadata": {
  "kernelspec": {
   "display_name": "Python 3",
   "language": "python",
   "name": "python3"
  },
  "language_info": {
   "codemirror_mode": {
    "name": "ipython",
    "version": 3
   },
   "file_extension": ".py",
   "mimetype": "text/x-python",
   "name": "python",
   "nbconvert_exporter": "python",
   "pygments_lexer": "ipython3",
   "version": "3.6.10"
  }
 },
 "nbformat": 4,
 "nbformat_minor": 2
}
