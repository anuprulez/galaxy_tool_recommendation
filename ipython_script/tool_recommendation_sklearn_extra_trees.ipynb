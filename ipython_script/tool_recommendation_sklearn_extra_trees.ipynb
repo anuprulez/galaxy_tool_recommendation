{
 "cells": [
  {
   "cell_type": "markdown",
   "metadata": {},
   "source": [
    "# Tool recommendation \n",
    "## (Random forest with weighted cross-entropy loss)"
   ]
  },
  {
   "cell_type": "code",
   "execution_count": 14,
   "metadata": {},
   "outputs": [],
   "source": [
    "import numpy as np\n",
    "import json\n",
    "import warnings\n",
    "import operator\n",
    "\n",
    "import h5py\n",
    "from joblib import load\n",
    "\n",
    "warnings.filterwarnings(\"ignore\")\n",
    "\n",
    "\n",
    "def read_file(file_path):\n",
    "    with open(file_path, 'r') as data_file:\n",
    "        data = json.loads(data_file.read())\n",
    "    return data\n",
    "\n",
    "\n",
    "def create_model(model_path):\n",
    "    loaded_model = load(model_path) \n",
    "    return loaded_model\n",
    "\n",
    "\n",
    "def get_predicted_tools(base_tools, predictions, topk):\n",
    "    \"\"\"\n",
    "    Get predicted tools. If predicted tools are less in number, combine them with published tools\n",
    "    \"\"\"\n",
    "    intersection = list(set(predictions).intersection(set(base_tools)))\n",
    "    return intersection[:topk]\n",
    "\n",
    "\n",
    "def sort_by_usage(t_list, class_weights, d_dict):\n",
    "    \"\"\"\n",
    "    Sort predictions by usage/class weights\n",
    "    \"\"\"\n",
    "    tool_dict = dict()\n",
    "    for tool in t_list:\n",
    "        t_id = d_dict[tool]\n",
    "        tool_dict[tool] = class_weights[str(t_id)]\n",
    "    tool_dict = dict(sorted(tool_dict.items(), key=lambda kv: kv[1], reverse=True))\n",
    "    return list(tool_dict.keys()), list(tool_dict.values())\n",
    "\n",
    "\n",
    "def separate_predictions(base_tools, predictions, last_tool_name, weight_values, topk):\n",
    "    \"\"\"\n",
    "    Get predictions from published and normal workflows\n",
    "    \"\"\"\n",
    "    last_base_tools = list()\n",
    "    predictions = predictions * weight_values\n",
    "    prediction_pos = np.argsort(predictions, axis=-1)\n",
    "    topk_prediction_pos = prediction_pos[-topk:]\n",
    "    # get tool ids\n",
    "    pred_tool_ids = [reverse_dictionary[str(tool_pos)] for tool_pos in topk_prediction_pos]\n",
    "    if last_tool_name in base_tools:\n",
    "        last_base_tools = base_tools[last_tool_name]\n",
    "        if type(last_base_tools).__name__ == \"str\":\n",
    "            # get published or compatible tools for the last tool in a sequence of tools\n",
    "            last_base_tools = last_base_tools.split(\",\")\n",
    "    # get predicted tools\n",
    "    p_tools = get_predicted_tools(last_base_tools, pred_tool_ids, topk)\n",
    "    sorted_c_t, sorted_c_v = sort_by_usage(p_tools, class_weights, dictionary)\n",
    "    return sorted_c_t, sorted_c_v\n",
    "\n",
    "\n",
    "def compute_recommendations(model, tool_sequence, labels, dictionary, reverse_dictionary, class_weights, topk=10, max_seq_len=25):\n",
    "    tl_seq = tool_sequence.split(\",\")\n",
    "    tl_seq_ids = [str(dictionary[t]) for t in tl_seq]\n",
    "    last_tool_name = tl_seq[-1]\n",
    "    sample = np.zeros(max_seq_len)\n",
    "    weight_val = list(class_weights.values())\n",
    "    weight_val = np.reshape(weight_val, (len(weight_val),))\n",
    "    for idx, tool_id in enumerate(tl_seq_ids):\n",
    "        sample[idx] = int(tool_id)\n",
    "    sample_reshaped = np.reshape(sample, (1, max_seq_len))\n",
    "    tool_sequence_names = [reverse_dictionary[str(tool_pos)] for tool_pos in tl_seq_ids]\n",
    "    # predict next tools for a test path\n",
    "    prediction = model.predict(sample_reshaped)\n",
    "    nw_dimension = prediction.shape[1]\n",
    "    prediction = np.reshape(prediction, (nw_dimension,))\n",
    "    \n",
    "    half_len = int(nw_dimension / 2)\n",
    "    \n",
    "    pub_t, pub_v = separate_predictions(standard_connections, prediction[:half_len], last_tool_name, weight_val, topk)\n",
    "    # get recommended tools from normal workflows\n",
    "    c_t, c_v = separate_predictions(compatible_tools, prediction[half_len:], last_tool_name, weight_val, topk)\n",
    "    # combine predictions coming from different workflows\n",
    "    # promote recommended tools coming from published workflows\n",
    "    # to the top and then show other recommendations\n",
    "    print()\n",
    "    tool_seq_name = \",\".join(tool_sequence_names)\n",
    "    print(\"Current tool sequence: \")\n",
    "    print()\n",
    "    print(tool_seq_name)\n",
    "    print()\n",
    "    print(\"Overall recommendations: \")\n",
    "    print()\n",
    "    pub_t.extend(c_t)\n",
    "    pub_v.extend(c_v)\n",
    "    # remove duplicates if any\n",
    "    pub_t = list(dict.fromkeys(pub_t))\n",
    "    pub_v = list(dict.fromkeys(pub_v))\n",
    "    print(pub_t)\n",
    "    ids_tools = dict()\n",
    "    for key in pub_t:\n",
    "        ids_tools[key] = dictionary[key]\n",
    "    print()\n",
    "    print(\"Recommended tool ids:\")\n",
    "    print()\n",
    "    for i in ids_tools:\n",
    "        rev_id = dictionary[i]\n",
    "        wt = class_weights[str(rev_id)]\n",
    "        print(i + \"(\" + str(ids_tools[i]) + \")\" + \"(\" + str(wt) + \")\")"
   ]
  },
  {
   "cell_type": "markdown",
   "metadata": {},
   "source": [
    "## Unpack trained model for prediction"
   ]
  },
  {
   "cell_type": "code",
   "execution_count": 15,
   "metadata": {},
   "outputs": [],
   "source": [
    "output_path = \"data/tool_recommendation_model.hdf5\"\n",
    "model_path = \"data/model.joblib\"\n",
    "\n",
    "output_model = h5py.File(output_path, 'r')\n",
    "dictionary = json.loads(output_model.get('data_dictionary').value)\n",
    "reverse_dictionary = dict((str(v), k) for k, v in dictionary.items())\n",
    "class_weights = json.loads(output_model.get('class_weights').value)\n",
    "standard_connections = json.loads(output_model.get('standard_connections').value)\n",
    "compatible_tools = json.loads(output_model.get('compatible_tools').value)\n",
    "best_parameters = json.loads(output_model.get('best_parameters').value)\n",
    "loaded_model = create_model(model_path)"
   ]
  },
  {
   "cell_type": "markdown",
   "metadata": {},
   "source": [
    "## Example tools"
   ]
  },
  {
   "cell_type": "code",
   "execution_count": 16,
   "metadata": {
    "scrolled": false
   },
   "outputs": [],
   "source": [
    "# bowtie2\n",
    "# trimmomatic"
   ]
  },
  {
   "cell_type": "markdown",
   "metadata": {},
   "source": [
    "## Recommended tools"
   ]
  },
  {
   "cell_type": "code",
   "execution_count": 21,
   "metadata": {
    "scrolled": false
   },
   "outputs": [
    {
     "name": "stdout",
     "output_type": "stream",
     "text": [
      "\n",
      "Current tool sequence: \n",
      "\n",
      "Cut1\n",
      "\n",
      "Overall recommendations: \n",
      "\n",
      "['addValue', 'plotly_ml_performance_plots']\n",
      "\n",
      "Recommended tool ids:\n",
      "\n",
      "addValue(517)(5.766569)\n",
      "plotly_ml_performance_plots(515)(2.892838)\n"
     ]
    }
   ],
   "source": [
    "topk = 10 # set the maximum number of recommendations\n",
    "\n",
    "# Give tools ids in a sequence and see the recommendations. # To know all the tool ids, \n",
    "# please print the variable 'reverse_dictionary'\n",
    "tool_seq = \"Cut1\"\n",
    "\n",
    "compute_recommendations(loaded_model, tool_seq, \"\", dictionary, reverse_dictionary, class_weights, topk)"
   ]
  },
  {
   "cell_type": "code",
   "execution_count": 22,
   "metadata": {},
   "outputs": [
    {
     "data": {
      "text/plain": [
       "{'criterion': 'entropy',\n",
       " 'max_depth': 7,\n",
       " 'max_features': None,\n",
       " 'min_samples_split': 0.0012386307312684402,\n",
       " 'n_estimators': 15}"
      ]
     },
     "execution_count": 22,
     "metadata": {},
     "output_type": "execute_result"
    }
   ],
   "source": [
    "best_parameters"
   ]
  },
  {
   "cell_type": "code",
   "execution_count": null,
   "metadata": {},
   "outputs": [],
   "source": []
  },
  {
   "cell_type": "code",
   "execution_count": null,
   "metadata": {},
   "outputs": [],
   "source": []
  },
  {
   "cell_type": "code",
   "execution_count": null,
   "metadata": {},
   "outputs": [],
   "source": []
  }
 ],
 "metadata": {
  "kernelspec": {
   "display_name": "Python 3",
   "language": "python",
   "name": "python3"
  },
  "language_info": {
   "codemirror_mode": {
    "name": "ipython",
    "version": 3
   },
   "file_extension": ".py",
   "mimetype": "text/x-python",
   "name": "python",
   "nbconvert_exporter": "python",
   "pygments_lexer": "ipython3",
   "version": "3.6.10"
  }
 },
 "nbformat": 4,
 "nbformat_minor": 2
}
