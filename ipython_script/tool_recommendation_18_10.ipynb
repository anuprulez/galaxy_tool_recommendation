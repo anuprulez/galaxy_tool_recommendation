{
 "cells": [
  {
   "cell_type": "code",
   "execution_count": 1,
   "metadata": {
    "scrolled": true
   },
   "outputs": [
    {
     "name": "stderr",
     "output_type": "stream",
     "text": [
      "Using TensorFlow backend.\n",
      "/home/kumara/miniconda3/envs/tool_prediction/lib/python3.6/site-packages/tensorflow/python/framework/dtypes.py:526: FutureWarning: Passing (type, 1) or '1type' as a synonym of type is deprecated; in a future version of numpy, it will be understood as (type, (1,)) / '(1,)type'.\n",
      "  _np_qint8 = np.dtype([(\"qint8\", np.int8, 1)])\n",
      "/home/kumara/miniconda3/envs/tool_prediction/lib/python3.6/site-packages/tensorflow/python/framework/dtypes.py:527: FutureWarning: Passing (type, 1) or '1type' as a synonym of type is deprecated; in a future version of numpy, it will be understood as (type, (1,)) / '(1,)type'.\n",
      "  _np_quint8 = np.dtype([(\"quint8\", np.uint8, 1)])\n",
      "/home/kumara/miniconda3/envs/tool_prediction/lib/python3.6/site-packages/tensorflow/python/framework/dtypes.py:528: FutureWarning: Passing (type, 1) or '1type' as a synonym of type is deprecated; in a future version of numpy, it will be understood as (type, (1,)) / '(1,)type'.\n",
      "  _np_qint16 = np.dtype([(\"qint16\", np.int16, 1)])\n",
      "/home/kumara/miniconda3/envs/tool_prediction/lib/python3.6/site-packages/tensorflow/python/framework/dtypes.py:529: FutureWarning: Passing (type, 1) or '1type' as a synonym of type is deprecated; in a future version of numpy, it will be understood as (type, (1,)) / '(1,)type'.\n",
      "  _np_quint16 = np.dtype([(\"quint16\", np.uint16, 1)])\n",
      "/home/kumara/miniconda3/envs/tool_prediction/lib/python3.6/site-packages/tensorflow/python/framework/dtypes.py:530: FutureWarning: Passing (type, 1) or '1type' as a synonym of type is deprecated; in a future version of numpy, it will be understood as (type, (1,)) / '(1,)type'.\n",
      "  _np_qint32 = np.dtype([(\"qint32\", np.int32, 1)])\n",
      "/home/kumara/miniconda3/envs/tool_prediction/lib/python3.6/site-packages/tensorflow/python/framework/dtypes.py:535: FutureWarning: Passing (type, 1) or '1type' as a synonym of type is deprecated; in a future version of numpy, it will be understood as (type, (1,)) / '(1,)type'.\n",
      "  np_resource = np.dtype([(\"resource\", np.ubyte, 1)])\n"
     ]
    },
    {
     "name": "stdout",
     "output_type": "stream",
     "text": [
      "WARNING:tensorflow:From /home/kumara/miniconda3/envs/tool_prediction/lib/python3.6/site-packages/tensorflow/python/ops/resource_variable_ops.py:435: colocate_with (from tensorflow.python.framework.ops) is deprecated and will be removed in a future version.\n",
      "Instructions for updating:\n",
      "Colocations handled automatically by placer.\n",
      "{'1': 'rseqc_read_distribution', '2': 'random_lines1', '3': 'rseqc_bam_stat', '4': 'query_tabular', '5': 'cuffdiff', '6': 'generic_filter', '7': 'bctools_remove_tail', '8': 'hcluster_sg', '9': 'minfi_dmr', '10': 'mtbls520_08d_concentration', '11': 'FROGS_affiliation_OTU', '12': '__APPLY_RULES__', '13': 'seurat_scale_data', '14': 'remove_tail.py', '15': 'vcftools_merge', '16': 'iReport', '17': 'hicexplorer_hictransform', '18': 'correct_barcodes', '19': 'mtbls520_10_species_varpart', '20': 'bcftools_call', '21': 'minfi_getM', '22': 'fastqc', '23': 'minimap2', '24': 'ia_coordinates_of_roi', '25': 'ctb_sdf2fps', '26': 'tp_sorted_uniq', '27': 'antismash', '28': 'IDScoreSwitcher', '29': 'tp_cat', '30': 'bedtools_intersectbed_bam', '31': 'IDFileConverter', '32': 'cshl_fastx_clipper', '33': 'mummer_dnadiff', '34': 'krona-text', '35': 'samtools_flagstat', '36': 'eukaryotic_ncbi_submission', '37': 'qiime_assign_taxonomy', '38': 'deeptools_bam_coverage', '39': 'melt', '40': 'bgchem_fragment_merger', '41': 'picard_ValidateSamFile', '42': 'ctb_subsearch', '43': 'gatk2_variant_filtration', '44': 'abims_xcms_summary', '45': 'OpenSwathWorkflow', '46': 'interproscan', '47': 'scanpy_filter_genes', '48': 'camera-group-fwhm', '49': 'XTandemAdapter', '50': 'varscan', '51': 'augustus', '52': 'smf_utils_find-boxes', '53': 'bedtools_coveragebed_counts', '54': 'ctb_rdkit_descriptors', '55': 'ggplot2_histogram', '56': 'addName', '57': 'ctb_remSmall', '58': 'cshl_word_list_grep', '59': 'canu', '60': 'bedtools_subtractbed', '61': 'MAF_To_Fasta1', '62': 'mz_to_sqlite', '63': 'signalp3', '64': 'cardinal_filtering', '65': 'GeMoMa_Annotation_Filter', '66': 'stoceps_maketablecarrer', '67': 'mothur_corr_axes', '68': 'cshl_fasta_nucleotides_changer', '69': 'ip_projective_transformation', '70': 'locarna_best_subtree', '71': 'infernal_cmbuild', '72': 'shovill', '73': 'deeptools_heatmapper', '74': 'ucsc-twobittofa', '75': 'XY_Plot_1', '76': 'RNAlien', '77': 'cardinal_quality_report', '78': 'regionalgam_autocor_acf', '79': 'metaspades', '80': 'genbank_to_gff', '81': 'samtools_sort', '82': 'bismark_bowtie2', '83': 'scale_image', '84': 'glimmer_not-knowlegde-based', '85': 'clustalw', '86': 'CONVERTER_bedgraph_to_bigwig', '87': 'rseqc_clipping_profile', '88': 'cshl_fastx_artifacts_filter', '89': 'seurat_filter_cells', '90': 'hmmer_hmmsearch', '91': 'viz_overlay_moving_and_fixed_image', '92': 'samtools_mpileup', '93': 'deeptools_computeMatrix', '94': 'cshl_cut_tool', '95': 'HighResPrecursorMassCorrector', '96': 'IDFilter', '97': 'cardinal_classification', '98': 'methtools_dmr', '99': 'clusterprofiler_bitr', '100': 'stoceps_glm', '101': 'resistome_analyzer', '102': 'rbc_mirdeep2_mapper', '103': 'taxonomy_krona_chart', '104': 'egsea', '105': 'decoyfasta', '106': 'peakachu', '107': 'IDMassAccuracy', '108': 'limma_voom', '109': 'ctb_stripit', '110': 'heinz_scoring', '111': 'PeptideIndexer', '112': 'samtools_depth', '113': 'snpSift_geneSets', '114': 'gatk2_base_recalibrator', '115': 'mtbls520_08e_species_features', '116': 'fastp', '117': 'Datamash', '118': 'kraken2', '119': 'mothur_trim_seqs', '120': 'deeptools_plot_enrichment', '121': 'msconvert2_raw', '122': 'trinotate', '123': 'mtbls520_19a_seasons_shannon', '124': 'bed_to_bigBed', '125': 'samtools_idxstats', '126': 'spocc_occ', '127': 'augustus_training', '128': 'snpSift_filter', '129': 'IDPosteriorErrorProbability', '130': 'mothur_make_contigs', '131': 'snpEff', '132': 'enhanced_bowtie_wrapper', '133': 'gatk2_print_reads', '134': 'iuc_pear', '135': 'ete_homology_classifier', '136': 'fastq_to_fasta_python', '137': 'cshl_fastx_collapser', '138': 'hicexplorer_hicmergematrixbins', '139': 'gd_rank_terms', '140': 'annotatemyids', '141': 'gff_to_sequence', '142': 'blockbuster', '143': 'fasta2tab', '144': 'MSGFPlusAdapter', '145': 'fastq_to_tabular', '146': 'hicexplorer_hicplottads', '147': 'pynast', '148': 'qiime_split_libraries', '149': 'Heatmap', '150': 'mtbls520_16_ecology_rda', '151': 'bedtools_bedtobam', '152': 'bg_diamond', '153': 'mergeCols1', '154': 'ncbi_blastp_wrapper', '155': 'DatamashTranspose', '156': 'htseq-count', '157': 'mycrobiota-make-multi-otutable', '158': 'msnbase_readmsdata', '159': 'seurat_export_cellbrowser', '160': 'regex_replace', '161': 'vegan_rarefaction', '162': 'bedtools_annotatebed', '163': 'FROGS_remove_chimera', '164': 'massbank_ws_searchspectrum', '165': 'get_subontology_from', '166': 'length_and_gc_content', '167': 'cufflinks_prok', '168': 'Grep1', '169': 'vcfbedintersect', '170': 'ProteinResolver', '171': 'peakcalling_macs', '172': 'metaphlan2krona', '173': 'gatk_indel_realigner', '174': 'rseqc_mismatch_profile', '175': 'deseq2', '176': 'deeptools_compute_matrix_operations', '177': 'MassCalculator', '178': 'mtbls520_07_species_diversity', '179': 'mimodd_varextract', '180': 'nonpareil', '181': 'mtbls520_05a_import_maf', '182': 'cd_hit_protein', '183': 'gops_subtract_1', '184': 'rseqc_read_duplication', '185': 'velvetg', '186': 'bedtools_getfastabed', '187': 'deeptools_multi_bam_summary', '188': 'hisat2', '189': 'tab2fasta', '190': 'gmx_setup', '191': 'mtbls520_08b_species_unique', '192': 'msconvert', '193': 'transdecoder', '194': 'cshl_fastq_quality_filter', '195': 'ctb_chemfp_butina_clustering', '196': 'tp_tail_tool', '197': 'graphicsmagick_image_convert', '198': 'humann2_unpack_pathways', '199': 'prepare_box', '200': 'blockclust', '201': 'shyft_longitudes', '202': 'dropletutils', '203': 'seqtk_subseq', '204': 'mtbls520_06_import_traits', '205': 'fasta_compute_length', '206': 'bedtools_intersectBed', '207': 'gff2bed1', '208': 'vt_normalize', '209': 'sklearn_clf_metrics', '210': 'deeptools_correct_gc_bias', '211': 'deeptools_alignmentsieve', '212': 'mothur_unique_seqs', '213': 'EMBOSS: newseq59', '214': 'samtools_stats', '215': 'Extractor', '216': 'circgraph', '217': 'mtbls520_08a_species_shannon', '218': 'EMBOSS: transeq101', '219': 'createInterval', '220': 'cuffmerge', '221': 'eggnog_mapper', '222': 'racon', '223': 'compose_text_param', '224': 'bctools_extract_alignment_ends', '225': 'tsne', '226': 'ctb_pubchem_download_as_smiles', '227': 'fastq_filter', '228': 'heatmapper', '229': 'gatk2_indel_realigner', '230': 'vsearch_dereplication', '231': 'bedtools_bamtobed', '232': 'mothur_venn', '233': 'deeptools_bigwig_compare', '234': 'lfq_protein_quant', '235': 'PicardInsertSize', '236': 'mothur_homova', '237': 'seqtk_trimfq', '238': 'AnnovarShed', '239': 'gemini_windower', '240': 'Grouping1', '241': 'gatk2_haplotype_caller', '242': 'CONVERTER_fasta_to_fai', '243': 'NSPDK_candidateClust', '244': 'Univariate', '245': 'picard_ARRG', '246': 'trimmomatic', '247': 'metaquantome_filter', '248': 'pileup_parser', '249': 'camera-find-isotopes', '250': 'nanoplot', '251': 'mothur_remove_lineage', '252': 'glimmer_knowlegde-based', '253': 'table_annovar', '254': 'kraken-filter', '255': 'vcffilter', '256': 'hmmer_hmmbuild', '257': 'tp_sort_rows', '258': 'qual_stats_boxplot', '259': 'bg_protein_properties', '260': 'snpfinder', '261': 'msconvert_win', '262': 'meme_psp_gen', '263': 'bedtools_mergebed', '264': 'tabular_to_csv', '265': 'gtf_filter_by_attribute_values_list', '266': 'gops_basecoverage_1', '267': 'camera-find-adducts', '268': 'gatk2_unified_genotyper', '269': 'velvetoptimiser', '270': 'vcfcombine', '271': 'quality_metrics', '272': 'gatk2_reduce_reads', '273': 'w4mclassfilter', '274': 'pieplots_macs', '275': 'mothur_classify_otu', '276': 'PlasFlow', '277': 'hgv_linkToGProfile', '278': 'regionalgam_ab_index', '279': 'ip_2d_feature_extraction', '280': 'openms_id_file_converter', '281': 'deeptools_compute_matrix', '282': 'seurat_normalise_data', '283': 'ncbi_blastn_wrapper', '284': 'msnbase-filter-merge-msms', '285': 'Fetch Taxonomic Ranks', '286': 'Psortb', '287': 'correctGCBias', '288': 'abims_CAMERA_annotateDiffreport', '289': 'retrieve_scxa', '290': 'humann2', '291': 'ChooseTag', '292': 'bedtools_multicovtbed', '293': 'dunovo', '294': 'fasta_filter_by_length', '295': 'deseq2_single', '296': 'umi_tools_group', '297': 'stoceps_filteringsp', '298': 'vcf2pgSnp', '299': 'scpipe', '300': 'metaphlan_hclust_heatmap', '301': 'FeatureFinderMultiplex', '302': 'ggplot2_heatmap', '303': 'metaphlan2', '304': 'mothur_screen_seqs', '305': 'picard_QualityScoreDistribution', '306': '__ZIP_COLLECTION__', '307': 'fasttree', '308': 'computeMatrix', '309': 'smf_utils_extract-boxed-sequences', '310': 'raceid_main', '311': 'CONVERTER_bed_to_fli_0', '312': 'mothur_chimera_uchime', '313': 'Remove beginning1', '314': 'mass_spectrometry_imaging_preprocessing', '315': 'picard_SamToFastq', '316': 'calc_fitness', '317': 'megablast_wrapper', '318': 'msnbase-read-msms', '319': 'filter_tabular', '320': 'graphclust_align_cluster', '321': 'ip_filter_standard', '322': 'bedtools_intersectbed', '323': 'dt_profiler', '324': 'vegan_diversity', '325': 'fastq_paired_end_deinterlacer', '326': 'cardinal_preprocessing', '327': 'glimmer_build-icm', '328': 'mass_spectrometry_imaging_qc', '329': 'poretools_extract', '330': 'rseqc_bam2wig', '331': 'regionalgam_gls', '332': 'dexseq_count', '333': 'ctb_multi_obgrep', '334': 'gbk_to_orf', '335': 'plotly_ml_performance_plots', '336': 'snippy', '337': 'seurat_find_variable_genes', '338': 'qiime_core_diversity', '339': 'find_in_reference', '340': 'vcftools_slice', '341': 'NFS_transfer', '342': 'wtdbg', '343': 'mothur_summary_single', '344': 'BAMTagHistogram', '345': 'datamash_reverse', '346': 'cshl_fastx_renamer', '347': 'gemini_db_info', '348': 'bio3d_rmsf', '349': 'picard_ReorderSam', '350': 'mimodd_map', '351': 'goslimmer', '352': 'pathview', '353': 'checkFormat', '354': 'deeptools_plot_fingerprint', '355': 'samtools_slice_bam', '356': 'bcftools_plugin_counts', '357': 'join_files_on_column_fuzzy', '358': 'cardinal_data_exporter', '359': 'mycrobiota-qc-report', '360': 'qiime_align_seqs', '361': 'ip_2d_filter_segmentation_by_features', '362': 'ip_convertimage', '363': 'minfi_ppfun', '364': 'map_peptides_to_bed', '365': 'comp1', '366': 'MultiplexResolver', '367': 'ctb_simsearch', '368': 'gene2exon1', '369': 'ctb_np-likeness-calculator', '370': 'mothur_chimera_vsearch', '371': 'cummeRbund', '372': '__RELABEL_FROM_FILE__', '373': 'pygenomeTracks', '374': 'mothur_dist_shared', '375': 'IsobaricAnalyzer', '376': 'mothur_seq_error', '377': 'hicexplorer_hicpca', '378': 'myrimatch', '379': 'psy_maps', '380': 'ip_viz_overlay_moving_and_fixed_image', '381': 'Batch_correction', '382': 'p_clip_peaks', '383': 'fasplit', '384': 'CONVERTER_Bam_Bai_0', '385': 'igvtools_count', '386': 'metaquantome_viz', '387': 'FROGS_affiliations_stat', '388': 'bg_column_arrange_by_header', '389': 'gd_calc_freq', '390': 'gemini_recessive_and_dominant', '391': 'hicexplorer_hicbuildmatrix', '392': 'xpath', '393': 'bcftools_filter', '394': 'histogram_rpy', '395': 'multiqc', '396': 'muscle', '397': 'heinz', '398': 'gatk2_variant_annotator', '399': '__FLATTEN__', '400': 'get_sequences', '401': 'methtools_calling', '402': 'fastq_paired_end_joiner', '403': 'EMBOSS: fuzztran39', '404': 'sam_to_bam', '405': 'mtbls520_12_species_marchantia', '406': 'sklearn_feature_selection', '407': 'heinz_visualization', '408': 'je_markdupes', '409': 'mothur_filter_seqs', '410': 'maldi_quant_preprocessing', '411': 'genomespace_exporter', '412': 'cshl_find_and_replace', '413': 'CONVERTER_sam_to_unsorted_bam', '414': 'plotly_parallel_coordinates_plot', '415': 'picard_CollectGcBiasMetrics', '416': 'TextExporter', '417': 'msms2metfrag-multiple', '418': 'cardinal_spectra_plots', '419': 'ggplot_point', '420': 'cast', '421': 'ctb_obgrep', '422': 'picard_BamIndexStats', '423': 'metfrag-cli-batch-multiple', '424': 'picard_CollectRnaSeqMetrics', '425': 'TagBamWithReadSequenceExtended', '426': 'rseqc_RNA_fragment_size', '427': 'mothur_make_design', '428': 'bams2ratio', '429': 'fragmenter', '430': 'diffbind', '431': 'htseq_count', '432': 'fastq_stats', '433': 'seqtk_sample', '434': 'bedtools_multiintersectbed', '435': 'bamCoverage_deepTools', '436': 'gemini_load', '437': 'cardinal_combine', '438': 'unicycler', '439': 'Flash', '440': 'QCCalculator', '441': 'prepare_ligands_for_docking', '442': 'Show beginning1', '443': 'stacks_procrad', '444': '16Sclassifier', '445': 'stacks_denovomap', '446': 'flanking_features_1', '447': 'EMBOSS: wordcount109', '448': 'minfi_methcpg', '449': 'term_id_vs_term_def', '450': 'gmx_md', '451': 'deeptools_computeGCBias', '452': '__FILTER_FAILED_DATASETS__', '453': 'Btrim64', '454': 'samtools_split', '455': 'lca1', '456': 'varscan_copynumber', '457': 'mothur_pcoa', '458': 'PicardASMetrics', '459': 'ip_2d_split_binaryimage_by_watershed', '460': '__TAG_FROM_FILE__', '461': 'ip_scale_image', '462': 'meme_chip', '463': 'extract_element_from_collection', '464': 'bwameth', '465': 'raceid_trajectory', '466': 'sam_merge2', '467': 'tmhmm2', '468': 'FastTree', '469': 'bedtools_map', '470': 'freebayes', '471': 'seurat_run_tsne', '472': 'sklearn_build_pipeline', '473': 'datamash_ops', '474': 'picard_FastqToSam', '475': 'FileConverter', '476': 'infernal_cmstat', '477': 'venn_list', '478': 'bedtools_bed12tobed6', '479': 'vcfflatten2', '480': 'graphicsmagick_image_montage', '481': '_ensembl_gtf2gene_list', '482': 'flexbar_no_split', '483': 'openms_id_mapper', '484': 'chipsequtil_maptoknowngenes', '485': 'picard_SortSam', '486': 'EMBOSS: water107', '487': 'ngsutils_bam_filter', '488': 'cshl_fastq_to_fasta', '489': 'cshl_multijoin', '490': 'bam2wig', '491': 'aggregate', '492': 'bg_find_subsequences', '493': 'metaquantome_stat', '494': 'ProteinQuantifier', '495': 'tp_grep_tool', '496': 'minfi_getsnp', '497': 'mothur_classify_rf', '498': 'transpose', '499': 'deeptools_plot_heatmap', '500': 'ctb_online_data_fetch', '501': 'rcas', '502': 'FeatureLinkerUnlabeled', '503': 'minfi_mset', '504': 'create_or_update', '505': 'minfi_getbeta', '506': 'group_humann2_uniref_abundances_to_go', '507': 'sm_mirdeep2core_without_Randfold', '508': 'flye', '509': 'snpSift_int', '510': 'qiime_summarize_taxa_through_plots', '511': 'qiime_count_seqs', '512': 'format_metaphlan2_output', '513': 'heatmapper_deepTools', '514': 'gmx_solvate', '515': 'cshl_awk_tool', '516': 'deeptools_multi_bigwig_summary', '517': 'EMBOSS: revseq82', '518': 'tabular_to_fastq', '519': 'deeptools_plot_correlation', '520': 'ip_imageinfo', '521': 'sklearn_svm_classifier', '522': 'DatamashOps', '523': 'picard_FixMateInformation', '524': 'rbc_rnacode', '525': 'filter_by_fasta_ids', '526': 'modencode_peakcalling_macs2', '527': 'blastxml_to_tabular_selectable', '528': 'peptide_shaker', '529': 'xcms_plot_chromatogram', '530': 'cor2', '531': 'seurat_create_seurat_object', '532': 'CONVERTER_interval_to_bed_0', '533': 'CONVERTER_fastqgz_to_fastq', '534': 'FROGS_preprocess', '535': 'column_remove_by_header', '536': 'chipseeker', '537': 'glob_report', '538': 'flexbar_split_RR_bcs', '539': 'Extract_RNA_seq_Evidence', '540': 'rawtools', '541': 'gdal_ogr2ogr', '542': 'macs2_bdgcmp', '543': 'stringtie', '544': 'tp_replace_in_column', '545': 'ctb_alignit', '546': 'gops_coverage_1', '547': 'rgweblogo3', '548': 'annotateMyIDs', '549': 'rbc_mirdeep2', '550': 'cmv', '551': 'gd_raxml', '552': 'fastq_join', '553': 'umi_tools_extract', '554': '__UNZIP_COLLECTION__', '555': 'rnaz', '556': 'cat1', '557': 'rseqc_infer_experiment', '558': 'cd_hit_est', '559': 'TrimPrimer', '560': 'picard_CollectInsertSizeMetrics', '561': 'methtools_plot', '562': 'kraken', '563': 'miranda', '564': 'proteomics_search_peptide_prophet_1', '565': '__MERGE_COLLECTION__', '566': 'OpenSwathDecoyGenerator', '567': 'scanpy_run_pca', '568': 'export2graphlan', '569': 'wolf_psort', '570': 'Multivariate', '571': 'idpassemble', '572': 'bam_to_bigwig', '573': 'gatk2_variant_apply_recalibration', '574': 'snpSift_annotate', '575': 'viennarna_rnaplot', '576': 'bcftools_mpileup', '577': 'mtbls520_09_species_venn', '578': 'samtools_bedcov', '579': 'mothur_pre_cluster', '580': 'macs2_callpeak', '581': 'vcf_filter', '582': 'FileMerger', '583': 'get_feature_info', '584': 'sam2interval', '585': 'uniprot', '586': 'pileometh', '587': 'piranha', '588': 'sklear_numeric_clustering', '589': 'param_value_from_file', '590': 'vcfallelicprimitives', '591': 'valet', '592': 'vcftools_annotate', '593': 'rmcontamination', '594': 'bg_sortmerna', '595': 'barchart_gnuplot', '596': 'Show tail1', '597': 'flaimapper', '598': 'tp_sed_tool', '599': 'gops_intersect_1', '600': 'idpqonvert', '601': 'crosscontamination_barcode_filter', '602': 'raceid_filtnormconf', '603': 'uparse', '604': 'picard_MarkDuplicates', '605': 'bamleftalign', '606': 'msgfplus', '607': 'idpquery', '608': 'Transformation', '609': 'IDMapper', '610': 'mothur_unifrac_weighted', '611': 'FileFilter', '612': 'ctb_remIons', '613': 'rna_star', '614': 'MapAlignerPoseClustering', '615': 'deg_annotate', '616': 'ctb_silicos_qed', '617': 'w4mclstrpeakpics', '618': 'picard_MergeSamFiles', '619': 'sklearn_model_validation', '620': 'velvetg_jgi', '621': 'gatk_realigner_target_creator', '622': 'cshl_awk_replace_in_column', '623': 'CONVERTER_fasta_to_tabular', '624': 'preMloc', '625': 'snpEff_build_gb', '626': 'mothur_sub_sample', '627': 'table_compute', '628': 'ctb_chemfp_mol2fps', '629': 'graphclust_glob_report_no_align', '630': 'ete_genetree_splitter', '631': '__BUILD_LIST__', '632': 'eden_sequence_converter', '633': 'cutadapt', '634': 'FROGS_clustering', '635': 'gatk_unified_genotyper', '636': 'locarna_multiple', '637': 'salmon', '638': 'maxquant', '639': 'PeakPickerHiRes', '640': 'pipmir', '641': 'CONVERTER_bed_to_gff_0', '642': 'blastxml_to_tabular', '643': 'qiime_pick_otus', '644': 'xcms_merge', '645': 'meme_fimo', '646': 'ncbi_rpsblast_wrapper', '647': 'mycrobiota-krona-mothur', '648': 'Count1', '649': 'trinity_define_clusters_by_cutting_tree', '650': 'mcClust', '651': 'prokaryotic_ncbi_submission', '652': 'lastz_wrapper_2', '653': 'scanpy_find_markers', '654': 'mothur_make_shared', '655': 'hicexplorer_hiccorrectmatrix', '656': 'scanpy_run_tsne', '657': 'nn_classifier', '658': 'scanpy_compute_graph', '659': 'pileup_interval', '660': 'tp_easyjoin_tool', '661': 'bcftools_consensus', '662': 'kallisto_quant', '663': 'qiime_make_phylogeny', '664': 'OpenSwathAssayGenerator', '665': 'prokka', '666': 'trinity_abundance_estimates_to_matrix', '667': 'tables_arithmetic_operations', '668': 'custom_pro_db', '669': 'mtbls520_18_phylogeny', '670': 'dbbuilder', '671': 'gffread', '672': 'bamSplit', '673': 'hcluster_sg_parser', '674': 'chipeakanno_annopeaks', '675': 'gemini_burden', '676': 'rnafold', '677': 'ssake', '678': 'mycrobiota-split-multi-otutable', '679': 'freebayes_wrapper', '680': 'bandage_image', '681': 'abims_xcms_xcmsSet', '682': 'mimodd_vcf_filter', '683': 'unipept', '684': 'hicexplorer_hicplotmatrix', '685': 'uchime', '686': 'graphlan', '687': 'smooth_running_window', '688': 'proteomics_search_protein_prophet_1', '689': 'qiime_pick_rep_set', '690': 'abims_xcms_fillPeaks', '691': 'vcfvcfintersect', '692': 'spades', '693': 'gatk2_variant_recalibrator', '694': 'macs2_predictd', '695': 'replace_chromosome_names', '696': 'rgPicFixMate', '697': 'fastq collapser', '698': 'fastq_manipulation', '699': 'mothur_remove_groups', '700': 'raceid_inspectclusters', '701': 'trinity_run_de_analysis', '702': 'hca_matrix_downloader', '703': 'gtf2bedgraph', '704': 'je_demultiplex', '705': 'EMBOSS: seqret84', '706': 'mothur_get_communitytype', '707': 'diffbind-embl', '708': 'Extract genomic DNA 1', '709': 'metaquantome_expand', '710': 'minfi_read450k', '711': 'abricate', '712': 'MapStatistics', '713': 'align_back_trans', '714': 'deeptools_bam_compare', '715': 'FeatureFinderCentroided', '716': 'CONVERTER_bed_to_bgzip_0', '717': 'mimodd_convert', '718': 'xcms-group-peaks', '719': 're_he_maldi_image_registration', '720': 'mass_spectrometry_imaging_filtering', '721': 'raceid_inspecttrajectory', '722': 'mummer_mummer', '723': 'bismark_methylation_extractor', '724': 'wc_gnu', '725': 'docking', '726': 'ctb_rdkit_describtors', '727': 'cshl_grep_tool', '728': 'metams_runGC', '729': 'mothur_get_groups', '730': 'EMBOSS: fuzzpro38', '731': 'md_converter', '732': 'gops_join_1', '733': 'maldi_quant_peak_detection', '734': 'CONVERTER_gff_to_interval_index_0', '735': 'smf_utils_estimate-energy', '736': 'blast_parser', '737': 'volcanoplot', '738': 'secure_hash_message_digest', '739': 'picard_CleanSam', '740': 'collapse_dataset', '741': 'deeptools_compute_gc_bias', '742': 'busco', '743': 'rseqc_inner_distance', '744': 'tp_cut_tool', '745': 'qiime_split_libraries_fastq', '746': 'ctb_opsin', '747': 'gafa', '748': 'resize_coordinate_window', '749': 'vcfgenotypes', '750': 'aggregate_scores_in_intervals2', '751': 'make_families', '752': 'bismark_pretty_report', '753': 'mtbls520_04_preparations', '754': 'secretbt2test', '755': 'tp_split_on_column', '756': 'mtbls520_23_seasons_rda', '757': 'mothur_split_abund', '758': 'trimmer', '759': 'gmx_em', '760': 'snpsift_vartype', '761': 'paralyzer', '762': 'blastxml_to_top_descr', '763': 'mtbls520_19d_seasons_concentration', '764': 'rbc_splitfasta', '765': 'Determine_BC', '766': 'peakcalling_macs14', '767': 'scanpy_scale_data', '768': 'stringtie_merge', '769': 'bg_uniq', '770': 'intarna', '771': 'Kneeplot', '772': 'picard_CollectWgsMetrics', '773': '__SORTLIST__', '774': '__FILTER_FROM_FILE__', '775': 'snpSift_dbnsfp_generic', '776': 'bedtools_slopbed', '777': 'regionalgam_glmmpql', '778': 'ip_histogram_equalization', '779': 'w4mcorcov', '780': 'goseq', '781': 'kraken-report', '782': 'pilon', '783': 'CONVERTER_interval_to_bgzip_0', '784': 'hgv_snpFreq', '785': 'ip_overlay_segmentation', '786': 'mothur_nmds', '787': 'mothur_get_oturep', '788': 'silac_analyzer', '789': 'mothur_parsimony', '790': 'samtools_rmdup', '791': 'gatk_depth_of_coverage', '792': 'mothur_split_groups', '793': 'humann2_regroup_table', '794': 'gffcompare', '795': 'regex1', '796': 'graphclust_aggregate_alignments', '797': 'bam_to_sam', '798': 'trinity_analyze_diff_expr', '799': 'bcftools_stats', '800': 'bedtools_groupbybed', '801': 'cufflinks', '802': 'plotly_regression_performance_plots', '803': 'gemini_pathways', '804': 'CONVERTER_fasta_to_2bit', '805': 'idr-embl', '806': 'IDConflictResolver', '807': 'qiime_validate_mapping_file', '808': 'mummer_nucmer', '809': 'Filter1', '810': 'trinity', '811': 'get_pdb', '812': 'mimodd_varreport', '813': 'bcftools_view', '814': 'get_read_pipeline', '815': 'mothur_amova', '816': 'dexseq_annotate', '817': 'flexbardsc', '818': 'tp_replace_in_line', '819': 'maker', '820': 'cshl_easyjoin', '821': 'mothur_taxonomy_to_krona', '822': 'proteomics_moff', '823': 'sailfish', '824': 'seqtk_mergepe', '825': 'bed2gff1', '826': 'miniasm', '827': 'cshl_sort_header', '828': 'tophat', '829': 'mothur_heatmap_bin', '830': 'mothur_classify_seqs', '831': 'bamtools', '832': 'Cut1', '833': 'express', '834': 'FilterBAM', '835': 'svm_classifier', '836': 'selectsequencesfrommsa', '837': 'mothur_get_seqs', '838': 'mothur_tree_shared', '839': 'samtool_filter2', '840': 'samtools_calmd', '841': 'msconvert3_raw', '842': 'dexseq', '843': 'gops_concat_1', '844': 'edger', '845': 'ip_projective_transformation_points', '846': 'modencode_peakcalling_spp', '847': 'bio3d_pca', '848': 'addValue', '849': 'vcfannotate', '850': 'mimodd_varcall', '851': 'meme_meme', '852': 'ctb_ob_svg_depiction', '853': 'ctb_remDuplicates', '854': 'FidoAdapter', '855': 'allele_counts_1', '856': 'camera-annotate-peaks', '857': 'gops_merge_1', '858': 'bowtie_wrapper', '859': 'seurat_find_markers', '860': 'cshl_princeton_fastx_barcode_splitter', '861': 'methtools_tiling', '862': 'camera-prepareoutput', '863': 'merge_pcr_duplicates.py', '864': 'MapRTTransformer', '865': 'ctb_chemfp_nxn_clustering', '866': 'rarefaction', '867': 'ggplot_histogram', '868': 'seurat_run_pca', '869': 'ip_count_objects', '870': 'sam_bw_filter', '871': 'mothur_rarefaction_single', '872': 'bigwig_to_bedgraph', '873': 'Add_a_column1', '874': 'datamash_transpose', '875': 'minfi_getanno', '876': 'FROGS_filters', '877': 'segemehl', '878': 'fraggenescan', '879': 'gspan', '880': 'subtract_query1', '881': 'align_families', '882': 'mass_spectrometry_imaging_ion_images', '883': 'mothur_pairwise_seqs', '884': 'filter_columns', '885': 'xcms-find-peaks', '886': 'sklearn_ensemble', '887': 'column_order_header_sort', '888': 'viennarna_rnaalifold', '889': 'predict_pipeline', '890': 'sklearn_estimator_attributes', '891': 'mtbls520_08c_species_variability', '892': 'vigiechiro_bilanenrichirp', '893': 'Summary_Statistics1', '894': 'hisat', '895': 'xcms-blankfilter', '896': 'sklearn_numeric_clustering', '897': 'mtbls520_19b_seasons_unique', '898': 'stacks_populations', '899': 'cardinal_mz_images', '900': 'humann2_genefamilies_genus_level', '901': 'picard_NormalizeFasta', '902': 'bed_to_protein_map', '903': 'convert_bc_to_binary_RY.py', '904': 'structure_to_gspan', '905': 'gff_filter_by_attribute', '906': 'gemini_interactions', '907': 'qiime_pick_closed_reference_otus', '908': 'tophat2', '909': 'ctb_shapeit', '910': 'openms_protein_quantifier', '911': 'cshl_fastx_reverse_complement', '912': 'EMBOSS: extractseq35', '913': 'eden_vectorizer', '914': 'bundle_collection', '915': 'rsem_prepare_reference', '916': 'mothur_dist_seqs', '917': 'deeptools_bam_pe_fragmentsize', '918': 'keras_model_config', '919': 'mothur_heatmap_sim', '920': 'rm_spurious_events.py', '921': 'mass_spectrometry_imaging_mzplots', '922': 'scanpy_run_umap', '923': 'filtlong', '924': 'ococo', '925': 'ggplot2_heatmap2', '926': 'cshl_fastx_barcode_splitter', '927': 'gemini_inheritance', '928': 'EMBOSS: geecee41', '929': 'FeatureFinderMetabo', '930': 'snippy_core', '931': 'mtbls520_19e_seasons_features', '932': 'gemini_query', '933': 'mothur_cluster_split', '934': 'gtftobed12', '935': 'rarefaction_analyzer', '936': 'mlst', '937': 'ProteinInference', '938': 'megahit_contig2fastg', '939': 'csv_to_tabular', '940': 'seurat_dim_plot', '941': 'MzTabExporter', '942': 'mothur_make_biom', '943': 'rseqc_FPKM_count', '944': 'trinity_contig_exn50_statistic', '945': 'scanpy_parameter_iterator', '946': 'collection_element_identifiers', '947': 'fastq_quality_trimmer', '948': 'bedtools_genomecoveragebed_histogram', '949': 'sort1', '950': 'keras_model_builder', '951': 'megahit', '952': 'cshl_fastx_nucleotides_distribution', '953': 'rseqc_junction_annotation', '954': 'Interval_Maf_Merged_Fasta2', '955': 'flashlfq', '956': 'scatterplot_rpy', '957': 'ctb_spectrophore_search', '958': 'sklearn_nn_classifier', '959': 'ExtractFASTAfromFASTQ', '960': 'cshl_sed_tool', '961': 'velveth', '962': 'bedtools_shufflebed', '963': 'varscan_mpileup', '964': 'vcfselectsamples', '965': 'basil', '966': 'vigiechiro_bilanenrichipf', '967': 'fasta_merge_files_and_filter_unique_sequences', '968': 'picard_EstimateLibraryComplexity', '969': 'xcms-dilutionfilter', '970': 'translate_bed', '971': 'cds_essential_variability', '972': 'scanpy_read_10x', '973': 'bedtools_genomecoveragebed_bedgraph', '974': 'trinity_align_and_estimate_abundance', '975': 'ConsensusID', '976': 'tp_head_tool', '977': 'rnbeads', '978': 'tp_sort_header_tool', '979': 'humann2_renorm_table', '980': 'trinity_filter_low_expr_transcripts', '981': 'seq_filter_by_id', '982': 'hicexplorer_hicfindtads', '983': 'openbabel_compound_convert', '984': 'umi_tools_count', '985': 'disco', '986': 'goenrichment', '987': 'seq_composition', '988': 'mothur_phylotype', '989': 'bowtie2', '990': 'metilene', '991': 'replace_column_with_key_value_file', '992': 'mothur_remove_seqs', '993': 'fastq_paired_end_interlacer', '994': 'infernal_cmsearch', '995': 'FalseDiscoveryRate', '996': 'bedtools_coveragebed', '997': 'bwa_mem', '998': 'deeptools_profiler', '999': 'extract_bcs.py', '1000': 'smf_utils_filter-by-energy', '1001': 'minfi_dmp', '1002': 'bismark_deduplicate', '1003': 'ucsc_cell_browser', '1004': 'mothur_summary_tax', '1005': 'gmx_merge_topology_files', '1006': 'gops_cluster_1', '1007': 'unzip', '1008': 'heatmap2', '1009': 'picard_AddOrReplaceReadGroups', '1010': 'deeptools_bigwigCompare', '1011': 'graphlan_annotate', '1012': 'minfi_dropsnp', '1013': 'fgsea', '1014': 'megablast_xml_parser', '1015': 'mothur_align_seqs', '1016': 'tp_multijoin_tool', '1017': 'IDMerger', '1018': 'qiime_make_otu_table', '1019': 'vcffilter2', '1020': 'velveth_jgi', '1021': 'Digestor', '1022': 'ip_binary_to_labelimage', '1023': 'CONVERTER_gz_to_uncompressed', '1024': 'varscan_somatic', '1025': 'CONVERTER_bed_gff_or_vcf_to_bigwig_0', '1026': 'FeatureLinkerUnlabeledQT', '1027': 'cshl_fasta_formatter', '1028': 'mycrobiota-otutable_add_blast', '1029': 'Extract_features1', '1030': 'mlocarna', '1031': 'kraken-translate', '1032': 'mothur_make_group', '1033': 'velvet', '1034': 'naive_variant_caller', '1035': 'thermo_raw_file_converter', '1036': 'minfi_maptogenome', '1037': 'raceid_clustering', '1038': 'r_correlation_matrix', '1039': 'cshl_fastx_trimmer', '1040': 'prepare_receptor', '1041': 'gmx_nvt', '1042': '__EXTRACT_DATASET__', '1043': 'CONVERTER_gff_to_bed_0', '1044': 'deeptools_correctGCBias', '1045': 'fastq_combiner', '1046': 'ip_landmark_registration', '1047': 'bamCompare_deepTools', '1048': 'mothur_unifrac_unweighted', '1049': 'aragorn_trna', '1050': 'blast_reciprocal_best_hits', '1051': 'stacks_genotypes', '1052': 'nspdk_sparse', '1053': 'snpSift_extractFields', '1054': 'mothur_lefse', '1055': 'mothur_cluster', '1056': 'featurecounts', '1057': 'vcfsort', '1058': 'pureclip', '1059': 'ctb_change_title', '1060': 'bwa', '1061': 'biosigner', '1062': 'hicexplorer_hicplotviewpoint', '1063': 'hgv_david', '1064': 'flash', '1065': 'trinity_samples_qccheck', '1066': 'snpEff_download', '1067': 'deeptools_plot_profile', '1068': 'tp_uniq_tool', '1069': 'staramr_search', '1070': 'Convert characters1', '1071': 'mothur_metastats', '1072': 'qiime_make_otu_heatmap', '1073': 'umi_tools_dedup', '1074': 'trim_galore', '1075': 'numeric_clustering', '1076': 'scaffold2fasta', '1077': 'tp_find_and_replace', '1078': 'scanpy_find_cluster', '1079': 'vsearch_chimera_detection', '1080': 'cuffcompare', '1081': 'regionalgam_flight_curve', '1082': 'mothur_count_groups', '1083': 'EMBOSS: getorf42', '1084': 'filter_bed_on_splice_junctions', '1085': 'prepare_ligand', '1086': 'ctb_alignit_create_db', '1087': 'bedtools_bamtofastq', '1088': 'xcms-collect-peaks', '1089': 'tp_awk_tool', '1090': 'gatk2_depth_of_coverage', '1091': 'wsdl_hmdb', '1092': 'translate_bed_sequences', '1093': 'ctb_compound_convert', '1094': 'bctools_remove_spurious_events', '1095': 'mass_spectrometry_imaging_classification', '1096': 'EMBOSS: textsearch98', '1097': 'mass_spectrometry_imaging_segmentations', '1098': 'join1', '1099': 'ncbi_makeblastdb', '1100': 'cshl_fastx_quality_statistics', '1101': 'Draw_phylogram', '1102': 'mimodd_reheader', '1103': 'vigiechiro_idvalid', '1104': 'flexbar', '1105': 'cshl_fastq_quality_boxplot', '1106': 'fastq_trimmer', '1107': 'imagecoordinates_flipaxis', '1108': 'rseqc_geneBody_coverage', '1109': 'iqtree', '1110': 'TrimByN', '1111': 'ctb_osra', '1112': 'passatutto', '1113': 'tp_unfold_column_tool', '1114': 'deeptools_bamFingerprint', '1115': 'vcffixup', '1116': 'methtools_destrand', '1117': 'sam_pileup', '1118': 'rgPicardMarkDups', '1119': 'Nucleosome', '1120': 'vcftools_isec', '1121': 'scanpy_normalise_data', '1122': 'CometAdapter', '1123': 'mycrobiota-correct-replicates', '1124': 't2t_report', '1125': 'bam-filter', '1126': 'wiggle2simple1', '1127': 'bandage_info', '1128': 'ggplot2_point', '1129': 'tophat_fusion_post', '1130': 'fastq_dump', '1131': 'samtools_flag_filter', '1132': 'MetaProSIP', '1133': 'meme_dreme', '1134': 'coords2clnt.py', '1135': 'iframe', '1136': 'deeptools_plot_pca', '1137': 'blast2go', '1138': 'tag_stat2', '1139': 'rsem_calculate_expression', '1140': 'react_cal_pipeline', '1141': 'FeatureLinkerUnlabeledKD', '1142': 'sample_seqs', '1143': 'abims_xcms_group', '1144': 'mass_spectrometry_imaging_combine', '1145': 'CONVERTER_bam_to_coodinate_sorted_bam', '1146': 'je_clip', '1147': 'nanopolish_variants', '1148': 'scanpy_find_variable_genes', '1149': 'ctb_ob_addh', '1150': 'bismark_bowtie', '1151': 'ChangeCase', '1152': 'vcftools_compare', '1153': 'tp_tac', '1154': 'methtools_filter', '1155': 'cuffnorm', '1156': 'w4mjoinpn', '1157': 'heinz_bum', '1158': 'cummerbund_to_cuffdiff', '1159': 'bg_statistical_hypothesis_testing', '1160': 'bamFilter', '1161': 'sm_mapper', '1162': 'seqtk_mergefa', '1163': 'viennarna_rnafold', '1164': 'picard_FilterSamReads', '1165': 'EMBOSS: shuffleseq87', '1166': 'flexbar_split_RYYR_bcs', '1167': 'tp_text_file_with_recurring_lines', '1168': 'gemini_de_novo', '1169': 'hicexplorer_hicsummatrices', '1170': 'ctb_remove_protonation_state', '1171': 'extract_aln_ends.py', '1172': 'gffcompare_to_bed', '1173': 'sickle', '1174': 'feelnc', '1175': 'map-msms2camera', '1176': 'bctools_extract_crosslinked_nucleotides', '1177': 'smf_utils_fix-fasta-headers', '1178': 'jcvi_gff_stats', '1179': 'search_gui', '1180': 'genrich', '1181': 'deeptools_plot_coverage', '1182': 'treebest_best', '1183': 'vigiechiro_idcorrect_2ndlayer', '1184': 'preproc', '1185': 'get_child_terms', '1186': 'cardinal_segmentations', '1187': 'ncbi_blastx_wrapper', '1188': 'cuffquant', '1189': 'CONVERTER_bam_to_bigwig_0', '1190': 'bcftools_norm', '1191': 'gemini_actionable_mutations', '1192': 'vcf2tsv', '1193': 'gemini_comp_hets', '1194': 'wig_to_bigWig', '1195': 'bedtools_genomecoveragebed', '1196': 'minfi_rset', '1197': 'bedtools_unionbedgraph', '1198': 'bwa_wrapper', '1199': 'gemini_annotate', '1200': 'cmFinder', '1201': 'deeptools_bamCoverage', '1202': 'get_flanks1', '1203': 'GeneModelMapper', '1204': 'ruvseq', '1205': 'deeptools_bamCompare', '1206': 'gatk2_variant_select', '1207': 'gmx_npt', '1208': 'rseqc_junction_saturation', '1209': 'fastq_paired_end_splitter', '1210': 'seurat_read10x', '1211': 'picard_CASM', '1212': 'EMBOSS: tranalign100', '1213': 'gatk2_realigner_target_creator', '1214': 'minfi_qc', '1215': 'rna_starsolo', '1216': 'ConsensusMapNormalizer', '1217': 'ip_threshold', '1218': 'snpeff_to_peptides', '1219': 'bedtools_windowbed', '1220': 'qiime_pick_open_reference_otus', '1221': 'cd_hit_dup', '1222': 'gemini_stats', '1223': 'bedtools_complementbed', '1224': 'sklearn_searchcv', '1225': 'msconvert_nix', '1226': 'rseqc_insertion_profile', '1227': 'bed_to_bigwig', '1228': 'proteomics_search_tandem_1', '1229': 'DecoyDatabase', '1230': 'FileInfo', '1231': '16Saligner', '1232': 'collection_column_join', '1233': 'prinseq', '1234': 'fastq_groomer', '1235': 'porechop', '1236': 'seurat_find_clusters', '1237': 'ip_coordinates_of_roi', '1238': 'qiime_filter_alignment', '1239': 'clusterprofiler_go', '1240': 'mothur_count_seqs', '1241': 'mothur_summary_seqs', '1242': 'sed_stream_editor', '1243': 'combine_metaphlan2_humann2', '1244': 'term_id_vs_term_name', '1245': 'mimodd_header', '1246': 'Paste1', '1247': 'sequence_content_trimmer', '1248': 'picard_MarkDuplicatesWithMateCigar', '1249': 'charts', '1250': 'SequenceCoverageCalculator', '1251': 'bedtools_sortbed', '1252': 'roary', '1253': 'CONVERTER_interval_to_bedstrict_0', '1254': 'ncbi_tblastn_wrapper', '1255': 'regionalgam_plot_trend', '1256': 't_coffee', '1257': 'ctb_confab', '1258': 'rbc_mirdeep2_quantifier', '1259': 'ctb_filter', '1260': 'stacks_refmap', '1261': 'ctb_ob_genProp', '1262': 'scanpy_filter_cells', '1263': 'seq_filter_by_mapping', '1264': 'rbc_mafft', '1265': 'mothur_merge_files', '1266': 'newick_display', '1267': 'cshl_uniq_tool', '1268': 'umi_tools_whitelist', '1269': 'sqlite_to_tabular', '1270': 'jbrowse', '1271': 'build_ucsc_custom_track_1', '1272': 'bio3d_rmsd', '1273': 'Remove_ending', '1274': 'vcfcheck', '1275': 'seurat', '1276': 'samtools_filter', '1277': 'trim_reads', '1278': 'TrimByLength', '1279': 'quast', '1280': 'deeptools_bamCorrelate', '1281': 'fasta-stats'}\n"
     ]
    }
   ],
   "source": [
    "import numpy as np\n",
    "import json\n",
    "import warnings\n",
    "import operator\n",
    "\n",
    "import h5py\n",
    "from keras.models import model_from_json\n",
    "from keras import backend as K\n",
    "\n",
    "warnings.filterwarnings(\"ignore\")\n",
    "\n",
    "\n",
    "def read_file(file_path):\n",
    "    with open(file_path, 'r') as data_file:\n",
    "        data = json.loads(data_file.read())\n",
    "    return data\n",
    "\n",
    "\n",
    "def create_model(model_path):\n",
    "    reverse_dictionary = dict((str(v), k) for k, v in dictionary.items())\n",
    "    model_weights = list()\n",
    "    weight_ctr = 0\n",
    "    for index, item in enumerate(trained_model.keys()):\n",
    "        if \"weight_\" in item:\n",
    "            d_key = \"weight_\" + str(weight_ctr)\n",
    "            weights = trained_model.get(d_key).value\n",
    "            model_weights.append(weights)\n",
    "            weight_ctr += 1\n",
    "    # set the model weights\n",
    "    loaded_model.set_weights(model_weights)\n",
    "    return loaded_model, dictionary, reverse_dictionary\n",
    "\n",
    "\n",
    "def compute_recommendations(model, tool_sequence, labels, dictionary, reverse_dictionary, class_weights, topk=20, max_seq_len=25):\n",
    "    tl_seq = tool_sequence.split(\",\")\n",
    "    last_tool_name = reverse_dictionary[str(tl_seq[-1])]\n",
    "    sample = np.zeros(max_seq_len)\n",
    "    for idx, tool_id in enumerate(tl_seq):\n",
    "        sample[idx] = int(tool_id)\n",
    "    sample_reshaped = np.reshape(sample, (1, max_seq_len))\n",
    "\n",
    "    tool_sequence_names = [reverse_dictionary[str(tool_pos)] for tool_pos in tool_sequence.split(\",\")]\n",
    "    \n",
    "    # predict next tools for a test path\n",
    "    prediction = model.predict(sample_reshaped, verbose=0)\n",
    "    \n",
    "    weight_val = list(class_weights.values())\n",
    "    weight_val = np.reshape(weight_val, (len(weight_val),))\n",
    "    \n",
    "    prediction = np.reshape(prediction, (prediction.shape[1],))\n",
    "    \n",
    "    prediction = prediction * weight_val\n",
    "    \n",
    "    prediction = prediction / float(np.max(prediction))\n",
    "    \n",
    "    prediction_pos = np.argsort(prediction, axis=-1)\n",
    "\n",
    "    # get topk prediction\n",
    "    topk_prediction_pos = prediction_pos[-topk:]\n",
    "    topk_prediction_val = [int(prediction[pos] * 100) for pos in topk_prediction_pos]\n",
    "    \n",
    "    # read tool names using reverse dictionary\n",
    "    pred_tool_ids = [reverse_dictionary[str(tool_pos)] for tool_pos in topk_prediction_pos]\n",
    "\n",
    "    pred_tool_ids_sorted = dict()\n",
    "    for (tool_pos, tool_pred_val) in zip(topk_prediction_pos, topk_prediction_val):\n",
    "        tool_name = reverse_dictionary[str(tool_pos)]\n",
    "        pred_tool_ids_sorted[tool_name] = tool_pred_val\n",
    "    pred_tool_ids_sorted = dict(sorted(pred_tool_ids_sorted.items(), key=lambda kv: kv[1], reverse=True))\n",
    "\n",
    "    ids_tools = dict()\n",
    "    keys = list(pred_tool_ids_sorted.keys())\n",
    "    tool_seq_name = \",\".join(tool_sequence_names)\n",
    "    print(\"Current tool sequence: \")\n",
    "    print()\n",
    "    print(tool_seq_name)\n",
    "    print()\n",
    "    print(\"Recommended tools for the tool sequence '%s' with their scores in decreasing order:\" % tool_seq_name)\n",
    "    print()\n",
    "    for i in pred_tool_ids_sorted:\n",
    "        print(i + \"(\" + str(pred_tool_ids_sorted[i]) + \"%)\")\n",
    "    for key in pred_tool_ids_sorted:\n",
    "        ids_tools[key] = dictionary[key]\n",
    "    print()\n",
    "    print(\"Tool ids:\")\n",
    "    print()\n",
    "    for i in ids_tools:\n",
    "        print(i + \"(\" + str(ids_tools[i]) + \")\")\n",
    "\n",
    "\n",
    "model_path = \"../output_files/data/models/model_18_10.hdf5\"\n",
    "\n",
    "trained_model = h5py.File(model_path, 'r')\n",
    "model_config = json.loads(trained_model.get('model_config').value)\n",
    "dictionary = json.loads(trained_model.get('data_dictionary').value)\n",
    "class_weights = json.loads(trained_model.get('class_weights').value)\n",
    "loaded_model = model_from_json(model_config)\n",
    "\n",
    "model, dictionary, reverse_dictionary = create_model(model_path)\n",
    "\n",
    "print(reverse_dictionary)"
   ]
  },
  {
   "cell_type": "code",
   "execution_count": 13,
   "metadata": {
    "scrolled": false
   },
   "outputs": [
    {
     "name": "stdout",
     "output_type": "stream",
     "text": [
      "Current tool sequence: \n",
      "\n",
      "fastqc,CONVERTER_gz_to_uncompressed\n",
      "\n",
      "Recommended tools for the tool sequence 'fastqc,CONVERTER_gz_to_uncompressed' with their scores in decreasing order:\n",
      "\n",
      "fastqc(100%)\n",
      "bowtie2(80%)\n",
      "fastq_groomer(78%)\n",
      "tophat2(52%)\n",
      "macs2_callpeak(41%)\n",
      "fastq_to_fasta_python(27%)\n",
      "bwa_mem(23%)\n",
      "trimmomatic(14%)\n",
      "featurecounts(13%)\n",
      "bowtie_wrapper(12%)\n",
      "hisat2(10%)\n",
      "cshl_fastx_reverse_complement(9%)\n",
      "rna_star(9%)\n",
      "gffcompare(7%)\n",
      "fastq_filter(6%)\n",
      "deeptools_multi_bam_summary(6%)\n",
      "trim_galore(5%)\n",
      "unicycler(4%)\n",
      "__FLATTEN__(4%)\n",
      "cutadapt(4%)\n",
      "\n",
      "Tool ids:\n",
      "\n",
      "fastqc(22)\n",
      "bowtie2(989)\n",
      "fastq_groomer(1234)\n",
      "tophat2(908)\n",
      "macs2_callpeak(580)\n",
      "fastq_to_fasta_python(136)\n",
      "bwa_mem(997)\n",
      "trimmomatic(246)\n",
      "featurecounts(1056)\n",
      "bowtie_wrapper(858)\n",
      "hisat2(188)\n",
      "cshl_fastx_reverse_complement(911)\n",
      "rna_star(613)\n",
      "gffcompare(794)\n",
      "fastq_filter(227)\n",
      "deeptools_multi_bam_summary(187)\n",
      "trim_galore(1074)\n",
      "unicycler(438)\n",
      "__FLATTEN__(399)\n",
      "cutadapt(633)\n"
     ]
    }
   ],
   "source": [
    "topk = 20 # set the maximum number of recommendations\n",
    "tool_seq = \"22,1023\" # give tools ids in a sequence and see the recommendations. To know all the tool ids, \n",
    "                     # please print the variable 'reverse_dictionary'\n",
    "compute_recommendations(model, tool_seq, \"\", dictionary, reverse_dictionary, class_weights, topk)"
   ]
  },
  {
   "cell_type": "code",
   "execution_count": 9,
   "metadata": {},
   "outputs": [
    {
     "data": {
      "text/plain": [
       "8.174907483683684"
      ]
     },
     "execution_count": 9,
     "metadata": {},
     "output_type": "execute_result"
    }
   ],
   "source": [
    "class_weights[\"1023\"]"
   ]
  },
  {
   "cell_type": "code",
   "execution_count": null,
   "metadata": {},
   "outputs": [],
   "source": []
  }
 ],
 "metadata": {
  "kernelspec": {
   "display_name": "Python 3",
   "language": "python",
   "name": "python3"
  },
  "language_info": {
   "codemirror_mode": {
    "name": "ipython",
    "version": 3
   },
   "file_extension": ".py",
   "mimetype": "text/x-python",
   "name": "python",
   "nbconvert_exporter": "python",
   "pygments_lexer": "ipython3",
   "version": "3.6.7"
  }
 },
 "nbformat": 4,
 "nbformat_minor": 2
}
