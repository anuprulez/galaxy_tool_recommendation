{
 "cells": [
  {
   "cell_type": "markdown",
   "metadata": {},
   "source": [
    "## Load model and compute recommended tools"
   ]
  },
  {
   "cell_type": "code",
   "execution_count": 7,
   "metadata": {},
   "outputs": [],
   "source": [
    "import os\n",
    "import numpy as np\n",
    "import json\n",
    "import h5py\n",
    "\n",
    "def load_model(model_path):\n",
    "    model = h5py.File(model_path, 'r')\n",
    "    dictionary = json.loads(model.get('data_dictionary').value)\n",
    "    paths = json.loads(model.get('multilabels_paths').value)\n",
    "    c_tools = json.loads(model.get('compatible_next_tools').value)\n",
    "    class_weights = json.loads(model.get('class_weights').value)\n",
    "    standard_connections = json.loads(model.get('standard_connections').value)\n",
    "    rev_dict = dict((str(v), k) for k, v in dictionary.items())\n",
    "    return paths, dictionary, rev_dict, c_tools, class_weights, standard_connections\n",
    "\n",
    "def predict_tools(dict_paths, d_dict, c_tools, class_weights, test_path=\"bowtie2\"):\n",
    "    p_num = list()\n",
    "    for t in test_path.split(\",\"):\n",
    "            p_num.append(str(d_dict[t]))\n",
    "    p_num = \",\".join(p_num)\n",
    "    predicted_tools = list()\n",
    "    for k in dict_paths:\n",
    "        if k == p_num:\n",
    "            predicted_tools = dict_paths[k].split(\",\")\n",
    "            break\n",
    "    pred_names = list()\n",
    "    for tool in predicted_tools:\n",
    "        pred_names.append(rev_dict[tool])\n",
    "    return predicted_tools, pred_names\n",
    "\n",
    "def sort_by_wt(t_list):\n",
    "    c_wt_names = dict()\n",
    "    \n",
    "    for t_name in t_list:\n",
    "        t_id = d_dict[t_name]\n",
    "        c_wt_names[t_name] = class_weights[str(t_id)]\n",
    "    sorted_pred_tools = sorted(c_wt_names.items(), key=lambda item: item[1], reverse=True)\n",
    "    sorted_names = list()\n",
    "    for k, v in sorted_pred_tools:\n",
    "        sorted_names.append(k)\n",
    "    return sorted_names[:topk]\n",
    "\n",
    "def sort_recommended_tools(pred_names):\n",
    "    s_pred_sorted = list()\n",
    "    n_pred_sorted = list()\n",
    "    if test_path in standard_connections:\n",
    "        s_conn = standard_connections[test_path]\n",
    "        s_pred = list(set(s_conn).intersection(set(pred_names)))\n",
    "        n_pred = list(set(pred_names).difference(set(s_conn)))\n",
    "        s_pred_sorted = sort_by_wt(s_pred)\n",
    "        n_pred_sorted = sort_by_wt(n_pred)\n",
    "    else:\n",
    "        n_pred_sorted = sort_by_wt(pred_names)\n",
    "    s_pred_sorted.extend(n_pred_sorted)\n",
    "    return s_pred_sorted"
   ]
  },
  {
   "cell_type": "code",
   "execution_count": 8,
   "metadata": {},
   "outputs": [],
   "source": [
    "model_path = \"data/tool_recommendation_model_statistical_model.hdf5\"\n",
    "dict_paths, d_dict, rev_dict, c_tools, class_weights, standard_connections = load_model(model_path)\n",
    "\n",
    "# get recommendations\n",
    "topk = 10 # this specifies how many top recommended tools are computed\n"
   ]
  },
  {
   "cell_type": "markdown",
   "metadata": {},
   "source": [
    "## Example tools"
   ]
  },
  {
   "cell_type": "code",
   "execution_count": 9,
   "metadata": {},
   "outputs": [],
   "source": [
    "# Assembly: \n",
    "# (https://training.galaxyproject.org/training-material/topics/assembly/tutorials/debruijn-graph-assembly/tutorial.html)\n",
    "# spades -> 'bandage_info', 'fasta-stats', 'bandage_image', 'fasta_filter_by_length', 'abricate', 'quast', 'mlst' ... \n",
    "# velveth -> velvetg\n",
    "# (https://training.galaxyproject.org/training-material/topics/assembly/tutorials/unicycler-assembly/tutorial.html)\n",
    "# unicycler -> 'bandage_info', 'glimmer_build-icm', 'glimmer_knowlegde-based', 'bandage_image', 'transdecoder', 'minimap2', 'antismash', 'fasta_filter_by_length' ...\n",
    "\n",
    "\n",
    "## Computational chemistry\n",
    "# ctb_remDuplicates -> ctb_remIons \n",
    "# ctb_remDuplicates,ctb_remIons -> 'ctb_chemfp_mol2fps', 'ctb_compound_convert'\n",
    "# ctb_remDuplicates,ctb_remIons,ctb_chemfp_mol2fps -> 'ctb_chemfp_butina_clustering', 'ctb_simsearch', 'ctb_chemfp_nxn_clustering', 'comp1'\n",
    "# (https://training.galaxyproject.org/training-material/topics/computational-chemistry/tutorials/cheminformatics/tutorial.html)\n",
    "\n",
    "\n",
    "## RAD-seq\n",
    "# (https://training.galaxyproject.org/training-material/topics/ecology/tutorials/ref-based-rad-seq/tutorial.html)\n",
    "# stacks_procrad -> 'bwa', 'bwa_wrapper', 'Grep1', 'stacks_denovomap', 'fastqc', 'fastq_filter'\n",
    "\n",
    "\n",
    "## Epigenetics\n",
    "# (https://training.galaxyproject.org/training-material/topics/epigenetics/tutorials/atac-seq/tutorial.html)\n",
    "# cutadapt,bowtie2 => samtools_flagstat', 'picard_MarkDuplicates', 'picard_AddOrReplaceReadGroups', 'macs2_callpeak','bg_sortmerna', 'multiqc', 'hisat2', 'trim_galore', 'bowtie2' ...\n",
    "# cutadapt,bowtie2,picard_MarkDuplicates -> 'picard_ReorderSam', 'gatk4_mutect2', 'samtools_rmdup'\n",
    "# cutadapt,bowtie2,picard_MarkDuplicates,genrich -> 'pygenomeTracks'\n",
    "#\n",
    "# (https://training.galaxyproject.org/training-material/topics/epigenetics/tutorials/methylation-seq/tutorial.html)\n",
    "# bwameth -> 'samtools_rmdup', 'samtools_sort', 'bam_to_sam', 'pileometh' ..\n",
    "# bwameth,pileometh -> 'deeptools_compute_matrix', 'tp_sed_tool', 'Filter1', 'metilene', 'Remove beginning1', 'wig_to_bigWig'\n",
    "#\n",
    "# bowtie2 -> samtools_flagstat', 'picard_MarkDuplicates', 'picard_AddOrReplaceReadGroups ... \n",
    "# bowtie2,deeptools_multi_bam_summary -> 'deeptools_plot_pca', 'r_correlation_matrix' ...\n",
    "# (https://training.galaxyproject.org/training-material/topics/epigenetics/tutorials/formation_of_super-structures_on_xi/tutorial.html)\n",
    "\n",
    "# bowtie2,hicexplorer_hicbuildmatrix -> 'hicexplorer_hicsummatrices', 'hicexplorer_hicplotviewpoint', 'tp_sed_tool', 'hicexplorer_hiccorrectmatrix', 'hicexplorer_hicmergematrixbins', 'hicexplorer_hicpca' ..\n",
    "# bowtie2,hicexplorer_hicbuildmatrix,hicexplorer_hicmergematrixbins -> 'hicexplorer_hiccorrectmatrix', 'hicexplorer_hicplottads', 'hicexplorer_hicplotmatrix'\n",
    "# (https://training.galaxyproject.org/training-material/topics/epigenetics/tutorials/hicexplorer/tutorial.html)\n",
    "\n",
    "# minfi_read450k -> 'minfi_getbeta'\n",
    "\n",
    "\n",
    "## Genome annotation\n",
    "# (https://training.galaxyproject.org/training-material/topics/genome-annotation/tutorials/annotation-with-maker/tutorial.html)\n",
    "# maker -> 'gffread', 'maker_map_ids', 'jcvi_gff_stats'\n",
    "# (https://training.galaxyproject.org/training-material/topics/genome-annotation/tutorials/annotation-with-prokka/tutorial.html)\n",
    "# prokka -> 'mlst', 'jbrowse', 'taxonomy_krona_chart' ...\n",
    "\n",
    "\n",
    "## Imaging\n",
    "# (https://training.galaxyproject.org/training-material/topics/imaging/tutorials/hela-screen-analysis/tutorial.html)\n",
    "# ip_filter_standard -> 'ip_histogram_equalization', 'ip_threshold', 'ip_count_objects\n",
    "# ip_filter_standard,ip_threshold -> ip_binary_to_labelimage', 'ip_2d_split_binaryimage_by_watershed', 'ip_count_objects', 'ip_convertimage'\n",
    "# ip_filter_standard,ip_threshold,ip_2d_split_binaryimage_by_watershed -> 'ip_2d_filter_segmentation_by_features', 'ip_2d_feature_extraction'\n",
    "\n",
    "\n",
    "## Mass spectrometry\n",
    "# mass_spectrometry_imaging_preprocessing -> 'Cut1', 'tp_easyjoin_tool', 'tp_sort_header_tool' ...\n",
    "# mass_spectrometry_imaging_preprocessing,mass_spectrometry_imaging_combine -> 'maldi_quant_preprocessing', 'mass_spectrometry_imaging_preprocessing' ...\n",
    "# search_gui -> peptide_shaker\n",
    "# search_gui,peptide_shaker -> 'Filter1', 'Grep1', 'tp_easyjoin_tool', 'Remove beginning1', 'query_tabular' ...\n",
    "\n",
    "## Single cell\n",
    "# (https://training.galaxyproject.org/training-material/topics/transcriptomics/tutorials/scrna-preprocessing-tenx/tutorial.html)\n",
    "# rna_starsolo -> 'dropletutils', 'multiqc'\n",
    "# rna_starsolo,dropletutils -> 'Convert characters1', 'scanpy_plot', 'scanpy_cluster_reduce_dimension'\n",
    "\n",
    "\n",
    "## Variant calling\n",
    "# (https://training.galaxyproject.org/training-material/topics/variant-analysis/tutorials/microbial-variants/tutorial.html)\n",
    "# snippy -> 'bedtools_intersectbed', 'freebayes' ...\n",
    "\n",
    "# https://training.galaxyproject.org/training-material/topics/variant-analysis/tutorials/somatic-variants/tutorial.html\n",
    "# trimmomatic,bwa_mem,samtools_rmdup,bamleftalign -> 'fastqc', 'deeptools_bam_coverage', 'freebayes', 'samtool_filter2' ...\n",
    "\n",
    "# (https://training.galaxyproject.org/training-material/topics/variant-analysis/tutorials/dip/tutorial.html)\n",
    "# freebayes -> 'bcftools_norm', 'vcfallelicprimitives', 'custom_pro_db' ...\n",
    "# freebayes,vcfallelicprimitives -> 'snpEff', 'snpSift_filter', 'vt_normalize', 'snpSift_annotate' \n",
    "# freebayes,vcfallelicprimitives,snpEff -> 'Add_a_column1', 'freebayes', 'vcf2tsv', 'samtools_mpileup', 'vcffilter2' ...\n",
    "\n",
    "\n",
    "## Transcriptomics\n",
    "# (https://training.galaxyproject.org/training-material/topics/transcriptomics/tutorials/ref-based/tutorial.html)\n",
    "# cutadapt -> 'fastqc', 'rna_star', 'multiqc', 'fastq_paired_end_interlacer' ...\n",
    "# cutadapt,rna_star -> 'fastqc', 'featurecounts', 'multiqc', 'deeptools_bam_coverage',\n",
    "# cutadapt,rna_star,featurecounts ->'fastqc', 'bowtie2', 'multiqc', 'trim_galore' ...\n",
    "\n",
    "\n",
    "# Single-cell HiC\n",
    "# schicexplorer_schicqualitycontrol -> 'schicexplorer_schicnormalize'"
   ]
  },
  {
   "cell_type": "markdown",
   "metadata": {},
   "source": [
    "## Recommended tools"
   ]
  },
  {
   "cell_type": "code",
   "execution_count": 10,
   "metadata": {},
   "outputs": [
    {
     "name": "stdout",
     "output_type": "stream",
     "text": [
      "['Cut1', 'tp_easyjoin_tool', 'tp_sort_header_tool', 'collection_column_join', 'mass_spectrometry_imaging_preprocessing', 'mass_spectrometry_imaging_mzplots', 'mass_spectrometry_imaging_qc', 'mass_spectrometry_imaging_combine', 'mass_spectrometry_imaging_segmentations', 'mass_spectrometry_imaging_ion_images']\n"
     ]
    }
   ],
   "source": [
    "test_path = \"mass_spectrometry_imaging_preprocessing\"\n",
    "pred_ids, pred_names = predict_tools(dict_paths, d_dict, c_tools, class_weights, test_path)\n",
    "s_pred_sorted = sort_recommended_tools(pred_names)\n",
    "print(s_pred_sorted)"
   ]
  },
  {
   "cell_type": "code",
   "execution_count": null,
   "metadata": {
    "scrolled": true
   },
   "outputs": [],
   "source": []
  },
  {
   "cell_type": "code",
   "execution_count": null,
   "metadata": {},
   "outputs": [],
   "source": []
  },
  {
   "cell_type": "code",
   "execution_count": null,
   "metadata": {},
   "outputs": [],
   "source": []
  }
 ],
 "metadata": {
  "kernelspec": {
   "display_name": "Python [conda env:tool_prediction_networkX]",
   "language": "python",
   "name": "conda-env-tool_prediction_networkX-py"
  },
  "language_info": {
   "codemirror_mode": {
    "name": "ipython",
    "version": 3
   },
   "file_extension": ".py",
   "mimetype": "text/x-python",
   "name": "python",
   "nbconvert_exporter": "python",
   "pygments_lexer": "ipython3",
   "version": "3.6.10"
  }
 },
 "nbformat": 4,
 "nbformat_minor": 4
}
