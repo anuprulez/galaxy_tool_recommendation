{
 "cells": [
  {
   "cell_type": "markdown",
   "metadata": {},
   "source": [
    "## Load model and compute recommended tools"
   ]
  },
  {
   "cell_type": "code",
   "execution_count": 5,
   "metadata": {},
   "outputs": [],
   "source": [
    "import os\n",
    "import numpy as np\n",
    "import json\n",
    "import h5py\n",
    "\n",
    "def load_model(model_path):\n",
    "    model = h5py.File(model_path, 'r')\n",
    "    dictionary = json.loads(model.get('data_dictionary').value)\n",
    "    paths = json.loads(model.get('multilabels_paths').value)\n",
    "    c_tools = json.loads(model.get('compatible_next_tools').value)\n",
    "    class_weights = json.loads(model.get('class_weights').value)\n",
    "    standard_connections = json.loads(model.get('standard_connections').value)\n",
    "    rev_dict = dict((str(v), k) for k, v in dictionary.items())\n",
    "    return paths, dictionary, rev_dict, c_tools, class_weights, standard_connections\n",
    "\n",
    "def predict_tools(dict_paths, d_dict, c_tools, class_weights, test_path=\"bowtie2\"):\n",
    "    p_num = list()\n",
    "    for t in test_path.split(\",\"):\n",
    "            p_num.append(str(d_dict[t]))\n",
    "    p_num = \",\".join(p_num)\n",
    "    predicted_tools = list()\n",
    "    for k in dict_paths:\n",
    "        if k == p_num:\n",
    "            predicted_tools = dict_paths[k].split(\",\")\n",
    "            break\n",
    "    pred_names = list()\n",
    "    for tool in predicted_tools:\n",
    "        pred_names.append(rev_dict[tool])\n",
    "    return predicted_tools, pred_names"
   ]
  },
  {
   "cell_type": "code",
   "execution_count": 6,
   "metadata": {},
   "outputs": [
    {
     "name": "stdout",
     "output_type": "stream",
     "text": [
      "{'Grep1': ['Remove beginning1', 'computeMatrix'], 'Cut1': ['addValue', 'Paste1', 'wig_to_bigWig', 'sort1'], 'Remove beginning1': ['Cut1'], 'addValue': ['Paste1', 'cat1'], 'Paste1': ['addValue', 'Add_a_column1'], 'Add_a_column1': ['addValue', 'Cut1'], 'cat1': ['barchart_gnuplot'], 'Filter1': ['Summary_Statistics1', 'Add_a_column1', 'seq_filter_by_id'], 'gops_coverage_1': ['Filter1', 'cshl_grep_tool'], 'cshl_grep_tool': ['Summary_Statistics1'], 'Summary_Statistics1': ['Cut1'], 'bedtools_intersectbed_bam': ['wc_gnu', 'sort1'], 'wc_gnu': ['addValue'], 'sort1': ['cshl_awk_tool', 'cshl_uniq_tool'], 'cshl_awk_tool': ['cshl_uniq_tool'], 'Count1': ['cat1', 'barchart_gnuplot'], 'cshl_uniq_tool': ['Count1'], 'bamCompare_deepTools': ['computeMatrix'], 'computeMatrix': ['heatmapper_deepTools', 'dt_profiler'], 'bamCoverage_deepTools': ['computeMatrix'], 'rmcontamination': ['scaffold2fasta'], 'scaffold2fasta': ['eukaryotic_ncbi_submission', 'prokaryotic_ncbi_submission'], 'eukaryotic_ncbi_submission': ['antismash'], 'bwa_wrapper': ['sam_bw_filter'], 'sam_bw_filter': ['sam_to_bam'], 'sam_to_bam': ['picard_ARRG', 'rgPicardMarkDups'], 'picard_ARRG': ['sam_merge2'], 'sam_merge2': ['freebayes', 'naive_variant_caller'], 'naive_variant_caller': ['allele_counts_1'], 'allele_counts_1': ['Filter1'], 'glimmer_build-icm': ['glimmer_knowlegde-based'], 'glimmer_knowlegde-based': ['EMBOSS: transeq101'], 'seq_filter_by_id': ['tmhmm2'], 'tmhmm2': ['Filter1'], 'signalp3': ['Filter1'], 'prokaryotic_ncbi_submission': ['antismash'], 'gatk2_variant_apply_recalibration': ['vcftools_merge'], 'vcftools_merge': ['cshl_cut_tool'], 'rgPicardMarkDups': ['picard_ReorderSam'], 'bowtie2': ['rgPicardMarkDups'], 'gatk2_realigner_target_creator': ['gatk2_indel_realigner'], 'picard_ReorderSam': ['gatk2_indel_realigner', 'gatk2_realigner_target_creator'], 'gatk2_base_recalibrator': ['gatk2_print_reads'], 'gatk2_indel_realigner': ['gatk2_print_reads', 'gatk2_base_recalibrator'], 'gatk2_reduce_reads': ['gatk2_haplotype_caller'], 'gatk2_print_reads': ['gatk2_reduce_reads'], 'gatk2_variant_recalibrator': ['gatk2_variant_apply_recalibration'], 'gatk2_haplotype_caller': ['gatk2_variant_recalibrator', 'gatk2_variant_apply_recalibration'], 'bwa_mem': ['sam_to_bam'], 'vcfallelicprimitives': ['vt_normalize', 'snpSift_filter'], 'freebayes': ['vcfallelicprimitives'], 'snpSift_filter': ['snpSift_annotate'], 'vt_normalize': ['snpSift_filter'], 'snpSift_annotate': ['snpEff'], 'gops_intersect_1': ['Count1'], 'bcftools_view': ['snpSift_filter'], 'samtools_mpileup': ['bcftools_view']}\n"
     ]
    },
    {
     "ename": "KeyError",
     "evalue": "'umi_tools_extract'",
     "output_type": "error",
     "traceback": [
      "\u001b[0;31m---------------------------------------------------------------------------\u001b[0m",
      "\u001b[0;31mKeyError\u001b[0m                                  Traceback (most recent call last)",
      "\u001b[0;32m<ipython-input-6-4c5543013796>\u001b[0m in \u001b[0;36m<module>\u001b[0;34m\u001b[0m\n\u001b[1;32m      4\u001b[0m \u001b[0mdict_paths\u001b[0m\u001b[0;34m,\u001b[0m \u001b[0md_dict\u001b[0m\u001b[0;34m,\u001b[0m \u001b[0mrev_dict\u001b[0m\u001b[0;34m,\u001b[0m \u001b[0mc_tools\u001b[0m\u001b[0;34m,\u001b[0m \u001b[0mclass_weights\u001b[0m\u001b[0;34m,\u001b[0m \u001b[0mstandard_connections\u001b[0m \u001b[0;34m=\u001b[0m \u001b[0mload_model\u001b[0m\u001b[0;34m(\u001b[0m\u001b[0mmodel_path\u001b[0m\u001b[0;34m)\u001b[0m\u001b[0;34m\u001b[0m\u001b[0;34m\u001b[0m\u001b[0m\n\u001b[1;32m      5\u001b[0m \u001b[0mprint\u001b[0m\u001b[0;34m(\u001b[0m\u001b[0mstandard_connections\u001b[0m\u001b[0;34m)\u001b[0m\u001b[0;34m\u001b[0m\u001b[0;34m\u001b[0m\u001b[0m\n\u001b[0;32m----> 6\u001b[0;31m \u001b[0mpred_ids\u001b[0m\u001b[0;34m,\u001b[0m \u001b[0mpred_names\u001b[0m \u001b[0;34m=\u001b[0m \u001b[0mpredict_tools\u001b[0m\u001b[0;34m(\u001b[0m\u001b[0mdict_paths\u001b[0m\u001b[0;34m,\u001b[0m \u001b[0md_dict\u001b[0m\u001b[0;34m,\u001b[0m \u001b[0mc_tools\u001b[0m\u001b[0;34m,\u001b[0m \u001b[0mclass_weights\u001b[0m\u001b[0;34m,\u001b[0m \u001b[0mtest_path\u001b[0m\u001b[0;34m)\u001b[0m\u001b[0;34m\u001b[0m\u001b[0;34m\u001b[0m\u001b[0m\n\u001b[0m",
      "\u001b[0;32m<ipython-input-5-a8d12c5bebff>\u001b[0m in \u001b[0;36mpredict_tools\u001b[0;34m(dict_paths, d_dict, c_tools, class_weights, test_path)\u001b[0m\n\u001b[1;32m     17\u001b[0m     \u001b[0mp_num\u001b[0m \u001b[0;34m=\u001b[0m \u001b[0mlist\u001b[0m\u001b[0;34m(\u001b[0m\u001b[0;34m)\u001b[0m\u001b[0;34m\u001b[0m\u001b[0;34m\u001b[0m\u001b[0m\n\u001b[1;32m     18\u001b[0m     \u001b[0;32mfor\u001b[0m \u001b[0mt\u001b[0m \u001b[0;32min\u001b[0m \u001b[0mtest_path\u001b[0m\u001b[0;34m.\u001b[0m\u001b[0msplit\u001b[0m\u001b[0;34m(\u001b[0m\u001b[0;34m\",\"\u001b[0m\u001b[0;34m)\u001b[0m\u001b[0;34m:\u001b[0m\u001b[0;34m\u001b[0m\u001b[0;34m\u001b[0m\u001b[0m\n\u001b[0;32m---> 19\u001b[0;31m             \u001b[0mp_num\u001b[0m\u001b[0;34m.\u001b[0m\u001b[0mappend\u001b[0m\u001b[0;34m(\u001b[0m\u001b[0mstr\u001b[0m\u001b[0;34m(\u001b[0m\u001b[0md_dict\u001b[0m\u001b[0;34m[\u001b[0m\u001b[0mt\u001b[0m\u001b[0;34m]\u001b[0m\u001b[0;34m)\u001b[0m\u001b[0;34m)\u001b[0m\u001b[0;34m\u001b[0m\u001b[0;34m\u001b[0m\u001b[0m\n\u001b[0m\u001b[1;32m     20\u001b[0m     \u001b[0mp_num\u001b[0m \u001b[0;34m=\u001b[0m \u001b[0;34m\",\"\u001b[0m\u001b[0;34m.\u001b[0m\u001b[0mjoin\u001b[0m\u001b[0;34m(\u001b[0m\u001b[0mp_num\u001b[0m\u001b[0;34m)\u001b[0m\u001b[0;34m\u001b[0m\u001b[0;34m\u001b[0m\u001b[0m\n\u001b[1;32m     21\u001b[0m     \u001b[0mpredicted_tools\u001b[0m \u001b[0;34m=\u001b[0m \u001b[0mlist\u001b[0m\u001b[0;34m(\u001b[0m\u001b[0;34m)\u001b[0m\u001b[0;34m\u001b[0m\u001b[0;34m\u001b[0m\u001b[0m\n",
      "\u001b[0;31mKeyError\u001b[0m: 'umi_tools_extract'"
     ]
    }
   ],
   "source": [
    "model_path = \"data/tool_recommendation_model_statistical_model.hdf5\"\n",
    "test_path = \"umi_tools_extract\"\n",
    "dict_paths, d_dict, rev_dict, c_tools, class_weights, standard_connections = load_model(model_path)\n",
    "pred_ids, pred_names = predict_tools(dict_paths, d_dict, c_tools, class_weights, test_path)"
   ]
  },
  {
   "cell_type": "markdown",
   "metadata": {},
   "source": [
    "## Fetch top recommended tools (sorted in descending order based on their usage)"
   ]
  },
  {
   "cell_type": "code",
   "execution_count": null,
   "metadata": {
    "scrolled": false
   },
   "outputs": [],
   "source": [
    "c_wt_names = dict()\n",
    "topk = 20 # this specifies how many top recommended tools are computed\n",
    "for t_id in pred_ids:\n",
    "    t_name = rev_dict[t_id]\n",
    "    c_wt_names[t_name] = class_weights[t_id]\n",
    "sorted_pred_tools = sorted(c_wt_names.items(), key=lambda item: item[1], reverse=True)\n",
    "sorted_names = list()\n",
    "for k, v in sorted_pred_tools:\n",
    "    sorted_names.append(k)"
   ]
  },
  {
   "cell_type": "markdown",
   "metadata": {},
   "source": [
    "## Top recommended tools"
   ]
  },
  {
   "cell_type": "code",
   "execution_count": null,
   "metadata": {},
   "outputs": [],
   "source": [
    "print(sorted_names[:topk])"
   ]
  },
  {
   "cell_type": "code",
   "execution_count": null,
   "metadata": {
    "scrolled": true
   },
   "outputs": [],
   "source": [
    "d_dict"
   ]
  },
  {
   "cell_type": "code",
   "execution_count": null,
   "metadata": {},
   "outputs": [],
   "source": []
  }
 ],
 "metadata": {
  "kernelspec": {
   "display_name": "Python [conda env:tool_prediction_networkX]",
   "language": "python",
   "name": "conda-env-tool_prediction_networkX-py"
  },
  "language_info": {
   "codemirror_mode": {
    "name": "ipython",
    "version": 3
   },
   "file_extension": ".py",
   "mimetype": "text/x-python",
   "name": "python",
   "nbconvert_exporter": "python",
   "pygments_lexer": "ipython3",
   "version": "3.6.10"
  }
 },
 "nbformat": 4,
 "nbformat_minor": 4
}
