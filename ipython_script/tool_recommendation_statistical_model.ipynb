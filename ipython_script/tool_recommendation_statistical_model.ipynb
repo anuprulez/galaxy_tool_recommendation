{
 "cells": [
  {
   "cell_type": "code",
   "execution_count": 46,
   "metadata": {},
   "outputs": [],
   "source": [
    "import os\n",
    "import numpy as np\n",
    "import json\n",
    "import h5py\n",
    "\n",
    "def load_model(model_path):\n",
    "    model = h5py.File(model_path, 'r')\n",
    "    dictionary = json.loads(model.get('data_dictionary').value)\n",
    "    paths = json.loads(model.get('multilabels_paths').value)\n",
    "    c_tools = json.loads(model.get('compatible_next_tools').value)\n",
    "    class_weights = json.loads(model.get('class_weights').value)\n",
    "    rev_dict = dict((str(v), k) for k, v in dictionary.items())\n",
    "    return paths, dictionary, rev_dict, c_tools, class_weights\n",
    "\n",
    "def predict_tools(dict_paths, d_dict, c_tools, class_weights, test_path=\"bowtie2\"):\n",
    "    p_num = list()\n",
    "    for t in test_path.split(\",\"):\n",
    "            p_num.append(str(d_dict[t]))\n",
    "    p_num = \",\".join(p_num)\n",
    "    predicted_tools = list()\n",
    "    for k in dict_paths:\n",
    "        if k == p_num:\n",
    "            predicted_tools = dict_paths[k].split(\",\")\n",
    "            break\n",
    "    pred_names = list()\n",
    "    for tool in predicted_tools:\n",
    "        pred_names.append(rev_dict[tool])\n",
    "    #print(\"Test path: %s\" % test_path)\n",
    "    #print(\"Predicted tools: %s\" % \",\".join(pred_names))\n",
    "    return predicted_tools, pred_names"
   ]
  },
  {
   "cell_type": "code",
   "execution_count": 47,
   "metadata": {},
   "outputs": [],
   "source": [
    "model_path = \"data/tool_recommendation_model_statistical_model.hdf5\"\n",
    "test_path = \"trimmomatic,rna_star\"\n",
    "dict_paths, d_dict, rev_dict, c_tools, class_weights = load_model(model_path)\n",
    "pred_ids, pred_names = predict_tools(dict_paths, d_dict, c_tools, class_weights, test_path)"
   ]
  },
  {
   "cell_type": "code",
   "execution_count": 50,
   "metadata": {
    "scrolled": false
   },
   "outputs": [],
   "source": [
    "c_wt_names = dict()\n",
    "topk = 5\n",
    "for t_id in pred_ids:\n",
    "    t_name = rev_dict[t_id]\n",
    "    c_wt_names[t_name] = class_weights[t_id]\n",
    "sorted_pred_tools = sorted(c_wt_names.items(), key=lambda item: item[1], reverse=True)\n",
    "sorted_names = list()\n",
    "for k, v in sorted_pred_tools:\n",
    "    sorted_names.append(k)"
   ]
  },
  {
   "cell_type": "code",
   "execution_count": 51,
   "metadata": {},
   "outputs": [
    {
     "name": "stdout",
     "output_type": "stream",
     "text": [
      "['featurecounts', 'deeptools_bam_coverage', 'htseq_count', 'multiqc', 'deseq2']\n"
     ]
    }
   ],
   "source": [
    "print(sorted_names[:topk])"
   ]
  },
  {
   "cell_type": "code",
   "execution_count": null,
   "metadata": {},
   "outputs": [],
   "source": []
  },
  {
   "cell_type": "code",
   "execution_count": null,
   "metadata": {},
   "outputs": [],
   "source": []
  }
 ],
 "metadata": {
  "kernelspec": {
   "display_name": "Python [conda env:tool_prediction_networkX] *",
   "language": "python",
   "name": "conda-env-tool_prediction_networkX-py"
  },
  "language_info": {
   "codemirror_mode": {
    "name": "ipython",
    "version": 3
   },
   "file_extension": ".py",
   "mimetype": "text/x-python",
   "name": "python",
   "nbconvert_exporter": "python",
   "pygments_lexer": "ipython3",
   "version": "3.6.10"
  }
 },
 "nbformat": 4,
 "nbformat_minor": 4
}
