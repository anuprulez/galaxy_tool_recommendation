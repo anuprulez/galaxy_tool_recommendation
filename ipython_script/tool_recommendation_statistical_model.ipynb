{
 "cells": [
  {
   "cell_type": "code",
   "execution_count": 3,
   "metadata": {},
   "outputs": [],
   "source": [
    "import os\n",
    "import numpy as np\n",
    "import json\n",
    "import h5py\n",
    "\n",
    "def load_model(model_path):\n",
    "    model = h5py.File(model_path, 'r')\n",
    "    dictionary = json.loads(model.get('data_dictionary').value)\n",
    "    paths = json.loads(model.get('multilabels_paths').value)\n",
    "    c_tools = json.loads(model.get('compatible_next_tools').value)\n",
    "    class_weights = json.loads(model.get('class_weights').value)\n",
    "    return paths, dictionary, c_tools, class_weights\n",
    "\n",
    "def predict_tools(dict_paths, d_dict, c_tools, class_weights, test_path=\"bowtie2\"):\n",
    "    rev_dict = dict((str(v), k) for k, v in d_dict.items())\n",
    "    p_num = list()\n",
    "    for t in test_path.split(\",\"):\n",
    "            p_num.append(str(d_dict[t]))\n",
    "    p_num = \",\".join(p_num)\n",
    "    predicted_tools = list()\n",
    "    for k in dict_paths:\n",
    "        if k == p_num:\n",
    "            predicted_tools = dict_paths[k].split(\",\")\n",
    "            break\n",
    "    pred_names = list()\n",
    "    for tool in predicted_tools:\n",
    "        pred_names.append(rev_dict[tool])\n",
    "    print(\"Test path: %s\" % test_path)\n",
    "    print(\"Predicted tools: %s\" % \",\".join(pred_names))"
   ]
  },
  {
   "cell_type": "code",
   "execution_count": 4,
   "metadata": {},
   "outputs": [
    {
     "name": "stderr",
     "output_type": "stream",
     "text": [
      "/home/kumara/miniconda3/envs/tool_prediction_networkX/lib/python3.6/site-packages/h5py/_hl/dataset.py:313: H5pyDeprecationWarning: dataset.value has been deprecated. Use dataset[()] instead.\n",
      "  \"Use dataset[()] instead.\", H5pyDeprecationWarning)\n"
     ]
    },
    {
     "name": "stdout",
     "output_type": "stream",
     "text": [
      "Test path: bowtie2\n",
      "Predicted tools: samtools_sort,rseqc_inner_distance,naive_variant_caller,umi_tools_group,stringtie,rna_star,deeptools_bamCorrelate,deeptools_computeMatrix,picard_CollectInsertSizeMetrics,hicexplorer_hicbuildmatrix,peakcalling_macs,rseqc_infer_experiment,picard_BamIndexStats,bedtools_multicovtbed,picard_SortSam,modencode_peakcalling_macs2,bam_to_bigwig,hisat2,bedtools_intersectbed,deeptools_bamCompare,je_markdupes,featurecounts,bamCoverage_deepTools,bamFilter,picard_FilterSamReads,jbrowse,deeptools_bamCoverage,bamtools,bam_to_sam,cufflinks,diffbind,bedtools_genomecoveragebed_bedgraph,multiqc,bam-filter,ngsutils_bam_filter,samtool_filter2,PicardInsertSize,spades,seq_filter_by_mapping,peakachu,macs2_predictd,fastqc,deeptools_bam_coverage,samtools_flagstat,trinity,bedtools_genomecoveragebed,bedtools_bamtobed,samtools_idxstats,gatk2_realigner_target_creator,deeptools_compute_gc_bias,rseqc_bam2wig,deeptools_bamFingerprint,bundle_collection,samtools_slice_bam,rgPicardMarkDups,htseq_count,bamSplit,pilon,macs2_callpeak,paralyzer,fastq_to_fasta_python,samtools_rmdup,picard_ARRG,freebayes,deeptools_computeGCBias,sam_merge2,samtools_stats,htseq-count,picard_MarkDuplicates,salmon,samtools_mpileup,cuffdiff,get_read_pipeline,picard_CASM,deeptools_bam_compare,basil,deeptools_plot_enrichment,cufflinks_prok,deeptools_multi_bam_summary,samtools_filter,deeptools_plot_fingerprint,sam_pileup\n"
     ]
    }
   ],
   "source": [
    "model_path = \"data/tool_recommendation_model_statistical_model.hdf5\"\n",
    "dict_paths, d_dict, c_tools, class_weights = load_model(model_path)\n",
    "predict_tools(dict_paths, d_dict, c_tools, class_weights)"
   ]
  },
  {
   "cell_type": "code",
   "execution_count": null,
   "metadata": {},
   "outputs": [],
   "source": []
  }
 ],
 "metadata": {
  "kernelspec": {
   "display_name": "Python [conda env:tool_prediction_networkX] *",
   "language": "python",
   "name": "conda-env-tool_prediction_networkX-py"
  },
  "language_info": {
   "codemirror_mode": {
    "name": "ipython",
    "version": 3
   },
   "file_extension": ".py",
   "mimetype": "text/x-python",
   "name": "python",
   "nbconvert_exporter": "python",
   "pygments_lexer": "ipython3",
   "version": "3.6.10"
  }
 },
 "nbformat": 4,
 "nbformat_minor": 4
}
