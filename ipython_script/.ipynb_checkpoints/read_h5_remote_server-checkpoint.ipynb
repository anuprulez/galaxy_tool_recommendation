{
 "cells": [
  {
   "cell_type": "code",
   "execution_count": 10,
   "metadata": {},
   "outputs": [
    {
     "name": "stdout",
     "output_type": "stream",
     "text": [
      "/home/kumara/predict_tools/tool_recommendation_release_19_09/similar_galaxy_workflow/ipython_script\n"
     ]
    }
   ],
   "source": [
    "import pandas\n",
    "import requests\n",
    "import os\n",
    "import h5py\n",
    "print(os.getcwd())"
   ]
  },
  {
   "cell_type": "code",
   "execution_count": 22,
   "metadata": {},
   "outputs": [
    {
     "name": "stdout",
     "output_type": "stream",
     "text": [
      "/home/kumara/predict_tools/tool_recommendation_release_19_09/similar_galaxy_workflow/ipython_script/data/\n",
      "/home/kumara/predict_tools/tool_recommendation_release_19_09/similar_galaxy_workflow/ipython_script/data/tool_recommendation_model.hdf5\n",
      "<KeysViewHDF5 ['best_parameters', 'class_weights', 'compatible_tools', 'data_dictionary', 'model_config', 'weight_0', 'weight_1', 'weight_2', 'weight_3', 'weight_4', 'weight_5', 'weight_6', 'weight_7', 'weight_8']>\n"
     ]
    }
   ],
   "source": [
    "url = 'https://github.com/anuprulez/download_store/blob/tool_recommendation_model/tool_recommendation_model/tool_recommendation_model.hdf5?raw=true'\n",
    "r = requests.get(url) \n",
    "local_dir = os.path.join(os.getcwd(),'data/')\n",
    "local_dir += 'tool_recommendation_model.hdf5'\n",
    "wtth open(local_dir, 'wb') as f:\n",
    "    f.write(r.content)\n",
    "    \n",
    "model = h5py.File(local_dir, 'r')\n",
    "print(model.keys())"
   ]
  },
  {
   "cell_type": "code",
   "execution_count": null,
   "metadata": {},
   "outputs": [],
   "source": []
  }
 ],
 "metadata": {
  "kernelspec": {
   "display_name": "Python [conda env:tool_prediction] *",
   "language": "python",
   "name": "conda-env-tool_prediction-py"
  },
  "language_info": {
   "codemirror_mode": {
    "name": "ipython",
    "version": 3
   },
   "file_extension": ".py",
   "mimetype": "text/x-python",
   "name": "python",
   "nbconvert_exporter": "python",
   "pygments_lexer": "ipython3",
   "version": "3.6.7"
  }
 },
 "nbformat": 4,
 "nbformat_minor": 2
}
