{
 "cells": [
  {
   "cell_type": "code",
   "execution_count": 215,
   "metadata": {
    "scrolled": true
   },
   "outputs": [
    {
     "name": "stdout",
     "output_type": "stream",
     "text": [
      "{'1': 'qual_stats_boxplot', '2': 'mimodd_convert', '3': 'fastq_join', '4': 'scanpy_find_markers', '5': 'glimmer_knowlegde-based', '6': 'flexbar', '7': 'mtbls520_09_species_venn', '8': 'rseqc_geneBody_coverage', '9': 'rsem_calculate_expression', '10': 'mycrobiota-qc-report', '11': 'tmhmm2', '12': 'mothur_count_seqs', '13': 'bedtools_unionbedgraph', '14': 'ConsensusID', '15': 'vt_normalize', '16': 'infernal_cmbuild', '17': 'bcftools_mpileup', '18': 'mothur_classify_rf', '19': 'bg_statistical_hypothesis_testing', '20': 'deeptools_bamCoverage', '21': 'align_back_trans', '22': 'MultiplexResolver', '23': 'transpose', '24': 'fasta_merge_files_and_filter_unique_sequences', '25': 'mz_to_sqlite', '26': 'CONVERTER_fasta_to_tabular', '27': 'ConsensusMapNormalizer', '28': 'velvetg_jgi', '29': 'seurat_read10x', '30': 'mycrobiota-krona-mothur', '31': 'mothur_classify_seqs', '32': 'prokaryotic_ncbi_submission', '33': 'ip_scale_image', '34': 'sklear_numeric_clustering', '35': 'gemini_pathways', '36': 'Transformation', '37': 'picard_CollectInsertSizeMetrics', '38': 'cardinal_data_exporter', '39': 'flexbar_split_RR_bcs', '40': 'cshl_fasta_nucleotides_changer', '41': 'mothur_make_group', '42': 'methtools_calling', '43': 'minfi_getanno', '44': 'addValue', '45': 'ncbi_blastx_wrapper', '46': 'tp_tac', '47': 'mothur_summary_seqs', '48': 'glimmer_build-icm', '49': 'snpSift_annotate', '50': '__SORTLIST__', '51': 'gatk_depth_of_coverage', '52': 'kraken-report', '53': 'ncbi_rpsblast_wrapper', '54': 'fastq_paired_end_joiner', '55': 'tp_sed_tool', '56': 'smf_utils_fix-fasta-headers', '57': 'EMBOSS: fuzztran39', '58': 'Extract genomic DNA 1', '59': 'cuffmerge', '60': 'EMBOSS: newseq59', '61': 'salmon', '62': 'collapse_dataset', '63': 'shovill', '64': 'nanoplot', '65': 'ococo', '66': 'abims_xcms_fillPeaks', '67': 'rseqc_RNA_fragment_size', '68': 'Kneeplot', '69': 'filter_by_fasta_ids', '70': 'iuc_pear', '71': 'gd_rank_terms', '72': 'qiime_count_seqs', '73': 'mergeCols1', '74': 'peakachu', '75': 'bam-filter', '76': 'deg_annotate', '77': 'mass_spectrometry_imaging_classification', '78': 'mass_spectrometry_imaging_ion_images', '79': 'mimodd_vcf_filter', '80': 'msms2metfrag-multiple', '81': 'pieplots_macs', '82': 'mothur_split_groups', '83': 'roary', '84': 'qiime_pick_rep_set', '85': 'gatk2_variant_select', '86': 'eukaryotic_ncbi_submission', '87': 'svm_classifier', '88': 'ctb_chemfp_mol2fps', '89': 'raceid_main', '90': 'macs2_predictd', '91': 'sequence_content_trimmer', '92': 'mothur_phylotype', '93': 'stacks_refmap', '94': 'scanpy_filter_genes', '95': 'gops_merge_1', '96': 'vcfvcfintersect', '97': 'transdecoder', '98': 'mothur_classify_otu', '99': 'scanpy_find_cluster', '100': 'picard_MarkDuplicatesWithMateCigar', '101': 'venn_list', '102': 'mothur_unifrac_weighted', '103': 'minfi_rset', '104': 'map_peptides_to_bed', '105': 'secure_hash_message_digest', '106': 'deeptools_bigwig_compare', '107': 'EMBOSS: geecee41', '108': 'plotly_regression_performance_plots', '109': 'preproc', '110': 'Psortb', '111': 'tp_grep_tool', '112': 'snpfinder', '113': 'custom_pro_db', '114': 'mtbls520_23_seasons_rda', '115': 'bedtools_complementbed', '116': 'seqtk_mergepe', '117': 'CONVERTER_bed_to_fli_0', '118': 'XTandemAdapter', '119': 'translate_bed', '120': 'ctb_filter', '121': 'silac_analyzer', '122': '__FILTER_FAILED_DATASETS__', '123': 'Univariate', '124': 'flexbar_no_split', '125': 'trinity_filter_low_expr_transcripts', '126': 'cshl_fastq_to_fasta', '127': 'bcftools_call', '128': 'freebayes_wrapper', '129': 'deeptools_correctGCBias', '130': 'sklearn_searchcv', '131': 'ctb_osra', '132': 'bismark_bowtie', '133': 'ip_projective_transformation', '134': 'gatk2_unified_genotyper', '135': 'Cut1', '136': 'picard_AddOrReplaceReadGroups', '137': 'deseq2_single', '138': 'minfi_mset', '139': 'smf_utils_filter-by-energy', '140': 'gene2exon1', '141': 'mothur_remove_lineage', '142': 'deeptools_plot_enrichment', '143': 'sam_merge2', '144': 'cshl_fastx_nucleotides_distribution', '145': 'EMBOSS: textsearch98', '146': 'random_lines1', '147': 'mimodd_reheader', '148': 'gemini_annotate', '149': 'methtools_filter', '150': 'createInterval', '151': 'FeatureLinkerUnlabeled', '152': 'mtbls520_08a_species_shannon', '153': 'dexseq_count', '154': 'cd_hit_est', '155': 'gd_raxml', '156': 'map-msms2camera', '157': 'msconvert2_raw', '158': 'scanpy_find_variable_genes', '159': 'datamash_ops', '160': 'cufflinks_prok', '161': 'r_correlation_matrix', '162': 'seurat_scale_data', '163': 'convert_bc_to_binary_RY.py', '164': 'vcffilter', '165': 'ete_genetree_splitter', '166': 'picard_QualityScoreDistribution', '167': 'fragmenter', '168': 'minfi_getbeta', '169': 'cshl_grep_tool', '170': 'picard_ValidateSamFile', '171': 'QCCalculator', '172': 'mimodd_varreport', '173': 'CONVERTER_fasta_to_fai', '174': 'cardinal_filtering', '175': 'bg_find_subsequences', '176': 'ip_viz_overlay_moving_and_fixed_image', '177': 'rseqc_clipping_profile', '178': 'trim_galore', '179': 'PeakPickerHiRes', '180': 'deeptools_heatmapper', '181': 'correct_barcodes', '182': 'Multivariate', '183': 'bedtools_windowbed', '184': 'metaquantome_stat', '185': 'qiime_filter_alignment', '186': 'gmx_setup', '187': 'raceid_clustering', '188': 'mothur_taxonomy_to_krona', '189': 'decoyfasta', '190': 'trinity_analyze_diff_expr', '191': 'gops_basecoverage_1', '192': 'kraken-translate', '193': 'pileup_parser', '194': 'fastq_quality_trimmer', '195': 'bedtools_genomecoveragebed_bedgraph', '196': 'cshl_uniq_tool', '197': 'gffread', '198': 'deseq2', '199': 'bio3d_pca', '200': 'picard_FastqToSam', '201': 'locarna_multiple', '202': 'bed_to_bigwig', '203': 'maldi_quant_preprocessing', '204': 'gatk2_base_recalibrator', '205': 'scanpy_run_umap', '206': 'fastp', '207': 'bamFilter', '208': 'annotatemyids', '209': 'Show tail1', '210': 'cuffquant', '211': 'picard_CollectGcBiasMetrics', '212': 'coords2clnt.py', '213': 'mlocarna', '214': 'minfi_getM', '215': 'FROGS_preprocess', '216': 'minfi_dmp', '217': 'deeptools_plot_correlation', '218': 'mothur_align_seqs', '219': 'openbabel_compound_convert', '220': 'nanopolish_variants', '221': 'PeptideIndexer', '222': 'addName', '223': 'umi_tools_whitelist', '224': 'scanpy_run_pca', '225': 'metilene', '226': 'poretools_extract', '227': 'newick_display', '228': 'graphclust_glob_report_no_align', '229': 'mothur_parsimony', '230': 'velveth', '231': 'ip_coordinates_of_roi', '232': 'genbank_to_gff', '233': 'samtools_filter', '234': 'mothur_filter_seqs', '235': 'rbc_mirdeep2_mapper', '236': 'krona-text', '237': 'bamleftalign', '238': 'mass_spectrometry_imaging_qc', '239': 'gatk2_depth_of_coverage', '240': 'gemini_de_novo', '241': 'stoceps_maketablecarrer', '242': 'HighResPrecursorMassCorrector', '243': 'seurat_run_tsne', '244': 'massbank_ws_searchspectrum', '245': 'vcftools_slice', '246': 'FeatureLinkerUnlabeledKD', '247': 'bams2ratio', '248': 'mothur_get_communitytype', '249': 'scanpy_read_10x', '250': 'combine_metaphlan2_humann2', '251': 'bwa', '252': 'cd_hit_protein', '253': 'busco', '254': 'ncbi_tblastn_wrapper', '255': 'regionalgam_flight_curve', '256': 'fasta-stats', '257': 'trinotate', '258': 'CONVERTER_fasta_to_2bit', '259': 'tp_find_and_replace', '260': 'EMBOSS: shuffleseq87', '261': 'gops_coverage_1', '262': 'tp_sort_rows', '263': 'CONVERTER_interval_to_bedstrict_0', '264': 'methtools_dmr', '265': 'treebest_best', '266': 'gops_concat_1', '267': 'sickle', '268': 'chipseeker', '269': 'mothur_metastats', '270': 'hicexplorer_hiccorrectmatrix', '271': 'mothur_dist_shared', '272': 'get_subontology_from', '273': 'mothur_homova', '274': 'OpenSwathWorkflow', '275': 'graphicsmagick_image_montage', '276': 'seurat', '277': 'vcf2pgSnp', '278': 'metams_runGC', '279': 'abricate', '280': 'bedtools_slopbed', '281': 'blockclust', '282': 'ProteinResolver', '283': 'jcvi_gff_stats', '284': 'rnbeads', '285': 'xcms-dilutionfilter', '286': 'hicexplorer_hicmergematrixbins', '287': 'bamtools', '288': 'idpqonvert', '289': 'mycrobiota-make-multi-otutable', '290': 'biosigner', '291': 'FROGS_affiliation_OTU', '292': 'ExtractFASTAfromFASTQ', '293': 'Extract_RNA_seq_Evidence', '294': 'mothur_trim_seqs', '295': 'megahit_contig2fastg', '296': 'gatk_realigner_target_creator', '297': 'kraken-filter', '298': 'trinity_samples_qccheck', '299': 'search_gui', '300': 'cshl_fastq_quality_filter', '301': 'filter_columns', '302': 'vcfallelicprimitives', '303': 'tp_head_tool', '304': 'picard_SamToFastq', '305': 'genrich', '306': 'gtf_filter_by_attribute_values_list', '307': 'gemini_burden', '308': 'maldi_quant_peak_detection', '309': 'blast2go', '310': 'deeptools_bam_pe_fragmentsize', '311': 'cshl_word_list_grep', '312': 'ip_overlay_segmentation', '313': 'deeptools_bam_compare', '314': 'metaphlan_hclust_heatmap', '315': 'mass_spectrometry_imaging_filtering', '316': 'tp_easyjoin_tool', '317': 'plotly_ml_performance_plots', '318': 'FileMerger', '319': 'vcfcombine', '320': 'IDMassAccuracy', '321': 'pilon', '322': 'MetaProSIP', '323': 'EMBOSS: water107', '324': 'minfi_read450k', '325': 'passatutto', '326': 'picard_SortSam', '327': 'camera-group-fwhm', '328': 'resize_coordinate_window', '329': 'qiime_pick_closed_reference_otus', '330': 'EMBOSS: getorf42', '331': 'gspan', '332': 'bed_to_bigBed', '333': 'macs2_bdgcmp', '334': 'mimodd_header', '335': 'vcf_filter', '336': 'idr-embl', '337': 'scale_image', '338': 'segemehl', '339': 'scpipe', '340': 'rbc_mirdeep2', '341': 'jbrowse', '342': 'stringtie_merge', '343': 'CONVERTER_fastqgz_to_fastq', '344': 'abims_xcms_xcmsSet', '345': 'vcftools_isec', '346': 'hmmer_hmmsearch', '347': 'proteomics_search_peptide_prophet_1', '348': 'proteomics_search_tandem_1', '349': 'vcf2tsv', '350': 'bcftools_consensus', '351': 'lfq_protein_quant', '352': 'velveth_jgi', '353': 'filtlong', '354': 'FilterBAM', '355': 'cardinal_classification', '356': 'qiime_pick_open_reference_otus', '357': 'md_converter', '358': 'bio3d_rmsd', '359': 'IDScoreSwitcher', '360': 'hicexplorer_hicsummatrices', '361': 'circgraph', '362': 'seurat_dim_plot', '363': 'seurat_filter_cells', '364': 'minfi_maptogenome', '365': 'mtbls520_10_species_varpart', '366': 'snpEff_download', '367': 'bio3d_rmsf', '368': 'deeptools_plot_coverage', '369': 'viennarna_rnaalifold', '370': 'cuffcompare', '371': 'regionalgam_gls', '372': 'abims_xcms_group', '373': 'enhanced_bowtie_wrapper', '374': 'vsearch_dereplication', '375': 'MAF_To_Fasta1', '376': 'filter_tabular', '377': 'qiime_split_libraries', '378': 'cardinal_spectra_plots', '379': 'flaimapper', '380': 'tp_text_file_with_recurring_lines', '381': 'ncbi_blastn_wrapper', '382': 'rbc_rnacode', '383': 'join_files_on_column_fuzzy', '384': 'minfi_dropsnp', '385': 'samtools_depth', '386': 'heinz_bum', '387': '__UNZIP_COLLECTION__', '388': 'bismark_deduplicate', '389': 'gemini_interactions', '390': 'fasta_compute_length', '391': 'fastq_paired_end_deinterlacer', '392': 'bg_protein_properties', '393': 'mass_spectrometry_imaging_preprocessing', '394': 'deeptools_profiler', '395': 'cshl_fasta_formatter', '396': 'cmv', '397': 'build_ucsc_custom_track_1', '398': 'minfi_methcpg', '399': 'minfi_ppfun', '400': 'make_families', '401': 'gtftobed12', '402': 'mothur_merge_files', '403': 'bedtools_coveragebed', '404': 'charts', '405': 'bam2wig', '406': 'bowtie2', '407': 'infernal_cmstat', '408': '__FILTER_FROM_FILE__', '409': 'get_read_pipeline', '410': 'dropletutils', '411': 'IDFilter', '412': 'goslimmer', '413': 'mummer_mummer', '414': 'trimmer', '415': 'cshl_awk_tool', '416': 'mothur_amova', '417': 'trim_reads', '418': 'bamSplit', '419': 'MapRTTransformer', '420': 'snpSift_geneSets', '421': 'qiime_make_otu_heatmap', '422': 'meme_meme', '423': 'cds_essential_variability', '424': 'openms_id_file_converter', '425': 'basil', '426': 'hcluster_sg', '427': 'cufflinks', '428': 'seqtk_sample', '429': 'mothur_rarefaction_single', '430': 'hgv_snpFreq', '431': 'AnnovarShed', '432': 'aggregate_scores_in_intervals2', '433': 'ctb_pubchem_download_as_smiles', '434': 'wsdl_hmdb', '435': 'openms_id_mapper', '436': 'mycrobiota-otutable_add_blast', '437': 'rmcontamination', '438': 'FastTree', '439': 'rseqc_read_duplication', '440': 'minfi_dmr', '441': 'gd_calc_freq', '442': 're_he_maldi_image_registration', '443': 'samtools_rmdup', '444': 'vcffilter2', '445': 'annotateMyIDs', '446': 'heatmapper', '447': 'mothur_cluster_split', '448': 'vcfannotate', '449': 'je_demultiplex', '450': 'cardinal_segmentations', '451': 'MassCalculator', '452': 'minimap2', '453': 'unzip', '454': 'tp_replace_in_column', '455': 'FeatureFinderMetabo', '456': 'bedtools_bedtobam', '457': 'seurat_export_cellbrowser', '458': 'flexbar_split_RYYR_bcs', '459': 'hicexplorer_hicfindtads', '460': 'goenrichment', '461': 'miranda', '462': 'ggplot_histogram', '463': 'humann2_genefamilies_genus_level', '464': 'allele_counts_1', '465': 'Fetch Taxonomic Ranks', '466': 'hgv_david', '467': 'tophat', '468': 'cshl_sed_tool', '469': 'idpassemble', '470': 'bandage_image', '471': 'express', '472': 'TagBamWithReadSequenceExtended', '473': 'varscan_somatic', '474': 'sklearn_nn_classifier', '475': 'ngsutils_bam_filter', '476': 'xcms_merge', '477': 'gatk2_variant_apply_recalibration', '478': 'tp_unfold_column_tool', '479': 'cast', '480': 'ncbi_makeblastdb', '481': 'cshl_sort_header', '482': 'htseq-count', '483': 'cutadapt', '484': 'EMBOSS: revseq82', '485': 'mtbls520_05a_import_maf', '486': 'myrimatch', '487': 'samtools_calmd', '488': 'translate_bed_sequences', '489': 'maker', '490': 'ctb_rdkit_descriptors', '491': 'stringtie', '492': 'vcfgenotypes', '493': 'ProteinInference', '494': 'mtbls520_08e_species_features', '495': 'regionalgam_plot_trend', '496': 'cmFinder', '497': 'regionalgam_ab_index', '498': 'w4mjoinpn', '499': 'ctb_remove_protonation_state', '500': 'macs2_callpeak', '501': 'spades', '502': 'extract_element_from_collection', '503': 'IDMapper', '504': 'rgPicardMarkDups', '505': '__ZIP_COLLECTION__', '506': 'seq_composition', '507': 'hisat', '508': 'mass_spectrometry_imaging_mzplots', '509': 'IsobaricAnalyzer', '510': 'cshl_fastx_artifacts_filter', '511': '__BUILD_LIST__', '512': 'rbc_mafft', '513': 'bcftools_view', '514': 'stacks_denovomap', '515': 'TrimPrimer', '516': 'Nucleosome', '517': 'clustalw', '518': 'mothur_venn', '519': 'seq_filter_by_id', '520': 'qiime_make_phylogeny', '521': 'nonpareil', '522': 'snpsift_vartype', '523': 'vigiechiro_bilanenrichirp', '524': 'seurat_find_markers', '525': 'vcfbedintersect', '526': 'staramr_search', '527': 'metaphlan2krona', '528': 'kraken2', '529': 'sklearn_build_pipeline', '530': 'FileInfo', '531': 'valet', '532': 'bamCompare_deepTools', '533': 'je_clip', '534': 'stacks_genotypes', '535': 'react_cal_pipeline', '536': 'remove_tail.py', '537': 'msconvert_nix', '538': 'rarefaction', '539': 'seqtk_trimfq', '540': 'meme_dreme', '541': 'deeptools_plot_fingerprint', '542': 'cummeRbund', '543': 'pipmir', '544': 'rarefaction_analyzer', '545': 'mothur_make_biom', '546': 'cd_hit_dup', '547': 'hcluster_sg_parser', '548': 'metaquantome_expand', '549': 'stacks_populations', '550': 'column_order_header_sort', '551': 'cuffnorm', '552': 'mass_spectrometry_imaging_segmentations', '553': 'mothur_remove_seqs', '554': 'cshl_princeton_fastx_barcode_splitter', '555': 'qiime_align_seqs', '556': 'rawtools', '557': 'egsea', '558': 'methtools_tiling', '559': 'Count1', '560': 'rnaz', '561': 'OpenSwathAssayGenerator', '562': 'GeneModelMapper', '563': 'sm_mapper', '564': 'viennarna_rnafold', '565': 'structure_to_gspan', '566': 'xpath', '567': 'merge_pcr_duplicates.py', '568': '16Sclassifier', '569': 'camera-annotate-peaks', '570': 'hicexplorer_hicplotviewpoint', '571': 'gemini_recessive_and_dominant', '572': 'mtbls520_12_species_marchantia', '573': 'rseqc_junction_saturation', '574': 'deeptools_bamFingerprint', '575': 'eggnog_mapper', '576': 'Show beginning1', '577': 'mothur_count_groups', '578': 'sam_pileup', '579': 'hca_matrix_downloader', '580': 'camera-find-isotopes', '581': 'extract_bcs.py', '582': 'mothur_summary_single', '583': 'tabular_to_fastq', '584': 'numeric_clustering', '585': 'limma_voom', '586': 'Convert characters1', '587': 'mothur_corr_axes', '588': 'vcfsort', '589': 'get_sequences', '590': 'cardinal_preprocessing', '591': 'regionalgam_glmmpql', '592': 'deeptools_plot_heatmap', '593': 'gmx_npt', '594': 'gops_subtract_1', '595': 'bg_sortmerna', '596': 'picard_FixMateInformation', '597': 'mothur_screen_seqs', '598': 'sm_mirdeep2core_without_Randfold', '599': 'snpEff_build_gb', '600': 'sklearn_model_validation', '601': 'gatk2_variant_filtration', '602': 'stoceps_glm', '603': 'blast_reciprocal_best_hits', '604': 'bismark_pretty_report', '605': 'Filter1', '606': 'EMBOSS: wordcount109', '607': 'snippy', '608': 'collection_element_identifiers', '609': 'CONVERTER_interval_to_bgzip_0', '610': 'MapStatistics', '611': 'ssake', '612': 'BAMTagHistogram', '613': 'histogram_rpy', '614': 'smooth_running_window', '615': 'featurecounts', '616': 'picard_CASM', '617': 'vcftools_merge', '618': 'mothur_unique_seqs', '619': 'gbk_to_orf', '620': 'snpeff_to_peptides', '621': 'bundle_collection', '622': 'mycrobiota-split-multi-otutable', '623': 'mothur_seq_error', '624': 'bismark_methylation_extractor', '625': 'mothur_heatmap_sim', '626': 'heatmapper_deepTools', '627': 'smf_utils_find-boxes', '628': 'mummer_nucmer', '629': 'gemini_comp_hets', '630': 'seq_filter_by_mapping', '631': 'get_flanks1', '632': 'snpSift_filter', '633': 'chipsequtil_maptoknowngenes', '634': 'mothur_sub_sample', '635': 'msnbase_readmsdata', '636': 'trinity_contig_exn50_statistic', '637': 'xcms-collect-peaks', '638': 'aragorn_trna', '639': 'ip_filter_standard', '640': 'heinz', '641': 'Grep1', '642': 'ctb_np-likeness-calculator', '643': 'sklearn_svm_classifier', '644': 'dunovo', '645': 'sam_bw_filter', '646': 'fastq_to_tabular', '647': 'flash', '648': 'proteomics_moff', '649': 'aggregate', '650': 'graphlan_annotate', '651': 'gatk2_variant_recalibrator', '652': 'samtools_sort', '653': 'scanpy_run_tsne', '654': 'deeptools_plot_profile', '655': 'uniprot', '656': 'csv_to_tabular', '657': 'intarna', '658': 'metaquantome_viz', '659': 'rbc_splitfasta', '660': 'sklearn_clf_metrics', '661': 'chipeakanno_annopeaks', '662': 'ggplot2_point', '663': 'mothur_lefse', '664': 'bg_uniq', '665': 'Draw_phylogram', '666': 'unipept', '667': '__MERGE_COLLECTION__', '668': 'gatk2_reduce_reads', '669': 'minfi_qc', '670': 'gmx_solvate', '671': 'IDFileConverter', '672': 'quality_metrics', '673': 'nn_classifier', '674': 'samtools_split', '675': 'velvetg', '676': 'xcms-find-peaks', '677': 'umi_tools_group', '678': 'trinity_abundance_estimates_to_matrix', '679': 'DecoyDatabase', '680': 'rna_starsolo', '681': 'secretbt2test', '682': 'picard_BamIndexStats', '683': 'p_clip_peaks', '684': 'CONVERTER_interval_to_bed_0', '685': 'mothur_heatmap_bin', '686': 'msnbase-read-msms', '687': 'varscan', '688': 'gemini_db_info', '689': 'subtract_query1', '690': 'seurat_normalise_data', '691': 'rseqc_infer_experiment', '692': 'bedtools_sortbed', '693': 'Heatmap', '694': 'align_families', '695': 'heinz_visualization', '696': 'tp_replace_in_line', '697': 'tp_sorted_uniq', '698': 'ctb_obgrep', '699': 'term_id_vs_term_def', '700': 'mtbls520_08d_concentration', '701': 'velvetoptimiser', '702': 'cshl_cut_tool', '703': 'replace_chromosome_names', '704': 'ip_threshold', '705': 'mothur_get_oturep', '706': 'rseqc_junction_annotation', '707': 'prepare_box', '708': 'Summary_Statistics1', '709': 'CONVERTER_bam_to_bigwig_0', '710': 'gdal_ogr2ogr', '711': 'gtf2bedgraph', '712': 'mothur_pairwise_seqs', '713': 'bctools_remove_spurious_events', '714': '16Saligner', '715': 'meme_psp_gen', '716': 'sklearn_estimator_attributes', '717': 'htseq_count', '718': 'lca1', '719': 'CONVERTER_sam_to_unsorted_bam', '720': 'find_in_reference', '721': 'mothur_get_groups', '722': 'scanpy_parameter_iterator', '723': 'picard_ARRG', '724': 'bedtools_groupbybed', '725': 'FalseDiscoveryRate', '726': 'sklearn_ensemble', '727': '__TAG_FROM_FILE__', '728': 'pynast', '729': 'Btrim64', '730': 'table_compute', '731': 'clusterprofiler_bitr', '732': 'bowtie_wrapper', '733': 'canu', '734': 'lastz_wrapper_2', '735': 'je_markdupes', '736': 'table_annovar', '737': 'gemini_load', '738': 'IDConflictResolver', '739': 'bcftools_norm', '740': '__FLATTEN__', '741': 'snippy_core', '742': 'diffbind', '743': 'ggplot2_histogram', '744': 'seqtk_subseq', '745': 'ggplot2_heatmap2', '746': 'prepare_receptor', '747': 'feelnc', '748': 'bg_diamond', '749': 'gatk2_realigner_target_creator', '750': 'megablast_xml_parser', '751': 'tp_split_on_column', '752': 'shyft_longitudes', '753': 'ip_binary_to_labelimage', '754': 'ctb_confab', '755': 'mimodd_varcall', '756': 'wig_to_bigWig', '757': 'modencode_peakcalling_spp', '758': 'fasta_filter_by_length', '759': 'ctb_chemfp_nxn_clustering', '760': 'wiggle2simple1', '761': 'extract_aln_ends.py', '762': 'fastq_paired_end_splitter', '763': 'msnbase-filter-merge-msms', '764': 'hgv_linkToGProfile', '765': 'goseq', '766': 'scanpy_normalise_data', '767': 'camera-find-adducts', '768': 'export2graphlan', '769': 'gops_join_1', '770': 'FileConverter', '771': 'prepare_ligands_for_docking', '772': 'CONVERTER_bed_to_bgzip_0', '773': 'mimodd_map', '774': 'smf_utils_estimate-energy', '775': 'mcClust', '776': 'qiime_summarize_taxa_through_plots', '777': 'bgchem_fragment_merger', '778': 'bedtools_mergebed', '779': 'minfi_getsnp', '780': 'ctb_online_data_fetch', '781': 'cardinal_combine', '782': 'ruvseq', '783': 'disco', '784': 'raceid_inspectclusters', '785': 'fraggenescan', '786': 'rseqc_FPKM_count', '787': 'stacks_procrad', '788': 'bctools_extract_crosslinked_nucleotides', '789': 'flanking_features_1', '790': 'gatk2_variant_annotator', '791': 'sample_seqs', '792': 'ctb_subsearch', '793': 'qiime_core_diversity', '794': 'bcftools_filter', '795': 'muscle', '796': 'ctb_spectrophore_search', '797': 'snpSift_int', '798': 'hicexplorer_hictransform', '799': 'TrimByN', '800': 'deeptools_bamCorrelate', '801': 'raceid_inspecttrajectory', '802': 'vcfflatten2', '803': 'CometAdapter', '804': 'uparse', '805': 'umi_tools_dedup', '806': 'mothur_summary_tax', '807': 'melt', '808': 'sqlite_to_tabular', '809': 'samtools_bedcov', '810': 'gemini_windower', '811': 'trinity_align_and_estimate_abundance', '812': 'gmx_nvt', '813': 'rm_spurious_events.py', '814': '__APPLY_RULES__', '815': 'blast_parser', '816': 'camera-prepareoutput', '817': 'ete_homology_classifier', '818': 'CONVERTER_Bam_Bai_0', '819': 'imagecoordinates_flipaxis', '820': 'seqtk_mergefa', '821': 'pileup_interval', '822': 'infernal_cmsearch', '823': 'tp_cat', '824': 'vcfcheck', '825': 'bedtools_bed12tobed6', '826': 'CONVERTER_gff_to_interval_index_0', '827': 'format_metaphlan2_output', '828': 'ctb_remIons', '829': 'seurat_run_pca', '830': 'cshl_easyjoin', '831': 'collection_column_join', '832': 'qiime_pick_otus', '833': 'tophat2', '834': 'qiime_make_otu_table', '835': 'length_and_gc_content', '836': 'mothur_nmds', '837': 'heatmap2', '838': 'meme_fimo', '839': 'clusterprofiler_go', '840': 'scanpy_filter_cells', '841': 'gemini_stats', '842': 'tsne', '843': 'mothur_pre_cluster', '844': 'Extract_features1', '845': 'locarna_best_subtree', '846': 'bg_column_arrange_by_header', '847': 'bwa_wrapper', '848': 'ip_count_objects', '849': 'taxonomy_krona_chart', '850': 'generic_filter', '851': 'docking', '852': 'hmmer_hmmbuild', '853': 'trinity_define_clusters_by_cutting_tree', '854': 'vcftools_compare', '855': 'interproscan', '856': 'Flash', '857': 'ChooseTag', '858': 'fastq_dump', '859': 'IDMerger', '860': 'samtool_filter2', '861': 'seurat_find_variable_genes', '862': 'DatamashTranspose', '863': 'bedtools_genomecoveragebed', '864': 'diffbind-embl', '865': 'EMBOSS: transeq101', '866': 'gemini_inheritance', '867': 'cor2', '868': 'Determine_BC', '869': 'graphclust_aggregate_alignments', '870': 'rgweblogo3', '871': 'mtbls520_19e_seasons_features', '872': 'fasta2tab', '873': 'prinseq', '874': 'vcffixup', '875': 'xcms-blankfilter', '876': 'glimmer_not-knowlegde-based', '877': 'CONVERTER_gz_to_uncompressed', '878': 'crosscontamination_barcode_filter', '879': 'rcas', '880': 'deeptools_correct_gc_bias', '881': 'picard_MergeSamFiles', '882': 'fasttree', '883': 'param_value_from_file', '884': 'fastq_stats', '885': 'ip_convertimage', '886': 'tp_tail_tool', '887': 'qiime_assign_taxonomy', '888': 'vsearch_chimera_detection', '889': 'gatk2_haplotype_caller', '890': 'hicexplorer_hicbuildmatrix', '891': 'mothur_get_seqs', '892': 'column_remove_by_header', '893': 'mummer_dnadiff', '894': 'deeptools_plot_pca', '895': 'ip_2d_split_binaryimage_by_watershed', '896': 'bctools_remove_tail', '897': 'bedtools_intersectBed', '898': 'calc_fitness', '899': 'checkFormat', '900': 'smf_utils_extract-boxed-sequences', '901': 'cshl_fastx_quality_statistics', '902': 'msconvert', '903': 'mass_spectrometry_imaging_combine', '904': 'wolf_psort', '905': 'msconvert_win', '906': 'mlst', '907': 'keras_model_builder', '908': 'computeMatrix', '909': 'fasplit', '910': 'wtdbg', '911': 'rseqc_read_distribution', '912': 'metaspades', '913': 'ProteinQuantifier', '914': 't2t_report', '915': 'viennarna_rnaplot', '916': 'peakcalling_macs', '917': '_ensembl_gtf2gene_list', '918': 'ctb_ob_genProp', '919': 'fastqc', '920': 'psy_maps', '921': 'PicardInsertSize', '922': 'scatterplot_rpy', '923': 'mtbls520_08b_species_unique', '924': 'flexbardsc', '925': 'idpquery', '926': 'tag_stat2', '927': 'nspdk_sparse', '928': 'fastq_to_fasta_python', '929': 'rseqc_insertion_profile', '930': 'wc_gnu', '931': 'humann2_renorm_table', '932': 'umi_tools_extract', '933': 'naive_variant_caller', '934': 'get_feature_info', '935': 'fgsea', '936': 'gatk2_indel_realigner', '937': 'XY_Plot_1', '938': 'graphicsmagick_image_convert', '939': 'bandage_info', '940': 'scanpy_compute_graph', '941': 'trimmomatic', '942': 'heinz_scoring', '943': 'mothur_dist_seqs', '944': 'Add_a_column1', '945': 'tp_uniq_tool', '946': 'gemini_actionable_mutations', '947': 'Interval_Maf_Merged_Fasta2', '948': 'mtbls520_16_ecology_rda', '949': 'sed_stream_editor', '950': 'blastxml_to_top_descr', '951': 'FeatureFinderCentroided', '952': 'peptide_shaker', '953': 'snpEff', '954': 'Paste1', '955': 'stoceps_filteringsp', '956': 'methtools_destrand', '957': 'scanpy_scale_data', '958': 'ctb_remDuplicates', '959': 'abims_xcms_summary', '960': 'raceid_filtnormconf', '961': 'ctb_remSmall', '962': 'blockbuster', '963': 'ggplot2_heatmap', '964': 'cshl_fastx_clipper', '965': 'OpenSwathDecoyGenerator', '966': 'retrieve_scxa', '967': 'ia_coordinates_of_roi', '968': 'velvet', '969': 'ncbi_blastp_wrapper', '970': 'cshl_fastx_collapser', '971': 'eden_sequence_converter', '972': 'humann2', '973': 'w4mclassfilter', '974': 'quast', '975': 'Digestor', '976': 'FeatureFinderMultiplex', '977': 'peakcalling_macs14', '978': 'rsem_prepare_reference', '979': 'bcftools_plugin_counts', '980': 'EMBOSS: seqret84', '981': 'prepare_ligand', '982': 'mothur_unifrac_unweighted', '983': 'TextExporter', '984': 'viz_overlay_moving_and_fixed_image', '985': 'antismash', '986': 'fastq_combiner', '987': 'mothur_chimera_vsearch', '988': 'mothur_make_contigs', '989': 'snpSift_extractFields', '990': 'unicycler', '991': 'samtools_flagstat', '992': 'IDPosteriorErrorProbability', '993': 'fastq_trimmer', '994': 'deeptools_compute_gc_bias', '995': 'picard_FilterSamReads', '996': 'ucsc-twobittofa', '997': 'ctb_chemfp_butina_clustering', '998': 'trinity', '999': 'pureclip', '1000': 'TrimByLength', '1001': 'spocc_occ', '1002': 'sam_to_bam', '1003': 'tp_sort_header_tool', '1004': 'volcanoplot', '1005': 'sam2interval', '1006': 'FileFilter', '1007': 'gff2bed1', '1008': 'humann2_unpack_pathways', '1009': 'ctb_shapeit', '1010': 'rgPicFixMate', '1011': 'FROGS_affiliations_stat', '1012': 'EMBOSS: fuzzpro38', '1013': 'CONVERTER_bed_to_gff_0', '1014': 'maxquant', '1015': 'rseqc_bam2wig', '1016': 'hisat2', '1017': 'query_tabular', '1018': 'Grouping1', '1019': 'mtbls520_07_species_diversity', '1020': 'DatamashOps', '1021': 'gemini_query', '1022': 'fastq_groomer', '1023': 'qiime_validate_mapping_file', '1024': 'mtbls520_04_preparations', '1025': 'Remove beginning1', '1026': 'ip_2d_feature_extraction', '1027': 'bamCoverage_deepTools', '1028': 'sklearn_numeric_clustering', '1029': 'graphlan', '1030': 'vegan_rarefaction', '1031': 'ctb_sdf2fps', '1032': 'msconvert3_raw', '1033': 'bedtools_intersectbed_bam', '1034': 'bed_to_protein_map', '1035': 'ctb_multi_obgrep', '1036': 'gmx_merge_topology_files', '1037': 'graphclust_align_cluster', '1038': 'comp1', '1039': 'ctb_ob_addh', '1040': 'Remove_ending', '1041': 'get_child_terms', '1042': 'picard_CleanSam', '1043': 'gmx_em', '1044': 'sort1', '1045': 'tophat_fusion_post', '1046': 'metfrag-cli-batch-multiple', '1047': 'glob_report', '1048': 'bismark_bowtie2', '1049': 'seurat_create_seurat_object', '1050': 'bam_to_bigwig', '1051': 'regionalgam_autocor_acf', '1052': 'meme_chip', '1053': 'rseqc_mismatch_profile', '1054': 'SequenceCoverageCalculator', '1055': 'iReport', '1056': 'rnafold', '1057': 'CONVERTER_gff_to_bed_0', '1058': 'deeptools_computeGCBias', '1059': 'group_humann2_uniref_abundances_to_go', '1060': 'w4mclstrpeakpics', '1061': 'miniasm', '1062': 'eden_vectorizer', '1063': 'hicexplorer_hicplottads', '1064': 'mtbls520_19a_seasons_shannon', '1065': 'deeptools_bamCompare', '1066': 'CONVERTER_bed_gff_or_vcf_to_bigwig_0', '1067': 'sklearn_feature_selection', '1068': 'sailfish', '1069': 'mothur_make_shared', '1070': 'megablast_wrapper', '1071': 'datamash_transpose', '1072': 'mimodd_varextract', '1073': 'cardinal_quality_report', '1074': 'tables_arithmetic_operations', '1075': 'FROGS_filters', '1076': 'cshl_find_and_replace', '1077': 'multiqc', '1078': 'datamash_reverse', '1079': 'openms_protein_quantifier', '1080': 'vigiechiro_idcorrect_2ndlayer', '1081': 'vcftools_annotate', '1082': 'barchart_gnuplot', '1083': 'cshl_multijoin', '1084': 'bedtools_coveragebed_counts', '1085': 'ctb_silicos_qed', '1086': 'seurat_find_clusters', '1087': 'genomespace_exporter', '1088': 'tab2fasta', '1089': 'gatk2_print_reads', '1090': 'proteomics_search_protein_prophet_1', '1091': 'bedtools_bamtobed', '1092': 'pygenomeTracks', '1093': 'samtools_slice_bam', '1094': 'bedtools_shufflebed', '1095': 'samtools_stats', '1096': 'RNAlien', '1097': 'picard_EstimateLibraryComplexity', '1098': 'gffcompare_to_bed', '1099': 'dexseq', '1100': 'deeptools_alignmentsieve', '1101': 'vegan_diversity', '1102': 'mothur_chimera_uchime', '1103': 'bedtools_multiintersectbed', '1104': 'blastxml_to_tabular_selectable', '1105': 'gff_to_sequence', '1106': 'igvtools_count', '1107': 'keras_model_config', '1108': 'cummerbund_to_cuffdiff', '1109': 'bedtools_map', '1110': 'dbbuilder', '1111': 'pileometh', '1112': 'flye', '1113': 'ucsc_cell_browser', '1114': 'cshl_fastx_renamer', '1115': 'ctb_simsearch', '1116': 'uchime', '1117': 'preMloc', '1118': 'rna_star', '1119': 'ctb_opsin', '1120': 'resistome_analyzer', '1121': 'mothur_cluster', '1122': 'Datamash', '1123': 'metaquantome_filter', '1124': 'samtools_idxstats', '1125': 'deeptools_bam_coverage', '1126': 'ctb_alignit_create_db', '1127': 'bed2gff1', '1128': 'gops_intersect_1', '1129': 'umi_tools_count', '1130': 'bctools_extract_alignment_ends', '1131': 'mothur_make_design', '1132': 'gops_cluster_1', '1133': 'selectsequencesfrommsa', '1134': 'samtools_mpileup', '1135': 'cardinal_mz_images', '1136': 'gffcompare', '1137': 'cshl_fastx_trimmer', '1138': 'megahit', '1139': 'racon', '1140': 'bedtools_multicovtbed', '1141': 'picard_CollectRnaSeqMetrics', '1142': 'create_or_update', '1143': 'Batch_correction', '1144': 'edger', '1145': 'fastq collapser', '1146': 'ChangeCase', '1147': 'term_id_vs_term_name', '1148': 'varscan_copynumber', '1149': 'tp_awk_tool', '1150': 'ctb_change_title', '1151': 'cshl_awk_replace_in_column', '1152': 'ctb_stripit', '1153': 'FidoAdapter', '1154': 'PicardASMetrics', '1155': 'regex1', '1156': 'hicexplorer_hicpca', '1157': 'mtbls520_18_phylogeny', '1158': 'varscan_mpileup', '1159': 'vcfselectsamples', '1160': 'fastq_manipulation', '1161': 'qiime_split_libraries_fastq', '1162': 'flashlfq', '1163': 'ggplot_point', '1164': 'ctb_ob_svg_depiction', '1165': 't_coffee', '1166': 'picard_MarkDuplicates', '1167': 'msgfplus', '1168': 'gatk_indel_realigner', '1169': 'MapAlignerPoseClustering', '1170': 'PlasFlow', '1171': 'modencode_peakcalling_macs2', '1172': 'picard_NormalizeFasta', '1173': 'rseqc_bam_stat', '1174': 'bedtools_bamtofastq', '1175': 'metaphlan2', '1176': 'mtbls520_19b_seasons_unique', '1177': 'augustus', '1178': 'GeMoMa_Annotation_Filter', '1179': 'signalp3', '1180': 'EMBOSS: tranalign100', '1181': 'scaffold2fasta', '1182': 'CONVERTER_bam_to_coodinate_sorted_bam', '1183': 'kallisto_quant', '1184': 'FROGS_remove_chimera', '1185': '__EXTRACT_DATASET__', '1186': 'filter_bed_on_splice_junctions', '1187': 'xcms-group-peaks', '1188': 'dt_profiler', '1189': 'ip_landmark_registration', '1190': 'mycrobiota-correct-replicates', '1191': 'mothur_tree_shared', '1192': 'samtools_flag_filter', '1193': 'cshl_fastx_reverse_complement', '1194': 'FeatureLinkerUnlabeledQT', '1195': 'prokka', '1196': 'methtools_plot', '1197': 'cshl_fastx_barcode_splitter', '1198': 'FROGS_clustering', '1199': 'regex_replace', '1200': 'replace_column_with_key_value_file', '1201': '__RELABEL_FROM_FILE__', '1202': 'gatk_unified_genotyper', '1203': 'deeptools_multi_bigwig_summary', '1204': 'ip_2d_filter_segmentation_by_features', '1205': 'tp_multijoin_tool', '1206': 'kraken', '1207': 'paralyzer', '1208': 'pathview', '1209': 'thermo_raw_file_converter', '1210': 'deeptools_compute_matrix_operations', '1211': 'vigiechiro_bilanenrichipf', '1212': 'piranha', '1213': 'fastq_filter', '1214': 'mtbls520_06_import_traits', '1215': 'abims_CAMERA_annotateDiffreport', '1216': 'ip_imageinfo', '1217': 'EMBOSS: extractseq35', '1218': 'augustus_training', '1219': 'compose_text_param', '1220': 'mothur_split_abund', '1221': 'predict_pipeline', '1222': 'freebayes', '1223': 'deeptools_bigwigCompare', '1224': 'plotly_parallel_coordinates_plot', '1225': 'xcms_plot_chromatogram', '1226': 'bigwig_to_bedgraph', '1227': 'humann2_regroup_table', '1228': 'cuffdiff', '1229': 'vigiechiro_idvalid', '1230': 'gmx_md', '1231': 'bam_to_sam', '1232': 'bedtools_genomecoveragebed_histogram', '1233': 'tp_cut_tool', '1234': 'Extractor', '1235': 'picard_ReorderSam', '1236': 'blastxml_to_tabular', '1237': 'gafa', '1238': 'picard_CollectWgsMetrics', '1239': 'mtbls520_08c_species_variability', '1240': 'iframe', '1241': 'deeptools_compute_matrix', '1242': 'mothur_remove_groups', '1243': 'w4mcorcov', '1244': 'CONVERTER_bedgraph_to_bigwig', '1245': 'snpSift_dbnsfp_generic', '1246': 'MSGFPlusAdapter', '1247': 'bedtools_annotatebed', '1248': 'bedtools_subtractbed', '1249': 'rbc_mirdeep2_quantifier', '1250': 'correctGCBias', '1251': 'raceid_trajectory', '1252': 'deeptools_multi_bam_summary', '1253': 'bedtools_intersectbed', '1254': 'iqtree', '1255': 'trinity_run_de_analysis', '1256': 'tabular_to_csv', '1257': 'deeptools_computeMatrix', '1258': 'cat1', '1259': 'fastq_paired_end_interlacer', '1260': 'ctb_rdkit_describtors', '1261': 'cshl_fastq_quality_boxplot', '1262': 'join1', '1263': 'ctb_compound_convert', '1264': 'bwa_mem', '1265': 'ip_histogram_equalization', '1266': 'rseqc_inner_distance', '1267': 'bwameth', '1268': 'NSPDK_candidateClust', '1269': 'hicexplorer_hicplotmatrix', '1270': 'gff_filter_by_attribute', '1271': 'ctb_alignit', '1272': 'ip_projective_transformation_points', '1273': 'get_pdb', '1274': 'dexseq_annotate', '1275': 'mtbls520_19d_seasons_concentration', '1276': 'bedtools_getfastabed', '1277': 'bcftools_stats', '1278': 'MzTabExporter', '1279': 'porechop', '1280': 'mothur_pcoa', '1281': 'NFS_transfer'}\n"
     ]
    }
   ],
   "source": [
    "import numpy as np\n",
    "import json\n",
    "import warnings\n",
    "import operator\n",
    "\n",
    "import h5py\n",
    "from keras.models import model_from_json\n",
    "from keras import backend as K\n",
    "from keras.utils import get_custom_objects\n",
    "\n",
    "warnings.filterwarnings(\"ignore\")\n",
    "\n",
    "size_title = 18\n",
    "size_label = 14\n",
    "n_pred = 2\n",
    "\n",
    "\n",
    "def read_file(file_path):\n",
    "    with open(file_path, 'r') as data_file:\n",
    "        data = json.loads(data_file.read())\n",
    "    return data\n",
    "\n",
    "def create_model(model_path):\n",
    "    \n",
    "    reverse_dictionary = dict((str(v), k) for k, v in dictionary.items())\n",
    "    model_weights = list()\n",
    "    weight_ctr = 0\n",
    "    while True:\n",
    "        try:\n",
    "            d_key = \"weight_\" + str(weight_ctr)\n",
    "            weights = trained_model.get(d_key).value\n",
    "            model_weights.append(weights)\n",
    "            weight_ctr += 1\n",
    "        except Exception as exception:\n",
    "            break\n",
    "    # set the model weights\n",
    "    loaded_model.set_weights(model_weights)\n",
    "    return loaded_model, dictionary, reverse_dictionary, compatibile_tools\n",
    "\n",
    "\n",
    "def verify_model(model, tool_sequence, labels, dictionary, reverse_dictionary, compatible_tools, class_weights, topk=20, max_seq_len=25):\n",
    "    tl_seq = tool_sequence.split(\",\")\n",
    "    last_tool_name = reverse_dictionary[str(tl_seq[-1])]\n",
    "    last_compatible_tools = compatible_tools[last_tool_name]\n",
    "    sample = np.zeros(max_seq_len)\n",
    "    for idx, tool_id in enumerate(tl_seq):\n",
    "        sample[idx] = int(tool_id)\n",
    "    sample_reshaped = np.reshape(sample, (1, max_seq_len))\n",
    "\n",
    "    tool_sequence_names = [reverse_dictionary[str(tool_pos)] for tool_pos in tool_sequence.split(\",\")]\n",
    "    \n",
    "    # predict next tools for a test path\n",
    "    prediction = model.predict(sample_reshaped, verbose=0)\n",
    "    \n",
    "    weight_val = list(class_weights.values())\n",
    "    weight_val = np.reshape(weight_val, (len(weight_val),))\n",
    "    \n",
    "    prediction = np.reshape(prediction, (prediction.shape[1],))\n",
    "    \n",
    "    prediction_pos = np.argsort(prediction, axis=-1)\n",
    "\n",
    "    # get topk prediction\n",
    "    topk_prediction_pos = prediction_pos[-topk:]\n",
    "    \n",
    "    topk_prediction_val = [int(prediction[pos] * 100) for pos in topk_prediction_pos]\n",
    "    \n",
    "    topk_prediction_val = [(val * 100) / np.max(topk_prediction_val) for val in topk_prediction_val]\n",
    "    \n",
    "    # read tool names using reverse dictionary\n",
    "    pred_tool_ids = [reverse_dictionary[str(tool_pos)] for tool_pos in topk_prediction_pos if tool_pos > 0]\n",
    "    actual_next_tool_ids = list(set(pred_tool_ids).intersection(set(last_compatible_tools.split(\",\"))))\n",
    "\n",
    "    pred_tool_ids_sorted = dict()\n",
    "    for (tool_pos, tool_pred_val) in zip(topk_prediction_pos, topk_prediction_val):\n",
    "        try:\n",
    "            tool_name = reverse_dictionary[str(tool_pos)]\n",
    "            if tool_name not in last_tool_name and tool_name in actual_next_tool_ids: #tool_name in actual_next_tool_ids and \n",
    "                pred_tool_ids_sorted[tool_name] = tool_pred_val\n",
    "        except:\n",
    "            continue\n",
    "    pred_tool_ids_sorted = dict(sorted(pred_tool_ids_sorted.items(), key=lambda kv: kv[1], reverse=True))\n",
    "    \n",
    "    cls_wt = dict()\n",
    "    usg_wt = dict()\n",
    "    inv_wt = dict()\n",
    "    ids_tools = dict()\n",
    "    keys = list(pred_tool_ids_sorted.keys())\n",
    "    for k in keys:\n",
    "        try:\n",
    "            cls_wt[k] = np.round(class_weights[str(data_dict[k])], 2)\n",
    "            usg_wt[k] = np.round(usage_weights[k], 2)\n",
    "            inv_wt[k] = np.round(inverted_weights[str(data_dict[k])], 2)\n",
    "        except:\n",
    "            continue\n",
    "    print(\"Predicted tools: \\n\")\n",
    "    print(pred_tool_ids_sorted)\n",
    "    print()\n",
    "    print(\"Class weights: \\n\")\n",
    "    cls_wt = dict(sorted(cls_wt.items(), key=lambda kv: kv[1], reverse=True))\n",
    "    print(cls_wt)\n",
    "    print()\n",
    "    print(\"Usage weights: \\n\")\n",
    "    usg_wt = dict(sorted(usg_wt.items(), key=lambda kv: kv[1], reverse=True))\n",
    "    print(usg_wt)\n",
    "    print()\n",
    "    total_usage_wt = np.mean(list(usg_wt.values()))\n",
    "    print(\"Mean usage wt: %0.4f\" % (total_usage_wt))\n",
    "    print()\n",
    "    print(\"Inverted weights: \\n\")\n",
    "    inv_wt = dict(sorted(inv_wt.items(), key=lambda kv: kv[1], reverse=True))\n",
    "    print(inv_wt)\n",
    "    for key in pred_tool_ids_sorted:\n",
    "        ids_tools[key] = dictionary[key]\n",
    "    print()\n",
    "    print(\"Tool ids\")\n",
    "    print(ids_tools)\n",
    "    print(\"======================================\")\n",
    "    return cls_wt, usg_wt, inv_wt, pred_tool_ids_sorted\n",
    "\n",
    "base_path = \"data/models/\"\n",
    "\n",
    "model_path = base_path + \"model_rnn_custom_loss.hdf5\"\n",
    "\n",
    "trained_model = h5py.File(model_path, 'r')\n",
    "model_config = json.loads(trained_model.get('model_config').value)\n",
    "class_weights = json.loads(trained_model.get('class_weights').value)\n",
    "    \n",
    "loaded_model = model_from_json(model_config)\n",
    "dictionary = json.loads(trained_model.get('data_dictionary').value)\n",
    "compatibile_tools = json.loads(trained_model.get('compatible_tools').value)\n",
    "best_params = json.loads(trained_model.get('best_parameters').value)\n",
    "\n",
    "model, dictionary, reverse_dictionary, compatibile_tools = create_model(model_path)\n",
    "\n",
    "print(reverse_dictionary)"
   ]
  },
  {
   "cell_type": "code",
   "execution_count": 219,
   "metadata": {},
   "outputs": [
    {
     "name": "stdout",
     "output_type": "stream",
     "text": [
      "Predicted tools: \n",
      "\n",
      "{'unipept': 100.0, 'addValue': 100.0, 'collection_column_join': 100.0, 'Summary_Statistics1': 100.0, 'Grep1': 100.0, 'htseq_count': 100.0, 'ggplot2_point': 100.0, 'tp_replace_in_line': 100.0, 'datamash_ops': 100.0, 'Cut1': 100.0, 'join_files_on_column_fuzzy': 100.0, 'wc_gnu': 100.0, 'Paste1': 100.0, 'cardinal_classification': 100.0, 'cshl_awk_tool': 100.0, 'tp_easyjoin_tool': 100.0, 'mass_spectrometry_imaging_filtering': 100.0, 'tp_head_tool': 100.0, 'cat1': 100.0, 'cor2': 100.0, 'tab2fasta': 100.0, 'eggnog_mapper': 100.0, 'tp_sort_header_tool': 100.0, 'Show beginning1': 100.0, 'Grouping1': 100.0, 'trim_galore': 100.0, 'get_sequences': 100.0, 'Filter1': 100.0, 'tp_replace_in_column': 100.0, 'edger': 100.0}\n",
      "\n",
      "Class weights: \n",
      "\n",
      "{}\n",
      "\n",
      "Usage weights: \n",
      "\n",
      "{}\n",
      "\n",
      "Mean usage wt: nan\n",
      "\n",
      "Inverted weights: \n",
      "\n",
      "{}\n",
      "\n",
      "Tool ids\n",
      "{'unipept': 666, 'addValue': 44, 'collection_column_join': 831, 'Summary_Statistics1': 708, 'Grep1': 641, 'htseq_count': 717, 'ggplot2_point': 662, 'tp_replace_in_line': 696, 'datamash_ops': 159, 'Cut1': 135, 'join_files_on_column_fuzzy': 383, 'wc_gnu': 930, 'Paste1': 954, 'cardinal_classification': 355, 'cshl_awk_tool': 415, 'tp_easyjoin_tool': 316, 'mass_spectrometry_imaging_filtering': 315, 'tp_head_tool': 303, 'cat1': 1258, 'cor2': 867, 'tab2fasta': 1088, 'eggnog_mapper': 575, 'tp_sort_header_tool': 1003, 'Show beginning1': 576, 'Grouping1': 1018, 'trim_galore': 178, 'get_sequences': 589, 'Filter1': 605, 'tp_replace_in_column': 454, 'edger': 1144}\n",
      "======================================\n"
     ]
    },
    {
     "data": {
      "text/plain": [
       "({},\n",
       " {},\n",
       " {},\n",
       " {'unipept': 100.0,\n",
       "  'addValue': 100.0,\n",
       "  'collection_column_join': 100.0,\n",
       "  'Summary_Statistics1': 100.0,\n",
       "  'Grep1': 100.0,\n",
       "  'htseq_count': 100.0,\n",
       "  'ggplot2_point': 100.0,\n",
       "  'tp_replace_in_line': 100.0,\n",
       "  'datamash_ops': 100.0,\n",
       "  'Cut1': 100.0,\n",
       "  'join_files_on_column_fuzzy': 100.0,\n",
       "  'wc_gnu': 100.0,\n",
       "  'Paste1': 100.0,\n",
       "  'cardinal_classification': 100.0,\n",
       "  'cshl_awk_tool': 100.0,\n",
       "  'tp_easyjoin_tool': 100.0,\n",
       "  'mass_spectrometry_imaging_filtering': 100.0,\n",
       "  'tp_head_tool': 100.0,\n",
       "  'cat1': 100.0,\n",
       "  'cor2': 100.0,\n",
       "  'tab2fasta': 100.0,\n",
       "  'eggnog_mapper': 100.0,\n",
       "  'tp_sort_header_tool': 100.0,\n",
       "  'Show beginning1': 100.0,\n",
       "  'Grouping1': 100.0,\n",
       "  'trim_galore': 100.0,\n",
       "  'get_sequences': 100.0,\n",
       "  'Filter1': 100.0,\n",
       "  'tp_replace_in_column': 100.0,\n",
       "  'edger': 100.0})"
      ]
     },
     "execution_count": 219,
     "metadata": {},
     "output_type": "execute_result"
    }
   ],
   "source": [
    "topk = 30\n",
    "tool_seq = \"823,833,1222,1025\"\n",
    "verify_model(model, tool_seq, \"\", dictionary, reverse_dictionary, compatibile_tools, class_weights, topk)"
   ]
  },
  {
   "cell_type": "code",
   "execution_count": 220,
   "metadata": {
    "scrolled": true
   },
   "outputs": [
    {
     "data": {
      "text/plain": [
       "2.927592911295817"
      ]
     },
     "execution_count": 220,
     "metadata": {},
     "output_type": "execute_result"
    }
   ],
   "source": [
    "class_weights[\"666\"]"
   ]
  },
  {
   "cell_type": "code",
   "execution_count": null,
   "metadata": {},
   "outputs": [],
   "source": []
  },
  {
   "cell_type": "code",
   "execution_count": null,
   "metadata": {},
   "outputs": [],
   "source": []
  }
 ],
 "metadata": {
  "kernelspec": {
   "display_name": "Python 3",
   "language": "python",
   "name": "python3"
  },
  "language_info": {
   "codemirror_mode": {
    "name": "ipython",
    "version": 3
   },
   "file_extension": ".py",
   "mimetype": "text/x-python",
   "name": "python",
   "nbconvert_exporter": "python",
   "pygments_lexer": "ipython3",
   "version": "3.6.7"
  }
 },
 "nbformat": 4,
 "nbformat_minor": 2
}
