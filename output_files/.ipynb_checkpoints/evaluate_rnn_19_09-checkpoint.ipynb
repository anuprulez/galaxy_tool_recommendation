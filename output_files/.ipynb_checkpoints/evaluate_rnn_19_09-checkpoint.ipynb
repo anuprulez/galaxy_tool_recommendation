{
 "cells": [
  {
   "cell_type": "code",
   "execution_count": 25,
   "metadata": {},
   "outputs": [],
   "source": [
    "import numpy as np\n",
    "import json\n",
    "import warnings\n",
    "import operator\n",
    "\n",
    "import h5py\n",
    "from keras.models import model_from_json\n",
    "from keras import backend as K\n",
    "from keras.utils import get_custom_objects\n",
    "\n",
    "warnings.filterwarnings(\"ignore\")\n",
    "\n",
    "size_title = 18\n",
    "size_label = 14\n",
    "n_pred = 2\n",
    "\n",
    "\n",
    "def read_file(file_path):\n",
    "    with open(file_path, 'r') as data_file:\n",
    "        data = json.loads(data_file.read())\n",
    "    return data\n",
    "\n",
    "def create_model(model_path):\n",
    "    \n",
    "    reverse_dictionary = dict((str(v), k) for k, v in dictionary.items())\n",
    "    model_weights = list()\n",
    "    weight_ctr = 0\n",
    "    while True:\n",
    "        try:\n",
    "            d_key = \"weight_\" + str(weight_ctr)\n",
    "            weights = trained_model.get(d_key).value\n",
    "            model_weights.append(weights)\n",
    "            weight_ctr += 1\n",
    "        except Exception as exception:\n",
    "            break\n",
    "    # set the model weights\n",
    "    loaded_model.set_weights(model_weights)\n",
    "    return loaded_model, dictionary, reverse_dictionary, compatibile_tools\n",
    "\n",
    "\n",
    "def verify_model(model, tool_sequence, labels, dictionary, reverse_dictionary, compatible_tools, class_weights, topk=20, max_seq_len=25):\n",
    "    tl_seq = tool_sequence.split(\",\")\n",
    "    last_tool_name = reverse_dictionary[str(tl_seq[-1])]\n",
    "    last_compatible_tools = compatible_tools[last_tool_name]\n",
    "    sample = np.zeros(max_seq_len)\n",
    "    for idx, tool_id in enumerate(tl_seq):\n",
    "        sample[idx] = int(tool_id)\n",
    "    sample_reshaped = np.reshape(sample, (1, max_seq_len))\n",
    "\n",
    "    tool_sequence_names = [reverse_dictionary[str(tool_pos)] for tool_pos in tool_sequence.split(\",\")]\n",
    "    \n",
    "    # predict next tools for a test path\n",
    "    prediction = model.predict(sample_reshaped, verbose=0)\n",
    "    \n",
    "    weight_val = list(class_weights.values())\n",
    "    weight_val = np.reshape(weight_val, (len(weight_val),))\n",
    "    \n",
    "    prediction = np.reshape(prediction, (prediction.shape[1],))\n",
    "    \n",
    "    prediction = prediction * weight_val\n",
    "    \n",
    "    prediction = prediction / float(np.max(prediction))\n",
    "    \n",
    "    prediction_pos = np.argsort(prediction, axis=-1)\n",
    "\n",
    "    # get topk prediction\n",
    "    topk_prediction_pos = prediction_pos[-topk:]\n",
    "    topk_prediction_val = [int(prediction[pos] * 100) for pos in topk_prediction_pos]\n",
    "    \n",
    "    # read tool names using reverse dictionary\n",
    "    pred_tool_ids = [reverse_dictionary[str(tool_pos)] for tool_pos in topk_prediction_pos if tool_pos > 0]\n",
    "    actual_next_tool_ids = list(set(pred_tool_ids).intersection(set(last_compatible_tools.split(\",\"))))\n",
    "\n",
    "    pred_tool_ids_sorted = dict()\n",
    "    for (tool_pos, tool_pred_val) in zip(topk_prediction_pos, topk_prediction_val):\n",
    "        try:\n",
    "            tool_name = reverse_dictionary[str(tool_pos)]\n",
    "            if tool_name not in last_tool_name and tool_name in actual_next_tool_ids:\n",
    "                pred_tool_ids_sorted[tool_name] = tool_pred_val\n",
    "        except:\n",
    "            continue\n",
    "    pred_tool_ids_sorted = dict(sorted(pred_tool_ids_sorted.items(), key=lambda kv: kv[1], reverse=True))\n",
    "    \n",
    "    cls_wt = dict()\n",
    "    usg_wt = dict()\n",
    "    inv_wt = dict()\n",
    "    ids_tools = dict()\n",
    "    keys = list(pred_tool_ids_sorted.keys())\n",
    "    for k in keys:\n",
    "        try:\n",
    "            cls_wt[k] = np.round(class_weights[str(data_dict[k])], 2)\n",
    "            usg_wt[k] = np.round(usage_weights[k], 2)\n",
    "            inv_wt[k] = np.round(inverted_weights[str(data_dict[k])], 2)\n",
    "        except:\n",
    "            continue\n",
    "    print(\"Predicted tools: \\n\")\n",
    "    print(pred_tool_ids_sorted)\n",
    "    print()\n",
    "    print(\"Class weights: \\n\")\n",
    "    cls_wt = dict(sorted(cls_wt.items(), key=lambda kv: kv[1], reverse=True))\n",
    "    print(cls_wt)\n",
    "    print()\n",
    "    print(\"Usage weights: \\n\")\n",
    "    usg_wt = dict(sorted(usg_wt.items(), key=lambda kv: kv[1], reverse=True))\n",
    "    print(usg_wt)\n",
    "    print()\n",
    "    total_usage_wt = np.mean(list(usg_wt.values()))\n",
    "    print(\"Mean usage wt: %0.4f\" % (total_usage_wt))\n",
    "    print()\n",
    "    print(\"Inverted weights: \\n\")\n",
    "    inv_wt = dict(sorted(inv_wt.items(), key=lambda kv: kv[1], reverse=True))\n",
    "    print(inv_wt)\n",
    "    for key in pred_tool_ids_sorted:\n",
    "        ids_tools[key] = dictionary[key]\n",
    "    print()\n",
    "    print(\"Tool ids\")\n",
    "    print(ids_tools)\n",
    "    print(\"======================================\")\n",
    "    return cls_wt, usg_wt, inv_wt, pred_tool_ids_sorted"
   ]
  },
  {
   "cell_type": "code",
   "execution_count": 26,
   "metadata": {
    "scrolled": true
   },
   "outputs": [
    {
     "name": "stdout",
     "output_type": "stream",
     "text": [
      "{'1': 'bcftools_filter', '2': 'cd_hit_protein', '3': 'augustus_training', '4': 'mothur_homova', '5': 'cuffcompare', '6': 'smooth_running_window', '7': 'mtbls520_08a_species_shannon', '8': 't_coffee', '9': 'ctb_np-likeness-calculator', '10': 'hicexplorer_hicplotmatrix', '11': 'ProteinResolver', '12': 'tabular_to_fastq', '13': 'trinity_samples_qccheck', '14': 'samtool_filter2', '15': 'tp_sort_header_tool', '16': 'tp_head_tool', '17': '_ensembl_gtf2gene_list', '18': 'vcftools_merge', '19': 'mtbls520_23_seasons_rda', '20': 'prepare_receptor', '21': 'rseqc_inner_distance', '22': 'ssake', '23': 'vcfbedintersect', '24': 'jcvi_gff_stats', '25': 'cat1', '26': 'scanpy_run_tsne', '27': 'ip_scale_image', '28': 'eden_sequence_converter', '29': 'methtools_tiling', '30': 'vcfcheck', '31': 'blast_reciprocal_best_hits', '32': 'snpeff_to_peptides', '33': 'camera-annotate-peaks', '34': 'Filter1', '35': 'EMBOSS: shuffleseq87', '36': 'calc_fitness', '37': 'cardinal_data_exporter', '38': 'MapStatistics', '39': 'rarefaction', '40': 'cd_hit_est', '41': 'resize_coordinate_window', '42': 'quast', '43': 'passatutto', '44': 'pipmir', '45': 'docking', '46': 'Fetch Taxonomic Ranks', '47': 'cshl_word_list_grep', '48': 'stacks_genotypes', '49': 'metaquantome_stat', '50': 'iqtree', '51': 'biosigner', '52': 'map-msms2camera', '53': 'pileometh', '54': 'term_id_vs_term_def', '55': 'cshl_fastx_clipper', '56': 'genbank_to_gff', '57': 'treebest_best', '58': 'Nucleosome', '59': 'checkFormat', '60': 'snpSift_extractFields', '61': 'gemini_inheritance', '62': 'export2graphlan', '63': 'Univariate', '64': 'cshl_princeton_fastx_barcode_splitter', '65': 'freebayes', '66': 'blastxml_to_tabular_selectable', '67': 'MapAlignerPoseClustering', '68': 'bam_to_bigwig', '69': 'mlocarna', '70': 'EMBOSS: revseq82', '71': 'xcms_plot_chromatogram', '72': 'numeric_clustering', '73': 'samtools_stats', '74': 'deeptools_compute_matrix', '75': 'fastq_trimmer', '76': 'flexbar_split_RYYR_bcs', '77': 'bg_uniq', '78': 'mothur_metastats', '79': 'samtools_bedcov', '80': 'dt_profiler', '81': 'ctb_filter', '82': 'minfi_getsnp', '83': 'picard_CollectGcBiasMetrics', '84': 'OpenSwathDecoyGenerator', '85': 'ctb_alignit_create_db', '86': 'eukaryotic_ncbi_submission', '87': 'locarna_multiple', '88': 'deeptools_multi_bigwig_summary', '89': 'regionalgam_gls', '90': 'gtf2bedgraph', '91': 'samtools_slice_bam', '92': 'gmx_em', '93': 'flexbar_split_RR_bcs', '94': 'sklearn_nn_classifier', '95': 'intarna', '96': 'mothur_make_biom', '97': 'mimodd_varcall', '98': 'bwa_wrapper', '99': 'mtbls520_09_species_venn', '100': 'gemini_pathways', '101': 'cardinal_preprocessing', '102': 'viennarna_rnafold', '103': 'mtbls520_08e_species_features', '104': 'spocc_occ', '105': 'bed_to_protein_map', '106': 'OpenSwathAssayGenerator', '107': 'hisat', '108': 'fasta2tab', '109': 'FalseDiscoveryRate', '110': 'vcftools_isec', '111': 'ip_2d_filter_segmentation_by_features', '112': 'bg_find_subsequences', '113': 'prinseq', '114': 'HighResPrecursorMassCorrector', '115': 'eden_vectorizer', '116': 'macs2_predictd', '117': 'mtbls520_08d_concentration', '118': 'graphclust_glob_report_no_align', '119': 'cuffnorm', '120': 'feelnc', '121': 'CONVERTER_bam_to_bigwig_0', '122': 'bg_protein_properties', '123': 'snpSift_annotate', '124': 'get_sequences', '125': 'trinity_contig_exn50_statistic', '126': 'muscle', '127': 'sickle', '128': 'find_in_reference', '129': 'bedtools_genomecoveragebed_histogram', '130': 'Datamash', '131': 'rseqc_junction_saturation', '132': 'DatamashTranspose', '133': 'scanpy_compute_graph', '134': 'bctools_remove_tail', '135': 'vigiechiro_bilanenrichirp', '136': 'FileInfo', '137': 'mothur_classify_otu', '138': 'nanoplot', '139': 'stoceps_glm', '140': 'ctb_change_title', '141': '__APPLY_RULES__', '142': 'seurat_find_markers', '143': 'sm_mirdeep2core_without_Randfold', '144': 'TrimByN', '145': 'newick_display', '146': 'tp_sort_rows', '147': 'computeMatrix', '148': 'transdecoder', '149': '__RELABEL_FROM_FILE__', '150': 'pieplots_macs', '151': 'viennarna_rnaalifold', '152': 'gd_calc_freq', '153': 'mothur_summary_seqs', '154': 'rbc_mafft', '155': 'deeptools_bam_pe_fragmentsize', '156': 'Extract_RNA_seq_Evidence', '157': 'uchime', '158': 'fragmenter', '159': 'gene2exon1', '160': 'ctb_rdkit_describtors', '161': 'build_ucsc_custom_track_1', '162': 'gops_cluster_1', '163': 'bwa_mem', '164': 'mycrobiota-split-multi-otutable', '165': 'wtdbg', '166': 'mtbls520_18_phylogeny', '167': 'locarna_best_subtree', '168': 'extract_bcs.py', '169': 'bamCoverage_deepTools', '170': 'hicexplorer_hicmergematrixbins', '171': 'ctb_chemfp_butina_clustering', '172': 'tophat2', '173': 'megablast_xml_parser', '174': 'mothur_remove_lineage', '175': 'rseqc_bam_stat', '176': 'proteomics_search_tandem_1', '177': 'minfi_ppfun', '178': 'deeptools_heatmapper', '179': 'glimmer_not-knowlegde-based', '180': 'seq_filter_by_mapping', '181': 'qiime_summarize_taxa_through_plots', '182': 'hisat2', '183': 'snpfinder', '184': 'ctb_silicos_qed', '185': 'bowtie_wrapper', '186': 'blastxml_to_tabular', '187': 'openbabel_compound_convert', '188': 'bcftools_consensus', '189': 'cshl_fastx_renamer', '190': 'prokka', '191': 'fastq_manipulation', '192': 'snpSift_int', '193': 'mummer_mummer', '194': 'metilene', '195': 'maker', '196': 'bctools_extract_alignment_ends', '197': 'vcffilter2', '198': 'get_flanks1', '199': 'minfi_maptogenome', '200': 'ncbi_blastp_wrapper', '201': 'ip_filter_standard', '202': 'cshl_awk_tool', '203': 'humann2_renorm_table', '204': 'cutadapt', '205': 'ete_homology_classifier', '206': 'cuffquant', '207': 'meme_meme', '208': 'venn_list', '209': 'stacks_populations', '210': 'aggregate_scores_in_intervals2', '211': 'rarefaction_analyzer', '212': 'bedtools_coveragebed', '213': 'mothur_make_shared', '214': 'CometAdapter', '215': 'CONVERTER_fasta_to_tabular', '216': 'ggplot2_heatmap2', '217': 'XY_Plot_1', '218': 'bwa', '219': 'psy_maps', '220': 'je_markdupes', '221': 'vigiechiro_idcorrect_2ndlayer', '222': 'graphicsmagick_image_convert', '223': 'picard_ValidateSamFile', '224': 'ctb_compound_convert', '225': 'ip_2d_feature_extraction', '226': 'tophat', '227': 'metaphlan2', '228': 'mothur_split_abund', '229': 'gatk2_realigner_target_creator', '230': 'ggplot_point', '231': 'seqtk_trimfq', '232': 'abims_xcms_summary', '233': 'rseqc_mismatch_profile', '234': 'picard_FastqToSam', '235': 'samtools_flagstat', '236': 'wolf_psort', '237': 'racon', '238': 'abricate', '239': 'Extractor', '240': 'tophat_fusion_post', '241': 'hicexplorer_hiccorrectmatrix', '242': 'dunovo', '243': 'get_pdb', '244': 'vcfallelicprimitives', '245': 'qiime_split_libraries', '246': 'seurat_scale_data', '247': 'proteomics_search_protein_prophet_1', '248': 'flanking_features_1', '249': 'blockbuster', '250': 'gemini_recessive_and_dominant', '251': 'nonpareil', '252': 'deeptools_compute_matrix_operations', '253': 'rbc_mirdeep2', '254': 'fastq_paired_end_splitter', '255': 'bgchem_fragment_merger', '256': 'qiime_assign_taxonomy', '257': 'gatk2_indel_realigner', '258': 'gatk2_variant_recalibrator', '259': 'quality_metrics', '260': 'ConsensusID', '261': 'column_remove_by_header', '262': 'samtools_mpileup', '263': 'bedtools_getfastabed', '264': 'spades', '265': 'bedtools_multiintersectbed', '266': 'bio3d_rmsd', '267': 'graphclust_align_cluster', '268': 'correctGCBias', '269': 'stacks_denovomap', '270': 'bedtools_bamtofastq', '271': 'IDFileConverter', '272': 'mothur_summary_tax', '273': 'rbc_rnacode', '274': 'custom_pro_db', '275': 'deeptools_bamCompare', '276': 'stacks_refmap', '277': 'ctb_chemfp_nxn_clustering', '278': 'mothur_screen_seqs', '279': 'openms_id_file_converter', '280': 'BAMTagHistogram', '281': 'rseqc_insertion_profile', '282': 'bio3d_rmsf', '283': 'bismark_methylation_extractor', '284': 'seurat_run_pca', '285': 'cshl_fastx_quality_statistics', '286': 'mothur_heatmap_sim', '287': 'mothur_chimera_uchime', '288': 'mass_spectrometry_imaging_combine', '289': 'samtools_depth', '290': 'ctb_osra', '291': 'Heatmap', '292': 'samtools_sort', '293': 'ncbi_blastx_wrapper', '294': 'wiggle2simple1', '295': 'igvtools_count', '296': 'length_and_gc_content', '297': 'gops_subtract_1', '298': 'diffbind-embl', '299': 'bam2wig', '300': 'bedtools_groupbybed', '301': 'deeptools_plot_correlation', '302': 'deeptools_plot_pca', '303': 'deeptools_bam_compare', '304': 'rm_spurious_events.py', '305': 'fastq_to_fasta_python', '306': 'vcffixup', '307': 'vegan_diversity', '308': 'keras_model_builder', '309': 'gff2bed1', '310': 'CONVERTER_bed_to_fli_0', '311': 'cd_hit_dup', '312': 'cmFinder', '313': 'scanpy_filter_cells', '314': 'hgv_david', '315': 'cummeRbund', '316': 'FileFilter', '317': 'maldi_quant_preprocessing', '318': 'hca_matrix_downloader', '319': 'mothur_get_oturep', '320': 'tp_tail_tool', '321': 'FeatureLinkerUnlabeledQT', '322': 'hgv_linkToGProfile', '323': 'Batch_correction', '324': 'fastq_paired_end_deinterlacer', '325': 'hicexplorer_hicfindtads', '326': 'qiime_make_otu_heatmap', '327': 'qiime_count_seqs', '328': 'fastq_quality_trimmer', '329': 'FROGS_filters', '330': 'fastq_dump', '331': 'Kneeplot', '332': 'qiime_split_libraries_fastq', '333': 'mothur_pcoa', '334': 'rnafold', '335': 'wc_gnu', '336': 'thermo_raw_file_converter', '337': 'regionalgam_flight_curve', '338': 'lastz_wrapper_2', '339': 'align_families', '340': 'scaffold2fasta', '341': 'mtbls520_19d_seasons_concentration', '342': 'lca1', '343': 'deeptools_multi_bam_summary', '344': 'mlst', '345': 'glob_report', '346': 'genrich', '347': 'w4mclstrpeakpics', '348': 'random_lines1', '349': 'stringtie', '350': 'aggregate', '351': 'filter_columns', '352': 'cshl_fastx_collapser', '353': 'metaquantome_viz', '354': 'picard_CASM', '355': 'gemini_burden', '356': 'stringtie_merge', '357': 'velvet', '358': 'wsdl_hmdb', '359': 'mothur_nmds', '360': 'paralyzer', '361': 'snpSift_filter', '362': 'deeptools_bamFingerprint', '363': 'gff_to_sequence', '364': 'EMBOSS: tranalign100', '365': 'mothur_dist_seqs', '366': 'snpEff_download', '367': 'cshl_sort_header', '368': 'qiime_core_diversity', '369': 'p_clip_peaks', '370': 'velveth', '371': 'gmx_setup', '372': 'ctb_ob_genProp', '373': 'jbrowse', '374': 'msms2metfrag-multiple', '375': 'bcftools_plugin_counts', '376': 'seurat', '377': 'hicexplorer_hicplottads', '378': 'datamash_reverse', '379': 'mycrobiota-make-multi-otutable', '380': 'aragorn_trna', '381': 'meme_chip', '382': 'regex1', '383': 'qiime_pick_open_reference_otus', '384': 'bedtools_unionbedgraph', '385': 'fastq_filter', '386': 'tp_text_file_with_recurring_lines', '387': 'uniprot', '388': 'mcClust', '389': 'prokaryotic_ncbi_submission', '390': 'mothur_phylotype', '391': 'mothur_remove_seqs', '392': 'TrimByLength', '393': 'rbc_mirdeep2_quantifier', '394': 'umi_tools_group', '395': 'seqtk_mergepe', '396': 'EMBOSS: textsearch98', '397': 'tp_replace_in_line', '398': 'bam_to_sam', '399': 'deseq2', '400': 'bcftools_stats', '401': 'Flash', '402': 'bam-filter', '403': 'hicexplorer_hicplotviewpoint', '404': 'msnbase_readmsdata', '405': 'mtbls520_06_import_traits', '406': 'bg_sortmerna', '407': 'tp_replace_in_column', '408': 'preMloc', '409': 'graphicsmagick_image_montage', '410': 'abims_xcms_fillPeaks', '411': 'rbc_splitfasta', '412': 'bedtools_annotatebed', '413': 'pygenomeTracks', '414': 'vsearch_dereplication', '415': 'myrimatch', '416': 'staramr_search', '417': 'Summary_Statistics1', '418': 'ip_overlay_segmentation', '419': 'tsne', '420': 'ggplot2_heatmap', '421': 'kraken-translate', '422': 'gffread', '423': 'sam_bw_filter', '424': 'tp_sorted_uniq', '425': 'mothur_merge_files', '426': 'TextExporter', '427': 'macs2_bdgcmp', '428': 'ruvseq', '429': 'ip_projective_transformation', '430': 'express', '431': 'mtbls520_08b_species_unique', '432': 'createInterval', '433': 'vcfvcfintersect', '434': 'gemini_interactions', '435': 'samtools_rmdup', '436': 'Btrim64', '437': 'camera-group-fwhm', '438': 'mothur_heatmap_bin', '439': 'regex_replace', '440': 'htseq_count', '441': 'varscan_somatic', '442': 'infernal_cmsearch', '443': 'gatk2_print_reads', '444': '__BUILD_LIST__', '445': 'EMBOSS: seqret84', '446': 'ctb_subsearch', '447': 'rsem_prepare_reference', '448': 'piranha', '449': 'mothur_classify_seqs', '450': 'heinz', '451': 'tab2fasta', '452': 'FidoAdapter', '453': 'tp_sed_tool', '454': 'regionalgam_glmmpql', '455': 'seurat_run_tsne', '456': 'regionalgam_plot_trend', '457': 'gmx_nvt', '458': 'metaquantome_expand', '459': 'cshl_find_and_replace', '460': 'cardinal_filtering', '461': 'mothur_trim_seqs', '462': 'xcms-group-peaks', '463': 'EMBOSS: newseq59', '464': 'ia_coordinates_of_roi', '465': 'term_id_vs_term_name', '466': 'infernal_cmstat', '467': 'blast2go', '468': 'seq_composition', '469': 'camera-find-adducts', '470': 'msconvert_win', '471': 'rbc_mirdeep2_mapper', '472': 'FROGS_clustering', '473': 'predict_pipeline', '474': 'ExtractFASTAfromFASTQ', '475': 'proteomics_search_peptide_prophet_1', '476': 'secretbt2test', '477': 'fastq_groomer', '478': 'bismark_pretty_report', '479': 'tp_tac', '480': 'mothur_align_seqs', '481': 'gemini_comp_hets', '482': 'melt', '483': 'collapse_dataset', '484': 'ococo', '485': 'picard_SamToFastq', '486': 'ctb_simsearch', '487': 'raceid_inspectclusters', '488': 'vcfselectsamples', '489': 'proteomics_moff', '490': 'rseqc_read_distribution', '491': 'rseqc_bam2wig', '492': 'compose_text_param', '493': 'ProteinQuantifier', '494': 'deeptools_plot_coverage', '495': 'hmmer_hmmsearch', '496': 'CONVERTER_interval_to_bgzip_0', '497': 'fastq_stats', '498': 'CONVERTER_Bam_Bai_0', '499': 'rseqc_read_duplication', '500': 'align_back_trans', '501': 'gatk_depth_of_coverage', '502': 'metaquantome_filter', '503': 'structure_to_gspan', '504': 'scanpy_find_variable_genes', '505': 'map_peptides_to_bed', '506': 'raceid_trajectory', '507': 'ip_projective_transformation_points', '508': 'mothur_dist_shared', '509': 'get_child_terms', '510': 'barchart_gnuplot', '511': 'sam2interval', '512': 'xcms-find-peaks', '513': 'Convert characters1', '514': 'vcfflatten2', '515': 'bedtools_bamtobed', '516': 'annotateMyIDs', '517': 'sam_to_bam', '518': 'deeptools_bigwigCompare', '519': 'collection_column_join', '520': 'trinity_abundance_estimates_to_matrix', '521': 'humann2', '522': 'trinotate', '523': 'trim_reads', '524': 'cds_essential_variability', '525': 'cshl_fastq_to_fasta', '526': 'qiime_pick_rep_set', '527': 'ggplot_histogram', '528': 'cshl_easyjoin', '529': 'clusterprofiler_go', '530': 'sklearn_searchcv', '531': 'salmon', '532': 'ggplot2_histogram', '533': 'deeptools_plot_fingerprint', '534': 'ctb_confab', '535': 'sklearn_clf_metrics', '536': 'picard_ReorderSam', '537': 'umi_tools_dedup', '538': 'cshl_multijoin', '539': 'picard_CleanSam', '540': 'macs2_callpeak', '541': 'ctb_obgrep', '542': 'tp_cat', '543': 'regionalgam_ab_index', '544': 'dexseq_count', '545': 're_he_maldi_image_registration', '546': 'methtools_filter', '547': 'xpath', '548': 'ip_histogram_equalization', '549': 'methtools_plot', '550': '__SORTLIST__', '551': 'filtlong', '552': 'ctb_shapeit', '553': 'mothur_corr_axes', '554': 'PeptideIndexer', '555': 'viz_overlay_moving_and_fixed_image', '556': 'w4mclassfilter', '557': 'cast', '558': 'ncbi_rpsblast_wrapper', '559': 'sailfish', '560': 'bcftools_view', '561': 'gops_coverage_1', '562': 'mtbls520_19a_seasons_shannon', '563': 'msconvert3_raw', '564': 'hcluster_sg', '565': 'glimmer_knowlegde-based', '566': 'translate_bed', '567': 'openms_protein_quantifier', '568': 'trim_galore', '569': 'CONVERTER_fasta_to_2bit', '570': 'mtbls520_12_species_marchantia', '571': 'ctb_remDuplicates', '572': 'bedtools_bedtobam', '573': 'ucsc-twobittofa', '574': 'ctb_sdf2fps', '575': 'RNAlien', '576': 'raceid_main', '577': 'Count1', '578': 'mothur_pairwise_seqs', '579': 'scanpy_parameter_iterator', '580': 'ctb_opsin', '581': 'gmx_npt', '582': 'FROGS_remove_chimera', '583': '__FLATTEN__', '584': 'picard_MergeSamFiles', '585': 'scanpy_scale_data', '586': 'shyft_longitudes', '587': 'GeneModelMapper', '588': 'bedtools_genomecoveragebed_bedgraph', '589': 'rseqc_RNA_fragment_size', '590': 'ip_viz_overlay_moving_and_fixed_image', '591': 'msgfplus', '592': 'cshl_uniq_tool', '593': 'sqlite_to_tabular', '594': 'Show beginning1', '595': 'vcftools_annotate', '596': 'Remove_ending', '597': 'mimodd_varextract', '598': 'minfi_read450k', '599': 'kraken', '600': 'trinity', '601': 'bismark_deduplicate', '602': 'Draw_phylogram', '603': 'picard_MarkDuplicatesWithMateCigar', '604': 'clustalw', '605': 'interproscan', '606': 'extract_element_from_collection', '607': 'CONVERTER_gff_to_bed_0', '608': 'minfi_methcpg', '609': 'picard_EstimateLibraryComplexity', '610': 'gmx_solvate', '611': 'bamtools', '612': 'busco', '613': 'FileMerger', '614': 'heinz_bum', '615': 'scanpy_read_10x', '616': 'graphlan_annotate', '617': 'seurat_find_clusters', '618': 'EMBOSS: fuzztran39', '619': 'gafa', '620': 'samtools_filter', '621': 'trinity_run_de_analysis', '622': 'antismash', '623': 'gatk_unified_genotyper', '624': 'ip_convertimage', '625': 'nn_classifier', '626': 'mothur_lefse', '627': 'flashlfq', '628': 'tp_find_and_replace', '629': 'fastqc', '630': 'cshl_cut_tool', '631': 'mass_spectrometry_imaging_segmentations', '632': 'qiime_pick_otus', '633': 'bismark_bowtie', '634': 'trinity_filter_low_expr_transcripts', '635': 'filter_tabular', '636': 'modencode_peakcalling_spp', '637': 'tabular_to_csv', '638': 'fastq collapser', '639': 'velvetg', '640': 'get_feature_info', '641': 'blast_parser', '642': 'DecoyDatabase', '643': 'Remove beginning1', '644': 'filter_bed_on_splice_junctions', '645': 'diffbind', '646': 'mothur_cluster', '647': 'snippy', '648': 'cshl_fasta_formatter', '649': 'htseq-count', '650': 'gemini_db_info', '651': 'rgweblogo3', '652': 'egsea', '653': 'enhanced_bowtie_wrapper', '654': 'porechop', '655': 'bctools_remove_spurious_events', '656': 'PlasFlow', '657': 'scale_image', '658': 'cor2', '659': 'deeptools_compute_gc_bias', '660': 'abims_xcms_group', '661': 'plotly_parallel_coordinates_plot', '662': 'sklearn_model_validation', '663': 'minimap2', '664': 'minfi_getM', '665': 'mycrobiota-krona-mothur', '666': 'chipseeker', '667': 'mothur_make_design', '668': 'lfq_protein_quant', '669': 'glimmer_build-icm', '670': 'FROGS_affiliation_OTU', '671': 'msconvert_nix', '672': 'fastq_combiner', '673': 'FROGS_preprocess', '674': 'mimodd_varreport', '675': 'sklearn_svm_classifier', '676': 'idr-embl', '677': 'mz_to_sqlite', '678': 'rseqc_infer_experiment', '679': 'scanpy_find_markers', '680': 'bedtools_intersectbed_bam', '681': 'ctb_spectrophore_search', '682': 'tp_uniq_tool', '683': 'preproc', '684': 'ip_landmark_registration', '685': 'wig_to_bigWig', '686': 'multiqc', '687': 'bedtools_multicovtbed', '688': 'seq_filter_by_id', '689': 'ip_imageinfo', '690': 'mtbls520_08c_species_variability', '691': 'mothur_seq_error', '692': 'FilterBAM', '693': 'kraken2', '694': 'tables_arithmetic_operations', '695': 'CONVERTER_fastqgz_to_fastq', '696': 'uparse', '697': 'CONVERTER_interval_to_bed_0', '698': 'edger', '699': 'unzip', '700': 'ConsensusMapNormalizer', '701': 'svm_classifier', '702': 'picard_NormalizeFasta', '703': 'tp_awk_tool', '704': 'snpEff', '705': 'scpipe', '706': 'deeptools_computeMatrix', '707': 'IDMerger', '708': 'seqtk_subseq', '709': 'samtools_flag_filter', '710': 'hicexplorer_hicbuildmatrix', '711': 'ctb_ob_svg_depiction', '712': 'meme_psp_gen', '713': 'meme_dreme', '714': 'abims_CAMERA_annotateDiffreport', '715': 'bio3d_pca', '716': 'bcftools_mpileup', '717': 'methtools_calling', '718': 'FeatureLinkerUnlabeled', '719': 'eggnog_mapper', '720': 'fgsea', '721': 'ip_threshold', '722': 'humann2_regroup_table', '723': 'ip_binary_to_labelimage', '724': 'dexseq_annotate', '725': 'CONVERTER_bed_gff_or_vcf_to_bigwig_0', '726': 'mimodd_map', '727': 'retrieve_scxa', '728': 'w4mcorcov', '729': 'deeptools_plot_profile', '730': 'convert_bc_to_binary_RY.py', '731': 'deeptools_plot_enrichment', '732': 'bg_statistical_hypothesis_testing', '733': 'fastq_to_tabular', '734': 'vcfsort', '735': 'nanopolish_variants', '736': 'ctb_multi_obgrep', '737': 'miniasm', '738': 'graphclust_aggregate_alignments', '739': 'camera-prepareoutput', '740': 'sort1', '741': 'chipsequtil_maptoknowngenes', '742': 'ip_2d_split_binaryimage_by_watershed', '743': 'sample_seqs', '744': 'krona-text', '745': 'mothur_summary_single', '746': 'stoceps_filteringsp', '747': 'ctb_online_data_fetch', '748': 'MetaProSIP', '749': 'qiime_filter_alignment', '750': 'addValue', '751': 'bwameth', '752': 'search_gui', '753': 'EMBOSS: geecee41', '754': 'vcftools_compare', '755': 'msconvert2_raw', '756': 'vcfgenotypes', '757': 'scanpy_run_umap', '758': 'mtbls520_07_species_diversity', '759': 'flexbar_no_split', '760': 'mycrobiota-correct-replicates', '761': 'mothur_chimera_vsearch', '762': 'minfi_getbeta', '763': 'openms_id_mapper', '764': 'EMBOSS: extractseq35', '765': 'gatk_indel_realigner', '766': 'bedtools_coveragebed_counts', '767': 'cardinal_quality_report', '768': 'secure_hash_message_digest', '769': 'cardinal_mz_images', '770': 'umi_tools_whitelist', '771': 'methtools_destrand', '772': 'idpquery', '773': 'trimmomatic', '774': 'blockclust', '775': 'FileConverter', '776': 'scatterplot_rpy', '777': 'xcms-collect-peaks', '778': 'pynast', '779': 'gops_intersect_1', '780': 'mimodd_reheader', '781': 'allele_counts_1', '782': 'mycrobiota-qc-report', '783': 'ncbi_blastn_wrapper', '784': 'sm_mapper', '785': 'mass_spectrometry_imaging_classification', '786': 'cardinal_combine', '787': 'join1', '788': 'cshl_fastq_quality_filter', '789': 'cshl_fastx_nucleotides_distribution', '790': 'AnnovarShed', '791': 'bundle_collection', '792': 'bedtools_slopbed', '793': 'qiime_make_phylogeny', '794': 'bedtools_map', '795': 'iReport', '796': 'hgv_snpFreq', '797': 'mothur_unique_seqs', '798': 'FeatureFinderMetabo', '799': 'TrimPrimer', '800': 'rmcontamination', '801': 'gatk2_variant_annotator', '802': 'gd_rank_terms', '803': 'combine_metaphlan2_humann2', '804': 'tp_grep_tool', '805': 'Extract_features1', '806': 'mothur_make_group', '807': 'maxquant', '808': 'fastp', '809': 'methtools_dmr', '810': 'subtract_query1', '811': 'bandage_info', '812': 'ucsc_cell_browser', '813': 'PicardInsertSize', '814': 'decoyfasta', '815': 'gatk2_depth_of_coverage', '816': 'fasta_filter_by_length', '817': 'sklearn_estimator_attributes', '818': 'dexseq', '819': 'varscan_copynumber', '820': 'ncbi_tblastn_wrapper', '821': 'fraggenescan', '822': 'vcf2pgSnp', '823': 'Transformation', '824': 'mothur_make_contigs', '825': 'bed2gff1', '826': 'fasta-stats', '827': 'ctb_remove_protonation_state', '828': 'create_or_update', '829': 'gffcompare_to_bed', '830': 'picard_SortSam', '831': 'table_compute', '832': 'deeptools_alignmentsieve', '833': 'gemini_annotate', '834': 'FeatureLinkerUnlabeledKD', '835': 'IDMassAccuracy', '836': 'taxonomy_krona_chart', '837': 'blastxml_to_top_descr', '838': 'comp1', '839': 'gemini_stats', '840': 'iframe', '841': 'smf_utils_filter-by-energy', '842': 'table_annovar', '843': 'mothur_classify_rf', '844': 'hmmer_hmmbuild', '845': 'format_metaphlan2_output', '846': 'heatmap2', '847': 'mass_spectrometry_imaging_ion_images', '848': 'gatk2_variant_filtration', '849': 'Paste1', '850': 'mass_spectrometry_imaging_mzplots', '851': 'sam_pileup', '852': 'fasta_merge_files_and_filter_unique_sequences', '853': 'snpEff_build_gb', '854': 'mtbls520_16_ecology_rda', '855': 'mothur_taxonomy_to_krona', '856': 'smf_utils_find-boxes', '857': 'metaphlan2krona', '858': 'gemini_de_novo', '859': 'rseqc_junction_annotation', '860': 'flexbar', '861': 'silac_analyzer', '862': 'flaimapper', '863': 'group_humann2_uniref_abundances_to_go', '864': 'chipeakanno_annopeaks', '865': 'trinity_align_and_estimate_abundance', '866': 'shovill', '867': 'cufflinks_prok', '868': 'poretools_extract', '869': 'freebayes_wrapper', '870': '__FILTER_FAILED_DATASETS__', '871': 'PeakPickerHiRes', '872': 'metams_runGC', '873': 'csv_to_tabular', '874': 'mtbls520_19e_seasons_features', '875': 'dropletutils', '876': 'picard_QualityScoreDistribution', '877': 'metfrag-cli-batch-multiple', '878': 'imagecoordinates_flipaxis', '879': 'sklearn_build_pipeline', '880': 'vigiechiro_idvalid', '881': 'ctb_stripit', '882': 'picard_FilterSamReads', '883': 'bedtools_complementbed', '884': 'deeptools_plot_heatmap', '885': 'plotly_regression_performance_plots', '886': 'unipept', '887': 'flash', '888': 'replace_chromosome_names', '889': 'pilon', '890': 'bed_to_bigBed', '891': 'minfi_rset', '892': 'je_demultiplex', '893': 'fasttree', '894': 'cardinal_spectra_plots', '895': 'gmx_md', '896': 'sam_merge2', '897': 'trimmer', '898': 'CONVERTER_interval_to_bedstrict_0', '899': 'bamSplit', '900': 'query_tabular', '901': 'bedtools_bed12tobed6', '902': 'segemehl', '903': 'cshl_sed_tool', '904': 'gd_raxml', '905': 'md_converter', '906': 'cuffmerge', '907': 'goenrichment', '908': 'picard_CollectInsertSizeMetrics', '909': 'Interval_Maf_Merged_Fasta2', '910': 'sklearn_numeric_clustering', '911': 'MzTabExporter', '912': 'IDFilter', '913': 'mothur_get_seqs', '914': 'rawtools', '915': 'gops_merge_1', '916': 'valet', '917': 'bed_to_bigwig', '918': 'vcfcombine', '919': 'gtftobed12', '920': 'samtools_calmd', '921': 'Psortb', '922': 'metaspades', '923': 'varscan', '924': 'extract_aln_ends.py', '925': 'msnbase-read-msms', '926': 'deeptools_profiler', '927': 'join_files_on_column_fuzzy', '928': 'humann2_unpack_pathways', '929': 'hcluster_sg_parser', '930': 'meme_fimo', '931': 'rseqc_clipping_profile', '932': 'mothur_filter_seqs', '933': 'minfi_mset', '934': 'xcms-blankfilter', '935': 'EMBOSS: water107', '936': 'mimodd_convert', '937': 'trinity_define_clusters_by_cutting_tree', '938': 'disco', '939': 'seurat_filter_cells', '940': 'ctb_chemfp_mol2fps', '941': 'mimodd_vcf_filter', '942': 'metaphlan_hclust_heatmap', '943': 'replace_column_with_key_value_file', '944': 'mtbls520_05a_import_maf', '945': '16Saligner', '946': 'gemini_load', '947': 'roary', '948': 'FROGS_affiliations_stat', '949': 'cshl_fastx_barcode_splitter', '950': 'mass_spectrometry_imaging_preprocessing', '951': 'scanpy_filter_genes', '952': '__UNZIP_COLLECTION__', '953': 'seurat_read10x', '954': 'react_cal_pipeline', '955': 'snpSift_geneSets', '956': 'flye', '957': 'w4mjoinpn', '958': 'minfi_qc', '959': 'sklear_numeric_clustering', '960': 'flexbardsc', '961': 'transpose', '962': 'regionalgam_autocor_acf', '963': 'bedtools_genomecoveragebed', '964': 'deseq2_single', '965': 'gbk_to_orf', '966': 'IDConflictResolver', '967': 'cshl_grep_tool', '968': 'picard_AddOrReplaceReadGroups', '969': 'FeatureFinderMultiplex', '970': 'IsobaricAnalyzer', '971': 'deeptools_bamCoverage', '972': 'picard_MarkDuplicates', '973': 'seurat_dim_plot', '974': 'deeptools_correctGCBias', '975': 'sequence_content_trimmer', '976': 'CONVERTER_fasta_to_fai', '977': 'peptide_shaker', '978': 'remove_tail.py', '979': 'mass_spectrometry_imaging_qc', '980': 'get_subontology_from', '981': 'charts', '982': 'IDPosteriorErrorProbability', '983': 'picard_BamIndexStats', '984': 'gatk2_variant_select', '985': 'miranda', '986': '__TAG_FROM_FILE__', '987': 'velvetoptimiser', '988': 'ctb_ob_addh', '989': 'trinity_analyze_diff_expr', '990': 'mergeCols1', '991': 'ChangeCase', '992': 'minfi_getanno', '993': 'varscan_mpileup', '994': 'cummerbund_to_cuffdiff', '995': 'rgPicFixMate', '996': 'raceid_clustering', '997': 'vigiechiro_bilanenrichipf', '998': 'bamFilter', '999': 'seurat_normalise_data', '1000': 'bcftools_norm', '1001': 'deeptools_bigwig_compare', '1002': 'CONVERTER_bed_to_gff_0', '1003': 'cmv', '1004': 'goseq', '1005': 'gops_join_1', '1006': 'qiime_validate_mapping_file', '1007': 'mothur_rarefaction_single', '1008': 'humann2_genefamilies_genus_level', '1009': 'viennarna_rnaplot', '1010': 'goslimmer', '1011': 'qiime_pick_closed_reference_otus', '1012': 'gatk2_variant_apply_recalibration', '1013': 'tag_stat2', '1014': 'ggplot2_point', '1015': 'bedtools_sortbed', '1016': 'bamleftalign', '1017': 'fastq_paired_end_joiner', '1018': 'ctb_alignit', '1019': 'volcanoplot', '1020': 'bandage_image', '1021': 'picard_FixMateInformation', '1022': 'bamCompare_deepTools', '1023': 'deg_annotate', '1024': 'limma_voom', '1025': 'picard_CollectWgsMetrics', '1026': 'rgPicardMarkDups', '1027': 'Grouping1', '1028': 'mothur_pre_cluster', '1029': 'mothur_count_seqs', '1030': 'column_order_header_sort', '1031': 'tmhmm2', '1032': 'sed_stream_editor', '1033': 'mothur_venn', '1034': 'DatamashOps', '1035': 'mtbls520_19b_seasons_unique', '1036': 't2t_report', '1037': 'mtbls520_04_preparations', '1038': 'cardinal_segmentations', '1039': 'deeptools_bam_coverage', '1040': 'Grep1', '1041': 'rnaz', '1042': 'signalp3', '1043': 'seqtk_sample', '1044': 'mass_spectrometry_imaging_filtering', '1045': 'MassCalculator', '1046': 'bedtools_subtractbed', '1047': 'vsearch_chimera_detection', '1048': 'naive_variant_caller', '1049': 'cufflinks', '1050': 'EMBOSS: wordcount109', '1051': 'minfi_dmr', '1052': 'seqtk_mergefa', '1053': 'ctb_remIons', '1054': 'ip_count_objects', '1055': 'infernal_cmbuild', '1056': 'heinz_visualization', '1057': 'smf_utils_fix-fasta-headers', '1058': 'pureclip', '1059': 'megahit', '1060': 'gatk2_unified_genotyper', '1061': 'CONVERTER_bedgraph_to_bigwig', '1062': 'gffcompare', '1063': 'raceid_filtnormconf', '1064': 'selectsequencesfrommsa', '1065': 'gatk2_base_recalibrator', '1066': 'mycrobiota-otutable_add_blast', '1067': 'gemini_actionable_mutations', '1068': 'bedtools_mergebed', '1069': 'Digestor', '1070': 'xcms_merge', '1071': 'mothur_split_groups', '1072': 'mothur_get_groups', '1073': 'deeptools_correct_gc_bias', '1074': 'bismark_bowtie2', '1075': 'qiime_align_seqs', '1076': 'stacks_procrad', '1077': 'kraken-filter', '1078': 'idpassemble', '1079': 'circgraph', '1080': 'rna_star', '1081': 'translate_bed_sequences', '1082': 'bg_column_arrange_by_header', '1083': 'gdal_ogr2ogr', '1084': 'bowtie2', '1085': 'keras_model_config', '1086': 'rna_starsolo', '1087': 'bigwig_to_bedgraph', '1088': 'vcf2tsv', '1089': 'SequenceCoverageCalculator', '1090': 'prepare_box', '1091': 'CONVERTER_gz_to_uncompressed', '1092': 'mimodd_header', '1093': 'clusterprofiler_bitr', '1094': 'bedtools_intersectbed', '1095': 'fasta_compute_length', '1096': 'gatk2_haplotype_caller', '1097': 'mothur_sub_sample', '1098': 'gff_filter_by_attribute', '1099': 'ip_coordinates_of_roi', '1100': 'pathview', '1101': 'TagBamWithReadSequenceExtended', '1102': 'CONVERTER_gff_to_interval_index_0', '1103': 'kraken-report', '1104': 'hicexplorer_hicsummatrices', '1105': 'peakcalling_macs', '1106': 'megahit_contig2fastg', '1107': 'MapRTTransformer', '1108': 'rcas', '1109': 'mummer_nucmer', '1110': 'EMBOSS: fuzzpro38', '1111': 'Extract genomic DNA 1', '1112': 'peakcalling_macs14', '1113': 'datamash_ops', '1114': 'gtf_filter_by_attribute_values_list', '1115': 'FeatureFinderCentroided', '1116': 'collection_element_identifiers', '1117': 'smf_utils_extract-boxed-sequences', '1118': 'bg_diamond', '1119': 'mothur_unifrac_unweighted', '1120': 'crosscontamination_barcode_filter', '1121': 'rseqc_geneBody_coverage', '1122': 'mothur_remove_groups', '1123': 'fastq_join', '1124': 'coords2clnt.py', '1125': 'iuc_pear', '1126': 'cshl_fastx_artifacts_filter', '1127': 'ChooseTag', '1128': 'prepare_ligands_for_docking', '1129': 'GeMoMa_Annotation_Filter', '1130': 'msconvert', '1131': 'massbank_ws_searchspectrum', '1132': 'datamash_transpose', '1133': 'addName', '1134': 'ProteinInference', '1135': 'umi_tools_count', '1136': 'CONVERTER_bam_to_coodinate_sorted_bam', '1137': 'kallisto_quant', '1138': 'vcfannotate', '1139': 'ngsutils_bam_filter', '1140': 'CONVERTER_sam_to_unsorted_bam', '1141': 'sklearn_ensemble', '1142': 'MAF_To_Fasta1', '1143': 'merge_pcr_duplicates.py', '1144': 'generic_filter', '1145': 'stoceps_maketablecarrer', '1146': 'ctb_remSmall', '1147': 'param_value_from_file', '1148': 'gatk2_reduce_reads', '1149': 'get_read_pipeline', '1150': 'plotly_ml_performance_plots', '1151': 'abims_xcms_xcmsSet', '1152': 'sklearn_feature_selection', '1153': 'QCCalculator', '1154': 'cshl_fasta_nucleotides_changer', '1155': 'mothur_amova', '1156': 'ctb_rdkit_descriptors', '1157': 'make_families', '1158': 'EMBOSS: transeq101', '1159': '16Sclassifier', '1160': 'cshl_fastq_quality_boxplot', '1161': 'gemini_windower', '1162': 'bams2ratio', '1163': 'tp_unfold_column_tool', '1164': 'bedtools_shufflebed', '1165': 'pileup_parser', '1166': 'vcftools_slice', '1167': 'maldi_quant_peak_detection', '1168': 'fasplit', '1169': 'gspan', '1170': 'minfi_dropsnp', '1171': 'seurat_export_cellbrowser', '1172': 'pileup_interval', '1173': 'CONVERTER_bed_to_bgzip_0', '1174': 'snippy_core', '1175': 'scanpy_normalise_data', '1176': 'samtools_idxstats', '1177': 'Multivariate', '1178': 'graphlan', '1179': 'augustus', '1180': 'mtbls520_10_species_varpart', '1181': 'vcffilter', '1182': 'scanpy_run_pca', '1183': 'Cut1', '1184': 'mothur_parsimony', '1185': '__MERGE_COLLECTION__', '1186': 'snpSift_dbnsfp_generic', '1187': 'ete_genetree_splitter', '1188': 'nspdk_sparse', '1189': 'histogram_rpy', '1190': 'mummer_dnadiff', '1191': 'minfi_dmp', '1192': 'featurecounts', '1193': 'bedtools_windowbed', '1194': 'Add_a_column1', '1195': 'XTandemAdapter', '1196': 'tp_easyjoin_tool', '1197': 'vt_normalize', '1198': 'qiime_make_otu_table', '1199': 'MultiplexResolver', '1200': 'rseqc_FPKM_count', '1201': 'mothur_cluster_split', '1202': 'gops_basecoverage_1', '1203': 'velveth_jgi', '1204': 'deeptools_computeGCBias', '1205': 'IDScoreSwitcher', '1206': 'Determine_BC', '1207': 'mothur_tree_shared', '1208': 'heinz_scoring', '1209': 'EMBOSS: getorf42', '1210': 'rsem_calculate_expression', '1211': 'heatmapper_deepTools', '1212': 'picard_ARRG', '1213': 'rnbeads', '1214': 'modencode_peakcalling_macs2', '1215': 'r_correlation_matrix', '1216': 'dbbuilder', '1217': 'smf_utils_estimate-energy', '1218': 'resistome_analyzer', '1219': 'je_clip', '1220': 'cshl_fastx_reverse_complement', '1221': 'hicexplorer_hictransform', '1222': 'IDMapper', '1223': 'idpqonvert', '1224': 'megablast_wrapper', '1225': 'qual_stats_boxplot', '1226': 'heatmapper', '1227': 'OpenSwathWorkflow', '1228': 'gemini_query', '1229': 'correct_barcodes', '1230': 'gmx_merge_topology_files', '1231': 'hicexplorer_hicpca', '1232': 'samtools_split', '1233': 'raceid_inspecttrajectory', '1234': '__FILTER_FROM_FILE__', '1235': 'tp_cut_tool', '1236': 'genomespace_exporter', '1237': 'fastq_paired_end_interlacer', '1238': 'mothur_count_groups', '1239': 'mothur_get_communitytype', '1240': 'snpsift_vartype', '1241': 'camera-find-isotopes', '1242': 'seurat_find_variable_genes', '1243': 'mothur_unifrac_weighted', '1244': 'seurat_create_seurat_object', '1245': 'basil', '1246': 'ncbi_makeblastdb', '1247': 'filter_by_fasta_ids', '1248': 'deeptools_bamCorrelate', '1249': 'bctools_extract_crosslinked_nucleotides', '1250': 'gatk_realigner_target_creator', '1251': 'msnbase-filter-merge-msms', '1252': 'NSPDK_candidateClust', '1253': 'tp_split_on_column', '1254': 'Show tail1', '1255': 'bedtools_intersectBed', '1256': 'MSGFPlusAdapter', '1257': 'cshl_awk_replace_in_column', '1258': 'gops_concat_1', '1259': 'scanpy_find_cluster', '1260': 'bcftools_call', '1261': 'vegan_rarefaction', '1262': 'annotatemyids', '1263': 'unicycler', '1264': 'prepare_ligand', '1265': 'cuffdiff', '1266': 'vcf_filter', '1267': 'picard_CollectRnaSeqMetrics', '1268': '__ZIP_COLLECTION__', '1269': '__EXTRACT_DATASET__', '1270': 'tp_multijoin_tool', '1271': 'umi_tools_extract', '1272': 'cshl_fastx_trimmer', '1273': 'NFS_transfer', '1274': 'ctb_pubchem_download_as_smiles', '1275': 'canu', '1276': 'cardinal_classification', '1277': 'PicardASMetrics', '1278': 'FastTree', '1279': 'velvetg_jgi', '1280': 'peakachu', '1281': 'xcms-dilutionfilter'}\n"
     ]
    }
   ],
   "source": [
    "#base_path = \"data/rnn_custom_loss/complete_training/\"\n",
    "base_path = \"data/models/\"\n",
    "\n",
    "#model_path = base_path + \"trained_model_19_09_1.h5\"\n",
    "model_path = base_path + \"model_rnn.hdf5\"\n",
    "\n",
    "trained_model = h5py.File(model_path, 'r')\n",
    "model_config = json.loads(trained_model.get('model_config').value)\n",
    "class_weights = json.loads(trained_model.get('class_weights').value)\n",
    "    \n",
    "loaded_model = model_from_json(model_config)\n",
    "dictionary = json.loads(trained_model.get('data_dictionary').value)\n",
    "compatibile_tools = json.loads(trained_model.get('compatible_tools').value)\n",
    "best_params = json.loads(trained_model.get('best_parameters').value)\n",
    "\n",
    "model, dictionary, reverse_dictionary, compatibile_tools = create_model(model_path)\n",
    "\n",
    "print(reverse_dictionary)"
   ]
  },
  {
   "cell_type": "code",
   "execution_count": 27,
   "metadata": {},
   "outputs": [
    {
     "name": "stdout",
     "output_type": "stream",
     "text": [
      "Predicted tools: \n",
      "\n",
      "{'sam_merge2': 100, 'samtool_filter2': 100, 'samtools_flagstat': 100, 'freebayes': 100, 'bedtools_genomecoveragebed': 99, 'pilon': 99, 'deeptools_bam_compare': 99, 'picard_CollectInsertSizeMetrics': 99, 'deeptools_bam_coverage': 99, 'bamFilter': 99, 'bamCoverage_deepTools': 99, 'rseqc_infer_experiment': 99, 'naive_variant_caller': 99, 'deeptools_bamCompare': 99, 'samtools_stats': 99, 'samtools_mpileup': 99, 'deeptools_computeGCBias': 99, 'macs2_callpeak': 99, 'gatk2_realigner_target_creator': 99, 'jbrowse': 99, 'deeptools_bamCoverage': 99, 'cufflinks': 99, 'picard_CASM': 99, 'samtools_idxstats': 99, 'rseqc_bam2wig': 99, 'picard_MarkDuplicates': 99, 'bedtools_genomecoveragebed_bedgraph': 99, 'deeptools_bamFingerprint': 99, 'featurecounts': 99, 'htseq_count': 99}\n",
      "\n",
      "Class weights: \n",
      "\n",
      "{}\n",
      "\n",
      "Usage weights: \n",
      "\n",
      "{}\n",
      "\n",
      "Mean usage wt: nan\n",
      "\n",
      "Inverted weights: \n",
      "\n",
      "{}\n",
      "\n",
      "Tool ids\n",
      "{'sam_merge2': 896, 'samtool_filter2': 14, 'samtools_flagstat': 235, 'freebayes': 65, 'bedtools_genomecoveragebed': 963, 'pilon': 889, 'deeptools_bam_compare': 303, 'picard_CollectInsertSizeMetrics': 908, 'deeptools_bam_coverage': 1039, 'bamFilter': 998, 'bamCoverage_deepTools': 169, 'rseqc_infer_experiment': 678, 'naive_variant_caller': 1048, 'deeptools_bamCompare': 275, 'samtools_stats': 73, 'samtools_mpileup': 262, 'deeptools_computeGCBias': 1204, 'macs2_callpeak': 540, 'gatk2_realigner_target_creator': 229, 'jbrowse': 373, 'deeptools_bamCoverage': 971, 'cufflinks': 1049, 'picard_CASM': 354, 'samtools_idxstats': 1176, 'rseqc_bam2wig': 491, 'picard_MarkDuplicates': 972, 'bedtools_genomecoveragebed_bedgraph': 588, 'deeptools_bamFingerprint': 362, 'featurecounts': 1192, 'htseq_count': 440}\n",
      "======================================\n"
     ]
    }
   ],
   "source": [
    "topk = 30\n",
    "tool_seq = \"1084\"\n",
    "class_wt, usage_wt, inverse_wt, pred_tools = verify_model(model, tool_seq, \"\", dictionary, reverse_dictionary, compatibile_tools, class_weights, topk)"
   ]
  },
  {
   "cell_type": "code",
   "execution_count": 21,
   "metadata": {
    "scrolled": true
   },
   "outputs": [
    {
     "data": {
      "text/plain": [
       "6.576772652723754"
      ]
     },
     "execution_count": 21,
     "metadata": {},
     "output_type": "execute_result"
    }
   ],
   "source": [
    "class_weights[\"65\"]"
   ]
  },
  {
   "cell_type": "code",
   "execution_count": null,
   "metadata": {},
   "outputs": [],
   "source": []
  },
  {
   "cell_type": "code",
   "execution_count": null,
   "metadata": {},
   "outputs": [],
   "source": []
  }
 ],
 "metadata": {
  "kernelspec": {
   "display_name": "Python 3",
   "language": "python",
   "name": "python3"
  },
  "language_info": {
   "codemirror_mode": {
    "name": "ipython",
    "version": 3
   },
   "file_extension": ".py",
   "mimetype": "text/x-python",
   "name": "python",
   "nbconvert_exporter": "python",
   "pygments_lexer": "ipython3",
   "version": "3.6.7"
  }
 },
 "nbformat": 4,
 "nbformat_minor": 2
}
